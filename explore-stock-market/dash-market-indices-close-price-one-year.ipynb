{
 "cells": [
  {
   "cell_type": "markdown",
   "metadata": {},
   "source": [
    "One Year Historical Stock Quotes\n",
    "===\n"
   ]
  },
  {
   "cell_type": "code",
   "execution_count": 1,
   "metadata": {
    "ExecuteTime": {
     "end_time": "2019-10-11T10:21:13.760173Z",
     "start_time": "2019-10-11T10:21:11.583514Z"
    }
   },
   "outputs": [],
   "source": [
    "import dash\n",
    "from dash.dependencies import Input, Output\n",
    "import dash_bootstrap_components as dbc\n",
    "import dash_core_components as dcc\n",
    "import dash_html_components as html\n",
    "import pandas as pd\n",
    "import pandas_datareader as data\n",
    "from datetime import datetime as dt\n",
    "import yfinance as yf\n",
    "import numpy as np\n",
    "import date_converter\n",
    "global periods\n",
    "periods = ''"
   ]
  },
  {
   "cell_type": "code",
   "execution_count": 2,
   "metadata": {
    "ExecuteTime": {
     "end_time": "2019-10-11T10:21:13.774162Z",
     "start_time": "2019-10-11T10:21:13.768166Z"
    }
   },
   "outputs": [
    {
     "name": "stdout",
     "output_type": "stream",
     "text": [
      "pandas  version = 0.7.0\n"
     ]
    }
   ],
   "source": [
    "print(f\"pandas  version = {data.__version__}\")"
   ]
  },
  {
   "cell_type": "code",
   "execution_count": 3,
   "metadata": {
    "ExecuteTime": {
     "end_time": "2019-10-11T10:21:13.835124Z",
     "start_time": "2019-10-11T10:21:13.782157Z"
    }
   },
   "outputs": [],
   "source": [
    "# ดึงรายชื่อ ticker\n",
    "\n",
    "def get_tickers():\n",
    "    tick = pd.read_excel('data/world_market_symbols.xlsx',header=0)\n",
    "    list1 = list(tick['shortname'])\n",
    "    list2 = list(tick['symbol'])\n",
    "    tickers = dict( zip( list1, list2))\n",
    "    \n",
    "    return tickers \n",
    "\n",
    "def tickers_map(value):\n",
    "    tick = pd.read_excel('data/world_market_symbols.xlsx',header=0)\n",
    "    list1 = list(tick['shortname'])\n",
    "    list2 = list(tick['symbol'])\n",
    "    tickers = dict( zip( list2, list1))    \n",
    "    ticker = tickers[value]\n",
    "    \n",
    "    return ticker\n",
    "\n",
    "def num_format(number,format_num=',.2f'):\n",
    "    \"\"\"\n",
    "    Formatting helper - float (1 Item)\n",
    "    \"\"\"\n",
    "    if np.isnan(number):\n",
    "        return '-'\n",
    "    return format(number, format_num)\n"
   ]
  },
  {
   "cell_type": "code",
   "execution_count": 4,
   "metadata": {
    "ExecuteTime": {
     "end_time": "2019-10-11T10:21:13.918075Z",
     "start_time": "2019-10-11T10:21:13.842120Z"
    }
   },
   "outputs": [],
   "source": [
    "PLOTLY_LOGO = \"https://gitlab.com/yosarawut/financial-investment/raw/master/img/planet-earth.png?inline=false\"\n",
    "\n",
    "tickers = get_tickers()\n",
    "dropdown = dbc.Row(\n",
    "    [\n",
    "        dbc.Col(dcc.Dropdown(\n",
    "            id='my-dropdown',\n",
    "            options=[{'label': s[0], 'value': str(s[1])}\n",
    "                     for s in zip(tickers, tickers.values())],\n",
    "            value='^GSPC',style={\"margin-top\": \"10px\", \"margin-left\": \"10px\", \n",
    "                                 \"margin-right\": \"10px\", \"width\": \"300px\"}))],\n",
    "\n",
    "\n",
    "    no_gutters=True,\n",
    "    className=\"ml-auto flex-nowrap mt-3 mt-md-0\",align=\"center\")\n",
    "periods = '1y'\n",
    "navbar = dbc.Navbar(\n",
    "    [\n",
    "        html.A(\n",
    "            # Use row and col to control vertical alignment of logo / brand\n",
    "            dbc.Row(\n",
    "                [\n",
    "                    dbc.Col(html.Img(src=PLOTLY_LOGO, height=\"30px\")),\n",
    "                    dbc.Col(dbc.NavbarBrand(\n",
    "                        \"Historical Stock Quotes\", className=\"ml-2\")),\n",
    "                ],\n",
    "                align=\"center\",\n",
    "                no_gutters=True,\n",
    "            ),\n",
    "            href=\"https://plot.ly\",\n",
    "        ),\n",
    "        dbc.NavbarToggler(id=\"navbar-toggler\"),\n",
    "        dbc.Collapse(dropdown, id=\"navbar-collapse\", navbar=True),\n",
    "    ],\n",
    "    color=\"primary\",\n",
    "    dark=True,\n",
    "    className=\"mt-4\",\n",
    ")"
   ]
  },
  {
   "cell_type": "code",
   "execution_count": 5,
   "metadata": {
    "ExecuteTime": {
     "end_time": "2019-10-11T10:21:13.937061Z",
     "start_time": "2019-10-11T10:21:13.928066Z"
    }
   },
   "outputs": [],
   "source": [
    "button_group = dbc.ButtonGroup(\n",
    "    [dbc.Button(\"1M\", outline=True, size=\"sm\", color=\"primary\"), dbc.Button(\n",
    "        \"3M\", outline=True,size=\"sm\", color=\"primary\"), dbc.Button(\"6M\",outline=True,size=\"sm\", color=\"primary\"),\n",
    "     dbc.Button(\"YTD\",outline=True,size=\"md\", color=\"primary\"), dbc.Button(\"1Y\",outline=True,size=\"md\", color=\"primary\"),\n",
    "     dbc.Button(\"3Y\",outline=True, color=\"primary\"), dbc.Button(\"5Y\",outline=True, color=\"primary\"),  dbc.Button(\"10Y\",outline=True, color=\"primary\")],\n",
    "style={\"margin-top\": \"10px\",\"margin-left\": \"10px\",\"margin-right\": \"10px\"})\n",
    "\n",
    "graph =    dcc.Graph(id='my-graph', \n",
    "    style={\"margin-left\": \"7%\",\"margin-right\": \"auto\",\"margin-top\": \"10px\",\"width\": \"85%\",'height':'350px'})"
   ]
  },
  {
   "cell_type": "code",
   "execution_count": 6,
   "metadata": {
    "ExecuteTime": {
     "end_time": "2019-10-11T10:21:13.982034Z",
     "start_time": "2019-10-11T10:21:13.947055Z"
    }
   },
   "outputs": [],
   "source": [
    "row = html.Div(\n",
    "    [\n",
    "        dbc.Row(\n",
    "            [\n",
    "                dbc.Col(html.H2(id='ticker_name',className=\"display-5\",style={\"font-weight\": \"bold\",'color':'#2A4B7C',\n",
    "                                                                              \"margin-left\": \"10px\",}), md=6),\n",
    "                dbc.Col(html.Div(\"\"), md=2),\n",
    "                dbc.Col(html.H2(id='regularMarketPrice',style={\"text-align\": \"right\",'color':'#2A4B7C',\"font-weight\": \"bold\"}), md=3),\n",
    "                dbc.Col(html.Div(id='currency',style={\"text-align\": \"left\",\"margin-top\": \"18px\",'color':'gray'}), md=1),\n",
    "            ],\n",
    "        style={\"margin-top\": \"10px\",\"margin-left\": \"10px\",\"margin-right\": \"10px\"}),\n",
    "        dbc.Row(\n",
    "            [\n",
    "                dbc.Col(html.Div(id='lastdate',style={\"text-align\": \"right\"}),md=1),\n",
    "                dbc.Col(html.Div(id=\"marketState\",style={\"text-align\": \"left\",\"margin-left\": \"10px\"}), md=2),\n",
    "                dbc.Col(html.Div(\"\"), md=5),\n",
    "                dbc.Col(html.H4(id='pricechange',style={\"text-align\": \"right\",\"font-weight\": \"bold\"}), md=2),\n",
    "                dbc.Col(html.H4(id='percentchange',style={\"text-align\": \"left\",\"font-weight\": \"bold\"}), md=2),\n",
    "            ],\n",
    "            style={\"margin-top\": \"5px\",\"margin-left\": \"10px\",\"margin-right\": \"10px\"}\n",
    "        ),\n",
    "    ]\n",
    ")"
   ]
  },
  {
   "cell_type": "code",
   "execution_count": 7,
   "metadata": {
    "ExecuteTime": {
     "end_time": "2019-10-11T10:21:14.042996Z",
     "start_time": "2019-10-11T10:21:13.991029Z"
    }
   },
   "outputs": [],
   "source": [
    "app = dash.Dash(__name__, external_stylesheets=[dbc.themes.FLATLY])\n",
    "app.layout = html.Div([navbar, row,graph])\n",
    "\n",
    "@app.callback(Output('my-graph', 'figure'), [Input('my-dropdown', 'value')])\n",
    "def update_graph(selected_dropdown_value):\n",
    "    \n",
    "    periods = '1y'    \n",
    "    data = yf.Ticker(selected_dropdown_value)    \n",
    "    df = data.history(period=periods)          \n",
    "   \n",
    "    return {\n",
    "        'data': [{\n",
    "            'x': df.index,\n",
    "            'y': df.Close,            \n",
    "        }],\n",
    "        'layout': {'margin': {'l': 30, 'r': 0, 't': 20, 'b': 30}}       \n",
    "    }"
   ]
  },
  {
   "cell_type": "code",
   "execution_count": 8,
   "metadata": {
    "ExecuteTime": {
     "end_time": "2019-10-11T10:21:14.081972Z",
     "start_time": "2019-10-11T10:21:14.052990Z"
    }
   },
   "outputs": [],
   "source": [
    "def get_info(tick):\n",
    "    sym = yf.Ticker(tick)\n",
    "    rep = sym.info\n",
    "    return rep"
   ]
  },
  {
   "cell_type": "code",
   "execution_count": 9,
   "metadata": {
    "ExecuteTime": {
     "end_time": "2019-10-11T10:21:14.121948Z",
     "start_time": "2019-10-11T10:21:14.090966Z"
    }
   },
   "outputs": [],
   "source": [
    "@app.callback(Output('ticker_name', 'children'), [Input('my-dropdown', 'value')])\n",
    "def update_ticker_children(selected_dropdown_value):      \n",
    "    \n",
    "    return tickers_map(selected_dropdown_value)\n"
   ]
  },
  {
   "cell_type": "code",
   "execution_count": 10,
   "metadata": {
    "ExecuteTime": {
     "end_time": "2019-10-11T10:21:14.168920Z",
     "start_time": "2019-10-11T10:21:14.162922Z"
    }
   },
   "outputs": [],
   "source": [
    "@app.callback(Output('regularMarketPrice', 'children'), [Input('my-dropdown', 'value')])\n",
    "def update_regularMarketPrice_children(selected_dropdown_value):      \n",
    "    a = get_info(selected_dropdown_value)\n",
    "    price = num_format(a['regularMarketPrice'])\n",
    "    \n",
    "    return price"
   ]
  },
  {
   "cell_type": "code",
   "execution_count": 11,
   "metadata": {
    "ExecuteTime": {
     "end_time": "2019-10-11T10:21:14.503373Z",
     "start_time": "2019-10-11T10:21:14.498377Z"
    }
   },
   "outputs": [],
   "source": [
    "@app.callback(Output('currency', 'children'), [Input('my-dropdown', 'value')])\n",
    "def update_currency_children(selected_dropdown_value):       \n",
    "    a = get_info(selected_dropdown_value)    \n",
    "    \n",
    "    return a['currency']"
   ]
  },
  {
   "cell_type": "code",
   "execution_count": 12,
   "metadata": {
    "ExecuteTime": {
     "end_time": "2019-10-11T10:21:14.840864Z",
     "start_time": "2019-10-11T10:21:14.834866Z"
    }
   },
   "outputs": [],
   "source": [
    "@app.callback(Output('lastdate', 'children'), [Input('my-dropdown', 'value')])\n",
    "def update_lastdate_children(selected_dropdown_value):      \n",
    "    data = yf.Ticker(selected_dropdown_value)    \n",
    "    df = data.history(period=periods) \n",
    "    last_date = max(df.index) \n",
    "    last_date = date_converter.date_to_string(last_date, '%d-%m-%Y')\n",
    "    \n",
    "    return last_date"
   ]
  },
  {
   "cell_type": "code",
   "execution_count": 13,
   "metadata": {
    "ExecuteTime": {
     "end_time": "2019-10-11T10:21:15.158592Z",
     "start_time": "2019-10-11T10:21:15.154590Z"
    }
   },
   "outputs": [],
   "source": [
    "@app.callback(Output('marketState', 'children'), [Input('my-dropdown', 'value')])\n",
    "def update_marketState_children(selected_dropdown_value):     \n",
    "    \n",
    "    a = get_info(selected_dropdown_value)    \n",
    "    \n",
    "    return 'MARKET :  ' + a['marketState']"
   ]
  },
  {
   "cell_type": "code",
   "execution_count": 14,
   "metadata": {
    "ExecuteTime": {
     "end_time": "2019-10-11T10:21:15.565009Z",
     "start_time": "2019-10-11T10:21:15.556014Z"
    }
   },
   "outputs": [],
   "source": [
    "@app.callback(Output('pricechange', 'children'),[Input('my-dropdown', 'value')])\n",
    "def update_pricechange_children(selected_dropdown_value):      \n",
    "    data = yf.Ticker(selected_dropdown_value)    \n",
    "    df = data.history(period=periods) \n",
    "    close = list(df.Close)\n",
    "    x = np.array(close)\n",
    "    start_price = x[0]\n",
    "    current_price = x[-1]\n",
    "    price_change = current_price - start_price\n",
    "    price = num_format(price_change)\n",
    "    if price_change < 0 :\n",
    "        return html.Div(price, style={'color': 'red'})\n",
    "    else:\n",
    "        return html.Div('+ '+price, style={'color': '#2A4B7C'})   \n",
    "   "
   ]
  },
  {
   "cell_type": "code",
   "execution_count": 15,
   "metadata": {
    "ExecuteTime": {
     "end_time": "2019-10-11T10:21:15.979057Z",
     "start_time": "2019-10-11T10:21:15.971062Z"
    }
   },
   "outputs": [],
   "source": [
    "@app.callback(Output('percentchange', 'children'),[Input('my-dropdown', 'value')])\n",
    "def update_percentchange_children(selected_dropdown_value):   \n",
    "    \n",
    "    data = yf.Ticker(selected_dropdown_value)    \n",
    "    df = data.history(period=periods) \n",
    "    close = list(df.Close)\n",
    "    x = np.array(close)\n",
    "    start_price = x[0]\n",
    "    current_price = x[-1]\n",
    "    price_change = current_price - start_price\n",
    "    percent_change = (price_change / start_price)\n",
    "    percent = num_format(percent_change*100)\n",
    "    percent = (percent  + ' %)'   )   \n",
    "    if percent_change < 0 :\n",
    "        return html.Div('( '+percent, style={'color': 'red'})\n",
    "    else:\n",
    "        return html.Div('(+ '+percent, style={'color': '#2A4B7C'})"
   ]
  },
  {
   "cell_type": "code",
   "execution_count": 16,
   "metadata": {
    "ExecuteTime": {
     "end_time": "2019-10-11T10:25:08.840925Z",
     "start_time": "2019-10-11T10:21:16.659191Z"
    }
   },
   "outputs": [
    {
     "name": "stdout",
     "output_type": "stream",
     "text": [
      " * Serving Flask app \"__main__\" (lazy loading)\n",
      " * Environment: production\n",
      "   WARNING: This is a development server. Do not use it in a production deployment.\n",
      "   Use a production WSGI server instead.\n",
      " * Debug mode: off\n"
     ]
    },
    {
     "name": "stderr",
     "output_type": "stream",
     "text": [
      " * Running on http://127.0.0.1:8050/ (Press CTRL+C to quit)\n",
      "D:\\Anaconda\\lib\\site-packages\\dash\\resources.py:44: UserWarning:\n",
      "\n",
      "A local version of https://codepen.io/chriddyp/pen/bWLwgP.css is not available\n",
      "\n",
      "127.0.0.1 - - [11/Oct/2019 17:21:19] \"GET / HTTP/1.1\" 200 -\n",
      "127.0.0.1 - - [11/Oct/2019 17:21:19] \"GET /_dash-component-suites/dash_renderer/react@16.8.6.min.js?v=1.0.0&m=1561062262 HTTP/1.1\" 200 -\n",
      "127.0.0.1 - - [11/Oct/2019 17:21:19] \"GET /_dash-component-suites/dash_renderer/prop-types@15.7.2.min.js?v=1.0.0&m=1561062262 HTTP/1.1\" 200 -\n",
      "127.0.0.1 - - [11/Oct/2019 17:21:19] \"GET /_dash-component-suites/dash_renderer/react-dom@16.8.6.min.js?v=1.0.0&m=1561062262 HTTP/1.1\" 200 -\n",
      "127.0.0.1 - - [11/Oct/2019 17:21:19] \"GET /_dash-component-suites/dash_html_components/dash_html_components.min.js?v=1.0.0&m=1561063963 HTTP/1.1\" 200 -\n",
      "127.0.0.1 - - [11/Oct/2019 17:21:19] \"GET /_dash-component-suites/dash_core_components/highlight.pack.js?v=1.0.0&m=1563307603 HTTP/1.1\" 200 -\n",
      "127.0.0.1 - - [11/Oct/2019 17:21:19] \"GET /_dash-component-suites/dash_bootstrap_components/_components/dash_bootstrap_components.min.js?v=0.7.0&m=1564067763 HTTP/1.1\" 200 -\n",
      "127.0.0.1 - - [11/Oct/2019 17:21:19] \"GET /_dash-component-suites/dash_renderer/dash_renderer.min.js?v=1.0.0&m=1561062262 HTTP/1.1\" 200 -\n",
      "127.0.0.1 - - [11/Oct/2019 17:21:19] \"GET /_dash-component-suites/dash_core_components/dash_core_components.min.js?v=1.0.0&m=1563307603 HTTP/1.1\" 200 -\n",
      "127.0.0.1 - - [11/Oct/2019 17:21:19] \"GET /_dash-component-suites/dash_core_components/plotly-1.48.3.min.js?v=1.0.0&m=1563307603 HTTP/1.1\" 200 -\n",
      "127.0.0.1 - - [11/Oct/2019 17:21:19] \"GET /_dash-dependencies HTTP/1.1\" 200 -\n",
      "127.0.0.1 - - [11/Oct/2019 17:21:19] \"GET /_dash-layout HTTP/1.1\" 200 -\n",
      "127.0.0.1 - - [11/Oct/2019 17:21:20] \"POST /_dash-update-component HTTP/1.1\" 200 -\n",
      "127.0.0.1 - - [11/Oct/2019 17:21:20] \"POST /_dash-update-component HTTP/1.1\" 200 -\n",
      "127.0.0.1 - - [11/Oct/2019 17:21:20] \"POST /_dash-update-component HTTP/1.1\" 200 -\n",
      "127.0.0.1 - - [11/Oct/2019 17:21:20] \"POST /_dash-update-component HTTP/1.1\" 200 -\n",
      "127.0.0.1 - - [11/Oct/2019 17:21:20] \"POST /_dash-update-component HTTP/1.1\" 200 -\n",
      "127.0.0.1 - - [11/Oct/2019 17:21:20] \"POST /_dash-update-component HTTP/1.1\" 200 -\n",
      "127.0.0.1 - - [11/Oct/2019 17:21:20] \"POST /_dash-update-component HTTP/1.1\" 200 -\n",
      "127.0.0.1 - - [11/Oct/2019 17:21:20] \"POST /_dash-update-component HTTP/1.1\" 200 -\n",
      "127.0.0.1 - - [11/Oct/2019 17:21:28] \"POST /_dash-update-component HTTP/1.1\" 200 -\n",
      "127.0.0.1 - - [11/Oct/2019 17:21:28] \"POST /_dash-update-component HTTP/1.1\" 200 -\n",
      "127.0.0.1 - - [11/Oct/2019 17:21:28] \"POST /_dash-update-component HTTP/1.1\" 200 -\n",
      "127.0.0.1 - - [11/Oct/2019 17:21:28] \"POST /_dash-update-component HTTP/1.1\" 200 -\n",
      "127.0.0.1 - - [11/Oct/2019 17:21:29] \"POST /_dash-update-component HTTP/1.1\" 200 -\n",
      "127.0.0.1 - - [11/Oct/2019 17:21:29] \"POST /_dash-update-component HTTP/1.1\" 200 -\n",
      "127.0.0.1 - - [11/Oct/2019 17:21:29] \"POST /_dash-update-component HTTP/1.1\" 200 -\n",
      "127.0.0.1 - - [11/Oct/2019 17:21:29] \"POST /_dash-update-component HTTP/1.1\" 200 -\n",
      "127.0.0.1 - - [11/Oct/2019 17:21:31] \"POST /_dash-update-component HTTP/1.1\" 200 -\n",
      "127.0.0.1 - - [11/Oct/2019 17:21:31] \"POST /_dash-update-component HTTP/1.1\" 200 -\n",
      "127.0.0.1 - - [11/Oct/2019 17:21:31] \"POST /_dash-update-component HTTP/1.1\" 200 -\n",
      "127.0.0.1 - - [11/Oct/2019 17:21:32] \"POST /_dash-update-component HTTP/1.1\" 200 -\n",
      "127.0.0.1 - - [11/Oct/2019 17:21:32] \"POST /_dash-update-component HTTP/1.1\" 200 -\n",
      "127.0.0.1 - - [11/Oct/2019 17:21:32] \"POST /_dash-update-component HTTP/1.1\" 200 -\n",
      "127.0.0.1 - - [11/Oct/2019 17:21:32] \"POST /_dash-update-component HTTP/1.1\" 200 -\n",
      "127.0.0.1 - - [11/Oct/2019 17:21:32] \"POST /_dash-update-component HTTP/1.1\" 200 -\n",
      "127.0.0.1 - - [11/Oct/2019 17:21:35] \"POST /_dash-update-component HTTP/1.1\" 200 -\n",
      "127.0.0.1 - - [11/Oct/2019 17:21:35] \"POST /_dash-update-component HTTP/1.1\" 200 -\n",
      "127.0.0.1 - - [11/Oct/2019 17:21:35] \"POST /_dash-update-component HTTP/1.1\" 200 -\n",
      "127.0.0.1 - - [11/Oct/2019 17:21:35] \"POST /_dash-update-component HTTP/1.1\" 200 -\n",
      "127.0.0.1 - - [11/Oct/2019 17:21:35] \"POST /_dash-update-component HTTP/1.1\" 200 -\n",
      "127.0.0.1 - - [11/Oct/2019 17:21:35] \"POST /_dash-update-component HTTP/1.1\" 200 -\n",
      "127.0.0.1 - - [11/Oct/2019 17:21:35] \"POST /_dash-update-component HTTP/1.1\" 200 -\n",
      "127.0.0.1 - - [11/Oct/2019 17:21:36] \"POST /_dash-update-component HTTP/1.1\" 200 -\n",
      "127.0.0.1 - - [11/Oct/2019 17:21:39] \"POST /_dash-update-component HTTP/1.1\" 200 -\n",
      "127.0.0.1 - - [11/Oct/2019 17:21:39] \"POST /_dash-update-component HTTP/1.1\" 200 -\n",
      "127.0.0.1 - - [11/Oct/2019 17:21:39] \"POST /_dash-update-component HTTP/1.1\" 200 -\n",
      "127.0.0.1 - - [11/Oct/2019 17:21:40] \"POST /_dash-update-component HTTP/1.1\" 200 -\n",
      "127.0.0.1 - - [11/Oct/2019 17:21:40] \"POST /_dash-update-component HTTP/1.1\" 200 -\n",
      "127.0.0.1 - - [11/Oct/2019 17:21:40] \"POST /_dash-update-component HTTP/1.1\" 200 -\n",
      "127.0.0.1 - - [11/Oct/2019 17:21:40] \"POST /_dash-update-component HTTP/1.1\" 200 -\n",
      "127.0.0.1 - - [11/Oct/2019 17:21:40] \"POST /_dash-update-component HTTP/1.1\" 200 -\n",
      "127.0.0.1 - - [11/Oct/2019 17:21:50] \"POST /_dash-update-component HTTP/1.1\" 200 -\n",
      "127.0.0.1 - - [11/Oct/2019 17:21:50] \"POST /_dash-update-component HTTP/1.1\" 200 -\n",
      "127.0.0.1 - - [11/Oct/2019 17:21:50] \"POST /_dash-update-component HTTP/1.1\" 200 -\n",
      "127.0.0.1 - - [11/Oct/2019 17:21:50] \"POST /_dash-update-component HTTP/1.1\" 200 -\n",
      "127.0.0.1 - - [11/Oct/2019 17:21:50] \"POST /_dash-update-component HTTP/1.1\" 200 -\n",
      "127.0.0.1 - - [11/Oct/2019 17:21:50] \"POST /_dash-update-component HTTP/1.1\" 200 -\n",
      "127.0.0.1 - - [11/Oct/2019 17:21:50] \"POST /_dash-update-component HTTP/1.1\" 200 -\n",
      "127.0.0.1 - - [11/Oct/2019 17:21:50] \"POST /_dash-update-component HTTP/1.1\" 200 -\n",
      "127.0.0.1 - - [11/Oct/2019 17:24:26] \"POST /_dash-update-component HTTP/1.1\" 200 -\n",
      "127.0.0.1 - - [11/Oct/2019 17:24:26] \"POST /_dash-update-component HTTP/1.1\" 200 -\n",
      "127.0.0.1 - - [11/Oct/2019 17:24:26] \"POST /_dash-update-component HTTP/1.1\" 200 -\n",
      "127.0.0.1 - - [11/Oct/2019 17:24:26] \"POST /_dash-update-component HTTP/1.1\" 200 -\n",
      "127.0.0.1 - - [11/Oct/2019 17:24:26] \"POST /_dash-update-component HTTP/1.1\" 200 -\n",
      "127.0.0.1 - - [11/Oct/2019 17:24:26] \"POST /_dash-update-component HTTP/1.1\" 200 -\n",
      "127.0.0.1 - - [11/Oct/2019 17:24:26] \"POST /_dash-update-component HTTP/1.1\" 200 -\n",
      "127.0.0.1 - - [11/Oct/2019 17:24:26] \"POST /_dash-update-component HTTP/1.1\" 200 -\n",
      "127.0.0.1 - - [11/Oct/2019 17:24:34] \"POST /_dash-update-component HTTP/1.1\" 200 -\n",
      "127.0.0.1 - - [11/Oct/2019 17:24:34] \"POST /_dash-update-component HTTP/1.1\" 200 -\n",
      "127.0.0.1 - - [11/Oct/2019 17:24:34] \"POST /_dash-update-component HTTP/1.1\" 200 -\n",
      "127.0.0.1 - - [11/Oct/2019 17:24:34] \"POST /_dash-update-component HTTP/1.1\" 200 -\n",
      "127.0.0.1 - - [11/Oct/2019 17:24:34] \"POST /_dash-update-component HTTP/1.1\" 200 -\n",
      "127.0.0.1 - - [11/Oct/2019 17:24:34] \"POST /_dash-update-component HTTP/1.1\" 200 -\n",
      "127.0.0.1 - - [11/Oct/2019 17:24:34] \"POST /_dash-update-component HTTP/1.1\" 200 -\n",
      "127.0.0.1 - - [11/Oct/2019 17:24:34] \"POST /_dash-update-component HTTP/1.1\" 200 -\n",
      "127.0.0.1 - - [11/Oct/2019 17:24:42] \"POST /_dash-update-component HTTP/1.1\" 200 -\n",
      "127.0.0.1 - - [11/Oct/2019 17:24:42] \"POST /_dash-update-component HTTP/1.1\" 200 -\n",
      "127.0.0.1 - - [11/Oct/2019 17:24:42] \"POST /_dash-update-component HTTP/1.1\" 200 -\n",
      "127.0.0.1 - - [11/Oct/2019 17:24:42] \"POST /_dash-update-component HTTP/1.1\" 200 -\n",
      "127.0.0.1 - - [11/Oct/2019 17:24:42] \"POST /_dash-update-component HTTP/1.1\" 200 -\n",
      "127.0.0.1 - - [11/Oct/2019 17:24:42] \"POST /_dash-update-component HTTP/1.1\" 200 -\n",
      "127.0.0.1 - - [11/Oct/2019 17:24:42] \"POST /_dash-update-component HTTP/1.1\" 200 -\n",
      "127.0.0.1 - - [11/Oct/2019 17:24:43] \"POST /_dash-update-component HTTP/1.1\" 200 -\n",
      "127.0.0.1 - - [11/Oct/2019 17:24:49] \"POST /_dash-update-component HTTP/1.1\" 200 -\n",
      "127.0.0.1 - - [11/Oct/2019 17:24:49] \"POST /_dash-update-component HTTP/1.1\" 200 -\n",
      "127.0.0.1 - - [11/Oct/2019 17:24:49] \"POST /_dash-update-component HTTP/1.1\" 200 -\n",
      "127.0.0.1 - - [11/Oct/2019 17:24:49] \"POST /_dash-update-component HTTP/1.1\" 200 -\n",
      "127.0.0.1 - - [11/Oct/2019 17:24:49] \"POST /_dash-update-component HTTP/1.1\" 200 -\n",
      "127.0.0.1 - - [11/Oct/2019 17:24:49] \"POST /_dash-update-component HTTP/1.1\" 200 -\n"
     ]
    },
    {
     "name": "stderr",
     "output_type": "stream",
     "text": [
      "127.0.0.1 - - [11/Oct/2019 17:24:49] \"POST /_dash-update-component HTTP/1.1\" 200 -\n",
      "127.0.0.1 - - [11/Oct/2019 17:24:50] \"POST /_dash-update-component HTTP/1.1\" 200 -\n"
     ]
    }
   ],
   "source": [
    "app.css.append_css({'external_url': 'https://codepen.io/chriddyp/pen/bWLwgP.css'})\n",
    "\n",
    "if __name__ == '__main__':\n",
    "    app.run_server(debug=False)"
   ]
  },
  {
   "cell_type": "code",
   "execution_count": null,
   "metadata": {},
   "outputs": [],
   "source": []
  },
  {
   "cell_type": "code",
   "execution_count": null,
   "metadata": {},
   "outputs": [],
   "source": []
  }
 ],
 "metadata": {
  "kernelspec": {
   "display_name": "Python 3",
   "language": "python",
   "name": "python3"
  },
  "language_info": {
   "codemirror_mode": {
    "name": "ipython",
    "version": 3
   },
   "file_extension": ".py",
   "mimetype": "text/x-python",
   "name": "python",
   "nbconvert_exporter": "python",
   "pygments_lexer": "ipython3",
   "version": "3.7.2"
  },
  "latex_envs": {
   "LaTeX_envs_menu_present": true,
   "autoclose": false,
   "autocomplete": true,
   "bibliofile": "biblio.bib",
   "cite_by": "apalike",
   "current_citInitial": 1,
   "eqLabelWithNumbers": true,
   "eqNumInitial": 1,
   "hotkeys": {
    "equation": "Ctrl-E",
    "itemize": "Ctrl-I"
   },
   "labels_anchors": false,
   "latex_user_defs": false,
   "report_style_numbering": false,
   "user_envs_cfg": false
  },
  "toc": {
   "base_numbering": 1,
   "nav_menu": {},
   "number_sections": false,
   "sideBar": true,
   "skip_h1_title": false,
   "title_cell": "Table of Contents",
   "title_sidebar": "Contents",
   "toc_cell": false,
   "toc_position": {},
   "toc_section_display": true,
   "toc_window_display": true
  },
  "varInspector": {
   "cols": {
    "lenName": 16,
    "lenType": 16,
    "lenVar": 40
   },
   "kernels_config": {
    "python": {
     "delete_cmd_postfix": "",
     "delete_cmd_prefix": "del ",
     "library": "var_list.py",
     "varRefreshCmd": "print(var_dic_list())"
    },
    "r": {
     "delete_cmd_postfix": ") ",
     "delete_cmd_prefix": "rm(",
     "library": "var_list.r",
     "varRefreshCmd": "cat(var_dic_list()) "
    }
   },
   "types_to_exclude": [
    "module",
    "function",
    "builtin_function_or_method",
    "instance",
    "_Feature"
   ],
   "window_display": false
  }
 },
 "nbformat": 4,
 "nbformat_minor": 2
}
