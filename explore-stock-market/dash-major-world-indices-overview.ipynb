{
 "cells": [
  {
   "cell_type": "markdown",
   "metadata": {},
   "source": [
    "# Major World Indices Overview"
   ]
  },
  {
   "cell_type": "code",
   "execution_count": 1,
   "metadata": {
    "ExecuteTime": {
     "end_time": "2019-10-22T16:59:39.913582Z",
     "start_time": "2019-10-22T16:59:37.263673Z"
    }
   },
   "outputs": [
    {
     "name": "stdout",
     "output_type": "stream",
     "text": [
      "pandas  version = 0.7.0\n",
      "22-10-2019 - 23:59\n"
     ]
    }
   ],
   "source": [
    "# import \n",
    "import dash\n",
    "from dash.dependencies import Input, Output\n",
    "import dash_bootstrap_components as dbc\n",
    "import dash_core_components as dcc\n",
    "import dash_html_components as html\n",
    "import dash_daq as daq\n",
    "import pandas as pd\n",
    "#import pandas_datareader as data\n",
    "import pandas_datareader as pdr\n",
    "from pandas_datareader import wb\n",
    "from datetime import datetime as dt\n",
    "import yfinance as yf\n",
    "import numpy as np\n",
    "import date_converter\n",
    "%config InlineBackend.figure_format = 'retina'\n",
    "global periods\n",
    "periods = ''\n",
    "\n",
    "print(f\"pandas  version = {pdr.__version__}\")\n",
    "fmt = \"%d-%m-%Y - %H:%M\"\n",
    "todays = pd.datetime.today()\n",
    "print(todays.strftime(fmt))"
   ]
  },
  {
   "cell_type": "code",
   "execution_count": 2,
   "metadata": {
    "ExecuteTime": {
     "end_time": "2019-10-22T16:59:39.987389Z",
     "start_time": "2019-10-22T16:59:39.917573Z"
    }
   },
   "outputs": [],
   "source": [
    "# ดึงรายชื่อ ticker\n",
    "global list1,list2,list3\n",
    "\n",
    "tick = pd.read_excel('data/world_market_symbols.xlsx',header=0)  \n",
    "list1 = list(tick['shortname'])\n",
    "list2 = list(tick['symbol'])\n",
    "list3 = list(tick['country_code'])\n",
    "\n",
    "def get_tickers(value = None,data = 'shortname'): \n",
    "    global list1,list2,list3\n",
    "    if data == 'shortname':\n",
    "        tickers = dict( zip( list1, list2))\n",
    "        return tickers \n",
    "    elif data == 'map_shortname':\n",
    "        tickers = dict( zip( list2, list1))    \n",
    "        ticker = tickers[value]    \n",
    "        return ticker\n",
    "    else :\n",
    "        countrys = dict( zip( list2, list3))    \n",
    "        country = countrys[value]  \n",
    "        if data == 'map_country':\n",
    "            return country\n",
    "        else : \n",
    "            co = pd.read_csv('data/country.csv' )\n",
    "            list4 = list(co['iso2c'])\n",
    "            list5 = list(co['name'])\n",
    "            names = dict( zip( list4, list5)) \n",
    "            \n",
    "            country_name = names[country.upper()]\n",
    "            print('country_name')\n",
    "            return country_name\n",
    "\n",
    "def fmtn(number):\n",
    "    \"\"\"\n",
    "    Formatting helper - float\n",
    "    \"\"\"\n",
    "    if np.isnan(number):\n",
    "        return '-'\n",
    "    return format(number, ',.2f')\n",
    "\n",
    "def date_time(times):\n",
    "    timestamp = times\n",
    "    dt_object = dt.fromtimestamp(timestamp)\n",
    "    print(dt_object)\n",
    "    return dt_object\n",
    "\n"
   ]
  },
  {
   "cell_type": "code",
   "execution_count": 3,
   "metadata": {
    "ExecuteTime": {
     "end_time": "2019-10-22T16:59:40.086551Z",
     "start_time": "2019-10-22T16:59:39.991374Z"
    }
   },
   "outputs": [],
   "source": [
    "## NavBar\n",
    "\n",
    "PLOTLY_LOGO = \"https://gitlab.com/yosarawut/financial-investment/raw/master/img/planet-earth.png?inline=false\"\n",
    "\n",
    "tickers = get_tickers(data = 'shortname')\n",
    "dropdown = dbc.Row(\n",
    "    [\n",
    "        dbc.Col(dcc.Dropdown(\n",
    "            id='my-dropdown',\n",
    "            options=[{'label': s[0], 'value': str(s[1])}\n",
    "                     for s in zip(tickers, tickers.values())],\n",
    "            value='^GSPC',style={\"margin-top\": \"10px\", \"margin-left\": \"10px\", \n",
    "                                 \"margin-right\": \"10px\", \"width\": \"300px\"}))],\n",
    "    no_gutters=True,\n",
    "    className=\"ml-auto flex-nowrap mt-3 mt-md-0\",align=\"center\")\n",
    "periods = '1y'\n",
    "navbar = dbc.Navbar(\n",
    "    [\n",
    "        html.A(\n",
    "            # Use row and col to control vertical alignment of logo / brand\n",
    "            dbc.Row(\n",
    "                [\n",
    "                    dbc.Col(html.Img(src=PLOTLY_LOGO, height=\"30px\")),\n",
    "                    dbc.Col(dbc.NavbarBrand(\n",
    "                        \"Major World Indices Overview\", className=\"ml-2\")),\n",
    "                ],\n",
    "                align=\"center\",\n",
    "                no_gutters=True,\n",
    "            ),\n",
    "            href=\"https://dash.plot.ly\",\n",
    "        ),\n",
    "        dbc.NavbarToggler(id=\"navbar-toggler\"),\n",
    "        dbc.Collapse(dropdown, id=\"navbar-collapse\", navbar=True),\n",
    "    ],\n",
    "    color=\"primary\",\n",
    "    dark=True,\n",
    "    className=\"mt-4\",\n",
    ")"
   ]
  },
  {
   "cell_type": "code",
   "execution_count": 4,
   "metadata": {
    "ExecuteTime": {
     "end_time": "2019-10-22T16:59:40.202976Z",
     "start_time": "2019-10-22T16:59:40.091501Z"
    }
   },
   "outputs": [],
   "source": [
    "graph =    dcc.Graph(id='my-graph', \n",
    "    style={\"margin-left\": \"7%\",\"margin-right\": \"auto\",\"margin-top\": \"10px\",\"width\": \"85%\",'height':'350px'})"
   ]
  },
  {
   "cell_type": "code",
   "execution_count": null,
   "metadata": {
    "ExecuteTime": {
     "start_time": "2019-10-22T16:59:37.278Z"
    }
   },
   "outputs": [],
   "source": [
    "row_1 = html.Div(\n",
    "    [\n",
    "        dbc.Row(\n",
    "            [\n",
    "                dbc.Col(html.H2(id='ticker_name',className=\"display-5\",style={\"font-weight\": \"bold\",'color':'#2A4B7C',\n",
    "                                                                              \"margin-left\": \"10px\",}), md=6),\n",
    "                dbc.Col(html.Div(\"\"), md=2),\n",
    "                dbc.Col(html.H2(id='regularMarketPrice',style={\"text-align\": \"right\",'color':'#2A4B7C',\"font-weight\": \"bold\"}), md=3),\n",
    "                dbc.Col(html.Div(id='currency',style={\"text-align\": \"left\",\"margin-top\": \"18px\",'color':'gray'}), md=1),\n",
    "            ],\n",
    "        style={\"margin-top\": \"10px\",\"margin-left\": \"10px\",\"margin-right\": \"10px\"}),\n",
    "        dbc.Row(\n",
    "            [\n",
    "                dbc.Col(html.Img(id = 'flag', src='', style={\"margin-left\": \"60%\",\"margin-right\": \"auto\",\n",
    "                                                             'background-color': '#2A4B7C'}),md=1),\n",
    "      \n",
    "                dbc.Col(html.Div(id='country-name',style={\"text-align\": \"left\",'font-size': '18px',\"font-weight\": \"bold\"}),md=2),\n",
    "                dbc.Col(html.Div(id='lastdate',style={\"text-align\": \"left\",'color':'gray'}),md=2),                \n",
    "                dbc.Col(html.Div(id=\"marketState\",\n",
    "                                 style={\"text-align\": \"right\",\"margin-left\": \"10px\", \"font-weight\": \"normal\",\n",
    "                                        'color':'gray','font-size': '14px'}), md=2),\n",
    "                dbc.Col(html.Div(\"\"), md=1),\n",
    "                dbc.Col(html.H4(id='pricechange',style={\"text-align\": \"right\",\"font-weight\": \"bold\"}), md=2),\n",
    "                dbc.Col(html.H4(id='percentchange',style={\"text-align\": \"left\",\"font-weight\": \"bold\"}), md=2),\n",
    "            ],\n",
    "            style={\"margin-top\": \"5px\",\"margin-left\": \"10px\",\"margin-right\": \"10px\"}\n",
    "        ),\n",
    "    ]\n",
    ")"
   ]
  },
  {
   "cell_type": "code",
   "execution_count": null,
   "metadata": {
    "ExecuteTime": {
     "start_time": "2019-10-22T16:59:37.281Z"
    }
   },
   "outputs": [],
   "source": [
    "row_2 = html.Div(\n",
    "    [\n",
    "        dbc.Row(\n",
    "            [\n",
    "                \n",
    "                dbc.Col(html.Div(id='prev-close',\n",
    "                                 style={\"text-align\": \"center\"}), md=1),\n",
    "                dbc.Col(html.Div(id=\"reg-open\",\n",
    "                                 style={\"text-align\": \"center\"}), md=1),\n",
    "                dbc.Col(html.Div(id=\"reg-volumn\",\n",
    "                                 style={\"text-align\": \"center\"}), md=2),\n",
    "                dbc.Col(html.Div(id=\"day-range\",\n",
    "                                 style={\"text-align\": \"center\"}), md=2),\n",
    "                dbc.Col(html.Div(id=\"year-range\",\n",
    "                                 style={\"text-align\": \"center\"}), md=2),\n",
    "                dbc.Col(html.Div(\"\"), md=2),\n",
    "                \n",
    "                           \n",
    "         \n",
    "                        \n",
    "            ],\n",
    "            style={\"margin-top\": \"5px\", \"margin-left\": \"10px\", \"margin-right\": \"10px\", \"font-weight\": \"bold\",\n",
    "                   'font-size': '18px', 'color': '#2A4B7C'}\n",
    "        ),\n",
    "\n",
    "        dbc.Row(\n",
    "            [\n",
    "                \n",
    "                dbc.Col(html.Div(\"Prev Close\", style={\n",
    "                        \"text-align\": \"center\"}), md=1),\n",
    "                dbc.Col(html.Div(\"Open\", style={\n",
    "                        \"text-align\": \"center\"}), md=1),\n",
    "                dbc.Col(html.Div(\"Volumn\", style={\n",
    "                        \"text-align\": \"center\"}), md=2),\n",
    "                dbc.Col(html.Div(\"Day's Range\", style={\n",
    "                        \"text-align\": \"center\"}), md=2),\n",
    "                dbc.Col(html.Div(\"52 Week's Range\", style={\n",
    "                        \"text-align\": \"center\"}), md=2),\n",
    "                daq.Slider(id=\"slider\", min=1, max=100, step=0.5, value=50,color='#FF6F61'),\n",
    "\n",
    "            ],\n",
    "            style={\"margin-top\": \"5px\", \"margin-left\": \"10px\",\n",
    "                   \"margin-right\": \"10px\", 'color': 'gray', 'font-size': '14px'}\n",
    "        )])   \n"
   ]
  },
  {
   "cell_type": "code",
   "execution_count": null,
   "metadata": {
    "ExecuteTime": {
     "start_time": "2019-10-22T16:59:37.285Z"
    }
   },
   "outputs": [],
   "source": [
    "app = dash.Dash(__name__, external_stylesheets=[dbc.themes.FLATLY])\n",
    "app.layout = html.Div([navbar, row_1,row_2,graph])\n",
    "\n",
    "\n",
    "\n"
   ]
  },
  {
   "cell_type": "code",
   "execution_count": null,
   "metadata": {
    "ExecuteTime": {
     "start_time": "2019-10-22T16:59:37.289Z"
    }
   },
   "outputs": [],
   "source": [
    "@app.callback([Output('ticker_name', 'children'),Output('flag', 'src')],\n",
    "               [Input('my-dropdown', 'value')])\n",
    "def update_output_children(selected_dropdown_value): \n",
    "    country_code = get_tickers(selected_dropdown_value,'map_country')\n",
    "    flag_file = 'assets/flags/4x3/'+ (f'{country_code}')+'.svg'\n",
    "    \n",
    "    return get_tickers(selected_dropdown_value,data = 'map_shortname'),flag_file"
   ]
  },
  {
   "cell_type": "code",
   "execution_count": null,
   "metadata": {
    "ExecuteTime": {
     "start_time": "2019-10-22T16:59:37.292Z"
    }
   },
   "outputs": [],
   "source": [
    "def get_info(ti):\n",
    "    sym = yf.Ticker(ti)\n",
    "    rep = sym.info\n",
    "    return rep"
   ]
  },
  {
   "cell_type": "code",
   "execution_count": null,
   "metadata": {
    "ExecuteTime": {
     "start_time": "2019-10-22T16:59:37.296Z"
    }
   },
   "outputs": [],
   "source": [
    "@app.callback([Output('regularMarketPrice', 'children'),Output('lastdate', 'children'),\n",
    "                              \n",
    "                      Output('country-name', 'children'),Output('marketState', 'children')],\n",
    "                      [Input('my-dropdown', 'value')])\n",
    "def update_output_children(selected_dropdown_value):      \n",
    "    a = get_info(selected_dropdown_value)\n",
    "    times = a['regularMarketTime']\n",
    "    reg_time = date_time(times)\n",
    "    \n",
    "    country_name = get_tickers(selected_dropdown_value,data = 'country_name')   \n",
    "    \n",
    "    market_state = 'Market State :  ' + a['marketState']\n",
    "    return fmtn(a['regularMarketPrice']),reg_time.strftime(fmt),country_name,market_state"
   ]
  },
  {
   "cell_type": "code",
   "execution_count": null,
   "metadata": {
    "ExecuteTime": {
     "start_time": "2019-10-22T16:59:37.300Z"
    }
   },
   "outputs": [],
   "source": [
    "@app.callback([Output('currency', 'children'), Output('prev-close', 'children'),\n",
    "               Output('reg-open', 'children'), Output('reg-volumn', 'children'),\n",
    "               Output('year-range', 'children'),\n",
    "               Output('day-range', 'children')],[Input('my-dropdown', 'value')])\n",
    "def update_output_children(selected_dropdown_value):\n",
    "    a = get_info(selected_dropdown_value)\n",
    "    vol = a['regularMarketVolume']\n",
    "    if float(vol) > 999999:\n",
    "        reg_volumn = fmtn((vol/1000000)) + \" M\"\n",
    "    elif float(vol) > 9999:\n",
    "        reg_volumn = fmtn((vol/1000)) + \" K\"\n",
    "    else:\n",
    "        reg_volumn = 'N/A'\n",
    "        \n",
    "    year_ranges = fmtn(a['fiftyTwoWeekLow']) + ' - ' + \\\n",
    "        fmtn(a['fiftyTwoWeekHigh'])\n",
    "\n",
    "    day_ranges = fmtn(a['regularMarketDayLow']) + ' - ' + \\\n",
    "        fmtn(a['regularMarketDayHigh'])\n",
    "\n",
    "    return a['currency'], fmtn(a['regularMarketPreviousClose']), fmtn(a['regularMarketOpen']), reg_volumn,year_ranges, day_ranges"
   ]
  },
  {
   "cell_type": "code",
   "execution_count": null,
   "metadata": {
    "ExecuteTime": {
     "start_time": "2019-10-22T16:59:37.305Z"
    }
   },
   "outputs": [],
   "source": [
    "@app.callback([Output('slider', 'min'),Output('slider', 'max'),\n",
    "              Output('slider', 'value')],[Input('my-dropdown', 'value')])\n",
    "def update_slider_value(selected_dropdown_value):\n",
    "               a = get_info(selected_dropdown_value) \n",
    "               \n",
    "               return a['fiftyTwoWeekLow'],a['fiftyTwoWeekHigh'],a['regularMarketPrice']   \n",
    "    "
   ]
  },
  {
   "cell_type": "code",
   "execution_count": null,
   "metadata": {
    "ExecuteTime": {
     "start_time": "2019-10-22T16:59:37.309Z"
    }
   },
   "outputs": [],
   "source": [
    "@app.callback([Output('pricechange', 'children'),Output('percentchange', 'children')],\n",
    "               [Input('my-dropdown', 'value')])\n",
    "def update_output_children(selected_dropdown_value):   \n",
    "    a = get_info(selected_dropdown_value) \n",
    "    price_chg = fmtn(a['regularMarketChange'])\n",
    "    percent_chg = fmtn(a['regularMarketChangePercent'])    \n",
    "    if float(price_chg) < 0 :\n",
    "        pric = html.Div(price_chg, style={'color': 'red'})\n",
    "        perc= html.Div('( '+percent_chg+'% )', style={'color': 'red'})\n",
    "    else:\n",
    "        pric= html.Div('+ '+price_chg, style={'color': '#2A4B7C'})   \n",
    "        perc= html.Div('(+ '+percent_chg+'% )', style={'color': '#2A4B7C'})  \n",
    "  \n",
    "    return pric,perc"
   ]
  },
  {
   "cell_type": "code",
   "execution_count": null,
   "metadata": {
    "ExecuteTime": {
     "start_time": "2019-10-22T16:59:37.313Z"
    }
   },
   "outputs": [],
   "source": [
    "@app.callback(Output('my-graph', 'figure'), [Input('my-dropdown', 'value')])\n",
    "def update_graph(selected_dropdown_value):\n",
    "    \n",
    "    periods = '1y'    \n",
    "    data = yf.Ticker(selected_dropdown_value)    \n",
    "    df = data.history(period=periods)          \n",
    "   \n",
    "    return {\n",
    "        'data': [{\n",
    "            'x': df.index,\n",
    "            'y': df.Close,            \n",
    "        }],\n",
    "        'layout': {'margin': {'l': 30, 'r': 0, 't': 20, 'b': 30}}       \n",
    "    }"
   ]
  },
  {
   "cell_type": "code",
   "execution_count": null,
   "metadata": {
    "ExecuteTime": {
     "start_time": "2019-10-22T16:59:37.317Z"
    }
   },
   "outputs": [
    {
     "name": "stdout",
     "output_type": "stream",
     "text": [
      " * Serving Flask app \"__main__\" (lazy loading)\n",
      " * Environment: production\n",
      "   WARNING: Do not use the development server in a production environment.\n",
      "   Use a production WSGI server instead.\n",
      " * Debug mode: off\n"
     ]
    },
    {
     "name": "stderr",
     "output_type": "stream",
     "text": [
      " * Running on http://127.0.0.1:8050/ (Press CTRL+C to quit)\n",
      "c:\\users\\user\\appdata\\local\\programs\\python\\python37-32\\lib\\site-packages\\dash\\resources.py:44: UserWarning:\n",
      "\n",
      "A local version of https://codepen.io/chriddyp/pen/bWLwgP.css is not available\n",
      "\n",
      "127.0.0.1 - - [22/Oct/2019 23:59:43] \"\u001b[37mGET / HTTP/1.1\u001b[0m\" 200 -\n",
      "127.0.0.1 - - [22/Oct/2019 23:59:43] \"\u001b[37mGET /_dash-component-suites/dash_renderer/react@16.8.6.min.js?v=1.0.0&m=1565712429 HTTP/1.1\u001b[0m\" 200 -\n",
      "127.0.0.1 - - [22/Oct/2019 23:59:43] \"\u001b[37mGET /_dash-component-suites/dash_renderer/prop-types@15.7.2.min.js?v=1.0.0&m=1565712429 HTTP/1.1\u001b[0m\" 200 -\n",
      "127.0.0.1 - - [22/Oct/2019 23:59:43] \"\u001b[37mGET /_dash-component-suites/dash_renderer/react-dom@16.8.6.min.js?v=1.0.0&m=1565712429 HTTP/1.1\u001b[0m\" 200 -\n",
      "127.0.0.1 - - [22/Oct/2019 23:59:43] \"\u001b[37mGET /_dash-component-suites/dash_html_components/dash_html_components.min.js?v=1.0.0&m=1565712429 HTTP/1.1\u001b[0m\" 200 -\n",
      "127.0.0.1 - - [22/Oct/2019 23:59:43] \"\u001b[37mGET /_dash-component-suites/dash_bootstrap_components/_components/dash_bootstrap_components.min.js?v=0.7.0&m=1565712428 HTTP/1.1\u001b[0m\" 200 -\n",
      "127.0.0.1 - - [22/Oct/2019 23:59:43] \"\u001b[37mGET /_dash-component-suites/dash_core_components/highlight.pack.js?v=1.1.1&m=1565712428 HTTP/1.1\u001b[0m\" 200 -\n",
      "127.0.0.1 - - [22/Oct/2019 23:59:43] \"\u001b[37mGET /_dash-component-suites/dash_renderer/dash_renderer.min.js?v=1.0.0&m=1565712429 HTTP/1.1\u001b[0m\" 200 -\n",
      "127.0.0.1 - - [22/Oct/2019 23:59:43] \"\u001b[37mGET /_dash-component-suites/dash_daq/bundle.js?v=0.1.4&m=1556900390 HTTP/1.1\u001b[0m\" 200 -\n",
      "127.0.0.1 - - [22/Oct/2019 23:59:43] \"\u001b[37mGET /_dash-component-suites/dash_core_components/dash_core_components.min.js?v=1.1.1&m=1565712428 HTTP/1.1\u001b[0m\" 200 -\n",
      "127.0.0.1 - - [22/Oct/2019 23:59:43] \"\u001b[37mGET /_dash-component-suites/dash_core_components/plotly-1.49.1.min.js?v=1.1.1&m=1565712428 HTTP/1.1\u001b[0m\" 200 -\n",
      "127.0.0.1 - - [22/Oct/2019 23:59:44] \"\u001b[37mGET /_dash-layout HTTP/1.1\u001b[0m\" 200 -\n",
      "127.0.0.1 - - [22/Oct/2019 23:59:44] \"\u001b[37mGET /_dash-dependencies HTTP/1.1\u001b[0m\" 200 -\n",
      "127.0.0.1 - - [22/Oct/2019 23:59:44] \"\u001b[37mPOST /_dash-update-component HTTP/1.1\u001b[0m\" 200 -\n",
      "127.0.0.1 - - [22/Oct/2019 23:59:44] \"\u001b[37mPOST /_dash-update-component HTTP/1.1\u001b[0m\" 200 -\n",
      "127.0.0.1 - - [22/Oct/2019 23:59:44] \"\u001b[37mPOST /_dash-update-component HTTP/1.1\u001b[0m\" 200 -\n",
      "127.0.0.1 - - [22/Oct/2019 23:59:44] \"\u001b[37mPOST /_dash-update-component HTTP/1.1\u001b[0m\" 200 -\n",
      "127.0.0.1 - - [22/Oct/2019 23:59:44] \"\u001b[37mPOST /_dash-update-component HTTP/1.1\u001b[0m\" 200 -\n",
      "127.0.0.1 - - [22/Oct/2019 23:59:44] \"\u001b[37mPOST /_dash-update-component HTTP/1.1\u001b[0m\" 200 -\n"
     ]
    },
    {
     "name": "stdout",
     "output_type": "stream",
     "text": [
      "2019-10-22 23:59:42\n",
      "country_name\n"
     ]
    },
    {
     "name": "stderr",
     "output_type": "stream",
     "text": [
      "127.0.0.1 - - [22/Oct/2019 23:59:54] \"\u001b[37mPOST /_dash-update-component HTTP/1.1\u001b[0m\" 200 -\n",
      "127.0.0.1 - - [22/Oct/2019 23:59:54] \"\u001b[37mPOST /_dash-update-component HTTP/1.1\u001b[0m\" 200 -\n",
      "127.0.0.1 - - [22/Oct/2019 23:59:54] \"\u001b[37mPOST /_dash-update-component HTTP/1.1\u001b[0m\" 200 -\n",
      "127.0.0.1 - - [22/Oct/2019 23:59:54] \"\u001b[37mPOST /_dash-update-component HTTP/1.1\u001b[0m\" 200 -\n",
      "127.0.0.1 - - [22/Oct/2019 23:59:54] \"\u001b[37mPOST /_dash-update-component HTTP/1.1\u001b[0m\" 200 -\n",
      "127.0.0.1 - - [22/Oct/2019 23:59:54] \"\u001b[37mPOST /_dash-update-component HTTP/1.1\u001b[0m\" 200 -\n"
     ]
    },
    {
     "name": "stdout",
     "output_type": "stream",
     "text": [
      "2019-10-22 17:02:42\n",
      "country_name\n"
     ]
    },
    {
     "name": "stderr",
     "output_type": "stream",
     "text": [
      "127.0.0.1 - - [23/Oct/2019 00:00:00] \"\u001b[37mPOST /_dash-update-component HTTP/1.1\u001b[0m\" 200 -\n",
      "127.0.0.1 - - [23/Oct/2019 00:00:00] \"\u001b[37mPOST /_dash-update-component HTTP/1.1\u001b[0m\" 200 -\n",
      "127.0.0.1 - - [23/Oct/2019 00:00:00] \"\u001b[37mPOST /_dash-update-component HTTP/1.1\u001b[0m\" 200 -\n",
      "127.0.0.1 - - [23/Oct/2019 00:00:00] \"\u001b[37mPOST /_dash-update-component HTTP/1.1\u001b[0m\" 200 -\n",
      "127.0.0.1 - - [23/Oct/2019 00:00:00] \"\u001b[37mPOST /_dash-update-component HTTP/1.1\u001b[0m\" 200 -\n",
      "127.0.0.1 - - [23/Oct/2019 00:00:00] \"\u001b[37mPOST /_dash-update-component HTTP/1.1\u001b[0m\" 200 -\n"
     ]
    },
    {
     "name": "stdout",
     "output_type": "stream",
     "text": [
      "2019-10-22 23:05:02\n",
      "country_name\n"
     ]
    },
    {
     "name": "stderr",
     "output_type": "stream",
     "text": [
      "127.0.0.1 - - [23/Oct/2019 00:00:05] \"\u001b[37mPOST /_dash-update-component HTTP/1.1\u001b[0m\" 200 -\n",
      "127.0.0.1 - - [23/Oct/2019 00:00:05] \"\u001b[37mPOST /_dash-update-component HTTP/1.1\u001b[0m\" 200 -\n",
      "127.0.0.1 - - [23/Oct/2019 00:00:05] \"\u001b[37mPOST /_dash-update-component HTTP/1.1\u001b[0m\" 200 -\n",
      "127.0.0.1 - - [23/Oct/2019 00:00:05] \"\u001b[37mPOST /_dash-update-component HTTP/1.1\u001b[0m\" 200 -\n"
     ]
    },
    {
     "name": "stdout",
     "output_type": "stream",
     "text": [
      "2019-10-23 00:00:05\n",
      "country_name\n"
     ]
    },
    {
     "name": "stderr",
     "output_type": "stream",
     "text": [
      "127.0.0.1 - - [23/Oct/2019 00:00:06] \"\u001b[37mPOST /_dash-update-component HTTP/1.1\u001b[0m\" 200 -\n",
      "127.0.0.1 - - [23/Oct/2019 00:00:06] \"\u001b[37mPOST /_dash-update-component HTTP/1.1\u001b[0m\" 200 -\n",
      "127.0.0.1 - - [23/Oct/2019 00:00:11] \"\u001b[37mPOST /_dash-update-component HTTP/1.1\u001b[0m\" 200 -\n",
      "127.0.0.1 - - [23/Oct/2019 00:00:11] \"\u001b[37mGET /assets/flags/4x3/ca.svg HTTP/1.1\u001b[0m\" 200 -\n",
      "127.0.0.1 - - [23/Oct/2019 00:00:11] \"\u001b[37mPOST /_dash-update-component HTTP/1.1\u001b[0m\" 200 -\n",
      "127.0.0.1 - - [23/Oct/2019 00:00:11] \"\u001b[37mPOST /_dash-update-component HTTP/1.1\u001b[0m\" 200 -\n",
      "127.0.0.1 - - [23/Oct/2019 00:00:11] \"\u001b[37mPOST /_dash-update-component HTTP/1.1\u001b[0m\" 200 -\n",
      "127.0.0.1 - - [23/Oct/2019 00:00:11] \"\u001b[37mPOST /_dash-update-component HTTP/1.1\u001b[0m\" 200 -\n",
      "127.0.0.1 - - [23/Oct/2019 00:00:11] \"\u001b[37mPOST /_dash-update-component HTTP/1.1\u001b[0m\" 200 -\n"
     ]
    },
    {
     "name": "stdout",
     "output_type": "stream",
     "text": [
      "2019-10-22 23:45:01\n",
      "country_name\n"
     ]
    },
    {
     "name": "stderr",
     "output_type": "stream",
     "text": [
      "127.0.0.1 - - [23/Oct/2019 00:00:16] \"\u001b[37mPOST /_dash-update-component HTTP/1.1\u001b[0m\" 200 -\n",
      "127.0.0.1 - - [23/Oct/2019 00:00:16] \"\u001b[37mPOST /_dash-update-component HTTP/1.1\u001b[0m\" 200 -\n",
      "127.0.0.1 - - [23/Oct/2019 00:00:16] \"\u001b[37mPOST /_dash-update-component HTTP/1.1\u001b[0m\" 200 -\n",
      "127.0.0.1 - - [23/Oct/2019 00:00:16] \"\u001b[37mPOST /_dash-update-component HTTP/1.1\u001b[0m\" 200 -\n",
      "127.0.0.1 - - [23/Oct/2019 00:00:16] \"\u001b[37mPOST /_dash-update-component HTTP/1.1\u001b[0m\" 200 -\n",
      "127.0.0.1 - - [23/Oct/2019 00:00:17] \"\u001b[37mPOST /_dash-update-component HTTP/1.1\u001b[0m\" 200 -\n"
     ]
    },
    {
     "name": "stdout",
     "output_type": "stream",
     "text": [
      "2019-10-22 12:33:25\n",
      "country_name\n"
     ]
    },
    {
     "name": "stderr",
     "output_type": "stream",
     "text": [
      "127.0.0.1 - - [23/Oct/2019 00:00:38] \"\u001b[37mPOST /_dash-update-component HTTP/1.1\u001b[0m\" 200 -\n",
      "127.0.0.1 - - [23/Oct/2019 00:00:39] \"\u001b[37mPOST /_dash-update-component HTTP/1.1\u001b[0m\" 200 -\n",
      "127.0.0.1 - - [23/Oct/2019 00:00:39] \"\u001b[37mPOST /_dash-update-component HTTP/1.1\u001b[0m\" 200 -\n",
      "127.0.0.1 - - [23/Oct/2019 00:00:39] \"\u001b[37mPOST /_dash-update-component HTTP/1.1\u001b[0m\" 200 -\n",
      "127.0.0.1 - - [23/Oct/2019 00:00:39] \"\u001b[37mPOST /_dash-update-component HTTP/1.1\u001b[0m\" 200 -\n",
      "127.0.0.1 - - [23/Oct/2019 00:00:39] \"\u001b[37mPOST /_dash-update-component HTTP/1.1\u001b[0m\" 200 -\n"
     ]
    },
    {
     "name": "stdout",
     "output_type": "stream",
     "text": [
      "2019-10-22 12:41:05\n",
      "country_name\n"
     ]
    },
    {
     "name": "stderr",
     "output_type": "stream",
     "text": [
      "127.0.0.1 - - [23/Oct/2019 00:17:29] \"\u001b[37mPOST /_dash-update-component HTTP/1.1\u001b[0m\" 200 -\n",
      "127.0.0.1 - - [23/Oct/2019 00:17:29] \"\u001b[37mPOST /_dash-update-component HTTP/1.1\u001b[0m\" 200 -\n",
      "127.0.0.1 - - [23/Oct/2019 00:17:29] \"\u001b[37mPOST /_dash-update-component HTTP/1.1\u001b[0m\" 200 -\n",
      "127.0.0.1 - - [23/Oct/2019 00:17:29] \"\u001b[37mPOST /_dash-update-component HTTP/1.1\u001b[0m\" 200 -\n",
      "127.0.0.1 - - [23/Oct/2019 00:17:29] \"\u001b[37mPOST /_dash-update-component HTTP/1.1\u001b[0m\" 200 -\n",
      "127.0.0.1 - - [23/Oct/2019 00:17:29] \"\u001b[37mPOST /_dash-update-component HTTP/1.1\u001b[0m\" 200 -\n"
     ]
    },
    {
     "name": "stdout",
     "output_type": "stream",
     "text": [
      "2019-10-21 13:15:02\n",
      "country_name\n"
     ]
    }
   ],
   "source": [
    "app.css.append_css({'external_url': 'https://codepen.io/chriddyp/pen/bWLwgP.css'})\n",
    "\n",
    "if __name__ == '__main__':\n",
    "    app.run_server(debug=False)"
   ]
  },
  {
   "cell_type": "code",
   "execution_count": null,
   "metadata": {},
   "outputs": [],
   "source": []
  },
  {
   "cell_type": "code",
   "execution_count": null,
   "metadata": {},
   "outputs": [],
   "source": []
  }
 ],
 "metadata": {
  "kernelspec": {
   "display_name": "Python 3",
   "language": "python",
   "name": "python3"
  },
  "language_info": {
   "codemirror_mode": {
    "name": "ipython",
    "version": 3
   },
   "file_extension": ".py",
   "mimetype": "text/x-python",
   "name": "python",
   "nbconvert_exporter": "python",
   "pygments_lexer": "ipython3",
   "version": "3.7.2"
  },
  "latex_envs": {
   "LaTeX_envs_menu_present": true,
   "autoclose": false,
   "autocomplete": true,
   "bibliofile": "biblio.bib",
   "cite_by": "apalike",
   "current_citInitial": 1,
   "eqLabelWithNumbers": true,
   "eqNumInitial": 1,
   "hotkeys": {
    "equation": "Ctrl-E",
    "itemize": "Ctrl-I"
   },
   "labels_anchors": false,
   "latex_user_defs": false,
   "report_style_numbering": false,
   "user_envs_cfg": false
  },
  "toc": {
   "base_numbering": 1,
   "nav_menu": {},
   "number_sections": false,
   "sideBar": true,
   "skip_h1_title": false,
   "title_cell": "Table of Contents",
   "title_sidebar": "Contents",
   "toc_cell": false,
   "toc_position": {},
   "toc_section_display": true,
   "toc_window_display": true
  }
 },
 "nbformat": 4,
 "nbformat_minor": 2
}
