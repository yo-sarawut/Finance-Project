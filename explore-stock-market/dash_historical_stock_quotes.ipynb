{
 "cells": [
  {
   "cell_type": "markdown",
   "metadata": {},
   "source": [
    "Historical Stock Quotes\n",
    "===\n",
    "\n",
    "- [Dash Bootstrap Components](https://dash-bootstrap-components.opensource.faculty.ai/) , [GitHub](https://github.com/facultyai/dash-bootstrap-components), [Dash Doc](https://dash.plot.ly/?_ga=2.231596575.1202284478.1569165803-1447185323.1556647892)\n",
    "- [Store](https://dash.plot.ly/dash-core-components/store)\n",
    "- [Multiple Outputs](https://dash.plot.ly/getting-started-part-2)\n"
   ]
  },
  {
   "cell_type": "code",
   "execution_count": 17,
   "metadata": {
    "ExecuteTime": {
     "end_time": "2019-09-28T05:26:58.160573Z",
     "start_time": "2019-09-28T05:26:58.152541Z"
    }
   },
   "outputs": [],
   "source": [
    "import dash\n",
    "from dash.dependencies import Input, Output\n",
    "import dash_bootstrap_components as dbc\n",
    "import dash_core_components as dcc\n",
    "import dash_html_components as html\n",
    "import pandas as pd\n",
    "from pandas_datareader import data as web\n",
    "from datetime import datetime as dt\n",
    "import yfinance as yf\n",
    "import numpy as np\n",
    "import date_converter\n",
    "global periods,tickers\n",
    "periods = '1y'\n",
    "tickers = ''"
   ]
  },
  {
   "cell_type": "code",
   "execution_count": 18,
   "metadata": {
    "ExecuteTime": {
     "end_time": "2019-09-28T05:26:58.588613Z",
     "start_time": "2019-09-28T05:26:58.576697Z"
    }
   },
   "outputs": [],
   "source": [
    "# ดึงรายชื่อ ticker\n",
    "\n",
    "def get_tickers():\n",
    "    tick = pd.read_excel('data/market_stock_tickers.xlsx',header=0)\n",
    "    list1 = list(tick['Name_Trade'])\n",
    "    list2 = list(tick['Symbol'])\n",
    "    tickers = dict( zip( list1, list2))\n",
    "    \n",
    "    return tickers \n",
    "\n",
    "def tickers_map(value):\n",
    "    tick = pd.read_excel('data/market_stock_tickers.xlsx',header=0)\n",
    "    list1 = list(tick['Name_Trade'])\n",
    "    list2 = list(tick['Symbol'])\n",
    "    tickers = dict( zip( list2, list1))    \n",
    "    ticker = tickers[value]\n",
    "    \n",
    "    return ticker\n",
    "\n",
    "def num_format(number,format_num=',.2f'):\n",
    "    \"\"\"\n",
    "    Formatting helper - float (1 Item)\n",
    "    \"\"\"\n",
    "    if np.isnan(number):\n",
    "        return '-'\n",
    "    return format(number, format_num)\n"
   ]
  },
  {
   "cell_type": "code",
   "execution_count": 19,
   "metadata": {
    "ExecuteTime": {
     "end_time": "2019-09-28T05:26:59.263526Z",
     "start_time": "2019-09-28T05:26:59.235614Z"
    }
   },
   "outputs": [],
   "source": [
    "PLOTLY_LOGO = \"https://gitlab.com/yosarawut/financial-investment/raw/master/img/planet-earth.png?inline=false\"\n",
    "\n",
    "tickers = get_tickers()\n",
    "dropdown = dbc.Row(\n",
    "    [\n",
    "        dbc.Col(dcc.Dropdown(\n",
    "            id='my-dropdown',\n",
    "            options=[{'label': s[0], 'value': str(s[1])}\n",
    "                     for s in zip(tickers, tickers.values())],\n",
    "            value='^GSPC',style={\"margin-top\": \"10px\", \"margin-left\": \"10px\", \n",
    "                                 \"margin-right\": \"10px\", \"width\": \"300px\"}))],\n",
    "\n",
    "\n",
    "    no_gutters=True,\n",
    "    className=\"ml-auto flex-nowrap mt-3 mt-md-0\",align=\"center\")\n",
    "periods = '1y'\n",
    "navbar = dbc.Navbar(\n",
    "    [\n",
    "        html.A(\n",
    "            # Use row and col to control vertical alignment of logo / brand\n",
    "            dbc.Row(\n",
    "                [\n",
    "                    dbc.Col(html.Img(src=PLOTLY_LOGO, height=\"30px\")),\n",
    "                    dbc.Col(dbc.NavbarBrand(\n",
    "                        \"Historical Stock Quotes\", className=\"ml-2\")),\n",
    "                ],\n",
    "                align=\"center\",\n",
    "                no_gutters=True,\n",
    "            ),\n",
    "            href=\"https://plot.ly\",\n",
    "        ),\n",
    "        dbc.NavbarToggler(id=\"navbar-toggler\"),\n",
    "        dbc.Collapse(dropdown, id=\"navbar-collapse\", navbar=True),\n",
    "    ],\n",
    "    color=\"primary\",\n",
    "    dark=True,\n",
    "    className=\"mt-4\",\n",
    ")"
   ]
  },
  {
   "cell_type": "code",
   "execution_count": 41,
   "metadata": {
    "ExecuteTime": {
     "end_time": "2019-09-28T05:43:46.173122Z",
     "start_time": "2019-09-28T05:43:46.165142Z"
    }
   },
   "outputs": [],
   "source": [
    "button_group = dbc.RadioItems(\n",
    "    options =[\n",
    "        {\"label\": \"1M\", \"value\": '1m'},\n",
    "        {\"label\": \"3M\", \"value\": '3m'},\n",
    "        {\"label\": \"1Y\", \"value\": '1y'},],\n",
    "    key = '1y',\n",
    "    id=\"button-group\",\n",
    "),"
   ]
  },
  {
   "cell_type": "code",
   "execution_count": 42,
   "metadata": {
    "ExecuteTime": {
     "end_time": "2019-09-28T05:43:49.648840Z",
     "start_time": "2019-09-28T05:43:49.637871Z"
    }
   },
   "outputs": [],
   "source": [
    "button_group = dbc.ButtonGroup(\n",
    "    [dbc.Button(\"1M\",id = '1M', color=\"primary\"), dbc.Button(\"3M\",id = '3M',  color=\"primary\"), \n",
    "     dbc.Button(\"6M\",id = '6M',color=\"primary\"),\n",
    "     dbc.Button(\"YTD\",id = 'YTD', color=\"primary\"), dbc.Button(\"1Y\",id = '1Y', color=\"primary\"),\n",
    "     dbc.Button(\"3Y\",id = '3Y', color=\"primary\"), dbc.Button(\"5Y\",id = '5Y', color=\"primary\"),  \n",
    "     dbc.Button(\"10Y\",id = '10Y', color=\"primary\")],\n",
    "                               style={\"margin-top\": \"10px\",\"margin-left\": \"10px\",\"margin-right\": \"10px\"})\n",
    "\n",
    "graph =    dcc.Graph(id='my-graph', \n",
    "    style={\"margin-left\": \"7%\",\"margin-right\": \"auto\",\"margin-top\": \"10px\",\"width\": \"85%\",'height':'350px'})"
   ]
  },
  {
   "cell_type": "code",
   "execution_count": 43,
   "metadata": {
    "ExecuteTime": {
     "end_time": "2019-09-28T05:43:50.272151Z",
     "start_time": "2019-09-28T05:43:50.249174Z"
    }
   },
   "outputs": [],
   "source": [
    "row = html.Div(\n",
    "    [\n",
    "        dbc.Row(\n",
    "            [\n",
    "                dbc.Col(html.H2(id='ticker_name',className=\"display-5\",style={\"font-weight\": \"bold\",'color':'#2A4B7C',\n",
    "                                                                              \"margin-left\": \"10px\",}), md=6),\n",
    "                dbc.Col(html.Div(\"\"), md=2),\n",
    "                dbc.Col(html.H2(id='regularMarketPrice',style={\"text-align\": \"right\",'color':'#2A4B7C',\"font-weight\": \"bold\"}), md=3),\n",
    "                dbc.Col(html.Div(id='currency',style={\"text-align\": \"left\",\"margin-top\": \"18px\",'color':'gray'}), md=1),\n",
    "            ],\n",
    "        style={\"margin-top\": \"10px\",\"margin-left\": \"10px\",\"margin-right\": \"10px\"}),\n",
    "        dbc.Row(\n",
    "            [\n",
    "                dbc.Col(html.Div(id='lastdate',style={\"text-align\": \"right\"}),md=1),\n",
    "                dbc.Col(html.Div(id=\"marketState\",style={\"text-align\": \"left\",\"margin-left\": \"10px\"}), md=2),\n",
    "                dbc.Col(html.Div(\"\"), md=5),\n",
    "                dbc.Col(html.H4(id='pricechange',style={\"text-align\": \"right\",\"font-weight\": \"bold\"}), md=2),\n",
    "                dbc.Col(html.H4(id='percentchange',style={\"text-align\": \"left\",\"font-weight\": \"bold\"}), md=2),\n",
    "                dbc.Col(html.H4(id='periods',style={\"text-align\": \"left\",\"font-weight\": \"bold\"}), md=2),\n",
    "            ],\n",
    "            style={\"margin-top\": \"5px\",\"margin-left\": \"10px\",\"margin-right\": \"10px\"}\n",
    "        ),\n",
    "    ]\n",
    ")\n",
    "\n",
    "app = dash.Dash(__name__, external_stylesheets=[dbc.themes.FLATLY])\n",
    "app.layout = html.Div([navbar, row,graph,button_group])"
   ]
  },
  {
   "cell_type": "code",
   "execution_count": 44,
   "metadata": {
    "ExecuteTime": {
     "end_time": "2019-09-28T05:43:51.139116Z",
     "start_time": "2019-09-28T05:43:51.115178Z"
    }
   },
   "outputs": [
    {
     "ename": "NonExistentIdException",
     "evalue": "\n                            Attempting to assign a callback to the\n                            component with the id \"button-input\" but no\n                            components with id \"button-input\" exist in the\n                            app's layout.\n\n\n                            Here is a list of IDs in layout:\n['navbar-toggler', 'navbar-collapse', 'my-dropdown', 'ticker_name', 'regularMarketPrice', 'currency', 'lastdate', 'marketState', 'pricechange', 'percentchange', 'periods', 'my-graph', '1M', '3M', '6M', 'YTD', '1Y', '3Y', '5Y', '10Y']\n\n\n                            If you are assigning callbacks to components\n                            that are generated by other callbacks\n                            (and therefore not in the initial layout), then\n                            you can suppress this exception by setting\n                            `suppress_callback_exceptions=True`.\n",
     "output_type": "error",
     "traceback": [
      "\u001b[1;31m---------------------------------------------------------------------------\u001b[0m",
      "\u001b[1;31mNonExistentIdException\u001b[0m                    Traceback (most recent call last)",
      "\u001b[1;32m<ipython-input-44-4c8c06146d1c>\u001b[0m in \u001b[0;36m<module>\u001b[1;34m\u001b[0m\n\u001b[0;32m      1\u001b[0m @app.callback(Output('my-graph', 'figure'), [Input('my-dropdown', 'value'),\n\u001b[1;32m----> 2\u001b[1;33m                                             Input('button-input','value')])\n\u001b[0m\u001b[0;32m      3\u001b[0m \u001b[1;32mdef\u001b[0m \u001b[0mupdate_graph\u001b[0m\u001b[1;33m(\u001b[0m\u001b[0mselected_dropdown_value\u001b[0m\u001b[1;33m,\u001b[0m\u001b[0mperiods\u001b[0m\u001b[1;33m)\u001b[0m\u001b[1;33m:\u001b[0m\u001b[1;33m\u001b[0m\u001b[1;33m\u001b[0m\u001b[0m\n\u001b[0;32m      4\u001b[0m \u001b[1;33m\u001b[0m\u001b[0m\n\u001b[0;32m      5\u001b[0m     \u001b[0mtickers\u001b[0m \u001b[1;33m=\u001b[0m \u001b[0mselected_dropdown_value\u001b[0m\u001b[1;33m\u001b[0m\u001b[1;33m\u001b[0m\u001b[0m\n",
      "\u001b[1;32mc:\\users\\user\\appdata\\local\\programs\\python\\python37-32\\lib\\site-packages\\dash\\dash.py\u001b[0m in \u001b[0;36mcallback\u001b[1;34m(self, output, inputs, state)\u001b[0m\n\u001b[0;32m   1150\u001b[0m     \u001b[1;31m# pylint: disable=dangerous-default-value\u001b[0m\u001b[1;33m\u001b[0m\u001b[1;33m\u001b[0m\u001b[1;33m\u001b[0m\u001b[0m\n\u001b[0;32m   1151\u001b[0m     \u001b[1;32mdef\u001b[0m \u001b[0mcallback\u001b[0m\u001b[1;33m(\u001b[0m\u001b[0mself\u001b[0m\u001b[1;33m,\u001b[0m \u001b[0moutput\u001b[0m\u001b[1;33m,\u001b[0m \u001b[0minputs\u001b[0m\u001b[1;33m=\u001b[0m\u001b[1;33m[\u001b[0m\u001b[1;33m]\u001b[0m\u001b[1;33m,\u001b[0m \u001b[0mstate\u001b[0m\u001b[1;33m=\u001b[0m\u001b[1;33m[\u001b[0m\u001b[1;33m]\u001b[0m\u001b[1;33m)\u001b[0m\u001b[1;33m:\u001b[0m\u001b[1;33m\u001b[0m\u001b[1;33m\u001b[0m\u001b[0m\n\u001b[1;32m-> 1152\u001b[1;33m         \u001b[0mself\u001b[0m\u001b[1;33m.\u001b[0m\u001b[0m_validate_callback\u001b[0m\u001b[1;33m(\u001b[0m\u001b[0moutput\u001b[0m\u001b[1;33m,\u001b[0m \u001b[0minputs\u001b[0m\u001b[1;33m,\u001b[0m \u001b[0mstate\u001b[0m\u001b[1;33m)\u001b[0m\u001b[1;33m\u001b[0m\u001b[1;33m\u001b[0m\u001b[0m\n\u001b[0m\u001b[0;32m   1153\u001b[0m \u001b[1;33m\u001b[0m\u001b[0m\n\u001b[0;32m   1154\u001b[0m         \u001b[0mcallback_id\u001b[0m \u001b[1;33m=\u001b[0m \u001b[0m_create_callback_id\u001b[0m\u001b[1;33m(\u001b[0m\u001b[0moutput\u001b[0m\u001b[1;33m)\u001b[0m\u001b[1;33m\u001b[0m\u001b[1;33m\u001b[0m\u001b[0m\n",
      "\u001b[1;32mc:\\users\\user\\appdata\\local\\programs\\python\\python37-32\\lib\\site-packages\\dash\\dash.py\u001b[0m in \u001b[0;36m_validate_callback\u001b[1;34m(self, output, inputs, state)\u001b[0m\n\u001b[0;32m    865\u001b[0m                             \u001b[0myou\u001b[0m \u001b[0mcan\u001b[0m \u001b[0msuppress\u001b[0m \u001b[0mthis\u001b[0m \u001b[0mexception\u001b[0m \u001b[0mby\u001b[0m \u001b[0msetting\u001b[0m\u001b[1;33m\u001b[0m\u001b[1;33m\u001b[0m\u001b[0m\n\u001b[0;32m    866\u001b[0m                             \u001b[0;31m`\u001b[0m\u001b[0msuppress_callback_exceptions\u001b[0m\u001b[1;33m=\u001b[0m\u001b[1;32mTrue\u001b[0m\u001b[0;31m`\u001b[0m\u001b[1;33m.\u001b[0m\u001b[1;33m\u001b[0m\u001b[1;33m\u001b[0m\u001b[0m\n\u001b[1;32m--> 867\u001b[1;33m                         ''').format(arg_id, all_ids))\n\u001b[0m\u001b[0;32m    868\u001b[0m \u001b[1;33m\u001b[0m\u001b[0m\n\u001b[0;32m    869\u001b[0m                     component = (\n",
      "\u001b[1;31mNonExistentIdException\u001b[0m: \n                            Attempting to assign a callback to the\n                            component with the id \"button-input\" but no\n                            components with id \"button-input\" exist in the\n                            app's layout.\n\n\n                            Here is a list of IDs in layout:\n['navbar-toggler', 'navbar-collapse', 'my-dropdown', 'ticker_name', 'regularMarketPrice', 'currency', 'lastdate', 'marketState', 'pricechange', 'percentchange', 'periods', 'my-graph', '1M', '3M', '6M', 'YTD', '1Y', '3Y', '5Y', '10Y']\n\n\n                            If you are assigning callbacks to components\n                            that are generated by other callbacks\n                            (and therefore not in the initial layout), then\n                            you can suppress this exception by setting\n                            `suppress_callback_exceptions=True`.\n"
     ]
    }
   ],
   "source": [
    "@app.callback(Output('my-graph', 'figure'), [Input('my-dropdown', 'value'),\n",
    "                                            Input('button-input','value')])\n",
    "def update_graph(selected_dropdown_value,periods): \n",
    "     \n",
    "    tickers = selected_dropdown_value\n",
    "   \n",
    "    data = yf.Ticker(tickers)    \n",
    "    df = data.history(period=periods)          \n",
    "   \n",
    "    return {\n",
    "        'data': [{\n",
    "            'x': df.index,\n",
    "            'y': df.Close,            \n",
    "        }],\n",
    "        'layout': {'margin': {'l': 30, 'r': 0, 't': 20, 'b': 30}}       \n",
    "    }\n",
    "\n",
    "   "
   ]
  },
  {
   "cell_type": "code",
   "execution_count": 45,
   "metadata": {
    "ExecuteTime": {
     "end_time": "2019-09-28T05:43:52.023086Z",
     "start_time": "2019-09-28T05:43:52.007134Z"
    }
   },
   "outputs": [],
   "source": [
    "@app.callback(\n",
    "    Output('periods','children'),\n",
    "    [\n",
    "        Input(\"1M\", \"n_clicks\"),\n",
    "        Input(\"3M\", \"n_clicks\"),\n",
    "        Input(\"6M\", \"n_clicks\"),\n",
    "        Input(\"YTD\", \"n_clicks\"),\n",
    "        Input(\"1Y\", \"n_clicks\"),\n",
    "        Input(\"3Y\", \"n_clicks\"),\n",
    "        Input(\"5Y\", \"n_clicks\"),\n",
    "        Input(\"10Y\", \"n_clicks\")\n",
    "    ])\n",
    "\n",
    "def on_button_click(n1, n2, n3,n4,n5,n6,n7,n8):\n",
    "    if button_id == \"1M\":\n",
    "        return periods == \"1m\"\n",
    "    elif button_id == \"3M\":\n",
    "        return periods == \"3m\"\n",
    "    elif button_id == \"6M\":\n",
    "        return periods == \"6m\"\n",
    "    elif button_id == \"YTD\":\n",
    "        return periods == \"ytd\"\n",
    "    elif button_id == \"1Y\":\n",
    "        return periods == \"1y\"\n",
    "    elif button_id == \"3Y\":\n",
    "        return periods == \"3y\"\n",
    "    elif button_id == \"5Y\":\n",
    "        return periods == \"5y\"\n",
    "    elif button_id == \"10Y\":\n",
    "        return periods == \"10y\"\n",
    "    #update_graph(periods)\n",
    "\n",
    "   "
   ]
  },
  {
   "cell_type": "code",
   "execution_count": 46,
   "metadata": {
    "ExecuteTime": {
     "end_time": "2019-09-28T05:43:52.905823Z",
     "start_time": "2019-09-28T05:43:52.899839Z"
    }
   },
   "outputs": [],
   "source": [
    "def get_info(tick):\n",
    "    sym = yf.Ticker(tick)\n",
    "    rep = sym.info\n",
    "    return rep"
   ]
  },
  {
   "cell_type": "code",
   "execution_count": 47,
   "metadata": {
    "ExecuteTime": {
     "end_time": "2019-09-28T05:43:53.342450Z",
     "start_time": "2019-09-28T05:43:53.334528Z"
    }
   },
   "outputs": [],
   "source": [
    "@app.callback(Output('ticker_name', 'children'), [Input('my-dropdown', 'value')])\n",
    "def update_ticker_children(selected_dropdown_value):      \n",
    "    \n",
    "    return tickers_map(selected_dropdown_value)\n"
   ]
  },
  {
   "cell_type": "code",
   "execution_count": 48,
   "metadata": {
    "ExecuteTime": {
     "end_time": "2019-09-28T05:43:53.634281Z",
     "start_time": "2019-09-28T05:43:53.629299Z"
    }
   },
   "outputs": [],
   "source": [
    "@app.callback(Output('regularMarketPrice', 'children'), [Input('my-dropdown', 'value')])\n",
    "def update_regularMarketPrice_children(selected_dropdown_value):      \n",
    "    a = get_info(selected_dropdown_value)\n",
    "    price = num_format(a['regularMarketPrice'])\n",
    "    \n",
    "    return price"
   ]
  },
  {
   "cell_type": "code",
   "execution_count": 49,
   "metadata": {
    "ExecuteTime": {
     "end_time": "2019-09-28T05:43:53.883902Z",
     "start_time": "2019-09-28T05:43:53.877921Z"
    }
   },
   "outputs": [],
   "source": [
    "@app.callback(Output('currency', 'children'), [Input('my-dropdown', 'value')])\n",
    "def update_currency_children(selected_dropdown_value):       \n",
    "    a = get_info(selected_dropdown_value)    \n",
    "    \n",
    "    return a['currency']"
   ]
  },
  {
   "cell_type": "code",
   "execution_count": 50,
   "metadata": {
    "ExecuteTime": {
     "end_time": "2019-09-28T05:43:54.145227Z",
     "start_time": "2019-09-28T05:43:54.137249Z"
    }
   },
   "outputs": [],
   "source": [
    "@app.callback(Output('lastdate', 'children'), [Input('my-dropdown', 'value')])\n",
    "def update_lastdate_children(selected_dropdown_value):      \n",
    "    data = yf.Ticker(selected_dropdown_value)    \n",
    "    df = data.history(period=periods) \n",
    "    last_date = max(df.index) \n",
    "    last_date = date_converter.date_to_string(last_date, '%d-%m-%Y')\n",
    "    \n",
    "    return last_date"
   ]
  },
  {
   "cell_type": "code",
   "execution_count": 51,
   "metadata": {
    "ExecuteTime": {
     "end_time": "2019-09-28T05:43:54.371855Z",
     "start_time": "2019-09-28T05:43:54.364877Z"
    }
   },
   "outputs": [],
   "source": [
    "@app.callback(Output('marketState', 'children'), [Input('my-dropdown', 'value')])\n",
    "def update_marketState_children(selected_dropdown_value):     \n",
    "    \n",
    "    a = get_info(selected_dropdown_value)    \n",
    "    \n",
    "    return 'MARKET :  ' + a['marketState']"
   ]
  },
  {
   "cell_type": "code",
   "execution_count": 52,
   "metadata": {
    "ExecuteTime": {
     "end_time": "2019-09-28T05:43:54.615710Z",
     "start_time": "2019-09-28T05:43:54.604740Z"
    }
   },
   "outputs": [],
   "source": [
    "@app.callback(Output('pricechange', 'children'),[Input('my-dropdown', 'value')])\n",
    "def update_pricechange_children(selected_dropdown_value):      \n",
    "    data = yf.Ticker(selected_dropdown_value)    \n",
    "    df = data.history(period=periods) \n",
    "    close = list(df.Close)\n",
    "    x = np.array(close)\n",
    "    start_price = x[0]\n",
    "    current_price = x[-1]\n",
    "    price_change = current_price - start_price\n",
    "    price = num_format(price_change)\n",
    "    if price_change < 0 :\n",
    "        return html.Div(price, style={'color': 'red'})\n",
    "    else:\n",
    "        return html.Div('+ '+price, style={'color': '#2A4B7C'})   \n",
    "   "
   ]
  },
  {
   "cell_type": "code",
   "execution_count": 53,
   "metadata": {
    "ExecuteTime": {
     "end_time": "2019-09-28T05:43:55.046513Z",
     "start_time": "2019-09-28T05:43:55.036576Z"
    }
   },
   "outputs": [],
   "source": [
    "@app.callback(Output('percentchange', 'children'),[Input('my-dropdown', 'value')])\n",
    "def update_percentchange_children(selected_dropdown_value):   \n",
    "    \n",
    "    data = yf.Ticker(selected_dropdown_value)    \n",
    "    df = data.history(period=periods) \n",
    "    close = list(df.Close)\n",
    "    x = np.array(close)\n",
    "    start_price = x[0]\n",
    "    current_price = x[-1]\n",
    "    price_change = current_price - start_price\n",
    "    percent_change = (price_change / start_price)\n",
    "    percent = num_format(percent_change*100)\n",
    "    percent = (percent  + ' %)'   )   \n",
    "    if percent_change < 0 :\n",
    "        return html.Div('( '+percent, style={'color': 'red'})\n",
    "    else:\n",
    "        return html.Div('(+ '+percent, style={'color': '#2A4B7C'})"
   ]
  },
  {
   "cell_type": "code",
   "execution_count": 54,
   "metadata": {
    "ExecuteTime": {
     "end_time": "2019-09-28T05:44:27.617278Z",
     "start_time": "2019-09-28T05:43:55.737333Z"
    }
   },
   "outputs": [
    {
     "name": "stdout",
     "output_type": "stream",
     "text": [
      " * Serving Flask app \"__main__\" (lazy loading)\n",
      " * Environment: production\n",
      "   WARNING: Do not use the development server in a production environment.\n",
      "   Use a production WSGI server instead.\n",
      " * Debug mode: off\n"
     ]
    },
    {
     "name": "stderr",
     "output_type": "stream",
     "text": [
      " * Running on http://127.0.0.1:8050/ (Press CTRL+C to quit)\n",
      "127.0.0.1 - - [28/Sep/2019 12:43:58] \"\u001b[37mGET / HTTP/1.1\u001b[0m\" 200 -\n",
      "127.0.0.1 - - [28/Sep/2019 12:43:58] \"\u001b[37mGET /_dash-component-suites/dash_renderer/react@16.8.6.min.js?v=1.0.0&m=1565712429 HTTP/1.1\u001b[0m\" 200 -\n",
      "127.0.0.1 - - [28/Sep/2019 12:43:58] \"\u001b[37mGET /_dash-component-suites/dash_renderer/prop-types@15.7.2.min.js?v=1.0.0&m=1565712429 HTTP/1.1\u001b[0m\" 200 -\n",
      "127.0.0.1 - - [28/Sep/2019 12:43:58] \"\u001b[37mGET /_dash-component-suites/dash_renderer/react-dom@16.8.6.min.js?v=1.0.0&m=1565712429 HTTP/1.1\u001b[0m\" 200 -\n",
      "127.0.0.1 - - [28/Sep/2019 12:43:58] \"\u001b[37mGET /_dash-component-suites/dash_core_components/highlight.pack.js?v=1.1.1&m=1565712428 HTTP/1.1\u001b[0m\" 200 -\n",
      "127.0.0.1 - - [28/Sep/2019 12:43:58] \"\u001b[37mGET /_dash-component-suites/dash_bootstrap_components/_components/dash_bootstrap_components.min.js?v=0.7.0&m=1565712428 HTTP/1.1\u001b[0m\" 200 -\n",
      "127.0.0.1 - - [28/Sep/2019 12:43:58] \"\u001b[37mGET /_dash-component-suites/dash_html_components/dash_html_components.min.js?v=1.0.0&m=1565712429 HTTP/1.1\u001b[0m\" 200 -\n",
      "127.0.0.1 - - [28/Sep/2019 12:43:58] \"\u001b[37mGET /_dash-component-suites/dash_core_components/dash_core_components.min.js?v=1.1.1&m=1565712428 HTTP/1.1\u001b[0m\" 200 -\n",
      "127.0.0.1 - - [28/Sep/2019 12:43:58] \"\u001b[37mGET /_dash-component-suites/dash_renderer/dash_renderer.min.js?v=1.0.0&m=1565712429 HTTP/1.1\u001b[0m\" 200 -\n",
      "127.0.0.1 - - [28/Sep/2019 12:43:58] \"\u001b[37mGET /_dash-component-suites/dash_core_components/plotly-1.49.1.min.js?v=1.1.1&m=1565712428 HTTP/1.1\u001b[0m\" 200 -\n",
      "127.0.0.1 - - [28/Sep/2019 12:43:59] \"\u001b[37mGET /_dash-layout HTTP/1.1\u001b[0m\" 200 -\n",
      "127.0.0.1 - - [28/Sep/2019 12:43:59] \"\u001b[37mGET /_dash-dependencies HTTP/1.1\u001b[0m\" 200 -\n",
      "127.0.0.1 - - [28/Sep/2019 12:44:00] \"\u001b[37mPOST /_dash-update-component HTTP/1.1\u001b[0m\" 200 -\n",
      "127.0.0.1 - - [28/Sep/2019 12:44:00] \"\u001b[37mPOST /_dash-update-component HTTP/1.1\u001b[0m\" 200 -\n",
      "127.0.0.1 - - [28/Sep/2019 12:44:00] \"\u001b[37mPOST /_dash-update-component HTTP/1.1\u001b[0m\" 200 -\n",
      "127.0.0.1 - - [28/Sep/2019 12:44:00] \"\u001b[37mPOST /_dash-update-component HTTP/1.1\u001b[0m\" 200 -\n",
      "[2019-09-28 12:44:00,128] ERROR in app: Exception on /_dash-update-component [POST]\n",
      "Traceback (most recent call last):\n",
      "  File \"c:\\users\\user\\appdata\\local\\programs\\python\\python37-32\\lib\\site-packages\\flask\\app.py\", line 2292, in wsgi_app\n",
      "    response = self.full_dispatch_request()\n",
      "  File \"c:\\users\\user\\appdata\\local\\programs\\python\\python37-32\\lib\\site-packages\\flask\\app.py\", line 1815, in full_dispatch_request\n",
      "    rv = self.handle_user_exception(e)\n",
      "  File \"c:\\users\\user\\appdata\\local\\programs\\python\\python37-32\\lib\\site-packages\\flask\\app.py\", line 1718, in handle_user_exception\n",
      "    reraise(exc_type, exc_value, tb)\n",
      "  File \"c:\\users\\user\\appdata\\local\\programs\\python\\python37-32\\lib\\site-packages\\flask\\_compat.py\", line 35, in reraise\n",
      "    raise value\n",
      "  File \"c:\\users\\user\\appdata\\local\\programs\\python\\python37-32\\lib\\site-packages\\flask\\app.py\", line 1813, in full_dispatch_request\n",
      "    rv = self.dispatch_request()\n",
      "  File \"c:\\users\\user\\appdata\\local\\programs\\python\\python37-32\\lib\\site-packages\\flask\\app.py\", line 1799, in dispatch_request\n",
      "    return self.view_functions[rule.endpoint](**req.view_args)\n",
      "  File \"c:\\users\\user\\appdata\\local\\programs\\python\\python37-32\\lib\\site-packages\\dash\\dash.py\", line 1287, in dispatch\n",
      "    response.set_data(self.callback_map[output]['callback'](*args))\n",
      "  File \"c:\\users\\user\\appdata\\local\\programs\\python\\python37-32\\lib\\site-packages\\dash\\dash.py\", line 1171, in add_context\n",
      "    output_value = func(*args, **kwargs)\n",
      "  File \"<ipython-input-45-c13c5d63fa9e>\", line 15, in on_button_click\n",
      "    if button_id == \"1M\":\n",
      "NameError: name 'button_id' is not defined\n",
      "127.0.0.1 - - [28/Sep/2019 12:44:00] \"\u001b[37mPOST /_dash-update-component HTTP/1.1\u001b[0m\" 200 -\n",
      "127.0.0.1 - - [28/Sep/2019 12:44:00] \"\u001b[1m\u001b[35mPOST /_dash-update-component HTTP/1.1\u001b[0m\" 500 -\n",
      "127.0.0.1 - - [28/Sep/2019 12:44:00] \"\u001b[37mPOST /_dash-update-component HTTP/1.1\u001b[0m\" 200 -\n",
      "127.0.0.1 - - [28/Sep/2019 12:44:00] \"\u001b[37mPOST /_dash-update-component HTTP/1.1\u001b[0m\" 200 -\n",
      "[2019-09-28 12:44:07,965] ERROR in app: Exception on /_dash-update-component [POST]\n",
      "Traceback (most recent call last):\n",
      "  File \"c:\\users\\user\\appdata\\local\\programs\\python\\python37-32\\lib\\site-packages\\flask\\app.py\", line 2292, in wsgi_app\n",
      "    response = self.full_dispatch_request()\n",
      "  File \"c:\\users\\user\\appdata\\local\\programs\\python\\python37-32\\lib\\site-packages\\flask\\app.py\", line 1815, in full_dispatch_request\n",
      "    rv = self.handle_user_exception(e)\n",
      "  File \"c:\\users\\user\\appdata\\local\\programs\\python\\python37-32\\lib\\site-packages\\flask\\app.py\", line 1718, in handle_user_exception\n",
      "    reraise(exc_type, exc_value, tb)\n",
      "  File \"c:\\users\\user\\appdata\\local\\programs\\python\\python37-32\\lib\\site-packages\\flask\\_compat.py\", line 35, in reraise\n",
      "    raise value\n",
      "  File \"c:\\users\\user\\appdata\\local\\programs\\python\\python37-32\\lib\\site-packages\\flask\\app.py\", line 1813, in full_dispatch_request\n",
      "    rv = self.dispatch_request()\n",
      "  File \"c:\\users\\user\\appdata\\local\\programs\\python\\python37-32\\lib\\site-packages\\flask\\app.py\", line 1799, in dispatch_request\n",
      "    return self.view_functions[rule.endpoint](**req.view_args)\n",
      "  File \"c:\\users\\user\\appdata\\local\\programs\\python\\python37-32\\lib\\site-packages\\dash\\dash.py\", line 1287, in dispatch\n",
      "    response.set_data(self.callback_map[output]['callback'](*args))\n",
      "  File \"c:\\users\\user\\appdata\\local\\programs\\python\\python37-32\\lib\\site-packages\\dash\\dash.py\", line 1171, in add_context\n",
      "    output_value = func(*args, **kwargs)\n",
      "  File \"<ipython-input-45-c13c5d63fa9e>\", line 15, in on_button_click\n",
      "    if button_id == \"1M\":\n",
      "NameError: name 'button_id' is not defined\n",
      "127.0.0.1 - - [28/Sep/2019 12:44:07] \"\u001b[1m\u001b[35mPOST /_dash-update-component HTTP/1.1\u001b[0m\" 500 -\n",
      "[2019-09-28 12:44:08,774] ERROR in app: Exception on /_dash-update-component [POST]\n",
      "Traceback (most recent call last):\n",
      "  File \"c:\\users\\user\\appdata\\local\\programs\\python\\python37-32\\lib\\site-packages\\flask\\app.py\", line 2292, in wsgi_app\n",
      "    response = self.full_dispatch_request()\n",
      "  File \"c:\\users\\user\\appdata\\local\\programs\\python\\python37-32\\lib\\site-packages\\flask\\app.py\", line 1815, in full_dispatch_request\n",
      "    rv = self.handle_user_exception(e)\n",
      "  File \"c:\\users\\user\\appdata\\local\\programs\\python\\python37-32\\lib\\site-packages\\flask\\app.py\", line 1718, in handle_user_exception\n",
      "    reraise(exc_type, exc_value, tb)\n",
      "  File \"c:\\users\\user\\appdata\\local\\programs\\python\\python37-32\\lib\\site-packages\\flask\\_compat.py\", line 35, in reraise\n",
      "    raise value\n",
      "  File \"c:\\users\\user\\appdata\\local\\programs\\python\\python37-32\\lib\\site-packages\\flask\\app.py\", line 1813, in full_dispatch_request\n",
      "    rv = self.dispatch_request()\n",
      "  File \"c:\\users\\user\\appdata\\local\\programs\\python\\python37-32\\lib\\site-packages\\flask\\app.py\", line 1799, in dispatch_request\n",
      "    return self.view_functions[rule.endpoint](**req.view_args)\n",
      "  File \"c:\\users\\user\\appdata\\local\\programs\\python\\python37-32\\lib\\site-packages\\dash\\dash.py\", line 1287, in dispatch\n",
      "    response.set_data(self.callback_map[output]['callback'](*args))\n",
      "  File \"c:\\users\\user\\appdata\\local\\programs\\python\\python37-32\\lib\\site-packages\\dash\\dash.py\", line 1171, in add_context\n",
      "    output_value = func(*args, **kwargs)\n",
      "  File \"<ipython-input-45-c13c5d63fa9e>\", line 15, in on_button_click\n",
      "    if button_id == \"1M\":\n",
      "NameError: name 'button_id' is not defined\n",
      "127.0.0.1 - - [28/Sep/2019 12:44:08] \"\u001b[1m\u001b[35mPOST /_dash-update-component HTTP/1.1\u001b[0m\" 500 -\n",
      "[2019-09-28 12:44:09,622] ERROR in app: Exception on /_dash-update-component [POST]\n",
      "Traceback (most recent call last):\n",
      "  File \"c:\\users\\user\\appdata\\local\\programs\\python\\python37-32\\lib\\site-packages\\flask\\app.py\", line 2292, in wsgi_app\n",
      "    response = self.full_dispatch_request()\n",
      "  File \"c:\\users\\user\\appdata\\local\\programs\\python\\python37-32\\lib\\site-packages\\flask\\app.py\", line 1815, in full_dispatch_request\n",
      "    rv = self.handle_user_exception(e)\n",
      "  File \"c:\\users\\user\\appdata\\local\\programs\\python\\python37-32\\lib\\site-packages\\flask\\app.py\", line 1718, in handle_user_exception\n",
      "    reraise(exc_type, exc_value, tb)\n",
      "  File \"c:\\users\\user\\appdata\\local\\programs\\python\\python37-32\\lib\\site-packages\\flask\\_compat.py\", line 35, in reraise\n",
      "    raise value\n",
      "  File \"c:\\users\\user\\appdata\\local\\programs\\python\\python37-32\\lib\\site-packages\\flask\\app.py\", line 1813, in full_dispatch_request\n",
      "    rv = self.dispatch_request()\n",
      "  File \"c:\\users\\user\\appdata\\local\\programs\\python\\python37-32\\lib\\site-packages\\flask\\app.py\", line 1799, in dispatch_request\n",
      "    return self.view_functions[rule.endpoint](**req.view_args)\n",
      "  File \"c:\\users\\user\\appdata\\local\\programs\\python\\python37-32\\lib\\site-packages\\dash\\dash.py\", line 1287, in dispatch\n",
      "    response.set_data(self.callback_map[output]['callback'](*args))\n",
      "  File \"c:\\users\\user\\appdata\\local\\programs\\python\\python37-32\\lib\\site-packages\\dash\\dash.py\", line 1171, in add_context\n",
      "    output_value = func(*args, **kwargs)\n",
      "  File \"<ipython-input-45-c13c5d63fa9e>\", line 15, in on_button_click\n",
      "    if button_id == \"1M\":\n",
      "NameError: name 'button_id' is not defined\n"
     ]
    },
    {
     "name": "stderr",
     "output_type": "stream",
     "text": [
      "127.0.0.1 - - [28/Sep/2019 12:44:09] \"\u001b[1m\u001b[35mPOST /_dash-update-component HTTP/1.1\u001b[0m\" 500 -\n",
      "[2019-09-28 12:44:10,979] ERROR in app: Exception on /_dash-update-component [POST]\n",
      "Traceback (most recent call last):\n",
      "  File \"c:\\users\\user\\appdata\\local\\programs\\python\\python37-32\\lib\\site-packages\\flask\\app.py\", line 2292, in wsgi_app\n",
      "    response = self.full_dispatch_request()\n",
      "  File \"c:\\users\\user\\appdata\\local\\programs\\python\\python37-32\\lib\\site-packages\\flask\\app.py\", line 1815, in full_dispatch_request\n",
      "    rv = self.handle_user_exception(e)\n",
      "  File \"c:\\users\\user\\appdata\\local\\programs\\python\\python37-32\\lib\\site-packages\\flask\\app.py\", line 1718, in handle_user_exception\n",
      "    reraise(exc_type, exc_value, tb)\n",
      "  File \"c:\\users\\user\\appdata\\local\\programs\\python\\python37-32\\lib\\site-packages\\flask\\_compat.py\", line 35, in reraise\n",
      "    raise value\n",
      "  File \"c:\\users\\user\\appdata\\local\\programs\\python\\python37-32\\lib\\site-packages\\flask\\app.py\", line 1813, in full_dispatch_request\n",
      "    rv = self.dispatch_request()\n",
      "  File \"c:\\users\\user\\appdata\\local\\programs\\python\\python37-32\\lib\\site-packages\\flask\\app.py\", line 1799, in dispatch_request\n",
      "    return self.view_functions[rule.endpoint](**req.view_args)\n",
      "  File \"c:\\users\\user\\appdata\\local\\programs\\python\\python37-32\\lib\\site-packages\\dash\\dash.py\", line 1287, in dispatch\n",
      "    response.set_data(self.callback_map[output]['callback'](*args))\n",
      "  File \"c:\\users\\user\\appdata\\local\\programs\\python\\python37-32\\lib\\site-packages\\dash\\dash.py\", line 1171, in add_context\n",
      "    output_value = func(*args, **kwargs)\n",
      "  File \"<ipython-input-45-c13c5d63fa9e>\", line 15, in on_button_click\n",
      "    if button_id == \"1M\":\n",
      "NameError: name 'button_id' is not defined\n",
      "127.0.0.1 - - [28/Sep/2019 12:44:10] \"\u001b[1m\u001b[35mPOST /_dash-update-component HTTP/1.1\u001b[0m\" 500 -\n",
      "[2019-09-28 12:44:11,404] ERROR in app: Exception on /_dash-update-component [POST]\n",
      "Traceback (most recent call last):\n",
      "  File \"c:\\users\\user\\appdata\\local\\programs\\python\\python37-32\\lib\\site-packages\\flask\\app.py\", line 2292, in wsgi_app\n",
      "    response = self.full_dispatch_request()\n",
      "  File \"c:\\users\\user\\appdata\\local\\programs\\python\\python37-32\\lib\\site-packages\\flask\\app.py\", line 1815, in full_dispatch_request\n",
      "    rv = self.handle_user_exception(e)\n",
      "  File \"c:\\users\\user\\appdata\\local\\programs\\python\\python37-32\\lib\\site-packages\\flask\\app.py\", line 1718, in handle_user_exception\n",
      "    reraise(exc_type, exc_value, tb)\n",
      "  File \"c:\\users\\user\\appdata\\local\\programs\\python\\python37-32\\lib\\site-packages\\flask\\_compat.py\", line 35, in reraise\n",
      "    raise value\n",
      "  File \"c:\\users\\user\\appdata\\local\\programs\\python\\python37-32\\lib\\site-packages\\flask\\app.py\", line 1813, in full_dispatch_request\n",
      "    rv = self.dispatch_request()\n",
      "  File \"c:\\users\\user\\appdata\\local\\programs\\python\\python37-32\\lib\\site-packages\\flask\\app.py\", line 1799, in dispatch_request\n",
      "    return self.view_functions[rule.endpoint](**req.view_args)\n",
      "  File \"c:\\users\\user\\appdata\\local\\programs\\python\\python37-32\\lib\\site-packages\\dash\\dash.py\", line 1287, in dispatch\n",
      "    response.set_data(self.callback_map[output]['callback'](*args))\n",
      "  File \"c:\\users\\user\\appdata\\local\\programs\\python\\python37-32\\lib\\site-packages\\dash\\dash.py\", line 1171, in add_context\n",
      "    output_value = func(*args, **kwargs)\n",
      "  File \"<ipython-input-45-c13c5d63fa9e>\", line 15, in on_button_click\n",
      "    if button_id == \"1M\":\n",
      "NameError: name 'button_id' is not defined\n",
      "127.0.0.1 - - [28/Sep/2019 12:44:11] \"\u001b[1m\u001b[35mPOST /_dash-update-component HTTP/1.1\u001b[0m\" 500 -\n",
      "[2019-09-28 12:44:11,821] ERROR in app: Exception on /_dash-update-component [POST]\n",
      "Traceback (most recent call last):\n",
      "  File \"c:\\users\\user\\appdata\\local\\programs\\python\\python37-32\\lib\\site-packages\\flask\\app.py\", line 2292, in wsgi_app\n",
      "    response = self.full_dispatch_request()\n",
      "  File \"c:\\users\\user\\appdata\\local\\programs\\python\\python37-32\\lib\\site-packages\\flask\\app.py\", line 1815, in full_dispatch_request\n",
      "    rv = self.handle_user_exception(e)\n",
      "  File \"c:\\users\\user\\appdata\\local\\programs\\python\\python37-32\\lib\\site-packages\\flask\\app.py\", line 1718, in handle_user_exception\n",
      "    reraise(exc_type, exc_value, tb)\n",
      "  File \"c:\\users\\user\\appdata\\local\\programs\\python\\python37-32\\lib\\site-packages\\flask\\_compat.py\", line 35, in reraise\n",
      "    raise value\n",
      "  File \"c:\\users\\user\\appdata\\local\\programs\\python\\python37-32\\lib\\site-packages\\flask\\app.py\", line 1813, in full_dispatch_request\n",
      "    rv = self.dispatch_request()\n",
      "  File \"c:\\users\\user\\appdata\\local\\programs\\python\\python37-32\\lib\\site-packages\\flask\\app.py\", line 1799, in dispatch_request\n",
      "    return self.view_functions[rule.endpoint](**req.view_args)\n",
      "  File \"c:\\users\\user\\appdata\\local\\programs\\python\\python37-32\\lib\\site-packages\\dash\\dash.py\", line 1287, in dispatch\n",
      "    response.set_data(self.callback_map[output]['callback'](*args))\n",
      "  File \"c:\\users\\user\\appdata\\local\\programs\\python\\python37-32\\lib\\site-packages\\dash\\dash.py\", line 1171, in add_context\n",
      "    output_value = func(*args, **kwargs)\n",
      "  File \"<ipython-input-45-c13c5d63fa9e>\", line 15, in on_button_click\n",
      "    if button_id == \"1M\":\n",
      "NameError: name 'button_id' is not defined\n",
      "127.0.0.1 - - [28/Sep/2019 12:44:11] \"\u001b[1m\u001b[35mPOST /_dash-update-component HTTP/1.1\u001b[0m\" 500 -\n",
      "[2019-09-28 12:44:17,366] ERROR in app: Exception on /_dash-update-component [POST]\n",
      "Traceback (most recent call last):\n",
      "  File \"c:\\users\\user\\appdata\\local\\programs\\python\\python37-32\\lib\\site-packages\\flask\\app.py\", line 2292, in wsgi_app\n",
      "    response = self.full_dispatch_request()\n",
      "  File \"c:\\users\\user\\appdata\\local\\programs\\python\\python37-32\\lib\\site-packages\\flask\\app.py\", line 1815, in full_dispatch_request\n",
      "    rv = self.handle_user_exception(e)\n",
      "  File \"c:\\users\\user\\appdata\\local\\programs\\python\\python37-32\\lib\\site-packages\\flask\\app.py\", line 1718, in handle_user_exception\n",
      "    reraise(exc_type, exc_value, tb)\n",
      "  File \"c:\\users\\user\\appdata\\local\\programs\\python\\python37-32\\lib\\site-packages\\flask\\_compat.py\", line 35, in reraise\n",
      "    raise value\n",
      "  File \"c:\\users\\user\\appdata\\local\\programs\\python\\python37-32\\lib\\site-packages\\flask\\app.py\", line 1813, in full_dispatch_request\n",
      "    rv = self.dispatch_request()\n",
      "  File \"c:\\users\\user\\appdata\\local\\programs\\python\\python37-32\\lib\\site-packages\\flask\\app.py\", line 1799, in dispatch_request\n",
      "    return self.view_functions[rule.endpoint](**req.view_args)\n",
      "  File \"c:\\users\\user\\appdata\\local\\programs\\python\\python37-32\\lib\\site-packages\\dash\\dash.py\", line 1287, in dispatch\n",
      "    response.set_data(self.callback_map[output]['callback'](*args))\n",
      "  File \"c:\\users\\user\\appdata\\local\\programs\\python\\python37-32\\lib\\site-packages\\dash\\dash.py\", line 1171, in add_context\n",
      "    output_value = func(*args, **kwargs)\n",
      "  File \"<ipython-input-45-c13c5d63fa9e>\", line 15, in on_button_click\n",
      "    if button_id == \"1M\":\n",
      "NameError: name 'button_id' is not defined\n",
      "127.0.0.1 - - [28/Sep/2019 12:44:17] \"\u001b[1m\u001b[35mPOST /_dash-update-component HTTP/1.1\u001b[0m\" 500 -\n",
      "[2019-09-28 12:44:17,923] ERROR in app: Exception on /_dash-update-component [POST]\n",
      "Traceback (most recent call last):\n",
      "  File \"c:\\users\\user\\appdata\\local\\programs\\python\\python37-32\\lib\\site-packages\\flask\\app.py\", line 2292, in wsgi_app\n",
      "    response = self.full_dispatch_request()\n",
      "  File \"c:\\users\\user\\appdata\\local\\programs\\python\\python37-32\\lib\\site-packages\\flask\\app.py\", line 1815, in full_dispatch_request\n",
      "    rv = self.handle_user_exception(e)\n",
      "  File \"c:\\users\\user\\appdata\\local\\programs\\python\\python37-32\\lib\\site-packages\\flask\\app.py\", line 1718, in handle_user_exception\n",
      "    reraise(exc_type, exc_value, tb)\n",
      "  File \"c:\\users\\user\\appdata\\local\\programs\\python\\python37-32\\lib\\site-packages\\flask\\_compat.py\", line 35, in reraise\n",
      "    raise value\n",
      "  File \"c:\\users\\user\\appdata\\local\\programs\\python\\python37-32\\lib\\site-packages\\flask\\app.py\", line 1813, in full_dispatch_request\n",
      "    rv = self.dispatch_request()\n",
      "  File \"c:\\users\\user\\appdata\\local\\programs\\python\\python37-32\\lib\\site-packages\\flask\\app.py\", line 1799, in dispatch_request\n",
      "    return self.view_functions[rule.endpoint](**req.view_args)\n",
      "  File \"c:\\users\\user\\appdata\\local\\programs\\python\\python37-32\\lib\\site-packages\\dash\\dash.py\", line 1287, in dispatch\n",
      "    response.set_data(self.callback_map[output]['callback'](*args))\n",
      "  File \"c:\\users\\user\\appdata\\local\\programs\\python\\python37-32\\lib\\site-packages\\dash\\dash.py\", line 1171, in add_context\n",
      "    output_value = func(*args, **kwargs)\n",
      "  File \"<ipython-input-45-c13c5d63fa9e>\", line 15, in on_button_click\n",
      "    if button_id == \"1M\":\n",
      "NameError: name 'button_id' is not defined\n"
     ]
    },
    {
     "name": "stderr",
     "output_type": "stream",
     "text": [
      "127.0.0.1 - - [28/Sep/2019 12:44:17] \"\u001b[1m\u001b[35mPOST /_dash-update-component HTTP/1.1\u001b[0m\" 500 -\n",
      "[2019-09-28 12:44:18,609] ERROR in app: Exception on /_dash-update-component [POST]\n",
      "Traceback (most recent call last):\n",
      "  File \"c:\\users\\user\\appdata\\local\\programs\\python\\python37-32\\lib\\site-packages\\flask\\app.py\", line 2292, in wsgi_app\n",
      "    response = self.full_dispatch_request()\n",
      "  File \"c:\\users\\user\\appdata\\local\\programs\\python\\python37-32\\lib\\site-packages\\flask\\app.py\", line 1815, in full_dispatch_request\n",
      "    rv = self.handle_user_exception(e)\n",
      "  File \"c:\\users\\user\\appdata\\local\\programs\\python\\python37-32\\lib\\site-packages\\flask\\app.py\", line 1718, in handle_user_exception\n",
      "    reraise(exc_type, exc_value, tb)\n",
      "  File \"c:\\users\\user\\appdata\\local\\programs\\python\\python37-32\\lib\\site-packages\\flask\\_compat.py\", line 35, in reraise\n",
      "    raise value\n",
      "  File \"c:\\users\\user\\appdata\\local\\programs\\python\\python37-32\\lib\\site-packages\\flask\\app.py\", line 1813, in full_dispatch_request\n",
      "    rv = self.dispatch_request()\n",
      "  File \"c:\\users\\user\\appdata\\local\\programs\\python\\python37-32\\lib\\site-packages\\flask\\app.py\", line 1799, in dispatch_request\n",
      "    return self.view_functions[rule.endpoint](**req.view_args)\n",
      "  File \"c:\\users\\user\\appdata\\local\\programs\\python\\python37-32\\lib\\site-packages\\dash\\dash.py\", line 1287, in dispatch\n",
      "    response.set_data(self.callback_map[output]['callback'](*args))\n",
      "  File \"c:\\users\\user\\appdata\\local\\programs\\python\\python37-32\\lib\\site-packages\\dash\\dash.py\", line 1171, in add_context\n",
      "    output_value = func(*args, **kwargs)\n",
      "  File \"<ipython-input-45-c13c5d63fa9e>\", line 15, in on_button_click\n",
      "    if button_id == \"1M\":\n",
      "NameError: name 'button_id' is not defined\n",
      "127.0.0.1 - - [28/Sep/2019 12:44:18] \"\u001b[1m\u001b[35mPOST /_dash-update-component HTTP/1.1\u001b[0m\" 500 -\n"
     ]
    }
   ],
   "source": [
    "app.css.append_css({'external_url': 'https://codepen.io/chriddyp/pen/bWLwgP.css'})\n",
    "\n",
    "if __name__ == '__main__':\n",
    "    app.run_server(debug=False)"
   ]
  },
  {
   "cell_type": "markdown",
   "metadata": {},
   "source": [
    "## [Graphs in tabs](https://github.com/facultyai/dash-bootstrap-components/blob/master/examples/advanced-component-usage/graphs_in_tabs.py)\n",
    "\n"
   ]
  },
  {
   "cell_type": "code",
   "execution_count": 2,
   "metadata": {
    "ExecuteTime": {
     "end_time": "2019-09-28T17:49:21.755732Z",
     "start_time": "2019-09-28T17:48:49.701494Z"
    }
   },
   "outputs": [
    {
     "name": "stdout",
     "output_type": "stream",
     "text": [
      " * Serving Flask app \"__main__\" (lazy loading)\n",
      " * Environment: production\n",
      "   WARNING: Do not use the development server in a production environment.\n",
      "   Use a production WSGI server instead.\n",
      " * Debug mode: off\n"
     ]
    },
    {
     "name": "stderr",
     "output_type": "stream",
     "text": [
      " * Running on http://127.0.0.1:8888/ (Press CTRL+C to quit)\n",
      "127.0.0.1 - - [29/Sep/2019 00:48:52] \"\u001b[37mGET / HTTP/1.1\u001b[0m\" 200 -\n",
      "127.0.0.1 - - [29/Sep/2019 00:48:52] \"\u001b[37mGET /_dash-component-suites/dash_renderer/react-dom@16.8.6.min.js?v=1.0.0&m=1565712429 HTTP/1.1\u001b[0m\" 200 -\n",
      "127.0.0.1 - - [29/Sep/2019 00:48:52] \"\u001b[37mGET /_dash-component-suites/dash_renderer/react@16.8.6.min.js?v=1.0.0&m=1565712429 HTTP/1.1\u001b[0m\" 200 -\n",
      "127.0.0.1 - - [29/Sep/2019 00:48:52] \"\u001b[37mGET /_dash-component-suites/dash_renderer/prop-types@15.7.2.min.js?v=1.0.0&m=1565712429 HTTP/1.1\u001b[0m\" 200 -\n",
      "127.0.0.1 - - [29/Sep/2019 00:48:52] \"\u001b[37mGET /_dash-component-suites/dash_bootstrap_components/_components/dash_bootstrap_components.min.js?v=0.7.0&m=1565712428 HTTP/1.1\u001b[0m\" 200 -\n",
      "127.0.0.1 - - [29/Sep/2019 00:48:52] \"\u001b[37mGET /_dash-component-suites/dash_html_components/dash_html_components.min.js?v=1.0.0&m=1565712429 HTTP/1.1\u001b[0m\" 200 -\n",
      "127.0.0.1 - - [29/Sep/2019 00:48:52] \"\u001b[37mGET /_dash-component-suites/dash_core_components/highlight.pack.js?v=1.1.1&m=1565712428 HTTP/1.1\u001b[0m\" 200 -\n",
      "127.0.0.1 - - [29/Sep/2019 00:48:52] \"\u001b[37mGET /_dash-component-suites/dash_renderer/dash_renderer.min.js?v=1.0.0&m=1565712429 HTTP/1.1\u001b[0m\" 200 -\n",
      "127.0.0.1 - - [29/Sep/2019 00:48:52] \"\u001b[37mGET /_dash-component-suites/dash_core_components/dash_core_components.min.js?v=1.1.1&m=1565712428 HTTP/1.1\u001b[0m\" 200 -\n",
      "127.0.0.1 - - [29/Sep/2019 00:48:53] \"\u001b[37mGET /_dash-component-suites/dash_core_components/plotly-1.49.1.min.js?v=1.1.1&m=1565712428 HTTP/1.1\u001b[0m\" 200 -\n",
      "127.0.0.1 - - [29/Sep/2019 00:48:54] \"\u001b[37mGET /_dash-layout HTTP/1.1\u001b[0m\" 200 -\n",
      "127.0.0.1 - - [29/Sep/2019 00:48:54] \"\u001b[37mGET /_dash-dependencies HTTP/1.1\u001b[0m\" 200 -\n",
      "127.0.0.1 - - [29/Sep/2019 00:49:04] \"\u001b[37mPOST /_dash-update-component HTTP/1.1\u001b[0m\" 200 -\n",
      "127.0.0.1 - - [29/Sep/2019 00:49:04] \"\u001b[37mPOST /_dash-update-component HTTP/1.1\u001b[0m\" 200 -\n",
      "127.0.0.1 - - [29/Sep/2019 00:49:04] \"\u001b[37mPOST /_dash-update-component HTTP/1.1\u001b[0m\" 200 -\n",
      "127.0.0.1 - - [29/Sep/2019 00:49:09] \"\u001b[37mPOST /_dash-update-component HTTP/1.1\u001b[0m\" 200 -\n",
      "127.0.0.1 - - [29/Sep/2019 00:49:11] \"\u001b[37mPOST /_dash-update-component HTTP/1.1\u001b[0m\" 200 -\n"
     ]
    }
   ],
   "source": [
    "\"\"\"\n",
    "A simple app demonstrating how to dynamically render tab content containing\n",
    "dcc.Graph components to ensure graphs get sized correctly. We also show how\n",
    "dcc.Store can be used to cache the results of an expensive graph generation\n",
    "process so that switching tabs is fast.\n",
    "\"\"\"\n",
    "import time\n",
    "\n",
    "import dash\n",
    "import dash_bootstrap_components as dbc\n",
    "import dash_core_components as dcc\n",
    "import dash_html_components as html\n",
    "import numpy as np\n",
    "import plotly.graph_objs as go\n",
    "from dash.dependencies import Input, Output\n",
    "\n",
    "app = dash.Dash(external_stylesheets=[dbc.themes.BOOTSTRAP])\n",
    "\n",
    "app.layout = dbc.Container(\n",
    "    [\n",
    "        dcc.Store(id=\"store\"),\n",
    "        html.H1(\"Dynamically rendered tab content\"),\n",
    "        html.Hr(),\n",
    "        dbc.Button(\n",
    "            \"Regenerate graphs\",\n",
    "            color=\"primary\",\n",
    "            block=True,\n",
    "            id=\"button\",\n",
    "            className=\"mb-3\",\n",
    "        ),\n",
    "        dbc.Tabs(\n",
    "            [\n",
    "                dbc.Tab(label=\"Scatter\", tab_id=\"scatter\"),\n",
    "                dbc.Tab(label=\"Histograms\", tab_id=\"histogram\"),\n",
    "            ],\n",
    "            id=\"tabs\",\n",
    "        ),\n",
    "        html.Div(id=\"tab-content\", className=\"p-4\"),\n",
    "    ]\n",
    ")\n",
    "\n",
    "\n",
    "@app.callback(\n",
    "    Output(\"tab-content\", \"children\"),\n",
    "    [Input(\"tabs\", \"active_tab\"), Input(\"store\", \"data\")],\n",
    ")\n",
    "def render_tab_content(active_tab, data):\n",
    "    \"\"\"\n",
    "    This callback takes the 'active_tab' property as input, as well as the\n",
    "    stored graphs, and renders the tab content depending on what the value of\n",
    "    'active_tab' is.\n",
    "    \"\"\"\n",
    "    if active_tab == \"scatter\":\n",
    "        return dcc.Graph(figure=data[\"scatter\"])\n",
    "    elif active_tab == \"histogram\":\n",
    "        return dbc.Row(\n",
    "            [\n",
    "                dbc.Col(dcc.Graph(figure=data[\"hist_1\"]), width=6),\n",
    "                dbc.Col(dcc.Graph(figure=data[\"hist_2\"]), width=6),\n",
    "            ]\n",
    "        )\n",
    "    return data\n",
    "\n",
    "\n",
    "@app.callback(Output(\"store\", \"data\"), [Input(\"button\", \"n_clicks\")])\n",
    "def generate_graphs(n):\n",
    "    \"\"\"\n",
    "    This callback generates three simple graphs from random data.\n",
    "    \"\"\"\n",
    "    if not n:\n",
    "        # generate empty graphs when app loads\n",
    "        return {k: go.Figure(data=[]) for k in [\"scatter\", \"hist_1\", \"hist_2\"]}\n",
    "\n",
    "    # simulate expensive graph generation process\n",
    "    time.sleep(2)\n",
    "\n",
    "    # generate 100 multivariate normal samples\n",
    "    data = np.random.multivariate_normal([0, 0], [[1, 0.5], [0.5, 1]], 100)\n",
    "\n",
    "    scatter = go.Figure(\n",
    "        data=[go.Scatter(x=data[:, 0], y=data[:, 1], mode=\"markers\")]\n",
    "    )\n",
    "    hist_1 = go.Figure(data=[go.Histogram(x=data[:, 0])])\n",
    "    hist_2 = go.Figure(data=[go.Histogram(x=data[:, 1])])\n",
    "\n",
    "    # save figures in a dictionary for sending to the dcc.Store\n",
    "    return {\"scatter\": scatter, \"hist_1\": hist_1, \"hist_2\": hist_2}\n",
    "\n",
    "\n",
    "if __name__ == \"__main__\":\n",
    "    app.run_server(debug=False, port=8888)"
   ]
  },
  {
   "cell_type": "markdown",
   "metadata": {},
   "source": [
    "## [Dash port of Shiny faithful example](https://github.com/facultyai/dash-bootstrap-components/blob/master/examples/gallery/faithful/app.py)\n",
    "\n"
   ]
  },
  {
   "cell_type": "code",
   "execution_count": null,
   "metadata": {
    "ExecuteTime": {
     "start_time": "2019-09-28T06:58:52.434Z"
    }
   },
   "outputs": [
    {
     "name": "stdout",
     "output_type": "stream",
     "text": [
      " * Serving Flask app \"__main__\" (lazy loading)\n",
      " * Environment: production\n",
      "   WARNING: Do not use the development server in a production environment.\n",
      "   Use a production WSGI server instead.\n",
      " * Debug mode: off\n"
     ]
    },
    {
     "name": "stderr",
     "output_type": "stream",
     "text": [
      " * Running on http://127.0.0.1:8888/ (Press CTRL+C to quit)\n",
      "127.0.0.1 - - [28/Sep/2019 13:59:34] \"\u001b[37mGET / HTTP/1.1\u001b[0m\" 200 -\n",
      "127.0.0.1 - - [28/Sep/2019 13:59:35] \"\u001b[37mGET /_dash-component-suites/dash_renderer/react@16.8.6.min.js?v=1.0.0&m=1565712429 HTTP/1.1\u001b[0m\" 200 -\n",
      "127.0.0.1 - - [28/Sep/2019 13:59:35] \"\u001b[37mGET /_dash-component-suites/dash_html_components/dash_html_components.min.js?v=1.0.0&m=1565712429 HTTP/1.1\u001b[0m\" 200 -\n",
      "127.0.0.1 - - [28/Sep/2019 13:59:35] \"\u001b[37mGET /_dash-component-suites/dash_renderer/prop-types@15.7.2.min.js?v=1.0.0&m=1565712429 HTTP/1.1\u001b[0m\" 200 -\n",
      "127.0.0.1 - - [28/Sep/2019 13:59:35] \"\u001b[37mGET /_dash-component-suites/dash_bootstrap_components/_components/dash_bootstrap_components.min.js?v=0.7.0&m=1565712428 HTTP/1.1\u001b[0m\" 200 -\n",
      "127.0.0.1 - - [28/Sep/2019 13:59:35] \"\u001b[37mGET /_dash-component-suites/dash_renderer/react-dom@16.8.6.min.js?v=1.0.0&m=1565712429 HTTP/1.1\u001b[0m\" 200 -\n",
      "127.0.0.1 - - [28/Sep/2019 13:59:35] \"\u001b[37mGET /_dash-component-suites/dash_core_components/highlight.pack.js?v=1.1.1&m=1565712428 HTTP/1.1\u001b[0m\" 200 -\n",
      "127.0.0.1 - - [28/Sep/2019 13:59:35] \"\u001b[37mGET /_dash-component-suites/dash_renderer/dash_renderer.min.js?v=1.0.0&m=1565712429 HTTP/1.1\u001b[0m\" 200 -\n",
      "127.0.0.1 - - [28/Sep/2019 13:59:35] \"\u001b[37mGET /_dash-component-suites/dash_core_components/dash_core_components.min.js?v=1.1.1&m=1565712428 HTTP/1.1\u001b[0m\" 200 -\n",
      "127.0.0.1 - - [28/Sep/2019 13:59:35] \"\u001b[37mGET /_dash-component-suites/dash_core_components/plotly-1.49.1.min.js?v=1.1.1&m=1565712428 HTTP/1.1\u001b[0m\" 200 -\n",
      "127.0.0.1 - - [28/Sep/2019 13:59:36] \"\u001b[37mGET /_dash-layout HTTP/1.1\u001b[0m\" 200 -\n",
      "127.0.0.1 - - [28/Sep/2019 13:59:36] \"\u001b[37mGET /_dash-dependencies HTTP/1.1\u001b[0m\" 200 -\n",
      "127.0.0.1 - - [28/Sep/2019 13:59:37] \"\u001b[37mPOST /_dash-update-component HTTP/1.1\u001b[0m\" 200 -\n",
      "127.0.0.1 - - [28/Sep/2019 13:59:41] \"\u001b[37mPOST /_dash-update-component HTTP/1.1\u001b[0m\" 200 -\n",
      "[2019-09-28 13:59:44,605] ERROR in app: Exception on /_dash-update-component [POST]\n",
      "Traceback (most recent call last):\n",
      "  File \"c:\\users\\user\\appdata\\local\\programs\\python\\python37-32\\lib\\site-packages\\flask\\app.py\", line 2292, in wsgi_app\n",
      "    response = self.full_dispatch_request()\n",
      "  File \"c:\\users\\user\\appdata\\local\\programs\\python\\python37-32\\lib\\site-packages\\flask\\app.py\", line 1815, in full_dispatch_request\n",
      "    rv = self.handle_user_exception(e)\n",
      "  File \"c:\\users\\user\\appdata\\local\\programs\\python\\python37-32\\lib\\site-packages\\flask\\app.py\", line 1718, in handle_user_exception\n",
      "    reraise(exc_type, exc_value, tb)\n",
      "  File \"c:\\users\\user\\appdata\\local\\programs\\python\\python37-32\\lib\\site-packages\\flask\\_compat.py\", line 35, in reraise\n",
      "    raise value\n",
      "  File \"c:\\users\\user\\appdata\\local\\programs\\python\\python37-32\\lib\\site-packages\\flask\\app.py\", line 1813, in full_dispatch_request\n",
      "    rv = self.dispatch_request()\n",
      "  File \"c:\\users\\user\\appdata\\local\\programs\\python\\python37-32\\lib\\site-packages\\flask\\app.py\", line 1799, in dispatch_request\n",
      "    return self.view_functions[rule.endpoint](**req.view_args)\n",
      "  File \"c:\\users\\user\\appdata\\local\\programs\\python\\python37-32\\lib\\site-packages\\dash\\dash.py\", line 1287, in dispatch\n",
      "    response.set_data(self.callback_map[output]['callback'](*args))\n",
      "  File \"c:\\users\\user\\appdata\\local\\programs\\python\\python37-32\\lib\\site-packages\\dash\\dash.py\", line 1171, in add_context\n",
      "    output_value = func(*args, **kwargs)\n",
      "  File \"<ipython-input-1-946164bb2f40>\", line 68, in make_graph\n",
      "    bin_size = (DATA.eruptions.max() - DATA.eruptions.min()) / dropdown_value\n",
      "TypeError: unsupported operand type(s) for /: 'float' and 'NoneType'\n",
      "127.0.0.1 - - [28/Sep/2019 13:59:44] \"\u001b[1m\u001b[35mPOST /_dash-update-component HTTP/1.1\u001b[0m\" 500 -\n",
      "127.0.0.1 - - [28/Sep/2019 13:59:46] \"\u001b[37mPOST /_dash-update-component HTTP/1.1\u001b[0m\" 200 -\n",
      "127.0.0.1 - - [28/Sep/2019 13:59:49] \"\u001b[37mPOST /_dash-update-component HTTP/1.1\u001b[0m\" 200 -\n",
      "127.0.0.1 - - [28/Sep/2019 13:59:52] \"\u001b[37mPOST /_dash-update-component HTTP/1.1\u001b[0m\" 200 -\n",
      "127.0.0.1 - - [28/Sep/2019 14:01:30] \"\u001b[37mPOST /_dash-update-component HTTP/1.1\u001b[0m\" 200 -\n"
     ]
    }
   ],
   "source": [
    "\"\"\"\n",
    "Dash port of Shiny faithful example:\n",
    "https://shiny.rstudio.com/gallery/faithful.html\n",
    "Note: the shiny version includes a slider for adjusting the bandwidth of the\n",
    "density approximation curve, which is not easily adjusted when using\n",
    "plotly.figure_factory.create_distplot, so it doesn't feature in this example.\n",
    "\"\"\"\n",
    "import dash\n",
    "import dash_bootstrap_components as dbc\n",
    "import dash_core_components as dcc\n",
    "import dash_html_components as html\n",
    "import pandas as pd\n",
    "import plotly.figure_factory as ff\n",
    "from dash.dependencies import Input, Output\n",
    "\n",
    "DATA = pd.read_csv(\"https://cdn.opensource.faculty.ai/old-faithful/data.csv\")\n",
    "\n",
    "app = dash.Dash(external_stylesheets=[dbc.themes.BOOTSTRAP])\n",
    "\n",
    "dropdown = dbc.FormGroup(\n",
    "    [\n",
    "        dbc.Label(\"Number of bins in histogram (approximate):\"),\n",
    "        dcc.Dropdown(\n",
    "            id=\"dropdown\",\n",
    "            options=[{\"label\": n, \"value\": n} for n in [10, 20, 35, 50]],\n",
    "            value=20,\n",
    "        ),\n",
    "    ]\n",
    ")\n",
    "\n",
    "checklist = dbc.FormGroup(\n",
    "    [\n",
    "        dbc.Label(\"Extras:\"),\n",
    "        dbc.Checklist(\n",
    "            id=\"checklist\",\n",
    "            options=[\n",
    "                {\"label\": \"Show individual observations\", \"value\": \"show_ind\"},\n",
    "                {\"label\": \"Show density estimate\", \"value\": \"show_dens\"},\n",
    "            ],\n",
    "            value=[],\n",
    "            inline=True,\n",
    "        ),\n",
    "    ]\n",
    ")\n",
    "\n",
    "\n",
    "app.layout = dbc.Container(\n",
    "    [\n",
    "        html.H1(\"Old Faithful eruption data\"),\n",
    "        html.Hr(),\n",
    "        dbc.Row(\n",
    "            [\n",
    "                dbc.Col(dropdown),\n",
    "                dbc.Col(checklist, width=\"auto\", align=\"center\"),\n",
    "            ]\n",
    "        ),\n",
    "        html.Br(),\n",
    "        dcc.Graph(id=\"graph\"),\n",
    "    ]\n",
    ")\n",
    "\n",
    "\n",
    "@app.callback(\n",
    "    Output(\"graph\", \"figure\"),\n",
    "    [Input(\"dropdown\", \"value\"), Input(\"checklist\", \"value\")],\n",
    ")\n",
    "def make_graph(dropdown_value, checklist_value):\n",
    "    bin_size = (DATA.eruptions.max() - DATA.eruptions.min()) / dropdown_value\n",
    "    fig = ff.create_distplot(\n",
    "        [DATA.eruptions],\n",
    "        [\"Eruption duration\"],\n",
    "        bin_size=bin_size,\n",
    "        show_curve=\"show_dens\" in checklist_value,\n",
    "        show_rug=\"show_ind\" in checklist_value,\n",
    "    )\n",
    "    fig[\"layout\"].update(\n",
    "        {\n",
    "            \"title\": \"Geyser eruption duration\",\n",
    "            \"showlegend\": False,\n",
    "            \"xaxis\": {\"title\": \"Duration (minutes)\"},\n",
    "            \"yaxis\": {\"title\": \"Density\"},\n",
    "        }\n",
    "    )\n",
    "    return fig\n",
    "\n",
    "\n",
    "if __name__ == \"__main__\":\n",
    "    app.run_server(debug=False, port=8888)"
   ]
  },
  {
   "cell_type": "markdown",
   "metadata": {},
   "source": [
    "## [Multiple Outputs](https://dash.plot.ly/getting-started-part-2)"
   ]
  },
  {
   "cell_type": "code",
   "execution_count": 1,
   "metadata": {
    "ExecuteTime": {
     "end_time": "2019-09-28T07:08:59.942698Z",
     "start_time": "2019-09-28T07:08:15.957225Z"
    }
   },
   "outputs": [
    {
     "name": "stdout",
     "output_type": "stream",
     "text": [
      " * Serving Flask app \"__main__\" (lazy loading)\n",
      " * Environment: production\n",
      "   WARNING: Do not use the development server in a production environment.\n",
      "   Use a production WSGI server instead.\n",
      " * Debug mode: off\n"
     ]
    },
    {
     "name": "stderr",
     "output_type": "stream",
     "text": [
      " * Running on http://127.0.0.1:8050/ (Press CTRL+C to quit)\n",
      "127.0.0.1 - - [28/Sep/2019 14:08:19] \"\u001b[37mGET / HTTP/1.1\u001b[0m\" 200 -\n",
      "127.0.0.1 - - [28/Sep/2019 14:08:19] \"\u001b[37mGET /_dash-component-suites/dash_renderer/react@16.8.6.min.js?v=1.0.0&m=1565712429 HTTP/1.1\u001b[0m\" 200 -\n",
      "127.0.0.1 - - [28/Sep/2019 14:08:19] \"\u001b[37mGET /_dash-component-suites/dash_renderer/react-dom@16.8.6.min.js?v=1.0.0&m=1565712429 HTTP/1.1\u001b[0m\" 200 -\n",
      "127.0.0.1 - - [28/Sep/2019 14:08:19] \"\u001b[37mGET /_dash-component-suites/dash_renderer/prop-types@15.7.2.min.js?v=1.0.0&m=1565712429 HTTP/1.1\u001b[0m\" 200 -\n",
      "127.0.0.1 - - [28/Sep/2019 14:08:19] \"\u001b[37mGET /_dash-component-suites/dash_html_components/dash_html_components.min.js?v=1.0.0&m=1565712429 HTTP/1.1\u001b[0m\" 200 -\n",
      "127.0.0.1 - - [28/Sep/2019 14:08:19] \"\u001b[37mGET /_dash-component-suites/dash_core_components/highlight.pack.js?v=1.1.1&m=1565712428 HTTP/1.1\u001b[0m\" 200 -\n",
      "127.0.0.1 - - [28/Sep/2019 14:08:19] \"\u001b[37mGET /_dash-component-suites/dash_renderer/dash_renderer.min.js?v=1.0.0&m=1565712429 HTTP/1.1\u001b[0m\" 200 -\n",
      "127.0.0.1 - - [28/Sep/2019 14:08:19] \"\u001b[37mGET /_dash-component-suites/dash_core_components/dash_core_components.min.js?v=1.1.1&m=1565712428 HTTP/1.1\u001b[0m\" 200 -\n",
      "127.0.0.1 - - [28/Sep/2019 14:08:19] \"\u001b[37mGET /_dash-component-suites/dash_core_components/plotly-1.49.1.min.js?v=1.1.1&m=1565712428 HTTP/1.1\u001b[0m\" 200 -\n",
      "127.0.0.1 - - [28/Sep/2019 14:08:22] \"\u001b[37mGET /_dash-layout HTTP/1.1\u001b[0m\" 200 -\n",
      "127.0.0.1 - - [28/Sep/2019 14:08:22] \"\u001b[37mGET /_dash-dependencies HTTP/1.1\u001b[0m\" 200 -\n",
      "127.0.0.1 - - [28/Sep/2019 14:08:22] \"\u001b[37mPOST /_dash-update-component HTTP/1.1\u001b[0m\" 200 -\n",
      "127.0.0.1 - - [28/Sep/2019 14:08:24] \"\u001b[37mPOST /_dash-update-component HTTP/1.1\u001b[0m\" 200 -\n",
      "127.0.0.1 - - [28/Sep/2019 14:08:25] \"\u001b[37mPOST /_dash-update-component HTTP/1.1\u001b[0m\" 200 -\n",
      "127.0.0.1 - - [28/Sep/2019 14:08:27] \"\u001b[37mPOST /_dash-update-component HTTP/1.1\u001b[0m\" 200 -\n",
      "127.0.0.1 - - [28/Sep/2019 14:08:28] \"\u001b[37mPOST /_dash-update-component HTTP/1.1\u001b[0m\" 200 -\n",
      "127.0.0.1 - - [28/Sep/2019 14:08:29] \"\u001b[37mPOST /_dash-update-component HTTP/1.1\u001b[0m\" 200 -\n",
      "127.0.0.1 - - [28/Sep/2019 14:08:29] \"\u001b[37mPOST /_dash-update-component HTTP/1.1\u001b[0m\" 200 -\n",
      "127.0.0.1 - - [28/Sep/2019 14:08:30] \"\u001b[37mPOST /_dash-update-component HTTP/1.1\u001b[0m\" 200 -\n",
      "127.0.0.1 - - [28/Sep/2019 14:08:31] \"\u001b[37mPOST /_dash-update-component HTTP/1.1\u001b[0m\" 200 -\n",
      "127.0.0.1 - - [28/Sep/2019 14:08:31] \"\u001b[37mPOST /_dash-update-component HTTP/1.1\u001b[0m\" 200 -\n",
      "127.0.0.1 - - [28/Sep/2019 14:08:32] \"\u001b[37mPOST /_dash-update-component HTTP/1.1\u001b[0m\" 200 -\n",
      "127.0.0.1 - - [28/Sep/2019 14:08:34] \"\u001b[37mPOST /_dash-update-component HTTP/1.1\u001b[0m\" 200 -\n",
      "127.0.0.1 - - [28/Sep/2019 14:08:34] \"\u001b[37mPOST /_dash-update-component HTTP/1.1\u001b[0m\" 200 -\n"
     ]
    }
   ],
   "source": [
    "import dash\n",
    "import dash_core_components as dcc\n",
    "import dash_html_components as html\n",
    "from dash.dependencies import Input, Output\n",
    "\n",
    "external_stylesheets = ['https://codepen.io/chriddyp/pen/bWLwgP.css']\n",
    "\n",
    "app = dash.Dash(__name__, external_stylesheets=external_stylesheets)\n",
    "\n",
    "app.layout = html.Div([\n",
    "    dcc.Input(\n",
    "        id='num',\n",
    "        type='number',\n",
    "        value=5\n",
    "    ),\n",
    "    html.Table([\n",
    "        html.Tr([html.Td(['x', html.Sup(2)]), html.Td(id='square')]),\n",
    "        html.Tr([html.Td(['x', html.Sup(3)]), html.Td(id='cube')]),\n",
    "        html.Tr([html.Td([2, html.Sup('x')]), html.Td(id='twos')]),\n",
    "        html.Tr([html.Td([3, html.Sup('x')]), html.Td(id='threes')]),\n",
    "        html.Tr([html.Td(['x', html.Sup('x')]), html.Td(id='x^x')]),\n",
    "    ]),\n",
    "])\n",
    "\n",
    "\n",
    "@app.callback(\n",
    "    [Output('square', 'children'),\n",
    "     Output('cube', 'children'),\n",
    "     Output('twos', 'children'),\n",
    "     Output('threes', 'children'),\n",
    "     Output('x^x', 'children')],\n",
    "    [Input('num', 'value')])\n",
    "def callback_a(x):\n",
    "    return x**2, x**3, 2**x, 3**x, x**x\n",
    "\n",
    "\n",
    "if __name__ == '__main__':\n",
    "    app.run_server(debug=False)"
   ]
  },
  {
   "cell_type": "code",
   "execution_count": null,
   "metadata": {},
   "outputs": [],
   "source": []
  },
  {
   "cell_type": "code",
   "execution_count": null,
   "metadata": {},
   "outputs": [],
   "source": []
  }
 ],
 "metadata": {
  "kernelspec": {
   "display_name": "Python 3",
   "language": "python",
   "name": "python3"
  },
  "language_info": {
   "codemirror_mode": {
    "name": "ipython",
    "version": 3
   },
   "file_extension": ".py",
   "mimetype": "text/x-python",
   "name": "python",
   "nbconvert_exporter": "python",
   "pygments_lexer": "ipython3",
   "version": "3.7.2"
  },
  "latex_envs": {
   "LaTeX_envs_menu_present": true,
   "autoclose": false,
   "autocomplete": true,
   "bibliofile": "biblio.bib",
   "cite_by": "apalike",
   "current_citInitial": 1,
   "eqLabelWithNumbers": true,
   "eqNumInitial": 1,
   "hotkeys": {
    "equation": "Ctrl-E",
    "itemize": "Ctrl-I"
   },
   "labels_anchors": false,
   "latex_user_defs": false,
   "report_style_numbering": false,
   "user_envs_cfg": false
  },
  "toc": {
   "base_numbering": 1,
   "nav_menu": {},
   "number_sections": false,
   "sideBar": true,
   "skip_h1_title": false,
   "title_cell": "Table of Contents",
   "title_sidebar": "Contents",
   "toc_cell": false,
   "toc_position": {},
   "toc_section_display": true,
   "toc_window_display": true
  }
 },
 "nbformat": 4,
 "nbformat_minor": 2
}
