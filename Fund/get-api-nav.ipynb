{
 "cells": [
  {
   "cell_type": "code",
   "execution_count": null,
   "metadata": {},
   "outputs": [],
   "source": []
  },
  {
   "cell_type": "markdown",
   "metadata": {},
   "source": [
    "# รายชื่อ บลจ."
   ]
  },
  {
   "cell_type": "markdown",
   "metadata": {},
   "source": [
    "- Data : https://api-portal.sec.or.th/apidesc\n",
    "- Download NAV (มี pattern น่าจะดึงข้อมูลอัตโนมัติได้ (ห้ามเกิน 1 เดือน) : http://www.thaimutualfund.com/AIMC/aimc_navCenterDownloadRepRep.jsp?date1=01/04/2562&date2=30/04/2562"
   ]
  },
  {
   "cell_type": "code",
   "execution_count": null,
   "metadata": {},
   "outputs": [],
   "source": [
    "\n",
    "import http.client\n",
    "import requests\n",
    "import urllib.parse\n",
    "import urllib.error\n",
    "import base64\n",
    "import json\n",
    "import pandas as pd\n",
    "\n",
    "headers = {\n",
    "    # Request headers\n",
    "    'Ocp-Apim-Subscription-Key': \"b3238c81040d4850ab6ec07bbd85b8be\",\n",
    "}\n",
    "\n",
    "params = urllib.parse.urlencode({\n",
    "})\n",
    "\n",
    "try:\n",
    "    conn = http.client.HTTPSConnection('api.sec.or.th')\n",
    "    response = conn.request(\"GET\", \"/FundDailyInfo/amc?%s\" % params, \"{body}\", headers)\n",
    "    company = pd.read_json(conn.getresponse())     \n",
    "    conn.close()\n",
    "except Exception as e:\n",
    "    print(\"[Errno {0}] {1}\".format(e.errno, e.strerror))\n"
   ]
  },
  {
   "cell_type": "code",
   "execution_count": null,
   "metadata": {
    "scrolled": true
   },
   "outputs": [],
   "source": [
    "company.head()"
   ]
  },
  {
   "cell_type": "code",
   "execution_count": null,
   "metadata": {},
   "outputs": [],
   "source": [
    "company.describe()"
   ]
  },
  {
   "cell_type": "code",
   "execution_count": null,
   "metadata": {},
   "outputs": [],
   "source": [
    "# เขียนข้อมูลลง Excel\n",
    "\n",
    "company.to_excel('company.xlsx', index=False)\n",
    "print('Save Success')"
   ]
  },
  {
   "cell_type": "code",
   "execution_count": null,
   "metadata": {},
   "outputs": [],
   "source": [
    "comp = pd.read_excel('company.xlsx', 'Sheet1', na_values=['NA'])\n",
    "comp.head()"
   ]
  },
  {
   "cell_type": "markdown",
   "metadata": {},
   "source": [
    "# รายชื่อกองทุน"
   ]
  },
  {
   "cell_type": "code",
   "execution_count": null,
   "metadata": {},
   "outputs": [],
   "source": [
    "# Loop จาก unique_id ของ บลจ.\n",
    "import http.client\n",
    "import requests\n",
    "import time\n",
    "import json\n",
    "import pandas as pd\n",
    "import urllib.parse\n",
    "import urllib.error\n",
    "import base64\n",
    "\n",
    "headers = {\n",
    "    # Request headers\n",
    "    'Ocp-Apim-Subscription-Key': \"9a59e81ff953449e9df599624eed1968\",\n",
    "}\n",
    "\n",
    "params = urllib.parse.urlencode({\n",
    "})\n",
    "\n",
    "all_funds = pd.DataFrame(columns=['proj_id', 'proj_abbr_name','proj_name_en', 'proj_name_th','unique_id'])\n",
    "for unique_id in comp.unique_id:\n",
    "    req = requests.get(f'https://api.sec.or.th/FundFactsheet/fund/amc/{unique_id}', headers = headers)\n",
    "    projects = pd.read_json(req.content)\n",
    "    all_funds = all_funds.append(projects[['proj_id', 'proj_abbr_name','proj_name_en', 'proj_name_th','unique_id']])\n",
    "    time.sleep(.4)\n",
    "\n",
    "print(f'There are in total {len(all_funds.index)} funds')"
   ]
  },
  {
   "cell_type": "code",
   "execution_count": null,
   "metadata": {},
   "outputs": [],
   "source": [
    "all_funds.sample(10)"
   ]
  },
  {
   "cell_type": "code",
   "execution_count": null,
   "metadata": {},
   "outputs": [],
   "source": [
    "all_funds.describe()"
   ]
  },
  {
   "cell_type": "code",
   "execution_count": null,
   "metadata": {},
   "outputs": [],
   "source": [
    "# เขียนข้อมูลลง Excel\n",
    "\n",
    "all_funds.to_excel('all_funds.xlsx', index=False)"
   ]
  },
  {
   "cell_type": "code",
   "execution_count": null,
   "metadata": {},
   "outputs": [],
   "source": [
    "#เลือก Column\n",
    "fund_dom = all_funds.loc[:, ['proj_abbr_name',\"proj_id\"]]\n",
    "fund_dom.head()"
   ]
  },
  {
   "cell_type": "code",
   "execution_count": null,
   "metadata": {},
   "outputs": [],
   "source": [
    "f = pd.read_excel('AIMC_Category.xlsx','Thailand Domiciled', na_values=['NA'])\n",
    "fund_cat.head()"
   ]
  },
  {
   "cell_type": "code",
   "execution_count": null,
   "metadata": {},
   "outputs": [],
   "source": [
    "# เปลี่ยนชื่อ Column\n",
    "f= fund_dom.rename(index=str, columns={'proj_abbr_name':'Fund Code'})"
   ]
  },
  {
   "cell_type": "code",
   "execution_count": null,
   "metadata": {},
   "outputs": [],
   "source": [
    "f.head()"
   ]
  },
  {
   "cell_type": "markdown",
   "metadata": {},
   "source": [
    "# จัดการ Catagory"
   ]
  },
  {
   "cell_type": "code",
   "execution_count": 38,
   "metadata": {},
   "outputs": [
    {
     "data": {
      "text/html": [
       "<div>\n",
       "<style scoped>\n",
       "    .dataframe tbody tr th:only-of-type {\n",
       "        vertical-align: middle;\n",
       "    }\n",
       "\n",
       "    .dataframe tbody tr th {\n",
       "        vertical-align: top;\n",
       "    }\n",
       "\n",
       "    .dataframe thead th {\n",
       "        text-align: right;\n",
       "    }\n",
       "</style>\n",
       "<table border=\"1\" class=\"dataframe\">\n",
       "  <thead>\n",
       "    <tr style=\"text-align: right;\">\n",
       "      <th></th>\n",
       "      <th>Fund Legal Name</th>\n",
       "      <th>Local Name - Thai</th>\n",
       "      <th>Fund Code</th>\n",
       "      <th>Firm Name</th>\n",
       "      <th>AIMC Category</th>\n",
       "    </tr>\n",
       "  </thead>\n",
       "  <tbody>\n",
       "    <tr>\n",
       "      <th>0</th>\n",
       "      <td>1 A.M. Flexible Automatic Redemption</td>\n",
       "      <td>กองทุนเปิดวรรณเฟล็กซิเบิลคืนกำไร</td>\n",
       "      <td>FLEXAR</td>\n",
       "      <td>One Asset Management Ltd</td>\n",
       "      <td>Aggressive Allocation</td>\n",
       "    </tr>\n",
       "    <tr>\n",
       "      <th>1</th>\n",
       "      <td>Asset Plus Flexible Plus</td>\n",
       "      <td>กองทุนเปิด แอสเซทพลัส เฟล็กซิเบิ้ล พลัส</td>\n",
       "      <td>ASP-FLEXPLUS</td>\n",
       "      <td>Asset Plus Fund Management Co., Ltd.</td>\n",
       "      <td>Aggressive Allocation</td>\n",
       "    </tr>\n",
       "    <tr>\n",
       "      <th>2</th>\n",
       "      <td>Asset Plus Mixed RMF</td>\n",
       "      <td>กองทุนเปิดแอสเซทพลัสหุ้นผสมตราสารหนี้เพื่อการเ...</td>\n",
       "      <td>ASP-MRF</td>\n",
       "      <td>Asset Plus Fund Management Co., Ltd.</td>\n",
       "      <td>Aggressive Allocation</td>\n",
       "    </tr>\n",
       "    <tr>\n",
       "      <th>3</th>\n",
       "      <td>B-active</td>\n",
       "      <td>กองทุนเปิดบีแอ็คทีฟ</td>\n",
       "      <td>B-ACTIVE</td>\n",
       "      <td>BBL Asset Management Co., Ltd.</td>\n",
       "      <td>Aggressive Allocation</td>\n",
       "    </tr>\n",
       "    <tr>\n",
       "      <th>4</th>\n",
       "      <td>Bualuang Flexible RMF</td>\n",
       "      <td>กองทุนเปิดบัวหลวงเฟล็กซิเบิ้ลเพื่อการเลี้ยงชีพ</td>\n",
       "      <td>BFLRMF</td>\n",
       "      <td>BBL Asset Management Co., Ltd.</td>\n",
       "      <td>Aggressive Allocation</td>\n",
       "    </tr>\n",
       "  </tbody>\n",
       "</table>\n",
       "</div>"
      ],
      "text/plain": [
       "                        Fund Legal Name  \\\n",
       "0  1 A.M. Flexible Automatic Redemption   \n",
       "1              Asset Plus Flexible Plus   \n",
       "2                  Asset Plus Mixed RMF   \n",
       "3                              B-active   \n",
       "4                 Bualuang Flexible RMF   \n",
       "\n",
       "                                   Local Name - Thai     Fund Code  \\\n",
       "0                   กองทุนเปิดวรรณเฟล็กซิเบิลคืนกำไร        FLEXAR   \n",
       "1            กองทุนเปิด แอสเซทพลัส เฟล็กซิเบิ้ล พลัส  ASP-FLEXPLUS   \n",
       "2  กองทุนเปิดแอสเซทพลัสหุ้นผสมตราสารหนี้เพื่อการเ...       ASP-MRF   \n",
       "3                                กองทุนเปิดบีแอ็คทีฟ      B-ACTIVE   \n",
       "4     กองทุนเปิดบัวหลวงเฟล็กซิเบิ้ลเพื่อการเลี้ยงชีพ        BFLRMF   \n",
       "\n",
       "                              Firm Name          AIMC Category  \n",
       "0              One Asset Management Ltd  Aggressive Allocation  \n",
       "1  Asset Plus Fund Management Co., Ltd.  Aggressive Allocation  \n",
       "2  Asset Plus Fund Management Co., Ltd.  Aggressive Allocation  \n",
       "3        BBL Asset Management Co., Ltd.  Aggressive Allocation  \n",
       "4        BBL Asset Management Co., Ltd.  Aggressive Allocation  "
      ]
     },
     "execution_count": 38,
     "metadata": {},
     "output_type": "execute_result"
    }
   ],
   "source": [
    "# อ่านข้อมูลจาก Excel\n",
    "fund_cat = pd.read_excel('AIMC_Category.xlsx','Thailand Domiciled', na_values=['NA'])\n",
    "fund_cat.head()"
   ]
  },
  {
   "cell_type": "code",
   "execution_count": 39,
   "metadata": {},
   "outputs": [
    {
     "data": {
      "text/html": [
       "<div>\n",
       "<style scoped>\n",
       "    .dataframe tbody tr th:only-of-type {\n",
       "        vertical-align: middle;\n",
       "    }\n",
       "\n",
       "    .dataframe tbody tr th {\n",
       "        vertical-align: top;\n",
       "    }\n",
       "\n",
       "    .dataframe thead th {\n",
       "        text-align: right;\n",
       "    }\n",
       "</style>\n",
       "<table border=\"1\" class=\"dataframe\">\n",
       "  <thead>\n",
       "    <tr style=\"text-align: right;\">\n",
       "      <th></th>\n",
       "      <th>Fund Legal Name</th>\n",
       "      <th>Local Name - Thai</th>\n",
       "      <th>Fund Code</th>\n",
       "      <th>Firm Name</th>\n",
       "      <th>AIMC Category</th>\n",
       "    </tr>\n",
       "  </thead>\n",
       "  <tbody>\n",
       "    <tr>\n",
       "      <th>count</th>\n",
       "      <td>1685</td>\n",
       "      <td>1684</td>\n",
       "      <td>1684</td>\n",
       "      <td>1685</td>\n",
       "      <td>1684</td>\n",
       "    </tr>\n",
       "    <tr>\n",
       "      <th>unique</th>\n",
       "      <td>1685</td>\n",
       "      <td>1683</td>\n",
       "      <td>1683</td>\n",
       "      <td>23</td>\n",
       "      <td>42</td>\n",
       "    </tr>\n",
       "    <tr>\n",
       "      <th>top</th>\n",
       "      <td>Bualuang Thanasarn Plus 28/18</td>\n",
       "      <td>กองทุนเปิด แมนูไลฟ์ เอเชีย แปซิฟิก พร็อพเพอร์ต...</td>\n",
       "      <td>ONE-STOXXASEAN</td>\n",
       "      <td>SCB Asset Management Co., Ltd.</td>\n",
       "      <td>Miscellaneous</td>\n",
       "    </tr>\n",
       "    <tr>\n",
       "      <th>freq</th>\n",
       "      <td>1</td>\n",
       "      <td>2</td>\n",
       "      <td>2</td>\n",
       "      <td>254</td>\n",
       "      <td>408</td>\n",
       "    </tr>\n",
       "  </tbody>\n",
       "</table>\n",
       "</div>"
      ],
      "text/plain": [
       "                      Fund Legal Name  \\\n",
       "count                            1685   \n",
       "unique                           1685   \n",
       "top     Bualuang Thanasarn Plus 28/18   \n",
       "freq                                1   \n",
       "\n",
       "                                        Local Name - Thai       Fund Code  \\\n",
       "count                                                1684            1684   \n",
       "unique                                               1683            1683   \n",
       "top     กองทุนเปิด แมนูไลฟ์ เอเชีย แปซิฟิก พร็อพเพอร์ต...  ONE-STOXXASEAN   \n",
       "freq                                                    2               2   \n",
       "\n",
       "                             Firm Name  AIMC Category  \n",
       "count                             1685           1684  \n",
       "unique                              23             42  \n",
       "top     SCB Asset Management Co., Ltd.  Miscellaneous  \n",
       "freq                               254            408  "
      ]
     },
     "execution_count": 39,
     "metadata": {},
     "output_type": "execute_result"
    }
   ],
   "source": [
    "fund_cat.describe()"
   ]
  },
  {
   "cell_type": "code",
   "execution_count": 42,
   "metadata": {
    "scrolled": true
   },
   "outputs": [
    {
     "data": {
      "text/plain": [
       "43"
      ]
     },
     "execution_count": 42,
     "metadata": {},
     "output_type": "execute_result"
    }
   ],
   "source": [
    "# หาจำนวน Category\n",
    "\n",
    "len(fund_cat['AIMC Category'].unique())"
   ]
  },
  {
   "cell_type": "code",
   "execution_count": 43,
   "metadata": {
    "scrolled": true
   },
   "outputs": [
    {
     "name": "stdout",
     "output_type": "stream",
     "text": [
      "['Aggressive Allocation' 'ASEAN Equity' 'Asia Pacific Ex Japan'\n",
      " 'Broad Composite Commodities index' 'Commodities Agriculture'\n",
      " 'Commodities Energy' 'Commodities Precious Metals'\n",
      " 'Conservative Allocation' 'Emerging Market'\n",
      " 'Emerging Market Bond Discretionary F/X Hedge or Unhedge'\n",
      " 'Emerging Market Bond Fully F/X Hedge' 'Energy' 'Equity General'\n",
      " 'Equity Large Cap' 'Equity Small - Mid Cap' 'European Equity'\n",
      " 'Foreign Investment Allocation' 'Fund of Property Fund - Foreign'\n",
      " 'Fund of Property Fund - Thai' 'Fund of Property fund -Thai and Foreign'\n",
      " 'Global Bond Discretionary F/X Hedge or Unhedge'\n",
      " 'Global Bond Fully F/X Hedge' 'Global Equity' 'Greater China Equity'\n",
      " 'Health Care' 'High Yield Bond' 'India Equity' 'Japan Equity'\n",
      " 'Long Term General Bond' 'Mid Term General Bond'\n",
      " 'Mid Term Government Bond' 'Miscellaneous' 'Moderate Allocation'\n",
      " 'Money Market General' 'Money Market Government' 'SET 50 Index Fund'\n",
      " 'Short Term General Bond' 'Short Term Government Bond' 'Thai Free Hold'\n",
      " 'Thai Mixed (between free and lease hold)' 'US Equity' 'Vietnam Equity'\n",
      " nan]\n"
     ]
    }
   ],
   "source": [
    "print(fund_cat['AIMC Category'].unique())"
   ]
  },
  {
   "cell_type": "code",
   "execution_count": 44,
   "metadata": {},
   "outputs": [
    {
     "data": {
      "text/plain": [
       "23"
      ]
     },
     "execution_count": 44,
     "metadata": {},
     "output_type": "execute_result"
    }
   ],
   "source": [
    "len(fund_cat['Firm Name'].unique())"
   ]
  },
  {
   "cell_type": "code",
   "execution_count": 45,
   "metadata": {},
   "outputs": [
    {
     "name": "stdout",
     "output_type": "stream",
     "text": [
      "['One Asset Management Ltd' 'Asset Plus Fund Management Co., Ltd.'\n",
      " 'BBL Asset Management Co., Ltd.'\n",
      " 'CIMB-Principal Asset Management Co., Ltd'\n",
      " 'Kasikorn Asset Management Co. Ltd' 'Krungthai Asset Management PLC'\n",
      " 'Krungsri Asset Management Co., Ltd.'\n",
      " 'Land and Houses Fund Management Co.,LTD'\n",
      " 'Manulife Asset Management (Thailand)' 'MFC Asset Management PLC'\n",
      " 'Phatra Asset Management Co., Ltd.' 'Phillip Asset Management Co., Ltd.'\n",
      " 'SCB Asset Management Co., Ltd.' 'TALIS ASSET MANAGEMENT'\n",
      " 'TISCO Asset Management Co., Ltd.' 'Thanachart Fund Management Co., Ltd.'\n",
      " 'TMB Asset Management Co. Ltd' 'UOB Asset Management (Thailand) Co., Ltd'\n",
      " 'Aberdeen Standard Asset Management (Thailand) Limited'\n",
      " 'Innotech Asset Management Company Limited'\n",
      " 'Siam Knight Fund Management Securities Co., Ltd.'\n",
      " 'Bangkok Capital Asset Management Co., Ltd.'\n",
      " 'Mfc Asset Management Public Co Ltd']\n"
     ]
    }
   ],
   "source": [
    "print(fund_cat['Firm Name'].unique())"
   ]
  },
  {
   "cell_type": "code",
   "execution_count": null,
   "metadata": {},
   "outputs": [],
   "source": [
    "gr = df."
   ]
  },
  {
   "cell_type": "code",
   "execution_count": null,
   "metadata": {},
   "outputs": [],
   "source": []
  },
  {
   "cell_type": "code",
   "execution_count": null,
   "metadata": {},
   "outputs": [],
   "source": []
  },
  {
   "cell_type": "code",
   "execution_count": null,
   "metadata": {},
   "outputs": [],
   "source": [
    "# ตรวจสอบรายละเอียดกองทุนด้วย Code\n",
    "\n",
    "print(fund[fund['Fund Code']=='TMBPIPF'])"
   ]
  },
  {
   "cell_type": "markdown",
   "metadata": {},
   "source": [
    "{\"last_upd_date\":\"2019-05-14T05:09:23\",\"nav_date\":\"2019-05-13\",\"net_asset\":16678081140.10,\"last_val\":104.1768,\"previous_val\":104"
   ]
  },
  {
   "cell_type": "markdown",
   "metadata": {},
   "source": [
    "# จัดการข้อมูล NAV ที่ดาวน์โหลดมาจากระบบ"
   ]
  },
  {
   "cell_type": "code",
   "execution_count": null,
   "metadata": {},
   "outputs": [],
   "source": [
    "import pandas as pd\n",
    "import time\n",
    "import base64"
   ]
  },
  {
   "cell_type": "code",
   "execution_count": null,
   "metadata": {},
   "outputs": [],
   "source": [
    "def read_data(month):\n",
    "    \n",
    "    n = ['nav_date','B','C','Firm','E','proj_name_th','proj_name_en','fund_code','net_asset',\n",
    "     'nav_price','dividend_value','book_close_date','sell_price','buy_price']\n",
    "    df = pd.read_csv((f'download/{month}-NAV.txt'),header=None,names=n)\n",
    "    \n",
    "    # Convert Type to DateTime\n",
    "    df['nav_date'] = pd.to_datetime(df.nav_date,dayfirst=True ) \n",
    "    df['book_close_date'] = pd.to_datetime(df.book_close_date,dayfirst=True ) \n",
    "    return df"
   ]
  },
  {
   "cell_type": "code",
   "execution_count": null,
   "metadata": {},
   "outputs": [],
   "source": [
    "# กำหนดไฟล์ที่ต้องการดึงข้อมูล (ต้อง save file ให้เป็น UTF-8 ก่อน)\n",
    "\n",
    "all_nav = pd.DataFrame(columns=['nav_date',\"fund_code\",'nav_price','net_asset','sell_price',\n",
    "                             'buy_price','dividend_value','book_close_date','Firm','proj_name_th','proj_name_en'])\n",
    "y=['2019-05','2019-04','2019-03','2019-02','2019-01']\n",
    "\n",
    "for i in range(len(y)):\n",
    "    df = read_data(y[i])\n",
    "    df = df.loc[:, ['nav_date',\"fund_code\",'nav_price','net_asset','sell_price',\n",
    "                             'buy_price','dividend_value','book_close_date','Firm','proj_name_th','proj_name_en']]\n",
    "    all_nav = all_nav.append(df[['nav_date',\"fund_code\",'nav_price','net_asset','sell_price',\n",
    "                             'buy_price','dividend_value','book_close_date','Firm','proj_name_th','proj_name_en']])\n",
    "\n",
    "all_nav.sample(10)    "
   ]
  },
  {
   "cell_type": "code",
   "execution_count": null,
   "metadata": {},
   "outputs": [],
   "source": [
    "all_nav.info()"
   ]
  },
  {
   "cell_type": "code",
   "execution_count": null,
   "metadata": {},
   "outputs": [],
   "source": [
    "# หาจำนวนกองทุน\n",
    "\n",
    "len(all_nav['fund_code'].unique())"
   ]
  },
  {
   "cell_type": "code",
   "execution_count": null,
   "metadata": {},
   "outputs": [],
   "source": [
    "# หาจำนวนวัน\n",
    "\n",
    "len(all_nav['nav_date'].unique())"
   ]
  },
  {
   "cell_type": "code",
   "execution_count": null,
   "metadata": {},
   "outputs": [],
   "source": [
    "# นับจำนวน Duplicate\n",
    "\n",
    "len(all_nav[ all_nav.duplicated(['nav_date', 'fund_code'], keep = False) ])"
   ]
  },
  {
   "cell_type": "code",
   "execution_count": null,
   "metadata": {},
   "outputs": [],
   "source": [
    "# ลบ Duplicate\n",
    "\n",
    "# Remove the duplicates\n",
    "all_nav.drop_duplicates(['nav_date', 'fund_code'], inplace=True)\n",
    "\n",
    "# Reset dataframe index after drop_duplicates.\n",
    "all_nav.reset_index(drop=True, inplace=True)\n",
    "all_nav.index += 1\n",
    "\n",
    "len(all_nav)"
   ]
  },
  {
   "cell_type": "code",
   "execution_count": null,
   "metadata": {},
   "outputs": [],
   "source": [
    "all_nav.head()"
   ]
  },
  {
   "cell_type": "code",
   "execution_count": null,
   "metadata": {},
   "outputs": [],
   "source": []
  },
  {
   "cell_type": "markdown",
   "metadata": {},
   "source": [
    "# Download NAV อัตโนมัติ"
   ]
  },
  {
   "cell_type": "code",
   "execution_count": 19,
   "metadata": {},
   "outputs": [],
   "source": [
    "import pandas as pd\n",
    "import time\n",
    "import base64"
   ]
  },
  {
   "cell_type": "code",
   "execution_count": null,
   "metadata": {},
   "outputs": [],
   "source": [
    "start = '01/04/2562'\n",
    "finish = '30/04/2562'"
   ]
  },
  {
   "cell_type": "code",
   "execution_count": 2,
   "metadata": {},
   "outputs": [
    {
     "data": {
      "text/plain": [
       "'\\r\\n\\r\\n\\r\\n\\r\\n\\r\\n\\r\\n\\r\\n\\r\\n\\r\\n\\r\\n\\r\\n\\r\\n\\r\\n\\r\\n\\r\\n02/05/2019,\"CE\",\" \",\"KASSET\",\"KASSET\",\"¡Í§·Ø¹ÃÇÁÊÔ·¸Ô¡ÒÃàªèÒÍÊÑ§ËÒÃÔÁ·'"
      ]
     },
     "execution_count": 2,
     "metadata": {},
     "output_type": "execute_result"
    }
   ],
   "source": [
    "# Import ข้อมูลจาก Website ที่มีบริการให้ download NAV ย้อนหลังได้ครั้งละ 1 เดือน\n",
    "\n",
    "import requests \n",
    "from bs4 import BeautifulSoup \n",
    "  \n",
    "URL = \"http://www.thaimutualfund.com/AIMC/aimc_navCenterDownloadRepRep.jsp?date1=01/05/2562&date2=31/05/2562\"\n",
    "r = requests.get(URL)   \n",
    "soup = BeautifulSoup(r.content, 'html5lib') \n",
    "\n",
    "soup =soup.find(\"body\") \n",
    "print(soup.prettify()) \n",
    "\n",
    "data = soup.prettify()\n",
    "\n",
    "print(len(data))\n",
    "\n"
   ]
  },
  {
   "cell_type": "code",
   "execution_count": null,
   "metadata": {},
   "outputs": [],
   "source": [
    "# write data to text file\n",
    "f = open('temp.txt','w',encoding='utf-8')\n",
    "f.write (str(data))\n",
    "f.close()\n",
    "print('success')"
   ]
  },
  {
   "cell_type": "markdown",
   "metadata": {},
   "source": [
    "**อ่านข้อมูลจาก text file**"
   ]
  },
  {
   "cell_type": "code",
   "execution_count": 20,
   "metadata": {
    "scrolled": true
   },
   "outputs": [
    {
     "data": {
      "text/html": [
       "<div>\n",
       "<style scoped>\n",
       "    .dataframe tbody tr th:only-of-type {\n",
       "        vertical-align: middle;\n",
       "    }\n",
       "\n",
       "    .dataframe tbody tr th {\n",
       "        vertical-align: top;\n",
       "    }\n",
       "\n",
       "    .dataframe thead th {\n",
       "        text-align: right;\n",
       "    }\n",
       "</style>\n",
       "<table border=\"1\" class=\"dataframe\">\n",
       "  <thead>\n",
       "    <tr style=\"text-align: right;\">\n",
       "      <th></th>\n",
       "      <th>nav_date</th>\n",
       "      <th>B</th>\n",
       "      <th>C</th>\n",
       "      <th>Firm</th>\n",
       "      <th>E</th>\n",
       "      <th>proj_name_th</th>\n",
       "      <th>proj_name_en</th>\n",
       "      <th>fund_code</th>\n",
       "      <th>net_asset</th>\n",
       "      <th>nav_price</th>\n",
       "      <th>dividend_value</th>\n",
       "      <th>book_close_date</th>\n",
       "      <th>sell_price</th>\n",
       "      <th>buy_price</th>\n",
       "    </tr>\n",
       "  </thead>\n",
       "  <tbody>\n",
       "    <tr>\n",
       "      <th>23371</th>\n",
       "      <td>28/05/2019</td>\n",
       "      <td>OE</td>\n",
       "      <td></td>\n",
       "      <td>KTAM</td>\n",
       "      <td>KTAM</td>\n",
       "      <td>กองทุนเปิดกรุงไทยสมาร์ท อินเวส 6 เดือน2</td>\n",
       "      <td>Krung Thai Smart Invest 6M2 Fund</td>\n",
       "      <td>KTSIV6M2</td>\n",
       "      <td>2.154859e+08</td>\n",
       "      <td>12.3535</td>\n",
       "      <td>NaN</td>\n",
       "      <td>NaN</td>\n",
       "      <td>12.3536</td>\n",
       "      <td>12.3535</td>\n",
       "    </tr>\n",
       "    <tr>\n",
       "      <th>23670</th>\n",
       "      <td>28/05/2019</td>\n",
       "      <td>OE</td>\n",
       "      <td></td>\n",
       "      <td>ONEAM</td>\n",
       "      <td>ONEAM</td>\n",
       "      <td>กองทุนเปิดวรรณเอเอ็มซีเล็คทีฟโกรทหุ้นระยะยาว</td>\n",
       "      <td>1 A.M. Selective Growth Long Term Equity Fund</td>\n",
       "      <td>1SG-LTF</td>\n",
       "      <td>8.785797e+08</td>\n",
       "      <td>35.8111</td>\n",
       "      <td>NaN</td>\n",
       "      <td>NaN</td>\n",
       "      <td>35.8112</td>\n",
       "      <td>35.8111</td>\n",
       "    </tr>\n",
       "    <tr>\n",
       "      <th>4692</th>\n",
       "      <td>08/05/2019</td>\n",
       "      <td>OE</td>\n",
       "      <td></td>\n",
       "      <td>KTAM</td>\n",
       "      <td>KTAM</td>\n",
       "      <td>กองทุนเปิดกรุงไทยตราสารภาครัฐไทย3</td>\n",
       "      <td>Krung Thai Government Bond Fund3</td>\n",
       "      <td>KT-THAIGOV3</td>\n",
       "      <td>3.371305e+08</td>\n",
       "      <td>10.0056</td>\n",
       "      <td>NaN</td>\n",
       "      <td>NaN</td>\n",
       "      <td>NaN</td>\n",
       "      <td>NaN</td>\n",
       "    </tr>\n",
       "    <tr>\n",
       "      <th>21379</th>\n",
       "      <td>24/05/2019</td>\n",
       "      <td>OE</td>\n",
       "      <td></td>\n",
       "      <td>THANACHART FUND</td>\n",
       "      <td>THANACHART FUND</td>\n",
       "      <td>กองทุนเปิดธนชาตตราสารหนี้ต่างประเทศ 1Y24</td>\n",
       "      <td>Thanachart Fixed Income FIF 1Y24</td>\n",
       "      <td>T-FixFIF1Y24</td>\n",
       "      <td>8.502519e+08</td>\n",
       "      <td>10.1049</td>\n",
       "      <td>NaN</td>\n",
       "      <td>NaN</td>\n",
       "      <td>NaN</td>\n",
       "      <td>NaN</td>\n",
       "    </tr>\n",
       "    <tr>\n",
       "      <th>6373</th>\n",
       "      <td>09/05/2019</td>\n",
       "      <td>OE</td>\n",
       "      <td></td>\n",
       "      <td>MFC</td>\n",
       "      <td>MFC</td>\n",
       "      <td>กองทุนเปิดเอ็มเอฟซี ไฮ-ดิวิเดนด์ หุ้นระยะยาว</td>\n",
       "      <td>MFC HI-DIVIDEND LONG TERM EQUITY FUND</td>\n",
       "      <td>HI-DIV LTF</td>\n",
       "      <td>9.210554e+07</td>\n",
       "      <td>9.8127</td>\n",
       "      <td>NaN</td>\n",
       "      <td>NaN</td>\n",
       "      <td>9.8128</td>\n",
       "      <td>9.7882</td>\n",
       "    </tr>\n",
       "    <tr>\n",
       "      <th>9844</th>\n",
       "      <td>13/05/2019</td>\n",
       "      <td>OE</td>\n",
       "      <td></td>\n",
       "      <td>TMBAM</td>\n",
       "      <td>TMBAM</td>\n",
       "      <td>กองทุนเปิดทหารไทยธนวัฒน์</td>\n",
       "      <td>TMB Corporate Bond Fund</td>\n",
       "      <td>TMBCB</td>\n",
       "      <td>1.340911e+08</td>\n",
       "      <td>17.0443</td>\n",
       "      <td>NaN</td>\n",
       "      <td>NaN</td>\n",
       "      <td>17.0444</td>\n",
       "      <td>17.0443</td>\n",
       "    </tr>\n",
       "    <tr>\n",
       "      <th>16504</th>\n",
       "      <td>21/05/2019</td>\n",
       "      <td>OE</td>\n",
       "      <td></td>\n",
       "      <td>MANULIFEAM</td>\n",
       "      <td>MANULIFEAM</td>\n",
       "      <td>กองทุนเปิด แมนูไลฟ์ สเตร็งค์ มันนี่ มาร์เก็ต</td>\n",
       "      <td>Manulife Strength-Money Market Fund</td>\n",
       "      <td>MS-MONEY</td>\n",
       "      <td>9.205615e+07</td>\n",
       "      <td>11.5568</td>\n",
       "      <td>NaN</td>\n",
       "      <td>NaN</td>\n",
       "      <td>11.5569</td>\n",
       "      <td>11.5568</td>\n",
       "    </tr>\n",
       "    <tr>\n",
       "      <th>7162</th>\n",
       "      <td>10/05/2019</td>\n",
       "      <td>OE</td>\n",
       "      <td></td>\n",
       "      <td>ASSETFUND</td>\n",
       "      <td>ASSETFUND</td>\n",
       "      <td>กองทุนเปิดแอสเซทพลัสหุ้นระยะยาวทวีกำไร</td>\n",
       "      <td>Asset Plus High Growth LTF</td>\n",
       "      <td>ASP-GLTF</td>\n",
       "      <td>1.993938e+08</td>\n",
       "      <td>23.4351</td>\n",
       "      <td>NaN</td>\n",
       "      <td>NaN</td>\n",
       "      <td>23.4352</td>\n",
       "      <td>23.4351</td>\n",
       "    </tr>\n",
       "    <tr>\n",
       "      <th>22642</th>\n",
       "      <td>27/05/2019</td>\n",
       "      <td>OE</td>\n",
       "      <td></td>\n",
       "      <td>THANACHART FUND</td>\n",
       "      <td>THANACHART FUND</td>\n",
       "      <td>กองทุนเปิดธนชาต SET50 สะสมมูลค่า</td>\n",
       "      <td>Thanachart SET50 Accumulate Fund</td>\n",
       "      <td>T-SET50Acc</td>\n",
       "      <td>3.296978e+07</td>\n",
       "      <td>10.0590</td>\n",
       "      <td>NaN</td>\n",
       "      <td>NaN</td>\n",
       "      <td>NaN</td>\n",
       "      <td>NaN</td>\n",
       "    </tr>\n",
       "    <tr>\n",
       "      <th>18347</th>\n",
       "      <td>22/05/2019</td>\n",
       "      <td>OE</td>\n",
       "      <td></td>\n",
       "      <td>SCBAM</td>\n",
       "      <td>SCBAM</td>\n",
       "      <td>กองทุนเปิดไทยพาณิชย์ตราสารหนี้ต่างประเทศ 3MF1</td>\n",
       "      <td>SCB Foreign Fixed Income Fund 3MF1</td>\n",
       "      <td>SCBFF3MF1</td>\n",
       "      <td>2.547295e+09</td>\n",
       "      <td>10.0231</td>\n",
       "      <td>NaN</td>\n",
       "      <td>NaN</td>\n",
       "      <td>NaN</td>\n",
       "      <td>NaN</td>\n",
       "    </tr>\n",
       "  </tbody>\n",
       "</table>\n",
       "</div>"
      ],
      "text/plain": [
       "         nav_date   B  C             Firm                E  \\\n",
       "23371  28/05/2019  OE                KTAM             KTAM   \n",
       "23670  28/05/2019  OE               ONEAM            ONEAM   \n",
       "4692   08/05/2019  OE                KTAM             KTAM   \n",
       "21379  24/05/2019  OE     THANACHART FUND  THANACHART FUND   \n",
       "6373   09/05/2019  OE                 MFC              MFC   \n",
       "9844   13/05/2019  OE               TMBAM            TMBAM   \n",
       "16504  21/05/2019  OE          MANULIFEAM       MANULIFEAM   \n",
       "7162   10/05/2019  OE           ASSETFUND        ASSETFUND   \n",
       "22642  27/05/2019  OE     THANACHART FUND  THANACHART FUND   \n",
       "18347  22/05/2019  OE               SCBAM            SCBAM   \n",
       "\n",
       "                                        proj_name_th  \\\n",
       "23371        กองทุนเปิดกรุงไทยสมาร์ท อินเวส 6 เดือน2   \n",
       "23670   กองทุนเปิดวรรณเอเอ็มซีเล็คทีฟโกรทหุ้นระยะยาว   \n",
       "4692               กองทุนเปิดกรุงไทยตราสารภาครัฐไทย3   \n",
       "21379       กองทุนเปิดธนชาตตราสารหนี้ต่างประเทศ 1Y24   \n",
       "6373    กองทุนเปิดเอ็มเอฟซี ไฮ-ดิวิเดนด์ หุ้นระยะยาว   \n",
       "9844                        กองทุนเปิดทหารไทยธนวัฒน์   \n",
       "16504   กองทุนเปิด แมนูไลฟ์ สเตร็งค์ มันนี่ มาร์เก็ต   \n",
       "7162          กองทุนเปิดแอสเซทพลัสหุ้นระยะยาวทวีกำไร   \n",
       "22642               กองทุนเปิดธนชาต SET50 สะสมมูลค่า   \n",
       "18347  กองทุนเปิดไทยพาณิชย์ตราสารหนี้ต่างประเทศ 3MF1   \n",
       "\n",
       "                                        proj_name_en     fund_code  \\\n",
       "23371               Krung Thai Smart Invest 6M2 Fund      KTSIV6M2   \n",
       "23670  1 A.M. Selective Growth Long Term Equity Fund       1SG-LTF   \n",
       "4692                Krung Thai Government Bond Fund3   KT-THAIGOV3   \n",
       "21379               Thanachart Fixed Income FIF 1Y24  T-FixFIF1Y24   \n",
       "6373           MFC HI-DIVIDEND LONG TERM EQUITY FUND    HI-DIV LTF   \n",
       "9844                         TMB Corporate Bond Fund         TMBCB   \n",
       "16504            Manulife Strength-Money Market Fund      MS-MONEY   \n",
       "7162                      Asset Plus High Growth LTF      ASP-GLTF   \n",
       "22642               Thanachart SET50 Accumulate Fund    T-SET50Acc   \n",
       "18347             SCB Foreign Fixed Income Fund 3MF1     SCBFF3MF1   \n",
       "\n",
       "          net_asset  nav_price  dividend_value book_close_date  sell_price  \\\n",
       "23371  2.154859e+08    12.3535             NaN             NaN     12.3536   \n",
       "23670  8.785797e+08    35.8111             NaN             NaN     35.8112   \n",
       "4692   3.371305e+08    10.0056             NaN             NaN         NaN   \n",
       "21379  8.502519e+08    10.1049             NaN             NaN         NaN   \n",
       "6373   9.210554e+07     9.8127             NaN             NaN      9.8128   \n",
       "9844   1.340911e+08    17.0443             NaN             NaN     17.0444   \n",
       "16504  9.205615e+07    11.5568             NaN             NaN     11.5569   \n",
       "7162   1.993938e+08    23.4351             NaN             NaN     23.4352   \n",
       "22642  3.296978e+07    10.0590             NaN             NaN         NaN   \n",
       "18347  2.547295e+09    10.0231             NaN             NaN         NaN   \n",
       "\n",
       "       buy_price  \n",
       "23371    12.3535  \n",
       "23670    35.8111  \n",
       "4692         NaN  \n",
       "21379        NaN  \n",
       "6373      9.7882  \n",
       "9844     17.0443  \n",
       "16504    11.5568  \n",
       "7162     23.4351  \n",
       "22642        NaN  \n",
       "18347        NaN  "
      ]
     },
     "execution_count": 20,
     "metadata": {},
     "output_type": "execute_result"
    }
   ],
   "source": [
    "n = ['nav_date','B','C','Firm','E','proj_name_th','proj_name_en','fund_code','net_asset',\n",
    "     'nav_price','dividend_value','book_close_date','sell_price','buy_price']\n",
    "df = pd.read_csv('temp.txt',header=None,names=n,skiprows=1,encoding='utf-8')\n",
    "df.sample(10)"
   ]
  },
  {
   "cell_type": "code",
   "execution_count": 22,
   "metadata": {},
   "outputs": [
    {
     "data": {
      "text/html": [
       "<div>\n",
       "<style scoped>\n",
       "    .dataframe tbody tr th:only-of-type {\n",
       "        vertical-align: middle;\n",
       "    }\n",
       "\n",
       "    .dataframe tbody tr th {\n",
       "        vertical-align: top;\n",
       "    }\n",
       "\n",
       "    .dataframe thead th {\n",
       "        text-align: right;\n",
       "    }\n",
       "</style>\n",
       "<table border=\"1\" class=\"dataframe\">\n",
       "  <thead>\n",
       "    <tr style=\"text-align: right;\">\n",
       "      <th></th>\n",
       "      <th>nav_date</th>\n",
       "      <th>B</th>\n",
       "      <th>C</th>\n",
       "      <th>Firm</th>\n",
       "      <th>E</th>\n",
       "      <th>proj_name_th</th>\n",
       "      <th>proj_name_en</th>\n",
       "      <th>fund_code</th>\n",
       "      <th>net_asset</th>\n",
       "      <th>nav_price</th>\n",
       "      <th>dividend_value</th>\n",
       "      <th>book_close_date</th>\n",
       "      <th>sell_price</th>\n",
       "      <th>buy_price</th>\n",
       "    </tr>\n",
       "  </thead>\n",
       "  <tbody>\n",
       "    <tr>\n",
       "      <th>9593</th>\n",
       "      <td>2019-05-13</td>\n",
       "      <td>OE</td>\n",
       "      <td></td>\n",
       "      <td>SCBAM</td>\n",
       "      <td>SCBAM</td>\n",
       "      <td>กองทุนเปิดไทยพาณิชย์ตราสารหนี้ต่างประเทศ 6MM6</td>\n",
       "      <td>SCB Foreign Fixed Income Fund 6MM6</td>\n",
       "      <td>SCBFF6MM6</td>\n",
       "      <td>2.671187e+09</td>\n",
       "      <td>10.0061</td>\n",
       "      <td>NaN</td>\n",
       "      <td>NaT</td>\n",
       "      <td>NaN</td>\n",
       "      <td>NaN</td>\n",
       "    </tr>\n",
       "    <tr>\n",
       "      <th>1738</th>\n",
       "      <td>2019-05-03</td>\n",
       "      <td>OE</td>\n",
       "      <td></td>\n",
       "      <td>KASSET</td>\n",
       "      <td>KASSET</td>\n",
       "      <td>กองทุนเปิดเค ตราสารหนี้ต่างประเทศ 1 ปี EZ</td>\n",
       "      <td>K Foreign Fixed Income 1 Year EZ Fund</td>\n",
       "      <td>KFF1YEZ</td>\n",
       "      <td>2.523676e+09</td>\n",
       "      <td>10.1274</td>\n",
       "      <td>NaN</td>\n",
       "      <td>NaT</td>\n",
       "      <td>NaN</td>\n",
       "      <td>NaN</td>\n",
       "    </tr>\n",
       "    <tr>\n",
       "      <th>14865</th>\n",
       "      <td>2019-05-17</td>\n",
       "      <td>OE</td>\n",
       "      <td></td>\n",
       "      <td>KTAM</td>\n",
       "      <td>KTAM</td>\n",
       "      <td>กองทุนเปิดกรุงไทยประจำ 3 เดือนมุ่งรักษาเงินต้น3</td>\n",
       "      <td>The Krung Thai Capital Protection Fixed 3M Fund3</td>\n",
       "      <td>KTFIX3M3</td>\n",
       "      <td>1.586474e+08</td>\n",
       "      <td>11.8175</td>\n",
       "      <td>NaN</td>\n",
       "      <td>NaT</td>\n",
       "      <td>11.7899</td>\n",
       "      <td>11.7898</td>\n",
       "    </tr>\n",
       "    <tr>\n",
       "      <th>22615</th>\n",
       "      <td>2019-05-27</td>\n",
       "      <td>OE</td>\n",
       "      <td></td>\n",
       "      <td>SKFM</td>\n",
       "      <td>SKFM</td>\n",
       "      <td>กองทุนเปิด เอสเคเอฟเอ็ม แม่โขง</td>\n",
       "      <td>SKFM Mekong Fund</td>\n",
       "      <td>SMF</td>\n",
       "      <td>5.803126e+07</td>\n",
       "      <td>8.2652</td>\n",
       "      <td>NaN</td>\n",
       "      <td>NaT</td>\n",
       "      <td>8.3980</td>\n",
       "      <td>8.2652</td>\n",
       "    </tr>\n",
       "    <tr>\n",
       "      <th>1835</th>\n",
       "      <td>2019-05-03</td>\n",
       "      <td>OE</td>\n",
       "      <td></td>\n",
       "      <td>KSAM</td>\n",
       "      <td>KSAM</td>\n",
       "      <td>กองทุนเปิดกรุงศรีโกลบอลเทคโนโลยีอิควิตี้เพื่อก...</td>\n",
       "      <td>Krungsri Global Technology Equity RMF</td>\n",
       "      <td>KFGTECHRMF</td>\n",
       "      <td>2.689581e+08</td>\n",
       "      <td>10.7461</td>\n",
       "      <td>NaN</td>\n",
       "      <td>NaT</td>\n",
       "      <td>10.7462</td>\n",
       "      <td>10.7461</td>\n",
       "    </tr>\n",
       "    <tr>\n",
       "      <th>12072</th>\n",
       "      <td>2019-05-15</td>\n",
       "      <td>OE</td>\n",
       "      <td></td>\n",
       "      <td>MANULIFEAM</td>\n",
       "      <td>MANULIFEAM</td>\n",
       "      <td>กองทุนเปิด แมนูไลฟ์ สเตร็งค์ เฟล็กซิเบิ้ลฟันด์...</td>\n",
       "      <td>Manulife Strength-Flexible Retirement Mutual Fund</td>\n",
       "      <td>MS-FLEX RMF</td>\n",
       "      <td>4.749593e+07</td>\n",
       "      <td>21.3866</td>\n",
       "      <td>NaN</td>\n",
       "      <td>NaT</td>\n",
       "      <td>21.3867</td>\n",
       "      <td>21.3866</td>\n",
       "    </tr>\n",
       "    <tr>\n",
       "      <th>1675</th>\n",
       "      <td>2019-05-03</td>\n",
       "      <td>OE</td>\n",
       "      <td></td>\n",
       "      <td>KASSET</td>\n",
       "      <td>KASSET</td>\n",
       "      <td>กองทุนเปิดเค แพลน 2</td>\n",
       "      <td>K PLAN 2 FUND</td>\n",
       "      <td>K-PLAN2</td>\n",
       "      <td>2.971511e+09</td>\n",
       "      <td>15.7935</td>\n",
       "      <td>NaN</td>\n",
       "      <td>NaT</td>\n",
       "      <td>15.8726</td>\n",
       "      <td>15.7935</td>\n",
       "    </tr>\n",
       "    <tr>\n",
       "      <th>9530</th>\n",
       "      <td>2019-05-13</td>\n",
       "      <td>OE</td>\n",
       "      <td></td>\n",
       "      <td>SCBAM</td>\n",
       "      <td>SCBAM</td>\n",
       "      <td>กองทุนเปิดไทยพาณิชย์ตราสารหนี้ต่างประเทศ 1YJ1</td>\n",
       "      <td>SCB Foreign Fixed Income Fund 1YJ1</td>\n",
       "      <td>SCBFF1YJ1</td>\n",
       "      <td>2.945412e+09</td>\n",
       "      <td>10.1208</td>\n",
       "      <td>NaN</td>\n",
       "      <td>NaT</td>\n",
       "      <td>NaN</td>\n",
       "      <td>NaN</td>\n",
       "    </tr>\n",
       "    <tr>\n",
       "      <th>2283</th>\n",
       "      <td>2019-05-03</td>\n",
       "      <td>OE</td>\n",
       "      <td></td>\n",
       "      <td>SCBAM</td>\n",
       "      <td>SCBAM</td>\n",
       "      <td>กองทุนเปิดไทยพาณิชย์ตราสารหนี้ต่างประเทศ 1YJ9</td>\n",
       "      <td>SCB Foreign Fixed Income Fund 1YJ9</td>\n",
       "      <td>SCBFF1YJ9</td>\n",
       "      <td>4.159186e+09</td>\n",
       "      <td>10.0760</td>\n",
       "      <td>NaN</td>\n",
       "      <td>NaT</td>\n",
       "      <td>NaN</td>\n",
       "      <td>NaN</td>\n",
       "    </tr>\n",
       "    <tr>\n",
       "      <th>6689</th>\n",
       "      <td>2019-05-09</td>\n",
       "      <td>OE</td>\n",
       "      <td></td>\n",
       "      <td>SCBAM</td>\n",
       "      <td>SCBAM</td>\n",
       "      <td>กองทุนเปิดไทยพาณิชย์ตราสารหนี้ต่างประเทศ 6MM1</td>\n",
       "      <td>SCB Foreign Fixed Income Fund 6MM1</td>\n",
       "      <td>SCBFF6MM1</td>\n",
       "      <td>4.456756e+09</td>\n",
       "      <td>10.0175</td>\n",
       "      <td>NaN</td>\n",
       "      <td>NaT</td>\n",
       "      <td>NaN</td>\n",
       "      <td>NaN</td>\n",
       "    </tr>\n",
       "  </tbody>\n",
       "</table>\n",
       "</div>"
      ],
      "text/plain": [
       "        nav_date   B  C        Firm           E  \\\n",
       "9593  2019-05-13  OE          SCBAM       SCBAM   \n",
       "1738  2019-05-03  OE         KASSET      KASSET   \n",
       "14865 2019-05-17  OE           KTAM        KTAM   \n",
       "22615 2019-05-27  OE           SKFM        SKFM   \n",
       "1835  2019-05-03  OE           KSAM        KSAM   \n",
       "12072 2019-05-15  OE     MANULIFEAM  MANULIFEAM   \n",
       "1675  2019-05-03  OE         KASSET      KASSET   \n",
       "9530  2019-05-13  OE          SCBAM       SCBAM   \n",
       "2283  2019-05-03  OE          SCBAM       SCBAM   \n",
       "6689  2019-05-09  OE          SCBAM       SCBAM   \n",
       "\n",
       "                                            proj_name_th  \\\n",
       "9593       กองทุนเปิดไทยพาณิชย์ตราสารหนี้ต่างประเทศ 6MM6   \n",
       "1738           กองทุนเปิดเค ตราสารหนี้ต่างประเทศ 1 ปี EZ   \n",
       "14865    กองทุนเปิดกรุงไทยประจำ 3 เดือนมุ่งรักษาเงินต้น3   \n",
       "22615                     กองทุนเปิด เอสเคเอฟเอ็ม แม่โขง   \n",
       "1835   กองทุนเปิดกรุงศรีโกลบอลเทคโนโลยีอิควิตี้เพื่อก...   \n",
       "12072  กองทุนเปิด แมนูไลฟ์ สเตร็งค์ เฟล็กซิเบิ้ลฟันด์...   \n",
       "1675                                 กองทุนเปิดเค แพลน 2   \n",
       "9530       กองทุนเปิดไทยพาณิชย์ตราสารหนี้ต่างประเทศ 1YJ1   \n",
       "2283       กองทุนเปิดไทยพาณิชย์ตราสารหนี้ต่างประเทศ 1YJ9   \n",
       "6689       กองทุนเปิดไทยพาณิชย์ตราสารหนี้ต่างประเทศ 6MM1   \n",
       "\n",
       "                                            proj_name_en    fund_code  \\\n",
       "9593                  SCB Foreign Fixed Income Fund 6MM6    SCBFF6MM6   \n",
       "1738               K Foreign Fixed Income 1 Year EZ Fund      KFF1YEZ   \n",
       "14865   The Krung Thai Capital Protection Fixed 3M Fund3     KTFIX3M3   \n",
       "22615                                   SKFM Mekong Fund          SMF   \n",
       "1835               Krungsri Global Technology Equity RMF   KFGTECHRMF   \n",
       "12072  Manulife Strength-Flexible Retirement Mutual Fund  MS-FLEX RMF   \n",
       "1675                                       K PLAN 2 FUND      K-PLAN2   \n",
       "9530                  SCB Foreign Fixed Income Fund 1YJ1    SCBFF1YJ1   \n",
       "2283                  SCB Foreign Fixed Income Fund 1YJ9    SCBFF1YJ9   \n",
       "6689                  SCB Foreign Fixed Income Fund 6MM1    SCBFF6MM1   \n",
       "\n",
       "          net_asset  nav_price  dividend_value book_close_date  sell_price  \\\n",
       "9593   2.671187e+09    10.0061             NaN             NaT         NaN   \n",
       "1738   2.523676e+09    10.1274             NaN             NaT         NaN   \n",
       "14865  1.586474e+08    11.8175             NaN             NaT     11.7899   \n",
       "22615  5.803126e+07     8.2652             NaN             NaT      8.3980   \n",
       "1835   2.689581e+08    10.7461             NaN             NaT     10.7462   \n",
       "12072  4.749593e+07    21.3866             NaN             NaT     21.3867   \n",
       "1675   2.971511e+09    15.7935             NaN             NaT     15.8726   \n",
       "9530   2.945412e+09    10.1208             NaN             NaT         NaN   \n",
       "2283   4.159186e+09    10.0760             NaN             NaT         NaN   \n",
       "6689   4.456756e+09    10.0175             NaN             NaT         NaN   \n",
       "\n",
       "       buy_price  \n",
       "9593         NaN  \n",
       "1738         NaN  \n",
       "14865    11.7898  \n",
       "22615     8.2652  \n",
       "1835     10.7461  \n",
       "12072    21.3866  \n",
       "1675     15.7935  \n",
       "9530         NaN  \n",
       "2283         NaN  \n",
       "6689         NaN  "
      ]
     },
     "execution_count": 22,
     "metadata": {},
     "output_type": "execute_result"
    }
   ],
   "source": [
    " # ลบข้อมูลที่เป็น่ค่าว่าง\n",
    "df = df.dropna(subset=['fund_code'])\n",
    "\n",
    "# Convert Type to DateTime\n",
    "df['nav_date'] = pd.to_datetime(df.nav_date,dayfirst=True ) \n",
    "df['book_close_date'] = pd.to_datetime(df.book_close_date,dayfirst=True ) \n",
    "df.sample(10)"
   ]
  },
  {
   "cell_type": "code",
   "execution_count": 23,
   "metadata": {},
   "outputs": [
    {
     "name": "stdout",
     "output_type": "stream",
     "text": [
      "<class 'pandas.core.frame.DataFrame'>\n",
      "Int64Index: 24220 entries, 0 to 24219\n",
      "Data columns (total 14 columns):\n",
      "nav_date           24220 non-null datetime64[ns]\n",
      "B                  24220 non-null object\n",
      "C                  24220 non-null object\n",
      "Firm               24220 non-null object\n",
      "E                  24220 non-null object\n",
      "proj_name_th       24220 non-null object\n",
      "proj_name_en       24220 non-null object\n",
      "fund_code          24220 non-null object\n",
      "net_asset          24220 non-null float64\n",
      "nav_price          24016 non-null float64\n",
      "dividend_value     3637 non-null float64\n",
      "book_close_date    3644 non-null datetime64[ns]\n",
      "sell_price         16490 non-null float64\n",
      "buy_price          16557 non-null float64\n",
      "dtypes: datetime64[ns](2), float64(5), object(7)\n",
      "memory usage: 2.8+ MB\n"
     ]
    }
   ],
   "source": [
    "df.info()"
   ]
  },
  {
   "cell_type": "code",
   "execution_count": 24,
   "metadata": {},
   "outputs": [
    {
     "data": {
      "text/html": [
       "<div>\n",
       "<style scoped>\n",
       "    .dataframe tbody tr th:only-of-type {\n",
       "        vertical-align: middle;\n",
       "    }\n",
       "\n",
       "    .dataframe tbody tr th {\n",
       "        vertical-align: top;\n",
       "    }\n",
       "\n",
       "    .dataframe thead th {\n",
       "        text-align: right;\n",
       "    }\n",
       "</style>\n",
       "<table border=\"1\" class=\"dataframe\">\n",
       "  <thead>\n",
       "    <tr style=\"text-align: right;\">\n",
       "      <th></th>\n",
       "      <th>net_asset</th>\n",
       "      <th>nav_price</th>\n",
       "      <th>dividend_value</th>\n",
       "      <th>sell_price</th>\n",
       "      <th>buy_price</th>\n",
       "    </tr>\n",
       "  </thead>\n",
       "  <tbody>\n",
       "    <tr>\n",
       "      <th>count</th>\n",
       "      <td>2.422000e+04</td>\n",
       "      <td>24016.000000</td>\n",
       "      <td>3637.000000</td>\n",
       "      <td>16490.000000</td>\n",
       "      <td>16557.000000</td>\n",
       "    </tr>\n",
       "    <tr>\n",
       "      <th>mean</th>\n",
       "      <td>3.202226e+09</td>\n",
       "      <td>14.742248</td>\n",
       "      <td>0.510885</td>\n",
       "      <td>15.722534</td>\n",
       "      <td>15.684205</td>\n",
       "    </tr>\n",
       "    <tr>\n",
       "      <th>std</th>\n",
       "      <td>1.367615e+10</td>\n",
       "      <td>37.100968</td>\n",
       "      <td>0.756117</td>\n",
       "      <td>34.515340</td>\n",
       "      <td>34.472839</td>\n",
       "    </tr>\n",
       "    <tr>\n",
       "      <th>min</th>\n",
       "      <td>2.223621e+06</td>\n",
       "      <td>0.940200</td>\n",
       "      <td>0.029300</td>\n",
       "      <td>0.945000</td>\n",
       "      <td>0.940200</td>\n",
       "    </tr>\n",
       "    <tr>\n",
       "      <th>25%</th>\n",
       "      <td>1.671984e+08</td>\n",
       "      <td>10.004675</td>\n",
       "      <td>0.190000</td>\n",
       "      <td>9.845350</td>\n",
       "      <td>9.733100</td>\n",
       "    </tr>\n",
       "    <tr>\n",
       "      <th>50%</th>\n",
       "      <td>7.461523e+08</td>\n",
       "      <td>10.334300</td>\n",
       "      <td>0.290000</td>\n",
       "      <td>11.082950</td>\n",
       "      <td>10.967600</td>\n",
       "    </tr>\n",
       "    <tr>\n",
       "      <th>75%</th>\n",
       "      <td>2.494636e+09</td>\n",
       "      <td>12.524725</td>\n",
       "      <td>0.550000</td>\n",
       "      <td>14.228325</td>\n",
       "      <td>14.052800</td>\n",
       "    </tr>\n",
       "    <tr>\n",
       "      <th>max</th>\n",
       "      <td>3.825022e+11</td>\n",
       "      <td>1256.202000</td>\n",
       "      <td>8.500000</td>\n",
       "      <td>1257.332200</td>\n",
       "      <td>1252.312900</td>\n",
       "    </tr>\n",
       "  </tbody>\n",
       "</table>\n",
       "</div>"
      ],
      "text/plain": [
       "          net_asset     nav_price  dividend_value    sell_price     buy_price\n",
       "count  2.422000e+04  24016.000000     3637.000000  16490.000000  16557.000000\n",
       "mean   3.202226e+09     14.742248        0.510885     15.722534     15.684205\n",
       "std    1.367615e+10     37.100968        0.756117     34.515340     34.472839\n",
       "min    2.223621e+06      0.940200        0.029300      0.945000      0.940200\n",
       "25%    1.671984e+08     10.004675        0.190000      9.845350      9.733100\n",
       "50%    7.461523e+08     10.334300        0.290000     11.082950     10.967600\n",
       "75%    2.494636e+09     12.524725        0.550000     14.228325     14.052800\n",
       "max    3.825022e+11   1256.202000        8.500000   1257.332200   1252.312900"
      ]
     },
     "execution_count": 24,
     "metadata": {},
     "output_type": "execute_result"
    }
   ],
   "source": [
    "df.describe()"
   ]
  },
  {
   "cell_type": "code",
   "execution_count": 25,
   "metadata": {},
   "outputs": [
    {
     "data": {
      "text/html": [
       "<div>\n",
       "<style scoped>\n",
       "    .dataframe tbody tr th:only-of-type {\n",
       "        vertical-align: middle;\n",
       "    }\n",
       "\n",
       "    .dataframe tbody tr th {\n",
       "        vertical-align: top;\n",
       "    }\n",
       "\n",
       "    .dataframe thead th {\n",
       "        text-align: right;\n",
       "    }\n",
       "</style>\n",
       "<table border=\"1\" class=\"dataframe\">\n",
       "  <thead>\n",
       "    <tr style=\"text-align: right;\">\n",
       "      <th></th>\n",
       "      <th>nav_date</th>\n",
       "      <th>fund_code</th>\n",
       "      <th>nav_price</th>\n",
       "      <th>net_asset</th>\n",
       "      <th>sell_price</th>\n",
       "      <th>buy_price</th>\n",
       "      <th>dividend_value</th>\n",
       "      <th>book_close_date</th>\n",
       "      <th>Firm</th>\n",
       "      <th>proj_name_th</th>\n",
       "      <th>proj_name_en</th>\n",
       "    </tr>\n",
       "  </thead>\n",
       "  <tbody>\n",
       "    <tr>\n",
       "      <th>0</th>\n",
       "      <td>2019-05-02</td>\n",
       "      <td>MJLF</td>\n",
       "      <td>12.1474</td>\n",
       "      <td>4.008653e+09</td>\n",
       "      <td>NaN</td>\n",
       "      <td>NaN</td>\n",
       "      <td>0.2300</td>\n",
       "      <td>2013-11-26</td>\n",
       "      <td>KASSET</td>\n",
       "      <td>กองทุนรวมสิทธิการเช่าอสังหาริมทรัพย์เมเจอร์ ซี...</td>\n",
       "      <td>Major Cineplex Lifestyle Leasehold Property Fund</td>\n",
       "    </tr>\n",
       "    <tr>\n",
       "      <th>1</th>\n",
       "      <td>2019-05-02</td>\n",
       "      <td>CTARAF</td>\n",
       "      <td>10.1526</td>\n",
       "      <td>3.248834e+09</td>\n",
       "      <td>NaN</td>\n",
       "      <td>NaN</td>\n",
       "      <td>0.0430</td>\n",
       "      <td>2013-08-28</td>\n",
       "      <td>KASSET</td>\n",
       "      <td>กองทุนรวมสิทธิการเช่าอสังหาริมทรัพย์โรงแรมและร...</td>\n",
       "      <td>Centara Hotels &amp;amp; Resorts Leasehold Propert...</td>\n",
       "    </tr>\n",
       "    <tr>\n",
       "      <th>2</th>\n",
       "      <td>2019-05-02</td>\n",
       "      <td>GOLDPF</td>\n",
       "      <td>11.0148</td>\n",
       "      <td>2.269067e+09</td>\n",
       "      <td>NaN</td>\n",
       "      <td>NaN</td>\n",
       "      <td>0.1360</td>\n",
       "      <td>2013-08-28</td>\n",
       "      <td>KASSET</td>\n",
       "      <td>กองทุนรวมสิทธิการเช่าอสังหาริมทรัพย์โกลด์</td>\n",
       "      <td>Gold Property Fund (Lease Hold)</td>\n",
       "    </tr>\n",
       "    <tr>\n",
       "      <th>3</th>\n",
       "      <td>2019-05-02</td>\n",
       "      <td>KPNPF</td>\n",
       "      <td>10.2108</td>\n",
       "      <td>1.837954e+09</td>\n",
       "      <td>NaN</td>\n",
       "      <td>NaN</td>\n",
       "      <td>0.1625</td>\n",
       "      <td>2013-11-26</td>\n",
       "      <td>KASSET</td>\n",
       "      <td>กองทุนรวมอสังหาริมทรัพย์เคพีเอ็น</td>\n",
       "      <td>KPN Property Fund</td>\n",
       "    </tr>\n",
       "    <tr>\n",
       "      <th>4</th>\n",
       "      <td>2019-05-02</td>\n",
       "      <td>RGPF</td>\n",
       "      <td>25.3412</td>\n",
       "      <td>2.075008e+10</td>\n",
       "      <td>NaN</td>\n",
       "      <td>NaN</td>\n",
       "      <td>NaN</td>\n",
       "      <td>NaT</td>\n",
       "      <td>KTAM</td>\n",
       "      <td>รีเจนท์โกลด์พร็อพเพอร์ตี้ฟันด์</td>\n",
       "      <td>Regent Gold Property Fund</td>\n",
       "    </tr>\n",
       "  </tbody>\n",
       "</table>\n",
       "</div>"
      ],
      "text/plain": [
       "    nav_date fund_code  nav_price     net_asset  sell_price  buy_price  \\\n",
       "0 2019-05-02      MJLF    12.1474  4.008653e+09         NaN        NaN   \n",
       "1 2019-05-02    CTARAF    10.1526  3.248834e+09         NaN        NaN   \n",
       "2 2019-05-02    GOLDPF    11.0148  2.269067e+09         NaN        NaN   \n",
       "3 2019-05-02     KPNPF    10.2108  1.837954e+09         NaN        NaN   \n",
       "4 2019-05-02      RGPF    25.3412  2.075008e+10         NaN        NaN   \n",
       "\n",
       "   dividend_value book_close_date    Firm  \\\n",
       "0          0.2300      2013-11-26  KASSET   \n",
       "1          0.0430      2013-08-28  KASSET   \n",
       "2          0.1360      2013-08-28  KASSET   \n",
       "3          0.1625      2013-11-26  KASSET   \n",
       "4             NaN             NaT    KTAM   \n",
       "\n",
       "                                        proj_name_th  \\\n",
       "0  กองทุนรวมสิทธิการเช่าอสังหาริมทรัพย์เมเจอร์ ซี...   \n",
       "1  กองทุนรวมสิทธิการเช่าอสังหาริมทรัพย์โรงแรมและร...   \n",
       "2          กองทุนรวมสิทธิการเช่าอสังหาริมทรัพย์โกลด์   \n",
       "3                   กองทุนรวมอสังหาริมทรัพย์เคพีเอ็น   \n",
       "4                     รีเจนท์โกลด์พร็อพเพอร์ตี้ฟันด์   \n",
       "\n",
       "                                        proj_name_en  \n",
       "0   Major Cineplex Lifestyle Leasehold Property Fund  \n",
       "1  Centara Hotels &amp; Resorts Leasehold Propert...  \n",
       "2                    Gold Property Fund (Lease Hold)  \n",
       "3                                  KPN Property Fund  \n",
       "4                          Regent Gold Property Fund  "
      ]
     },
     "execution_count": 25,
     "metadata": {},
     "output_type": "execute_result"
    }
   ],
   "source": [
    "df = df.loc[:, ['nav_date',\"fund_code\",'nav_price','net_asset','sell_price',\n",
    "                             'buy_price','dividend_value','book_close_date','Firm','proj_name_th','proj_name_en']]\n",
    "df.head()"
   ]
  },
  {
   "cell_type": "code",
   "execution_count": 26,
   "metadata": {},
   "outputs": [
    {
     "data": {
      "text/plain": [
       "1507"
      ]
     },
     "execution_count": 26,
     "metadata": {},
     "output_type": "execute_result"
    }
   ],
   "source": [
    "# หาจำนวนกองทุน\n",
    "\n",
    "len(df['fund_code'].unique())"
   ]
  },
  {
   "cell_type": "code",
   "execution_count": 30,
   "metadata": {},
   "outputs": [
    {
     "data": {
      "text/plain": [
       "array(['KASSET', 'KTAM', 'KSAM', 'ONEAM', 'TMBAM', 'UOBAMTH', 'ABERDEEN',\n",
       "       'ASSETFUND', 'BCAP', 'BBLAM', 'CIMB-PRINCIPAL', 'S-FUNDS',\n",
       "       'LHFUND', 'MANULIFEAM', 'MFC', 'PHATRA ASSET', 'PAMC', 'SCBAM',\n",
       "       'SKFM', 'TALISAM', 'THANACHART FUND', 'TISCOASSET', 'WEASSET'],\n",
       "      dtype=object)"
      ]
     },
     "execution_count": 30,
     "metadata": {},
     "output_type": "execute_result"
    }
   ],
   "source": [
    "# บริษัทจัดการกองทุน\n",
    "\n",
    "agent = df['Firm'].unique()\n",
    "agent"
   ]
  },
  {
   "cell_type": "code",
   "execution_count": 31,
   "metadata": {},
   "outputs": [
    {
     "data": {
      "text/plain": [
       "23"
      ]
     },
     "execution_count": 31,
     "metadata": {},
     "output_type": "execute_result"
    }
   ],
   "source": [
    "len(agent)"
   ]
  },
  {
   "cell_type": "code",
   "execution_count": null,
   "metadata": {},
   "outputs": [],
   "source": []
  },
  {
   "cell_type": "code",
   "execution_count": null,
   "metadata": {},
   "outputs": [],
   "source": []
  },
  {
   "cell_type": "markdown",
   "metadata": {},
   "source": [
    "# Create Database"
   ]
  },
  {
   "cell_type": "markdown",
   "metadata": {},
   "source": [
    "- https://docs.python.org/3/library/sqlite3.html\n",
    "- http://sebastianraschka.com/Articles/2014_sqlite_in_python_tutorial.html#creating-a-new-sqlite-database\n",
    "-https://www.dataquest.io/blog/python-pandas-databases/\n",
    "- SQL Basics: Working with Databases : https://www.dataquest.io/blog/sql-basics/\n"
   ]
  },
  {
   "cell_type": "code",
   "execution_count": null,
   "metadata": {},
   "outputs": [],
   "source": [
    "import sqlite3, json\n",
    "from sqlite3 import Error\n",
    "\n",
    "def create_connection(database):\n",
    "    try:\n",
    "        conn = sqlite3.connect(database, isolationlevel=None, checksamethread = False)\n",
    "        conn.row_factory = lambda c, r: dict(zip(_[_col_[_0] for col in c.description], r))\n",
    "\n",
    "        return conn\n",
    "    except Error as e:\n",
    "        print(e)\n",
    "\n",
    "def create_table(c):\n",
    "    sql = \"\"\" \n",
    "        CREATE TABLE IF NOT EXISTS articles (\n",
    "            id integer PRIMARY KEY,\n",
    "            name varchar(225) NOT NULL,\n",
    "            body varchar(255) NOT NULL\n",
    "        ); \n",
    "    \"\"\"\n",
    "    \n",
    "# ***   'nav_date',\"fund_code\",'nav_price','net_asset','sell_price',\n",
    " #                            'buy_price','dividend_value','book_close_date','Firm','proj_name_th','proj_name_en'\n",
    "    \n",
    "    \n",
    "    c.execute(sql)\n",
    "\n",
    "def insert_db(c, name, body):\n",
    "    sql = ''' INSERT INTO articles(name, body)\n",
    "                VALUES (?, ?) '''\n",
    "    c.execute(sql, (name, body))\n",
    "\n",
    "def select_all_items(c, name):\n",
    "    c.execute(\"SELECT * FROM articles WHERE name like ?\", ('%'+name+'%',))\n",
    "    rows = c.fetchall()\n",
    "    return rows\n",
    "\n",
    "def main():\n",
    "    database = \"./sqlite.db\"\n",
    "\n",
    "    # create a database connection\n",
    "    conn = create_connection(database)\n",
    "\n",
    "    # create items table\n",
    "    create_table(conn)\n",
    "\n",
    "    # confirm that table is created\n",
    "    print(\"Connection established!\")\n",
    "\n",
    "if _**name == '**_main_':\n",
    "    main()"
   ]
  },
  {
   "cell_type": "code",
   "execution_count": null,
   "metadata": {
    "scrolled": true
   },
   "outputs": [],
   "source": [
    "print(all_nav[all_nav['fund_code']=='TMB50'])"
   ]
  },
  {
   "cell_type": "code",
   "execution_count": null,
   "metadata": {},
   "outputs": [],
   "source": []
  },
  {
   "cell_type": "code",
   "execution_count": null,
   "metadata": {},
   "outputs": [],
   "source": [
    "import os\n",
    "import pandas as pd\n",
    "from datetime import date\n",
    "import pandas_datareader.data as web \n",
    "import numpy as np\n",
    "\n",
    "n = ['nav_date','B','C','Firm','E','proj_name_th','proj_name_en','fund_code','net_asset',\n",
    "     'nav_price','dividend_value','book_close_date','sell_price','buy_price']\n",
    "get_nav = pd.read_csv('temp.txt',header=None,names=n,encoding='utf-8')\n",
    "get_nav.sample(5)"
   ]
  },
  {
   "cell_type": "code",
   "execution_count": null,
   "metadata": {},
   "outputs": [],
   "source": []
  },
  {
   "cell_type": "code",
   "execution_count": 1,
   "metadata": {},
   "outputs": [],
   "source": [
    "import requests \n",
    "from bs4 import BeautifulSoup \n",
    "  \n",
    "def news(): \n",
    "    # the target we want to open     \n",
    "    url='http://www.thaimutualfund.com/AIMC/aimc_navCenterDownloadRepRep.jsp?date1=01/04/2562&date2=30/04/2562'\n",
    "      \n",
    "    #open with GET method \n",
    "    resp=requests.get(url) \n",
    "      \n",
    "    #http_respone 200 means OK status \n",
    "    if resp.status_code==200: \n",
    "        print(\"Successfully opened the web page\") \n",
    "        print(\"The news are as follow :-\\n\") \n",
    "      \n",
    "        # we need a parser,Python built-in HTML parser is enough . \n",
    "        soup=BeautifulSoup(resp.text,'html.parser')     \n",
    "        print(soup)\n",
    "        # l is the list which contains all the text i.e news  \n",
    "        \n",
    "    else: \n",
    "        print(\"Error\")           \n"
   ]
  },
  {
   "cell_type": "code",
   "execution_count": 2,
   "metadata": {},
   "outputs": [
    {
     "name": "stderr",
     "output_type": "stream",
     "text": [
      "IOPub data rate exceeded.\n",
      "The notebook server will temporarily stop sending output\n",
      "to the client in order to avoid crashing it.\n",
      "To change this limit, set the config variable\n",
      "`--NotebookApp.iopub_data_rate_limit`.\n",
      "\n",
      "Current values:\n",
      "NotebookApp.iopub_data_rate_limit=1000000.0 (bytes/sec)\n",
      "NotebookApp.rate_limit_window=3.0 (secs)\n",
      "\n"
     ]
    }
   ],
   "source": [
    "import requests \n",
    "URL = \"http://www.thaimutualfund.com/AIMC/aimc_navCenterDownloadRepRep.jsp?date1=01/04/2562&date2=30/04/2562\"\n",
    "r = requests.get(URL) \n",
    "print(r.content) "
   ]
  },
  {
   "cell_type": "code",
   "execution_count": 4,
   "metadata": {},
   "outputs": [
    {
     "name": "stdout",
     "output_type": "stream",
     "text": [
      "Collecting package metadata: ...working... done\n",
      "Solving environment: ...working... \n",
      "The environment is inconsistent, please check the package plan carefully\n",
      "The following packages are causing the inconsistency:\n",
      "\n",
      "  - defaults/win-64::anaconda==5.3.1=py37_0\n",
      "failed\n"
     ]
    },
    {
     "name": "stderr",
     "output_type": "stream",
     "text": [
      "\n",
      "PackagesNotFoundError: The following packages are not available from current channels:\n",
      "\n",
      "  - urllib\n",
      "\n",
      "Current channels:\n",
      "\n",
      "  - https://repo.anaconda.com/pkgs/main/win-64\n",
      "  - https://repo.anaconda.com/pkgs/main/noarch\n",
      "  - https://repo.anaconda.com/pkgs/free/win-64\n",
      "  - https://repo.anaconda.com/pkgs/free/noarch\n",
      "  - https://repo.anaconda.com/pkgs/r/win-64\n",
      "  - https://repo.anaconda.com/pkgs/r/noarch\n",
      "  - https://repo.anaconda.com/pkgs/msys2/win-64\n",
      "  - https://repo.anaconda.com/pkgs/msys2/noarch\n",
      "\n",
      "To search for alternate channels that may provide the conda package you're\n",
      "looking for, navigate to\n",
      "\n",
      "    https://anaconda.org\n",
      "\n",
      "and use the search bar at the top of the page.\n",
      "\n",
      "\n"
     ]
    }
   ],
   "source": [
    "!conda install urllib"
   ]
  },
  {
   "cell_type": "code",
   "execution_count": 3,
   "metadata": {},
   "outputs": [
    {
     "ename": "SyntaxError",
     "evalue": "invalid syntax (<ipython-input-3-b34f1c1c1f5f>, line 1)",
     "output_type": "error",
     "traceback": [
      "\u001b[1;36m  File \u001b[1;32m\"<ipython-input-3-b34f1c1c1f5f>\"\u001b[1;36m, line \u001b[1;32m1\u001b[0m\n\u001b[1;33m    import urllib.request import urlopen\u001b[0m\n\u001b[1;37m                               ^\u001b[0m\n\u001b[1;31mSyntaxError\u001b[0m\u001b[1;31m:\u001b[0m invalid syntax\n"
     ]
    }
   ],
   "source": [
    "import urllib.request import urlopen\n",
    "\n",
    "r = urlopen(\"http://www.thaimutualfund.com/AIMC/aimc_navCenterDownloadRepRep.jsp?date1=01/04/2562&date2=30/04/2562\")\n",
    "\n",
    "for line in r:\n",
    "    do_somthing()"
   ]
  },
  {
   "cell_type": "code",
   "execution_count": null,
   "metadata": {},
   "outputs": [],
   "source": []
  },
  {
   "cell_type": "code",
   "execution_count": null,
   "metadata": {},
   "outputs": [],
   "source": [
    "n = ['nav_date','B','C','Firm','E','proj_name_th','proj_name_en','fund_code','net_asset',\n",
    "     'nav_price','dividend_value','book_close_date','sell_price','buy_price']\n",
    "get_nav = pd.read_csv('download/2019-05-NAV.txt',header=None,names=n,encoding='utf-8')\n",
    "get_nav.sample(5)"
   ]
  },
  {
   "cell_type": "code",
   "execution_count": null,
   "metadata": {},
   "outputs": [],
   "source": [
    "#เลือก Column\n",
    "nav = get_nav.loc[:, ['nav_date',\"fund_code\",'nav_price','net_asset','sell_price',\n",
    "                             'buy_price','dividend_value','book_close_date','Firm','proj_name_th','proj_name_en']]\n",
    "nav.head()"
   ]
  },
  {
   "cell_type": "code",
   "execution_count": null,
   "metadata": {},
   "outputs": [],
   "source": [
    "nav.info()"
   ]
  },
  {
   "cell_type": "code",
   "execution_count": null,
   "metadata": {},
   "outputs": [],
   "source": []
  },
  {
   "cell_type": "code",
   "execution_count": null,
   "metadata": {},
   "outputs": [],
   "source": []
  },
  {
   "cell_type": "code",
   "execution_count": null,
   "metadata": {},
   "outputs": [],
   "source": [
    "# ตรวจสอบรายละเอียดราคากองทุนด้วย Code\n",
    "\n",
    "print(nav[nav['fund_code']=='1AMSET50'])"
   ]
  },
  {
   "cell_type": "code",
   "execution_count": null,
   "metadata": {},
   "outputs": [],
   "source": [
    "s= nav.fund_code.unique()\n",
    "len(s)"
   ]
  },
  {
   "cell_type": "code",
   "execution_count": null,
   "metadata": {},
   "outputs": [],
   "source": [
    "nav.describe()"
   ]
  },
  {
   "cell_type": "code",
   "execution_count": null,
   "metadata": {},
   "outputs": [],
   "source": []
  },
  {
   "cell_type": "code",
   "execution_count": null,
   "metadata": {},
   "outputs": [],
   "source": []
  },
  {
   "cell_type": "code",
   "execution_count": null,
   "metadata": {},
   "outputs": [],
   "source": []
  },
  {
   "cell_type": "code",
   "execution_count": null,
   "metadata": {},
   "outputs": [],
   "source": []
  },
  {
   "cell_type": "code",
   "execution_count": null,
   "metadata": {},
   "outputs": [],
   "source": []
  },
  {
   "cell_type": "markdown",
   "metadata": {},
   "source": [
    "# ค้นหาชื่อกองทุนด้วยชื่อย่อหรือชื่อกองทุนบางส่วน"
   ]
  },
  {
   "cell_type": "code",
   "execution_count": null,
   "metadata": {},
   "outputs": [],
   "source": [
    "import http.client, urllib.request, urllib.parse, urllib.error, base64\n",
    "\n",
    "headers = {\n",
    "    # Request headers\n",
    "    'Content-Type': 'application/json',\n",
    "    'Ocp-Apim-Subscription-Key': '9a59e81ff953449e9df599624eed1968',\n",
    "}\n",
    "\n",
    "params = urllib.parse.urlencode({\n",
    "})\n",
    "\n",
    "try:\n",
    "    conn = http.client.HTTPSConnection('api.sec.or.th')\n",
    "    conn.request(\"POST\", \"/FundFactsheet/fund?%s\" % params, \"{name=TMB50}\", headers) # ทดสอบ 'TMB50'\n",
    "    #https://api.sec.or.th/FundFactsheet/fund?proj_abbr_name=TMB50\n",
    "    response = conn.getresponse()\n",
    "    data = response.read()\n",
    "    print(data)\n",
    "    conn.close()\n",
    "except Exception as e:\n",
    "    print(\"[Errno {0}] {1}\".format(e.errno, e.strerror))\n"
   ]
  },
  {
   "cell_type": "code",
   "execution_count": null,
   "metadata": {},
   "outputs": [],
   "source": []
  },
  {
   "cell_type": "code",
   "execution_count": null,
   "metadata": {},
   "outputs": [],
   "source": []
  },
  {
   "cell_type": "code",
   "execution_count": null,
   "metadata": {},
   "outputs": [],
   "source": []
  },
  {
   "cell_type": "code",
   "execution_count": null,
   "metadata": {},
   "outputs": [],
   "source": []
  },
  {
   "cell_type": "code",
   "execution_count": null,
   "metadata": {},
   "outputs": [],
   "source": [
    "# Data : https://api-portal.sec.or.th/apidesc\n",
    "\n",
    "import http.client\n",
    "import requests\n",
    "import urllib.parse\n",
    "import urllib.error\n",
    "import base64\n",
    "import json\n",
    "import pandas as pd\n",
    "\n",
    "headers = {\n",
    "    # Request headers\n",
    "    'Ocp-Apim-Subscription-Key': \"9a59e81ff953449e9df599624eed1968\",\n",
    "}\n",
    "\n",
    "params = urllib.parse.urlencode({\n",
    "})\n",
    "\n",
    "#for i in range(len(comp)):\n",
    "try:\n",
    "    conn = http.client.HTTPSConnection('api.sec.or.th')\n",
    "    response = conn.request(\"GET\", \"/FundFactsheet/fund/amc/C0000000021?%s\" % params, \"{body}\", headers)\n",
    "    response = conn.getresponse()\n",
    "    fund = response.read()  \n",
    "    j = pd.io.json.loads(fund)\n",
    "    ja = ja\n",
    "    conn.close()\n",
    "except Exception as e:\n",
    "    print(\"[Errno {0}] {1}\".format(e.errno, e.strerror))\n"
   ]
  },
  {
   "cell_type": "code",
   "execution_count": null,
   "metadata": {},
   "outputs": [],
   "source": [
    "print(fund)"
   ]
  },
  {
   "cell_type": "code",
   "execution_count": null,
   "metadata": {
    "scrolled": true
   },
   "outputs": [],
   "source": [
    "print(comp)"
   ]
  },
  {
   "cell_type": "code",
   "execution_count": null,
   "metadata": {},
   "outputs": [],
   "source": [
    "import pandas as pd\n",
    "import json\n",
    "import requests\n",
    "%matplotlib inline\n",
    "import time"
   ]
  },
  {
   "cell_type": "code",
   "execution_count": null,
   "metadata": {},
   "outputs": [],
   "source": [
    "all_funds = []\n",
    "for i in range(len(comp)):\n",
    "    url = (f'https://api.sec.or.th/FundFactsheet/fund/amc/{comp[i]}')\n",
    "    headers = {'Ocp-Apim-Subscription-Key': '9a59e81ff953449e9df599624eed1968'}\n",
    "    response = requests.request('GET', url,headers=headers)\n",
    "    projects = pd.read_json(response.content)\n",
    "    time.sleep(500)\n",
    "    all_funds = all_funds.append(projects[['proj_id', 'proj_abbr_name','proj_name_en', 'proj_name_th','unique_id']])\n"
   ]
  },
  {
   "cell_type": "code",
   "execution_count": null,
   "metadata": {},
   "outputs": [],
   "source": [
    "print(all_funds)"
   ]
  },
  {
   "cell_type": "raw",
   "metadata": {},
   "source": [
    "j = pd.io.json.loads(response.text)\n",
    "print(type(j))\n",
    "j"
   ]
  },
  {
   "cell_type": "code",
   "execution_count": null,
   "metadata": {},
   "outputs": [],
   "source": [
    "f"
   ]
  },
  {
   "cell_type": "code",
   "execution_count": null,
   "metadata": {},
   "outputs": [],
   "source": [
    "GET https://api.sec.or.th/FundFactsheet/fund/amc/C0000000623 "
   ]
  },
  {
   "cell_type": "code",
   "execution_count": null,
   "metadata": {},
   "outputs": [],
   "source": [
    "f = open('company.txt','w',encoding='utf-8')\n",
    "f.write (str(data))\n",
    "#หรือ f.writelines(s)\n",
    "f.close()"
   ]
  },
  {
   "cell_type": "code",
   "execution_count": null,
   "metadata": {},
   "outputs": [],
   "source": []
  },
  {
   "cell_type": "code",
   "execution_count": null,
   "metadata": {},
   "outputs": [],
   "source": []
  },
  {
   "cell_type": "code",
   "execution_count": null,
   "metadata": {},
   "outputs": [],
   "source": [
    "import csv\n",
    "\n",
    "f = open('http://www.thaimutualfund.com/AIMC/aimc_navCenterDownloadRepRep.jsp?date1=01/04/2562&date2=30/04/2562', 'r')\n",
    "reader = csv.reader(f) \n",
    "prinit(reader)"
   ]
  },
  {
   "cell_type": "code",
   "execution_count": null,
   "metadata": {},
   "outputs": [],
   "source": [
    "import requests\n",
    "import urllib.request\n",
    "import time\n",
    "from bs4 import BeautifulSoup"
   ]
  },
  {
   "cell_type": "code",
   "execution_count": null,
   "metadata": {},
   "outputs": [],
   "source": [
    "# Set the URL you want to webscrape from\n",
    "url = 'http://www.thaimutualfund.com/AIMC/aimc_navCenterDownloadRepRep.jsp?date1=01/04/2562&date2=30/04/2562'\n",
    "# Connect to the URL\n",
    "response = requests.get(url)"
   ]
  },
  {
   "cell_type": "code",
   "execution_count": null,
   "metadata": {},
   "outputs": [],
   "source": [
    "print(response.text)"
   ]
  },
  {
   "cell_type": "code",
   "execution_count": null,
   "metadata": {},
   "outputs": [],
   "source": [
    "import requests\n",
    "sites = [\n",
    "    'http://www.thaimutualfund.com/AIMC/aimc_navCenterDownloadRepRep.jsp?date1=01/04/2562&date2=30/04/2562',\n",
    "  \n",
    "]\n",
    "for url in sites:\n",
    "    r = requests.get(url)      \n",
    "   \n",
    "    page_source = r.text\n",
    "    page_source = page_source.split('\\n')\n",
    "    print(\"\\nURL:\", url) \n",
    "    print(\"--------------------------------------\")\n",
    "    # print the first five lines of the page source\n",
    "    for row in page_source[:50]:\n",
    "        print(row)\n",
    "    print(\"--------------------------------------\")"
   ]
  },
  {
   "cell_type": "code",
   "execution_count": null,
   "metadata": {},
   "outputs": [],
   "source": []
  },
  {
   "cell_type": "code",
   "execution_count": null,
   "metadata": {},
   "outputs": [],
   "source": []
  },
  {
   "cell_type": "code",
   "execution_count": null,
   "metadata": {},
   "outputs": [],
   "source": [
    "with open('nishikaze.txt','r',encoding='utf-8') as f:\n",
    "    for r in f.readlines():\n",
    "        f.write('~~ '+r,end='')"
   ]
  },
  {
   "cell_type": "code",
   "execution_count": null,
   "metadata": {},
   "outputs": [],
   "source": []
  },
  {
   "cell_type": "code",
   "execution_count": null,
   "metadata": {},
   "outputs": [],
   "source": []
  }
 ],
 "metadata": {
  "kernelspec": {
   "display_name": "Python 3",
   "language": "python",
   "name": "python3"
  },
  "language_info": {
   "codemirror_mode": {
    "name": "ipython",
    "version": 3
   },
   "file_extension": ".py",
   "mimetype": "text/x-python",
   "name": "python",
   "nbconvert_exporter": "python",
   "pygments_lexer": "ipython3",
   "version": "3.7.3"
  }
 },
 "nbformat": 4,
 "nbformat_minor": 2
}
