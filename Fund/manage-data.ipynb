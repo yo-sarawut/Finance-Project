{
 "cells": [
  {
   "cell_type": "markdown",
   "metadata": {},
   "source": [
    "# Manage Data for Project"
   ]
  },
  {
   "cell_type": "code",
   "execution_count": 2,
   "metadata": {
    "ExecuteTime": {
     "end_time": "2019-08-30T07:05:11.440741Z",
     "start_time": "2019-08-30T07:05:11.009009Z"
    }
   },
   "outputs": [],
   "source": [
    "import pandas as pd\n"
   ]
  },
  {
   "cell_type": "code",
   "execution_count": 3,
   "metadata": {
    "ExecuteTime": {
     "end_time": "2019-08-30T07:05:11.460727Z",
     "start_time": "2019-08-30T07:05:11.450733Z"
    }
   },
   "outputs": [
    {
     "data": {
      "text/plain": [
       "'0.24.2'"
      ]
     },
     "execution_count": 3,
     "metadata": {},
     "output_type": "execute_result"
    }
   ],
   "source": [
    "pd.__version__"
   ]
  },
  {
   "cell_type": "code",
   "execution_count": 4,
   "metadata": {
    "ExecuteTime": {
     "end_time": "2019-08-30T07:05:12.187276Z",
     "start_time": "2019-08-30T07:05:12.145303Z"
    },
    "scrolled": true
   },
   "outputs": [
    {
     "data": {
      "text/plain": [
       "Timestamp('2019-08-30 14:05:12.182279')"
      ]
     },
     "execution_count": 4,
     "metadata": {},
     "output_type": "execute_result"
    }
   ],
   "source": [
    "pd.Timestamp.today()"
   ]
  },
  {
   "cell_type": "markdown",
   "metadata": {},
   "source": [
    "# จัดการเรื่องรายละเอียดกองทุน"
   ]
  },
  {
   "cell_type": "markdown",
   "metadata": {},
   "source": [
    "การจัดกลุ่มกองทุนโดย AIMC"
   ]
  },
  {
   "cell_type": "code",
   "execution_count": 5,
   "metadata": {
    "ExecuteTime": {
     "end_time": "2019-08-30T07:05:15.587168Z",
     "start_time": "2019-08-30T07:05:15.313338Z"
    }
   },
   "outputs": [
    {
     "data": {
      "text/html": [
       "<div>\n",
       "<style scoped>\n",
       "    .dataframe tbody tr th:only-of-type {\n",
       "        vertical-align: middle;\n",
       "    }\n",
       "\n",
       "    .dataframe tbody tr th {\n",
       "        vertical-align: top;\n",
       "    }\n",
       "\n",
       "    .dataframe thead th {\n",
       "        text-align: right;\n",
       "    }\n",
       "</style>\n",
       "<table border=\"1\" class=\"dataframe\">\n",
       "  <thead>\n",
       "    <tr style=\"text-align: right;\">\n",
       "      <th></th>\n",
       "      <th>Fund Legal Name</th>\n",
       "      <th>Local Name - Thai</th>\n",
       "      <th>Fund Code</th>\n",
       "      <th>Firm Name</th>\n",
       "      <th>AIMC Category</th>\n",
       "    </tr>\n",
       "  </thead>\n",
       "  <tbody>\n",
       "    <tr>\n",
       "      <th>0</th>\n",
       "      <td>1 A.M. Flexible Automatic Redemption</td>\n",
       "      <td>กองทุนเปิดวรรณเฟล็กซิเบิลคืนกำไร</td>\n",
       "      <td>FLEXAR</td>\n",
       "      <td>One Asset Management Ltd</td>\n",
       "      <td>Aggressive Allocation</td>\n",
       "    </tr>\n",
       "    <tr>\n",
       "      <th>1</th>\n",
       "      <td>Asset Plus Flexible Plus</td>\n",
       "      <td>กองทุนเปิด แอสเซทพลัส เฟล็กซิเบิ้ล พลัส</td>\n",
       "      <td>ASP-FLEXPLUS</td>\n",
       "      <td>Asset Plus Fund Management Co., Ltd.</td>\n",
       "      <td>Aggressive Allocation</td>\n",
       "    </tr>\n",
       "    <tr>\n",
       "      <th>2</th>\n",
       "      <td>Asset Plus Mixed RMF</td>\n",
       "      <td>กองทุนเปิดแอสเซทพลัสหุ้นผสมตราสารหนี้เพื่อการเ...</td>\n",
       "      <td>ASP-MRF</td>\n",
       "      <td>Asset Plus Fund Management Co., Ltd.</td>\n",
       "      <td>Aggressive Allocation</td>\n",
       "    </tr>\n",
       "    <tr>\n",
       "      <th>3</th>\n",
       "      <td>B-active</td>\n",
       "      <td>กองทุนเปิดบีแอ็คทีฟ</td>\n",
       "      <td>B-ACTIVE</td>\n",
       "      <td>BBL Asset Management Co., Ltd.</td>\n",
       "      <td>Aggressive Allocation</td>\n",
       "    </tr>\n",
       "    <tr>\n",
       "      <th>4</th>\n",
       "      <td>Bualuang Flexible RMF</td>\n",
       "      <td>กองทุนเปิดบัวหลวงเฟล็กซิเบิ้ลเพื่อการเลี้ยงชีพ</td>\n",
       "      <td>BFLRMF</td>\n",
       "      <td>BBL Asset Management Co., Ltd.</td>\n",
       "      <td>Aggressive Allocation</td>\n",
       "    </tr>\n",
       "  </tbody>\n",
       "</table>\n",
       "</div>"
      ],
      "text/plain": [
       "                        Fund Legal Name  \\\n",
       "0  1 A.M. Flexible Automatic Redemption   \n",
       "1              Asset Plus Flexible Plus   \n",
       "2                  Asset Plus Mixed RMF   \n",
       "3                              B-active   \n",
       "4                 Bualuang Flexible RMF   \n",
       "\n",
       "                                   Local Name - Thai     Fund Code  \\\n",
       "0                   กองทุนเปิดวรรณเฟล็กซิเบิลคืนกำไร        FLEXAR   \n",
       "1            กองทุนเปิด แอสเซทพลัส เฟล็กซิเบิ้ล พลัส  ASP-FLEXPLUS   \n",
       "2  กองทุนเปิดแอสเซทพลัสหุ้นผสมตราสารหนี้เพื่อการเ...       ASP-MRF   \n",
       "3                                กองทุนเปิดบีแอ็คทีฟ      B-ACTIVE   \n",
       "4     กองทุนเปิดบัวหลวงเฟล็กซิเบิ้ลเพื่อการเลี้ยงชีพ        BFLRMF   \n",
       "\n",
       "                              Firm Name          AIMC Category  \n",
       "0              One Asset Management Ltd  Aggressive Allocation  \n",
       "1  Asset Plus Fund Management Co., Ltd.  Aggressive Allocation  \n",
       "2  Asset Plus Fund Management Co., Ltd.  Aggressive Allocation  \n",
       "3        BBL Asset Management Co., Ltd.  Aggressive Allocation  \n",
       "4        BBL Asset Management Co., Ltd.  Aggressive Allocation  "
      ]
     },
     "execution_count": 5,
     "metadata": {},
     "output_type": "execute_result"
    }
   ],
   "source": [
    "# อ่านข้อมูลจาก Excel\n",
    "fund_cat = pd.read_excel('AIMC_Category.xlsx','Thailand Domiciled', na_values=['NA'])\n",
    "fund_cat.head()"
   ]
  },
  {
   "cell_type": "code",
   "execution_count": 6,
   "metadata": {
    "ExecuteTime": {
     "end_time": "2019-08-30T07:05:18.959597Z",
     "start_time": "2019-08-30T07:05:18.760720Z"
    }
   },
   "outputs": [
    {
     "data": {
      "text/html": [
       "<div>\n",
       "<style scoped>\n",
       "    .dataframe tbody tr th:only-of-type {\n",
       "        vertical-align: middle;\n",
       "    }\n",
       "\n",
       "    .dataframe tbody tr th {\n",
       "        vertical-align: top;\n",
       "    }\n",
       "\n",
       "    .dataframe thead th {\n",
       "        text-align: right;\n",
       "    }\n",
       "</style>\n",
       "<table border=\"1\" class=\"dataframe\">\n",
       "  <thead>\n",
       "    <tr style=\"text-align: right;\">\n",
       "      <th></th>\n",
       "      <th>Fund Legal Name</th>\n",
       "      <th>Local Name - Thai</th>\n",
       "      <th>Fund Code</th>\n",
       "      <th>Firm Name</th>\n",
       "      <th>AIMC Category</th>\n",
       "    </tr>\n",
       "  </thead>\n",
       "  <tbody>\n",
       "    <tr>\n",
       "      <th>count</th>\n",
       "      <td>1685</td>\n",
       "      <td>1684</td>\n",
       "      <td>1684</td>\n",
       "      <td>1685</td>\n",
       "      <td>1684</td>\n",
       "    </tr>\n",
       "    <tr>\n",
       "      <th>unique</th>\n",
       "      <td>1685</td>\n",
       "      <td>1683</td>\n",
       "      <td>1683</td>\n",
       "      <td>23</td>\n",
       "      <td>42</td>\n",
       "    </tr>\n",
       "    <tr>\n",
       "      <th>top</th>\n",
       "      <td>Krungsri BRIC Stars</td>\n",
       "      <td>กองทุนเปิด แมนูไลฟ์ เอเชีย แปซิฟิก พร็อพเพอร์ต...</td>\n",
       "      <td>ONE-STOXXASEAN</td>\n",
       "      <td>SCB Asset Management Co., Ltd.</td>\n",
       "      <td>Miscellaneous</td>\n",
       "    </tr>\n",
       "    <tr>\n",
       "      <th>freq</th>\n",
       "      <td>1</td>\n",
       "      <td>2</td>\n",
       "      <td>2</td>\n",
       "      <td>254</td>\n",
       "      <td>408</td>\n",
       "    </tr>\n",
       "  </tbody>\n",
       "</table>\n",
       "</div>"
      ],
      "text/plain": [
       "            Fund Legal Name  \\\n",
       "count                  1685   \n",
       "unique                 1685   \n",
       "top     Krungsri BRIC Stars   \n",
       "freq                      1   \n",
       "\n",
       "                                        Local Name - Thai       Fund Code  \\\n",
       "count                                                1684            1684   \n",
       "unique                                               1683            1683   \n",
       "top     กองทุนเปิด แมนูไลฟ์ เอเชีย แปซิฟิก พร็อพเพอร์ต...  ONE-STOXXASEAN   \n",
       "freq                                                    2               2   \n",
       "\n",
       "                             Firm Name  AIMC Category  \n",
       "count                             1685           1684  \n",
       "unique                              23             42  \n",
       "top     SCB Asset Management Co., Ltd.  Miscellaneous  \n",
       "freq                               254            408  "
      ]
     },
     "execution_count": 6,
     "metadata": {},
     "output_type": "execute_result"
    }
   ],
   "source": [
    "fund_cat.describe()"
   ]
  },
  {
   "cell_type": "markdown",
   "metadata": {},
   "source": [
    "**ข้อมูลกองทุนทั้งหมดที่ดึงจากระบบ API**"
   ]
  },
  {
   "cell_type": "code",
   "execution_count": 7,
   "metadata": {
    "ExecuteTime": {
     "end_time": "2019-08-30T07:05:24.404516Z",
     "start_time": "2019-08-30T07:05:23.168954Z"
    }
   },
   "outputs": [
    {
     "data": {
      "text/html": [
       "<div>\n",
       "<style scoped>\n",
       "    .dataframe tbody tr th:only-of-type {\n",
       "        vertical-align: middle;\n",
       "    }\n",
       "\n",
       "    .dataframe tbody tr th {\n",
       "        vertical-align: top;\n",
       "    }\n",
       "\n",
       "    .dataframe thead th {\n",
       "        text-align: right;\n",
       "    }\n",
       "</style>\n",
       "<table border=\"1\" class=\"dataframe\">\n",
       "  <thead>\n",
       "    <tr style=\"text-align: right;\">\n",
       "      <th></th>\n",
       "      <th>proj_id</th>\n",
       "      <th>proj_abbr_name</th>\n",
       "      <th>proj_name_en</th>\n",
       "      <th>proj_name_th</th>\n",
       "      <th>unique_id</th>\n",
       "    </tr>\n",
       "  </thead>\n",
       "  <tbody>\n",
       "    <tr>\n",
       "      <th>0</th>\n",
       "      <td>M0000_2553</td>\n",
       "      <td>KFI3MB</td>\n",
       "      <td>K Fixed Income 3 Months B Fund</td>\n",
       "      <td>กองทุนเปิดเค ตราสารหนี้ 3 เดือน บี</td>\n",
       "      <td>C0000000021</td>\n",
       "    </tr>\n",
       "    <tr>\n",
       "      <th>1</th>\n",
       "      <td>M0001_2558</td>\n",
       "      <td>KEFF1YAD</td>\n",
       "      <td>K Enhanced Foreign Fixed Income 1 Year AD Fund</td>\n",
       "      <td>กองทุนเปิดเค เอ็นแฮนซท์ ตราสารหนี้ต่างประเทศ 1...</td>\n",
       "      <td>C0000000021</td>\n",
       "    </tr>\n",
       "    <tr>\n",
       "      <th>2</th>\n",
       "      <td>M0003_2558</td>\n",
       "      <td>KEFI3MK</td>\n",
       "      <td>K Enhanced Fixed Income 3 Months K Fund</td>\n",
       "      <td>กองทุนเปิดเค เอ็นแฮนซท์ ตราสารหนี้ 3 เดือน K</td>\n",
       "      <td>C0000000021</td>\n",
       "    </tr>\n",
       "    <tr>\n",
       "      <th>3</th>\n",
       "      <td>M0004_2555</td>\n",
       "      <td>KFI6MAJ</td>\n",
       "      <td>K Fixed Income 6 Months AJ Fund</td>\n",
       "      <td>กองทุนเปิดเค ตราสารหนี้ 6 เดือน เอเจ</td>\n",
       "      <td>C0000000021</td>\n",
       "    </tr>\n",
       "    <tr>\n",
       "      <th>4</th>\n",
       "      <td>M0005_2560</td>\n",
       "      <td>KFF3MAR</td>\n",
       "      <td>K Foreign Fixed Income 3 Months AR Fund</td>\n",
       "      <td>กองทุนเปิดเค ตราสารหนี้ต่างประเทศ 3 เดือน AR</td>\n",
       "      <td>C0000000021</td>\n",
       "    </tr>\n",
       "  </tbody>\n",
       "</table>\n",
       "</div>"
      ],
      "text/plain": [
       "      proj_id proj_abbr_name                                    proj_name_en  \\\n",
       "0  M0000_2553         KFI3MB                  K Fixed Income 3 Months B Fund   \n",
       "1  M0001_2558       KEFF1YAD  K Enhanced Foreign Fixed Income 1 Year AD Fund   \n",
       "2  M0003_2558        KEFI3MK         K Enhanced Fixed Income 3 Months K Fund   \n",
       "3  M0004_2555        KFI6MAJ                 K Fixed Income 6 Months AJ Fund   \n",
       "4  M0005_2560        KFF3MAR         K Foreign Fixed Income 3 Months AR Fund   \n",
       "\n",
       "                                        proj_name_th    unique_id  \n",
       "0                 กองทุนเปิดเค ตราสารหนี้ 3 เดือน บี  C0000000021  \n",
       "1  กองทุนเปิดเค เอ็นแฮนซท์ ตราสารหนี้ต่างประเทศ 1...  C0000000021  \n",
       "2       กองทุนเปิดเค เอ็นแฮนซท์ ตราสารหนี้ 3 เดือน K  C0000000021  \n",
       "3               กองทุนเปิดเค ตราสารหนี้ 6 เดือน เอเจ  C0000000021  \n",
       "4       กองทุนเปิดเค ตราสารหนี้ต่างประเทศ 3 เดือน AR  C0000000021  "
      ]
     },
     "execution_count": 7,
     "metadata": {},
     "output_type": "execute_result"
    }
   ],
   "source": [
    "all_funds = pd.read_excel('all_funds.xlsx','Sheet1', na_values=['NA'])\n",
    "all_funds.head()"
   ]
  },
  {
   "cell_type": "code",
   "execution_count": 8,
   "metadata": {
    "ExecuteTime": {
     "end_time": "2019-08-30T07:05:32.165635Z",
     "start_time": "2019-08-30T07:05:32.160634Z"
    }
   },
   "outputs": [],
   "source": [
    "all_funds = all_funds.loc[:, ['proj_abbr_name',\"proj_id\"]]"
   ]
  },
  {
   "cell_type": "code",
   "execution_count": 9,
   "metadata": {
    "ExecuteTime": {
     "end_time": "2019-08-30T07:05:50.379745Z",
     "start_time": "2019-08-30T07:05:50.369752Z"
    }
   },
   "outputs": [],
   "source": [
    "# เปลี่ยนชื่อ Column\n",
    "all_funds = all_funds.rename(index=str, columns={'proj_abbr_name':'Fund Code'})"
   ]
  },
  {
   "cell_type": "code",
   "execution_count": 10,
   "metadata": {
    "ExecuteTime": {
     "end_time": "2019-08-30T07:05:51.575041Z",
     "start_time": "2019-08-30T07:05:51.544061Z"
    }
   },
   "outputs": [
    {
     "data": {
      "text/html": [
       "<div>\n",
       "<style scoped>\n",
       "    .dataframe tbody tr th:only-of-type {\n",
       "        vertical-align: middle;\n",
       "    }\n",
       "\n",
       "    .dataframe tbody tr th {\n",
       "        vertical-align: top;\n",
       "    }\n",
       "\n",
       "    .dataframe thead th {\n",
       "        text-align: right;\n",
       "    }\n",
       "</style>\n",
       "<table border=\"1\" class=\"dataframe\">\n",
       "  <thead>\n",
       "    <tr style=\"text-align: right;\">\n",
       "      <th></th>\n",
       "      <th>Fund Code</th>\n",
       "      <th>proj_id</th>\n",
       "    </tr>\n",
       "  </thead>\n",
       "  <tbody>\n",
       "    <tr>\n",
       "      <th>count</th>\n",
       "      <td>10589</td>\n",
       "      <td>10589</td>\n",
       "    </tr>\n",
       "    <tr>\n",
       "      <th>unique</th>\n",
       "      <td>10477</td>\n",
       "      <td>10589</td>\n",
       "    </tr>\n",
       "    <tr>\n",
       "      <th>top</th>\n",
       "      <td>TISEQT25</td>\n",
       "      <td>M0149_2552</td>\n",
       "    </tr>\n",
       "    <tr>\n",
       "      <th>freq</th>\n",
       "      <td>4</td>\n",
       "      <td>1</td>\n",
       "    </tr>\n",
       "  </tbody>\n",
       "</table>\n",
       "</div>"
      ],
      "text/plain": [
       "       Fund Code     proj_id\n",
       "count      10589       10589\n",
       "unique     10477       10589\n",
       "top     TISEQT25  M0149_2552\n",
       "freq           4           1"
      ]
     },
     "execution_count": 10,
     "metadata": {},
     "output_type": "execute_result"
    }
   ],
   "source": [
    "all_funds.describe()"
   ]
  },
  {
   "cell_type": "code",
   "execution_count": 11,
   "metadata": {
    "ExecuteTime": {
     "end_time": "2019-08-30T07:05:54.308672Z",
     "start_time": "2019-08-30T07:05:54.178007Z"
    }
   },
   "outputs": [
    {
     "data": {
      "text/html": [
       "<div>\n",
       "<style scoped>\n",
       "    .dataframe tbody tr th:only-of-type {\n",
       "        vertical-align: middle;\n",
       "    }\n",
       "\n",
       "    .dataframe tbody tr th {\n",
       "        vertical-align: top;\n",
       "    }\n",
       "\n",
       "    .dataframe thead th {\n",
       "        text-align: right;\n",
       "    }\n",
       "</style>\n",
       "<table border=\"1\" class=\"dataframe\">\n",
       "  <thead>\n",
       "    <tr style=\"text-align: right;\">\n",
       "      <th></th>\n",
       "      <th>Fund Legal Name</th>\n",
       "      <th>Local Name - Thai</th>\n",
       "      <th>Fund Code</th>\n",
       "      <th>Firm Name</th>\n",
       "      <th>AIMC Category</th>\n",
       "      <th>proj_id</th>\n",
       "    </tr>\n",
       "  </thead>\n",
       "  <tbody>\n",
       "    <tr>\n",
       "      <th>1451</th>\n",
       "      <td>Thanachart Fixed Income FIF 6M20</td>\n",
       "      <td>กองทุนเปิดธนชาตตราสารหนี้ต่างประเทศ 6M20</td>\n",
       "      <td>T-FixFIF6M20</td>\n",
       "      <td>Thanachart Fund Management Co., Ltd.</td>\n",
       "      <td>Miscellaneous</td>\n",
       "      <td>M0346_2561</td>\n",
       "    </tr>\n",
       "    <tr>\n",
       "      <th>58</th>\n",
       "      <td>SCB Retirement Year 2586</td>\n",
       "      <td>กองทุนเปิดไทยพาณิชย์สำหรับการเกษียณอายุปี 2586</td>\n",
       "      <td>SCB2586</td>\n",
       "      <td>SCB Asset Management Co., Ltd.</td>\n",
       "      <td>Aggressive Allocation</td>\n",
       "      <td>M0612_2556</td>\n",
       "    </tr>\n",
       "    <tr>\n",
       "      <th>808</th>\n",
       "      <td>KTAM World Metals and Mining</td>\n",
       "      <td>กองทุนเปิด เคแทม เวิลด์ เมทัล แอนด์ ไมน์นิ่ง ฟ...</td>\n",
       "      <td>KT-MINING</td>\n",
       "      <td>Krungthai Asset Management PLC</td>\n",
       "      <td>Global Equity</td>\n",
       "      <td>M0314_2553</td>\n",
       "    </tr>\n",
       "    <tr>\n",
       "      <th>235</th>\n",
       "      <td>Aberdeen Standard Small Cap</td>\n",
       "      <td>กองทุนเปิด อเบอร์ดีน สแตนดาร์ด สมอล แค็พ</td>\n",
       "      <td>ABSM</td>\n",
       "      <td>Aberdeen Standard Asset Management (Thailand) ...</td>\n",
       "      <td>Equity General</td>\n",
       "      <td>M0413_2548</td>\n",
       "    </tr>\n",
       "    <tr>\n",
       "      <th>1227</th>\n",
       "      <td>Krung Thai Fixed Income FIF 210</td>\n",
       "      <td>กองทุนเปิดกรุงไทยตราสารหนี้ เอฟไอเอฟ 210</td>\n",
       "      <td>KTFF210</td>\n",
       "      <td>Krungthai Asset Management PLC</td>\n",
       "      <td>Miscellaneous</td>\n",
       "      <td>M0462_2561</td>\n",
       "    </tr>\n",
       "    <tr>\n",
       "      <th>1183</th>\n",
       "      <td>K Foreign Fixed Income 6 Months FV</td>\n",
       "      <td>กองทุนเปิดเค ตราสารหนี้ต่างประเทศ 6 เดือน FV</td>\n",
       "      <td>KFF6MFV</td>\n",
       "      <td>Kasikorn Asset Management Co. Ltd</td>\n",
       "      <td>Miscellaneous</td>\n",
       "      <td>M0445_2561</td>\n",
       "    </tr>\n",
       "    <tr>\n",
       "      <th>1495</th>\n",
       "      <td>Krungsri Life Stage 20 Plus</td>\n",
       "      <td>กองทุนเปิดกรุงศรีไลฟ์สเตจ 20 พลัส</td>\n",
       "      <td>KFLS20PLUS</td>\n",
       "      <td>Krungsri Asset Management Co., Ltd.</td>\n",
       "      <td>Moderate Allocation</td>\n",
       "      <td>M0477_2555</td>\n",
       "    </tr>\n",
       "    <tr>\n",
       "      <th>510</th>\n",
       "      <td>MFC SET 50 Long Term Equity</td>\n",
       "      <td>กองทุนเปิดเอ็มเอฟซี เซ็ท 50 หุ้นระยะยาว</td>\n",
       "      <td>M-S50 LTF</td>\n",
       "      <td>MFC Asset Management PLC</td>\n",
       "      <td>Equity Large Cap</td>\n",
       "      <td>M0575_2560</td>\n",
       "    </tr>\n",
       "    <tr>\n",
       "      <th>1121</th>\n",
       "      <td>K Complex Return 3YB NFRI</td>\n",
       "      <td>กองทุนเปิดเค Complex Return 3YB ห้ามขายผู้ลงทุ...</td>\n",
       "      <td>KCR3YB-AI</td>\n",
       "      <td>Kasikorn Asset Management Co. Ltd</td>\n",
       "      <td>Miscellaneous</td>\n",
       "      <td>M0238_2561</td>\n",
       "    </tr>\n",
       "    <tr>\n",
       "      <th>1405</th>\n",
       "      <td>SCB Foreign Fixed Income 6ML9</td>\n",
       "      <td>กองทุนเปิดไทยพาณิชย์ตราสารหนี้ต่างประเทศ 6ML9</td>\n",
       "      <td>SCBFF6ML9</td>\n",
       "      <td>SCB Asset Management Co., Ltd.</td>\n",
       "      <td>Miscellaneous</td>\n",
       "      <td>M0112_2562</td>\n",
       "    </tr>\n",
       "  </tbody>\n",
       "</table>\n",
       "</div>"
      ],
      "text/plain": [
       "                         Fund Legal Name  \\\n",
       "1451    Thanachart Fixed Income FIF 6M20   \n",
       "58              SCB Retirement Year 2586   \n",
       "808         KTAM World Metals and Mining   \n",
       "235          Aberdeen Standard Small Cap   \n",
       "1227     Krung Thai Fixed Income FIF 210   \n",
       "1183  K Foreign Fixed Income 6 Months FV   \n",
       "1495         Krungsri Life Stage 20 Plus   \n",
       "510          MFC SET 50 Long Term Equity   \n",
       "1121           K Complex Return 3YB NFRI   \n",
       "1405       SCB Foreign Fixed Income 6ML9   \n",
       "\n",
       "                                      Local Name - Thai     Fund Code  \\\n",
       "1451           กองทุนเปิดธนชาตตราสารหนี้ต่างประเทศ 6M20  T-FixFIF6M20   \n",
       "58       กองทุนเปิดไทยพาณิชย์สำหรับการเกษียณอายุปี 2586       SCB2586   \n",
       "808   กองทุนเปิด เคแทม เวิลด์ เมทัล แอนด์ ไมน์นิ่ง ฟ...     KT-MINING   \n",
       "235            กองทุนเปิด อเบอร์ดีน สแตนดาร์ด สมอล แค็พ          ABSM   \n",
       "1227           กองทุนเปิดกรุงไทยตราสารหนี้ เอฟไอเอฟ 210       KTFF210   \n",
       "1183       กองทุนเปิดเค ตราสารหนี้ต่างประเทศ 6 เดือน FV       KFF6MFV   \n",
       "1495                  กองทุนเปิดกรุงศรีไลฟ์สเตจ 20 พลัส    KFLS20PLUS   \n",
       "510             กองทุนเปิดเอ็มเอฟซี เซ็ท 50 หุ้นระยะยาว     M-S50 LTF   \n",
       "1121  กองทุนเปิดเค Complex Return 3YB ห้ามขายผู้ลงทุ...     KCR3YB-AI   \n",
       "1405      กองทุนเปิดไทยพาณิชย์ตราสารหนี้ต่างประเทศ 6ML9     SCBFF6ML9   \n",
       "\n",
       "                                              Firm Name  \\\n",
       "1451               Thanachart Fund Management Co., Ltd.   \n",
       "58                       SCB Asset Management Co., Ltd.   \n",
       "808                      Krungthai Asset Management PLC   \n",
       "235   Aberdeen Standard Asset Management (Thailand) ...   \n",
       "1227                     Krungthai Asset Management PLC   \n",
       "1183                  Kasikorn Asset Management Co. Ltd   \n",
       "1495                Krungsri Asset Management Co., Ltd.   \n",
       "510                            MFC Asset Management PLC   \n",
       "1121                  Kasikorn Asset Management Co. Ltd   \n",
       "1405                     SCB Asset Management Co., Ltd.   \n",
       "\n",
       "              AIMC Category     proj_id  \n",
       "1451          Miscellaneous  M0346_2561  \n",
       "58    Aggressive Allocation  M0612_2556  \n",
       "808           Global Equity  M0314_2553  \n",
       "235          Equity General  M0413_2548  \n",
       "1227          Miscellaneous  M0462_2561  \n",
       "1183          Miscellaneous  M0445_2561  \n",
       "1495    Moderate Allocation  M0477_2555  \n",
       "510        Equity Large Cap  M0575_2560  \n",
       "1121          Miscellaneous  M0238_2561  \n",
       "1405          Miscellaneous  M0112_2562  "
      ]
     },
     "execution_count": 11,
     "metadata": {},
     "output_type": "execute_result"
    }
   ],
   "source": [
    "fund_detail = pd.merge(fund_cat, all_funds, how ='left', on='Fund Code')\n",
    "fund_detail.sample(10)"
   ]
  },
  {
   "cell_type": "code",
   "execution_count": 12,
   "metadata": {
    "ExecuteTime": {
     "end_time": "2019-08-30T07:06:06.426802Z",
     "start_time": "2019-08-30T07:06:06.392822Z"
    }
   },
   "outputs": [
    {
     "data": {
      "text/html": [
       "<div>\n",
       "<style scoped>\n",
       "    .dataframe tbody tr th:only-of-type {\n",
       "        vertical-align: middle;\n",
       "    }\n",
       "\n",
       "    .dataframe tbody tr th {\n",
       "        vertical-align: top;\n",
       "    }\n",
       "\n",
       "    .dataframe thead th {\n",
       "        text-align: right;\n",
       "    }\n",
       "</style>\n",
       "<table border=\"1\" class=\"dataframe\">\n",
       "  <thead>\n",
       "    <tr style=\"text-align: right;\">\n",
       "      <th></th>\n",
       "      <th>Fund Legal Name</th>\n",
       "      <th>Local Name - Thai</th>\n",
       "      <th>Fund Code</th>\n",
       "      <th>Firm Name</th>\n",
       "      <th>AIMC Category</th>\n",
       "      <th>proj_id</th>\n",
       "    </tr>\n",
       "  </thead>\n",
       "  <tbody>\n",
       "    <tr>\n",
       "      <th>count</th>\n",
       "      <td>1707</td>\n",
       "      <td>1706</td>\n",
       "      <td>1706</td>\n",
       "      <td>1707</td>\n",
       "      <td>1706</td>\n",
       "      <td>1341</td>\n",
       "    </tr>\n",
       "    <tr>\n",
       "      <th>unique</th>\n",
       "      <td>1685</td>\n",
       "      <td>1683</td>\n",
       "      <td>1683</td>\n",
       "      <td>23</td>\n",
       "      <td>42</td>\n",
       "      <td>1340</td>\n",
       "    </tr>\n",
       "    <tr>\n",
       "      <th>top</th>\n",
       "      <td>TISCO Thai Equity Trigger 5M 1</td>\n",
       "      <td>กองทุนเปิด ทิสโก้ ไทย อิควิตี้ ทริกเกอร์ 5M#1</td>\n",
       "      <td>TEQT5M1</td>\n",
       "      <td>SCB Asset Management Co., Ltd.</td>\n",
       "      <td>Miscellaneous</td>\n",
       "      <td>M0853_2557</td>\n",
       "    </tr>\n",
       "    <tr>\n",
       "      <th>freq</th>\n",
       "      <td>4</td>\n",
       "      <td>4</td>\n",
       "      <td>4</td>\n",
       "      <td>255</td>\n",
       "      <td>415</td>\n",
       "      <td>2</td>\n",
       "    </tr>\n",
       "  </tbody>\n",
       "</table>\n",
       "</div>"
      ],
      "text/plain": [
       "                       Fund Legal Name  \\\n",
       "count                             1707   \n",
       "unique                            1685   \n",
       "top     TISCO Thai Equity Trigger 5M 1   \n",
       "freq                                 4   \n",
       "\n",
       "                                    Local Name - Thai Fund Code  \\\n",
       "count                                            1706      1706   \n",
       "unique                                           1683      1683   \n",
       "top     กองทุนเปิด ทิสโก้ ไทย อิควิตี้ ทริกเกอร์ 5M#1   TEQT5M1   \n",
       "freq                                                4         4   \n",
       "\n",
       "                             Firm Name  AIMC Category     proj_id  \n",
       "count                             1707           1706        1341  \n",
       "unique                              23             42        1340  \n",
       "top     SCB Asset Management Co., Ltd.  Miscellaneous  M0853_2557  \n",
       "freq                               255            415           2  "
      ]
     },
     "execution_count": 12,
     "metadata": {},
     "output_type": "execute_result"
    }
   ],
   "source": [
    "fund_detail.describe()"
   ]
  },
  {
   "cell_type": "code",
   "execution_count": 13,
   "metadata": {
    "ExecuteTime": {
     "end_time": "2019-08-30T07:06:11.221825Z",
     "start_time": "2019-08-30T07:06:11.201839Z"
    }
   },
   "outputs": [
    {
     "data": {
      "text/html": [
       "<div>\n",
       "<style scoped>\n",
       "    .dataframe tbody tr th:only-of-type {\n",
       "        vertical-align: middle;\n",
       "    }\n",
       "\n",
       "    .dataframe tbody tr th {\n",
       "        vertical-align: top;\n",
       "    }\n",
       "\n",
       "    .dataframe thead th {\n",
       "        text-align: right;\n",
       "    }\n",
       "</style>\n",
       "<table border=\"1\" class=\"dataframe\">\n",
       "  <thead>\n",
       "    <tr style=\"text-align: right;\">\n",
       "      <th></th>\n",
       "      <th>Fund Code</th>\n",
       "      <th>AIMC Category</th>\n",
       "      <th>Fund Legal Name</th>\n",
       "      <th>Local Name - Thai</th>\n",
       "      <th>Firm Name</th>\n",
       "      <th>proj_id</th>\n",
       "    </tr>\n",
       "  </thead>\n",
       "  <tbody>\n",
       "    <tr>\n",
       "      <th>417</th>\n",
       "      <td>SCIF2</td>\n",
       "      <td>Equity General</td>\n",
       "      <td>Siam City Two</td>\n",
       "      <td>กองทุนเปิดนครหลวงไทย สอง</td>\n",
       "      <td>MFC Asset Management PLC</td>\n",
       "      <td>M0032_2536</td>\n",
       "    </tr>\n",
       "    <tr>\n",
       "      <th>658</th>\n",
       "      <td>T-INCOMEAI</td>\n",
       "      <td>Foreign Investment Allocation</td>\n",
       "      <td>Thanachart Global Income AI</td>\n",
       "      <td>กองทุนเปิดธนชาตโกลบอลอินคัม ห้ามขายผู้ลงทุนราย...</td>\n",
       "      <td>Thanachart Fund Management Co., Ltd.</td>\n",
       "      <td>M0428_2558</td>\n",
       "    </tr>\n",
       "    <tr>\n",
       "      <th>454</th>\n",
       "      <td>T-PPSD</td>\n",
       "      <td>Equity General</td>\n",
       "      <td>Thanachart Perm Poon Sab Dividend</td>\n",
       "      <td>กองทุนเปิดธนชาตเพิ่มพูนทรัพย์ปันผล</td>\n",
       "      <td>Thanachart Fund Management Co., Ltd.</td>\n",
       "      <td>M0024_2535</td>\n",
       "    </tr>\n",
       "    <tr>\n",
       "      <th>456</th>\n",
       "      <td>T-PrimePlusAI</td>\n",
       "      <td>Equity General</td>\n",
       "      <td>Thanachart Prime Plus NFRI</td>\n",
       "      <td>กอวทุนเปิดธนาชาติ Prime Plus ห้ามขายผู้ลงทุนรา...</td>\n",
       "      <td>Thanachart Fund Management Co., Ltd.</td>\n",
       "      <td>M0332_2560</td>\n",
       "    </tr>\n",
       "    <tr>\n",
       "      <th>445</th>\n",
       "      <td>T-DIV</td>\n",
       "      <td>Equity General</td>\n",
       "      <td>Thanachart Dividend Stock</td>\n",
       "      <td>กองทุนเปิดธนชาตหุ้นปันผล</td>\n",
       "      <td>Thanachart Fund Management Co., Ltd.</td>\n",
       "      <td>M0065_2560</td>\n",
       "    </tr>\n",
       "    <tr>\n",
       "      <th>109</th>\n",
       "      <td>MS-ASM RMF</td>\n",
       "      <td>Asia Pacific Ex Japan</td>\n",
       "      <td>Manulife Strength-Asian Small Cap Eq RMF</td>\n",
       "      <td>กองทุนเปิด แมนูไลฟ์ สเตร็งค์ เอเชียน สมอลแคป อ...</td>\n",
       "      <td>Manulife Asset Management (Thailand)</td>\n",
       "      <td>M0376_2557</td>\n",
       "    </tr>\n",
       "    <tr>\n",
       "      <th>1090</th>\n",
       "      <td>BP15/18</td>\n",
       "      <td>Miscellaneous</td>\n",
       "      <td>Bualuang Thanasarn Plus 15/18</td>\n",
       "      <td>กองทุนรวมบัวหลวงธนสารพลัส 15/18</td>\n",
       "      <td>BBL Asset Management Co., Ltd.</td>\n",
       "      <td>M0182_2561</td>\n",
       "    </tr>\n",
       "    <tr>\n",
       "      <th>1240</th>\n",
       "      <td>KTFF224</td>\n",
       "      <td>Miscellaneous</td>\n",
       "      <td>Krung Thai Fixed Income FIF 224</td>\n",
       "      <td>กองทุนเปิดกรุงไทยตราสารหนี้ เอฟไอเอฟ 224</td>\n",
       "      <td>Krungthai Asset Management PLC</td>\n",
       "      <td>M0063_2562</td>\n",
       "    </tr>\n",
       "    <tr>\n",
       "      <th>1200</th>\n",
       "      <td>KPFF6MD</td>\n",
       "      <td>Miscellaneous</td>\n",
       "      <td>K Privileged Foreign Fxd-Inc 6 Months D</td>\n",
       "      <td>กองทุนเปิดเค ตราสารหนี้ต่างประเทศ พริวิเลจ 6 เ...</td>\n",
       "      <td>Kasikorn Asset Management Co. Ltd</td>\n",
       "      <td>M0363_2561</td>\n",
       "    </tr>\n",
       "    <tr>\n",
       "      <th>1359</th>\n",
       "      <td>SCBFF1YL6</td>\n",
       "      <td>Miscellaneous</td>\n",
       "      <td>SCB Foreign Fixed Income 1YL6</td>\n",
       "      <td>กองทุนเปิดไทยพาณิชย์ตราสารหนี้ต่างประเทศ 1YL6</td>\n",
       "      <td>SCB Asset Management Co., Ltd.</td>\n",
       "      <td>M0003_2562</td>\n",
       "    </tr>\n",
       "    <tr>\n",
       "      <th>1150</th>\n",
       "      <td>KFF1YFC</td>\n",
       "      <td>Miscellaneous</td>\n",
       "      <td>K Foreign Fixed Income 1 Year FC</td>\n",
       "      <td>กองทุนเปิดเค ตราสารหนี้ต่างประเทศ 1 ปี FC</td>\n",
       "      <td>Kasikorn Asset Management Co. Ltd</td>\n",
       "      <td>M0373_2561</td>\n",
       "    </tr>\n",
       "    <tr>\n",
       "      <th>715</th>\n",
       "      <td>K-PROP</td>\n",
       "      <td>Fund of Property fund -Thai and Foreign</td>\n",
       "      <td>K Property Sector</td>\n",
       "      <td>กองทุนเปิดเค พร็อพเพอร์ตี้ เซคเตอร์</td>\n",
       "      <td>Kasikorn Asset Management Co. Ltd</td>\n",
       "      <td>M0664_2557</td>\n",
       "    </tr>\n",
       "    <tr>\n",
       "      <th>1568</th>\n",
       "      <td>TDEX</td>\n",
       "      <td>SET 50 Index Fund</td>\n",
       "      <td>ThaiDEX SET50</td>\n",
       "      <td>กองทุนเปิดไทยเด็กซ์เซ็ท 50 อีทีเอฟ</td>\n",
       "      <td>One Asset Management Ltd</td>\n",
       "      <td>M0259_2550</td>\n",
       "    </tr>\n",
       "    <tr>\n",
       "      <th>118</th>\n",
       "      <td>TCIRMF</td>\n",
       "      <td>Asia Pacific Ex Japan</td>\n",
       "      <td>TISCO China India Retirement</td>\n",
       "      <td>กองทุนเปิด ทิสโก้ ไชน่า อินเดีย เพื่อการเลี้ยงชีพ</td>\n",
       "      <td>TISCO Asset Management Co., Ltd.</td>\n",
       "      <td>M0512_2550</td>\n",
       "    </tr>\n",
       "    <tr>\n",
       "      <th>292</th>\n",
       "      <td>KTHAICGRMF</td>\n",
       "      <td>Equity General</td>\n",
       "      <td>K Thai Equity CG RMF</td>\n",
       "      <td>กองทุนเปิดเค หุ้นธรรมาภิบาลไทยเพื่อการเลี้ยงชีพ</td>\n",
       "      <td>Kasikorn Asset Management Co. Ltd</td>\n",
       "      <td>M0527_2560</td>\n",
       "    </tr>\n",
       "    <tr>\n",
       "      <th>35</th>\n",
       "      <td>LHSMART-D</td>\n",
       "      <td>Aggressive Allocation</td>\n",
       "      <td>LH Smart Income D</td>\n",
       "      <td>กองทุนเปิด แอล เอช สมาร์ท อินคัม ชนิดจ่ายเงินป...</td>\n",
       "      <td>Land and Houses Fund Management Co.,LTD</td>\n",
       "      <td>NaN</td>\n",
       "    </tr>\n",
       "    <tr>\n",
       "      <th>1195</th>\n",
       "      <td>KFF6MGH</td>\n",
       "      <td>Miscellaneous</td>\n",
       "      <td>K Foreign Fixed Income 6 Months GH</td>\n",
       "      <td>กองทุนเปิดเค ตราสารหนี้ต่างประเทศ 6 เดือน GH</td>\n",
       "      <td>Kasikorn Asset Management Co. Ltd</td>\n",
       "      <td>M0078_2562</td>\n",
       "    </tr>\n",
       "    <tr>\n",
       "      <th>1309</th>\n",
       "      <td>SCBFI3Y5</td>\n",
       "      <td>Miscellaneous</td>\n",
       "      <td>SCB Fixed Income 3Y5</td>\n",
       "      <td>กองทุนเปิดไทยพาณิชย์ตราสารหนี้ 3Y5</td>\n",
       "      <td>SCB Asset Management Co., Ltd.</td>\n",
       "      <td>M0293_2560</td>\n",
       "    </tr>\n",
       "    <tr>\n",
       "      <th>271</th>\n",
       "      <td>CIMB-PRINCIPAL 70LTFD</td>\n",
       "      <td>Equity General</td>\n",
       "      <td>CIMB-Principal LIFE 70 Long Term Eq Div</td>\n",
       "      <td>กองทุนเปิดซีไอเอ็มบี-พรินซิเพิล ไลฟ์ 70 หุ้นระ...</td>\n",
       "      <td>CIMB-Principal Asset Management Co., Ltd</td>\n",
       "      <td>M0414_2548</td>\n",
       "    </tr>\n",
       "    <tr>\n",
       "      <th>115</th>\n",
       "      <td>TISCOAP</td>\n",
       "      <td>Asia Pacific Ex Japan</td>\n",
       "      <td>TISCO Asia Pacific ex Japan</td>\n",
       "      <td>กองทุนเปิด ทิสโก้ เอเชีย แปซิฟิก เอ็กซ์ เจแปน</td>\n",
       "      <td>TISCO Asset Management Co., Ltd.</td>\n",
       "      <td>M0190_2552</td>\n",
       "    </tr>\n",
       "    <tr>\n",
       "      <th>1048</th>\n",
       "      <td>TSFIRMF</td>\n",
       "      <td>Mid Term General Bond</td>\n",
       "      <td>TISCO Secured Fixed Income Retirement</td>\n",
       "      <td>กองทุนเปิด ทิสโก้ ตราสารหนี้มั่นคงเพื่อการเลี้...</td>\n",
       "      <td>TISCO Asset Management Co., Ltd.</td>\n",
       "      <td>M0059_2544</td>\n",
       "    </tr>\n",
       "    <tr>\n",
       "      <th>1137</th>\n",
       "      <td>KFF1YEN</td>\n",
       "      <td>Miscellaneous</td>\n",
       "      <td>K Foreign Fixed Income 1 Year EN</td>\n",
       "      <td>กองทุนเปิดเค ตราสารหนี้ต่างประเทศ 1 ปี EN</td>\n",
       "      <td>Kasikorn Asset Management Co. Ltd</td>\n",
       "      <td>M0217_2561</td>\n",
       "    </tr>\n",
       "    <tr>\n",
       "      <th>1421</th>\n",
       "      <td>TFixed2Y2AI</td>\n",
       "      <td>Miscellaneous</td>\n",
       "      <td>Thanachart Fixed Income 2Y2 (NFRI)</td>\n",
       "      <td>กองทุนเปิดธนชาตตราสารหนี้ 2Y2 ห้ามขายผู้ลงทุนร...</td>\n",
       "      <td>Thanachart Fund Management Co., Ltd.</td>\n",
       "      <td>M0532_2561</td>\n",
       "    </tr>\n",
       "    <tr>\n",
       "      <th>1002</th>\n",
       "      <td>CIMB-PRINCIPAL iFIXED-C</td>\n",
       "      <td>Mid Term General Bond</td>\n",
       "      <td>CIMB-Principal Core Fixed Income-C</td>\n",
       "      <td>กองทุนเปิดซีไอเอ็มบี-พรินซิเพิล คอร์ ฟิกซ์ อิน...</td>\n",
       "      <td>CIMB-Principal Asset Management Co., Ltd</td>\n",
       "      <td>NaN</td>\n",
       "    </tr>\n",
       "    <tr>\n",
       "      <th>263</th>\n",
       "      <td>B-TOPTENLTF</td>\n",
       "      <td>Equity General</td>\n",
       "      <td>Bualuang Top-Ten LTF</td>\n",
       "      <td>กองทุนเปิดบัวหลวงทศพลหุ้นระยะยาว</td>\n",
       "      <td>BBL Asset Management Co., Ltd.</td>\n",
       "      <td>M0042_2562</td>\n",
       "    </tr>\n",
       "    <tr>\n",
       "      <th>131</th>\n",
       "      <td>K-OIL</td>\n",
       "      <td>Commodities Energy</td>\n",
       "      <td>K Oil</td>\n",
       "      <td>กองทุนเปิดเค ออยล์</td>\n",
       "      <td>Kasikorn Asset Management Co. Ltd</td>\n",
       "      <td>M0237_2552</td>\n",
       "    </tr>\n",
       "    <tr>\n",
       "      <th>1565</th>\n",
       "      <td>SCBRMS50</td>\n",
       "      <td>SET 50 Index Fund</td>\n",
       "      <td>SCB SET50 Index RMF</td>\n",
       "      <td>กองทุนเปิดไทยพาณิชย์ SET 50 Index เพื่อการเลี้...</td>\n",
       "      <td>SCB Asset Management Co., Ltd.</td>\n",
       "      <td>M0787_2554</td>\n",
       "    </tr>\n",
       "    <tr>\n",
       "      <th>1424</th>\n",
       "      <td>TFIX-3M#3</td>\n",
       "      <td>Miscellaneous</td>\n",
       "      <td>Thanachart Fixed Income 3 Month #3</td>\n",
       "      <td>กองทุนเปิดธนชาตตราสารหนี้ 3 เดือน#3</td>\n",
       "      <td>Thanachart Fund Management Co., Ltd.</td>\n",
       "      <td>M0356_2549</td>\n",
       "    </tr>\n",
       "    <tr>\n",
       "      <th>799</th>\n",
       "      <td>KF-GTECH</td>\n",
       "      <td>Global Equity</td>\n",
       "      <td>Krungsri Global Technology Equity</td>\n",
       "      <td>กองทุนเปิดกรุงศรีโกลบอลเทคโนโลยีอิควิตี้</td>\n",
       "      <td>Krungsri Asset Management Co., Ltd.</td>\n",
       "      <td>M0693_2559</td>\n",
       "    </tr>\n",
       "    <tr>\n",
       "      <th>1066</th>\n",
       "      <td>ASP-AITF3Y3</td>\n",
       "      <td>Miscellaneous</td>\n",
       "      <td>Asset Plus AI Term Fund 3Y3</td>\n",
       "      <td>กองทุนเปิดแอสเซทพลัสเอไอเทิร์มฟันด์ 3Y3</td>\n",
       "      <td>Asset Plus Fund Management Co., Ltd.</td>\n",
       "      <td>M0239_2559</td>\n",
       "    </tr>\n",
       "  </tbody>\n",
       "</table>\n",
       "</div>"
      ],
      "text/plain": [
       "                    Fund Code                            AIMC Category  \\\n",
       "417                     SCIF2                           Equity General   \n",
       "658                T-INCOMEAI            Foreign Investment Allocation   \n",
       "454                    T-PPSD                           Equity General   \n",
       "456             T-PrimePlusAI                           Equity General   \n",
       "445                     T-DIV                           Equity General   \n",
       "109                MS-ASM RMF                    Asia Pacific Ex Japan   \n",
       "1090                  BP15/18                            Miscellaneous   \n",
       "1240                  KTFF224                            Miscellaneous   \n",
       "1200                  KPFF6MD                            Miscellaneous   \n",
       "1359                SCBFF1YL6                            Miscellaneous   \n",
       "1150                  KFF1YFC                            Miscellaneous   \n",
       "715                    K-PROP  Fund of Property fund -Thai and Foreign   \n",
       "1568                     TDEX                        SET 50 Index Fund   \n",
       "118                    TCIRMF                    Asia Pacific Ex Japan   \n",
       "292                KTHAICGRMF                           Equity General   \n",
       "35                  LHSMART-D                    Aggressive Allocation   \n",
       "1195                  KFF6MGH                            Miscellaneous   \n",
       "1309                 SCBFI3Y5                            Miscellaneous   \n",
       "271     CIMB-PRINCIPAL 70LTFD                           Equity General   \n",
       "115                   TISCOAP                    Asia Pacific Ex Japan   \n",
       "1048                  TSFIRMF                    Mid Term General Bond   \n",
       "1137                  KFF1YEN                            Miscellaneous   \n",
       "1421              TFixed2Y2AI                            Miscellaneous   \n",
       "1002  CIMB-PRINCIPAL iFIXED-C                    Mid Term General Bond   \n",
       "263               B-TOPTENLTF                           Equity General   \n",
       "131                     K-OIL                       Commodities Energy   \n",
       "1565                 SCBRMS50                        SET 50 Index Fund   \n",
       "1424                TFIX-3M#3                            Miscellaneous   \n",
       "799                  KF-GTECH                            Global Equity   \n",
       "1066              ASP-AITF3Y3                            Miscellaneous   \n",
       "\n",
       "                               Fund Legal Name  \\\n",
       "417                              Siam City Two   \n",
       "658                Thanachart Global Income AI   \n",
       "454          Thanachart Perm Poon Sab Dividend   \n",
       "456                 Thanachart Prime Plus NFRI   \n",
       "445                  Thanachart Dividend Stock   \n",
       "109   Manulife Strength-Asian Small Cap Eq RMF   \n",
       "1090             Bualuang Thanasarn Plus 15/18   \n",
       "1240           Krung Thai Fixed Income FIF 224   \n",
       "1200   K Privileged Foreign Fxd-Inc 6 Months D   \n",
       "1359             SCB Foreign Fixed Income 1YL6   \n",
       "1150          K Foreign Fixed Income 1 Year FC   \n",
       "715                          K Property Sector   \n",
       "1568                             ThaiDEX SET50   \n",
       "118               TISCO China India Retirement   \n",
       "292                       K Thai Equity CG RMF   \n",
       "35                           LH Smart Income D   \n",
       "1195        K Foreign Fixed Income 6 Months GH   \n",
       "1309                      SCB Fixed Income 3Y5   \n",
       "271    CIMB-Principal LIFE 70 Long Term Eq Div   \n",
       "115                TISCO Asia Pacific ex Japan   \n",
       "1048     TISCO Secured Fixed Income Retirement   \n",
       "1137          K Foreign Fixed Income 1 Year EN   \n",
       "1421        Thanachart Fixed Income 2Y2 (NFRI)   \n",
       "1002        CIMB-Principal Core Fixed Income-C   \n",
       "263                       Bualuang Top-Ten LTF   \n",
       "131                                      K Oil   \n",
       "1565                       SCB SET50 Index RMF   \n",
       "1424        Thanachart Fixed Income 3 Month #3   \n",
       "799          Krungsri Global Technology Equity   \n",
       "1066               Asset Plus AI Term Fund 3Y3   \n",
       "\n",
       "                                      Local Name - Thai  \\\n",
       "417                            กองทุนเปิดนครหลวงไทย สอง   \n",
       "658   กองทุนเปิดธนชาตโกลบอลอินคัม ห้ามขายผู้ลงทุนราย...   \n",
       "454                  กองทุนเปิดธนชาตเพิ่มพูนทรัพย์ปันผล   \n",
       "456   กอวทุนเปิดธนาชาติ Prime Plus ห้ามขายผู้ลงทุนรา...   \n",
       "445                            กองทุนเปิดธนชาตหุ้นปันผล   \n",
       "109   กองทุนเปิด แมนูไลฟ์ สเตร็งค์ เอเชียน สมอลแคป อ...   \n",
       "1090                    กองทุนรวมบัวหลวงธนสารพลัส 15/18   \n",
       "1240           กองทุนเปิดกรุงไทยตราสารหนี้ เอฟไอเอฟ 224   \n",
       "1200  กองทุนเปิดเค ตราสารหนี้ต่างประเทศ พริวิเลจ 6 เ...   \n",
       "1359      กองทุนเปิดไทยพาณิชย์ตราสารหนี้ต่างประเทศ 1YL6   \n",
       "1150          กองทุนเปิดเค ตราสารหนี้ต่างประเทศ 1 ปี FC   \n",
       "715                 กองทุนเปิดเค พร็อพเพอร์ตี้ เซคเตอร์   \n",
       "1568                 กองทุนเปิดไทยเด็กซ์เซ็ท 50 อีทีเอฟ   \n",
       "118   กองทุนเปิด ทิสโก้ ไชน่า อินเดีย เพื่อการเลี้ยงชีพ   \n",
       "292     กองทุนเปิดเค หุ้นธรรมาภิบาลไทยเพื่อการเลี้ยงชีพ   \n",
       "35    กองทุนเปิด แอล เอช สมาร์ท อินคัม ชนิดจ่ายเงินป...   \n",
       "1195       กองทุนเปิดเค ตราสารหนี้ต่างประเทศ 6 เดือน GH   \n",
       "1309                 กองทุนเปิดไทยพาณิชย์ตราสารหนี้ 3Y5   \n",
       "271   กองทุนเปิดซีไอเอ็มบี-พรินซิเพิล ไลฟ์ 70 หุ้นระ...   \n",
       "115       กองทุนเปิด ทิสโก้ เอเชีย แปซิฟิก เอ็กซ์ เจแปน   \n",
       "1048  กองทุนเปิด ทิสโก้ ตราสารหนี้มั่นคงเพื่อการเลี้...   \n",
       "1137          กองทุนเปิดเค ตราสารหนี้ต่างประเทศ 1 ปี EN   \n",
       "1421  กองทุนเปิดธนชาตตราสารหนี้ 2Y2 ห้ามขายผู้ลงทุนร...   \n",
       "1002  กองทุนเปิดซีไอเอ็มบี-พรินซิเพิล คอร์ ฟิกซ์ อิน...   \n",
       "263                    กองทุนเปิดบัวหลวงทศพลหุ้นระยะยาว   \n",
       "131                                  กองทุนเปิดเค ออยล์   \n",
       "1565  กองทุนเปิดไทยพาณิชย์ SET 50 Index เพื่อการเลี้...   \n",
       "1424                กองทุนเปิดธนชาตตราสารหนี้ 3 เดือน#3   \n",
       "799            กองทุนเปิดกรุงศรีโกลบอลเทคโนโลยีอิควิตี้   \n",
       "1066            กองทุนเปิดแอสเซทพลัสเอไอเทิร์มฟันด์ 3Y3   \n",
       "\n",
       "                                     Firm Name     proj_id  \n",
       "417                   MFC Asset Management PLC  M0032_2536  \n",
       "658       Thanachart Fund Management Co., Ltd.  M0428_2558  \n",
       "454       Thanachart Fund Management Co., Ltd.  M0024_2535  \n",
       "456       Thanachart Fund Management Co., Ltd.  M0332_2560  \n",
       "445       Thanachart Fund Management Co., Ltd.  M0065_2560  \n",
       "109       Manulife Asset Management (Thailand)  M0376_2557  \n",
       "1090            BBL Asset Management Co., Ltd.  M0182_2561  \n",
       "1240            Krungthai Asset Management PLC  M0063_2562  \n",
       "1200         Kasikorn Asset Management Co. Ltd  M0363_2561  \n",
       "1359            SCB Asset Management Co., Ltd.  M0003_2562  \n",
       "1150         Kasikorn Asset Management Co. Ltd  M0373_2561  \n",
       "715          Kasikorn Asset Management Co. Ltd  M0664_2557  \n",
       "1568                  One Asset Management Ltd  M0259_2550  \n",
       "118           TISCO Asset Management Co., Ltd.  M0512_2550  \n",
       "292          Kasikorn Asset Management Co. Ltd  M0527_2560  \n",
       "35     Land and Houses Fund Management Co.,LTD         NaN  \n",
       "1195         Kasikorn Asset Management Co. Ltd  M0078_2562  \n",
       "1309            SCB Asset Management Co., Ltd.  M0293_2560  \n",
       "271   CIMB-Principal Asset Management Co., Ltd  M0414_2548  \n",
       "115           TISCO Asset Management Co., Ltd.  M0190_2552  \n",
       "1048          TISCO Asset Management Co., Ltd.  M0059_2544  \n",
       "1137         Kasikorn Asset Management Co. Ltd  M0217_2561  \n",
       "1421      Thanachart Fund Management Co., Ltd.  M0532_2561  \n",
       "1002  CIMB-Principal Asset Management Co., Ltd         NaN  \n",
       "263             BBL Asset Management Co., Ltd.  M0042_2562  \n",
       "131          Kasikorn Asset Management Co. Ltd  M0237_2552  \n",
       "1565            SCB Asset Management Co., Ltd.  M0787_2554  \n",
       "1424      Thanachart Fund Management Co., Ltd.  M0356_2549  \n",
       "799        Krungsri Asset Management Co., Ltd.  M0693_2559  \n",
       "1066      Asset Plus Fund Management Co., Ltd.  M0239_2559  "
      ]
     },
     "execution_count": 13,
     "metadata": {},
     "output_type": "execute_result"
    }
   ],
   "source": [
    "fund_detail = fund_detail.loc[:, ['Fund Code',\"AIMC Category\",'Fund Legal Name',\n",
    "                                  'Local Name - Thai','Firm Name','proj_id']]\n",
    "fund_detail.sample(30)"
   ]
  },
  {
   "cell_type": "code",
   "execution_count": 14,
   "metadata": {
    "ExecuteTime": {
     "end_time": "2019-08-30T07:06:31.775895Z",
     "start_time": "2019-08-30T07:06:31.768900Z"
    }
   },
   "outputs": [
    {
     "data": {
      "text/plain": [
       "43"
      ]
     },
     "execution_count": 14,
     "metadata": {},
     "output_type": "execute_result"
    }
   ],
   "source": [
    "# Check Duplicated\n",
    "\n",
    "len(fund_detail[ fund_detail.duplicated(['Fund Code'], keep = False) ])"
   ]
  },
  {
   "cell_type": "code",
   "execution_count": 15,
   "metadata": {
    "ExecuteTime": {
     "end_time": "2019-08-30T07:06:33.471002Z",
     "start_time": "2019-08-30T07:06:33.433027Z"
    },
    "scrolled": true
   },
   "outputs": [
    {
     "data": {
      "text/html": [
       "<div>\n",
       "<style scoped>\n",
       "    .dataframe tbody tr th:only-of-type {\n",
       "        vertical-align: middle;\n",
       "    }\n",
       "\n",
       "    .dataframe tbody tr th {\n",
       "        vertical-align: top;\n",
       "    }\n",
       "\n",
       "    .dataframe thead th {\n",
       "        text-align: right;\n",
       "    }\n",
       "</style>\n",
       "<table border=\"1\" class=\"dataframe\">\n",
       "  <thead>\n",
       "    <tr style=\"text-align: right;\">\n",
       "      <th></th>\n",
       "      <th>Fund Code</th>\n",
       "      <th>AIMC Category</th>\n",
       "      <th>Fund Legal Name</th>\n",
       "      <th>Local Name - Thai</th>\n",
       "      <th>Firm Name</th>\n",
       "      <th>proj_id</th>\n",
       "    </tr>\n",
       "  </thead>\n",
       "  <tbody>\n",
       "    <tr>\n",
       "      <th>count</th>\n",
       "      <td>1683</td>\n",
       "      <td>1683</td>\n",
       "      <td>1684</td>\n",
       "      <td>1684</td>\n",
       "      <td>1684</td>\n",
       "      <td>1318</td>\n",
       "    </tr>\n",
       "    <tr>\n",
       "      <th>unique</th>\n",
       "      <td>1683</td>\n",
       "      <td>42</td>\n",
       "      <td>1684</td>\n",
       "      <td>1683</td>\n",
       "      <td>23</td>\n",
       "      <td>1318</td>\n",
       "    </tr>\n",
       "    <tr>\n",
       "      <th>top</th>\n",
       "      <td>KFF1YFR</td>\n",
       "      <td>Miscellaneous</td>\n",
       "      <td>Krungsri BRIC Stars</td>\n",
       "      <td>กองทุนเปิด แมนูไลฟ์ เอเชีย แปซิฟิก พร็อพเพอร์ต...</td>\n",
       "      <td>SCB Asset Management Co., Ltd.</td>\n",
       "      <td>M0167_2561</td>\n",
       "    </tr>\n",
       "    <tr>\n",
       "      <th>freq</th>\n",
       "      <td>1</td>\n",
       "      <td>408</td>\n",
       "      <td>1</td>\n",
       "      <td>2</td>\n",
       "      <td>254</td>\n",
       "      <td>1</td>\n",
       "    </tr>\n",
       "  </tbody>\n",
       "</table>\n",
       "</div>"
      ],
      "text/plain": [
       "       Fund Code  AIMC Category      Fund Legal Name  \\\n",
       "count       1683           1683                 1684   \n",
       "unique      1683             42                 1684   \n",
       "top      KFF1YFR  Miscellaneous  Krungsri BRIC Stars   \n",
       "freq           1            408                    1   \n",
       "\n",
       "                                        Local Name - Thai  \\\n",
       "count                                                1684   \n",
       "unique                                               1683   \n",
       "top     กองทุนเปิด แมนูไลฟ์ เอเชีย แปซิฟิก พร็อพเพอร์ต...   \n",
       "freq                                                    2   \n",
       "\n",
       "                             Firm Name     proj_id  \n",
       "count                             1684        1318  \n",
       "unique                              23        1318  \n",
       "top     SCB Asset Management Co., Ltd.  M0167_2561  \n",
       "freq                               254           1  "
      ]
     },
     "execution_count": 15,
     "metadata": {},
     "output_type": "execute_result"
    }
   ],
   "source": [
    "# Delete Duplicated\n",
    "fund_detail.drop_duplicates(['Fund Code'], inplace=True)\n",
    "fund_detail.describe()"
   ]
  },
  {
   "cell_type": "markdown",
   "metadata": {},
   "source": [
    "**เขียนข้อมูลรายละเอียดกองทุนลง excel**"
   ]
  },
  {
   "cell_type": "code",
   "execution_count": 34,
   "metadata": {},
   "outputs": [
    {
     "name": "stdout",
     "output_type": "stream",
     "text": [
      "Save Success\n"
     ]
    }
   ],
   "source": [
    "# write data to text file\n",
    "\n",
    "fund_detail.to_excel('fund-id.xlsx', index=False)\n",
    "print('Save Success')"
   ]
  },
  {
   "cell_type": "markdown",
   "metadata": {},
   "source": [
    "**ดึงข้อมูลรายละเอียดกองทุนจาก excel**"
   ]
  },
  {
   "cell_type": "code",
   "execution_count": 16,
   "metadata": {
    "ExecuteTime": {
     "end_time": "2019-08-30T07:06:49.067769Z",
     "start_time": "2019-08-30T07:06:48.792892Z"
    }
   },
   "outputs": [
    {
     "data": {
      "text/html": [
       "<div>\n",
       "<style scoped>\n",
       "    .dataframe tbody tr th:only-of-type {\n",
       "        vertical-align: middle;\n",
       "    }\n",
       "\n",
       "    .dataframe tbody tr th {\n",
       "        vertical-align: top;\n",
       "    }\n",
       "\n",
       "    .dataframe thead th {\n",
       "        text-align: right;\n",
       "    }\n",
       "</style>\n",
       "<table border=\"1\" class=\"dataframe\">\n",
       "  <thead>\n",
       "    <tr style=\"text-align: right;\">\n",
       "      <th></th>\n",
       "      <th>Fund Code</th>\n",
       "      <th>AIMC Category</th>\n",
       "      <th>Fund Legal Name</th>\n",
       "      <th>Local Name - Thai</th>\n",
       "      <th>Firm Name</th>\n",
       "      <th>proj_id</th>\n",
       "    </tr>\n",
       "  </thead>\n",
       "  <tbody>\n",
       "    <tr>\n",
       "      <th>1007</th>\n",
       "      <td>KFAFIX</td>\n",
       "      <td>Mid Term General Bond</td>\n",
       "      <td>Krungsri Active Fixed Income</td>\n",
       "      <td>กองทุนเปิดกรุงศรีแอคทีฟตราสารหนี้</td>\n",
       "      <td>Krungsri Asset Management Co., Ltd.</td>\n",
       "      <td>M0458_2559</td>\n",
       "    </tr>\n",
       "    <tr>\n",
       "      <th>911</th>\n",
       "      <td>TGHDIGI</td>\n",
       "      <td>Health Care</td>\n",
       "      <td>TISCO Global Digital Health Equity</td>\n",
       "      <td>กองทุนเปิด ทิสโก้ โกลบอล ดิจิตอล เฮลธ์ อิควิตี้</td>\n",
       "      <td>TISCO Asset Management Co., Ltd.</td>\n",
       "      <td>M0010_2562</td>\n",
       "    </tr>\n",
       "    <tr>\n",
       "      <th>1093</th>\n",
       "      <td>BP32/18</td>\n",
       "      <td>Miscellaneous</td>\n",
       "      <td>Bualuang Thanasarn Plus 32/18</td>\n",
       "      <td>กองทุนรวมบัวหลวงธนสารพลัส 32/18</td>\n",
       "      <td>BBL Asset Management Co., Ltd.</td>\n",
       "      <td>M0397_2561</td>\n",
       "    </tr>\n",
       "    <tr>\n",
       "      <th>235</th>\n",
       "      <td>ABTED</td>\n",
       "      <td>Equity General</td>\n",
       "      <td>Aberdeen Standard Thai Equity Dividend</td>\n",
       "      <td>กองทุนเปิด อเบอร์ดีน สแตนดาร์ด ไทย เอคควิตี้ ด...</td>\n",
       "      <td>Aberdeen Standard Asset Management (Thailand) ...</td>\n",
       "      <td>M0071_2546</td>\n",
       "    </tr>\n",
       "    <tr>\n",
       "      <th>1482</th>\n",
       "      <td>SCBFLX</td>\n",
       "      <td>Moderate Allocation</td>\n",
       "      <td>SCB Flexible</td>\n",
       "      <td>กองทุนเปิดไทยพาณิชย์ เฟล็กซิเบิ้ล</td>\n",
       "      <td>SCB Asset Management Co., Ltd.</td>\n",
       "      <td>M0429_2559</td>\n",
       "    </tr>\n",
       "    <tr>\n",
       "      <th>119</th>\n",
       "      <td>TMBAGLF</td>\n",
       "      <td>Asia Pacific Ex Japan</td>\n",
       "      <td>TMB Asian Growth Leaders</td>\n",
       "      <td>กองทุนเปิดทหารไทย Asian Growth Leaders</td>\n",
       "      <td>TMB Asset Management Co. Ltd</td>\n",
       "      <td>M0485_2557</td>\n",
       "    </tr>\n",
       "    <tr>\n",
       "      <th>1470</th>\n",
       "      <td>K-PLAN3</td>\n",
       "      <td>Moderate Allocation</td>\n",
       "      <td>K PLAN 3</td>\n",
       "      <td>กองทุนเปิดเค แพลน 3</td>\n",
       "      <td>Kasikorn Asset Management Co. Ltd</td>\n",
       "      <td>M0575_2552</td>\n",
       "    </tr>\n",
       "    <tr>\n",
       "      <th>46</th>\n",
       "      <td>ONE-FAS</td>\n",
       "      <td>Aggressive Allocation</td>\n",
       "      <td>ONE Fas Prosperity</td>\n",
       "      <td>กองทุนเปิดเอกเอเซียพูนผล</td>\n",
       "      <td>One Asset Management Ltd</td>\n",
       "      <td>M0041_2536</td>\n",
       "    </tr>\n",
       "    <tr>\n",
       "      <th>801</th>\n",
       "      <td>LHDIGITAL-D</td>\n",
       "      <td>Global Equity</td>\n",
       "      <td>LH Digital Economy D</td>\n",
       "      <td>กองทุนเปิด แอล เอช ดิจิตอล อีโคโนมี ชนิดจ่ายเง...</td>\n",
       "      <td>Land and Houses Fund Management Co.,LTD</td>\n",
       "      <td>NaN</td>\n",
       "    </tr>\n",
       "    <tr>\n",
       "      <th>645</th>\n",
       "      <td>SCBINCA</td>\n",
       "      <td>Foreign Investment Allocation</td>\n",
       "      <td>SCB Income A</td>\n",
       "      <td>กองทุนเปิดไทยพาณิชย์ อินคัม ชนิดสะสมมูลค่า</td>\n",
       "      <td>SCB Asset Management Co., Ltd.</td>\n",
       "      <td>NaN</td>\n",
       "    </tr>\n",
       "  </tbody>\n",
       "</table>\n",
       "</div>"
      ],
      "text/plain": [
       "        Fund Code                  AIMC Category  \\\n",
       "1007       KFAFIX          Mid Term General Bond   \n",
       "911       TGHDIGI                    Health Care   \n",
       "1093      BP32/18                  Miscellaneous   \n",
       "235         ABTED                 Equity General   \n",
       "1482       SCBFLX            Moderate Allocation   \n",
       "119       TMBAGLF          Asia Pacific Ex Japan   \n",
       "1470      K-PLAN3            Moderate Allocation   \n",
       "46        ONE-FAS          Aggressive Allocation   \n",
       "801   LHDIGITAL-D                  Global Equity   \n",
       "645       SCBINCA  Foreign Investment Allocation   \n",
       "\n",
       "                             Fund Legal Name  \\\n",
       "1007            Krungsri Active Fixed Income   \n",
       "911       TISCO Global Digital Health Equity   \n",
       "1093           Bualuang Thanasarn Plus 32/18   \n",
       "235   Aberdeen Standard Thai Equity Dividend   \n",
       "1482                            SCB Flexible   \n",
       "119                 TMB Asian Growth Leaders   \n",
       "1470                                K PLAN 3   \n",
       "46                        ONE Fas Prosperity   \n",
       "801                     LH Digital Economy D   \n",
       "645                             SCB Income A   \n",
       "\n",
       "                                      Local Name - Thai  \\\n",
       "1007                  กองทุนเปิดกรุงศรีแอคทีฟตราสารหนี้   \n",
       "911     กองทุนเปิด ทิสโก้ โกลบอล ดิจิตอล เฮลธ์ อิควิตี้   \n",
       "1093                    กองทุนรวมบัวหลวงธนสารพลัส 32/18   \n",
       "235   กองทุนเปิด อเบอร์ดีน สแตนดาร์ด ไทย เอคควิตี้ ด...   \n",
       "1482                  กองทุนเปิดไทยพาณิชย์ เฟล็กซิเบิ้ล   \n",
       "119              กองทุนเปิดทหารไทย Asian Growth Leaders   \n",
       "1470                                กองทุนเปิดเค แพลน 3   \n",
       "46                             กองทุนเปิดเอกเอเซียพูนผล   \n",
       "801   กองทุนเปิด แอล เอช ดิจิตอล อีโคโนมี ชนิดจ่ายเง...   \n",
       "645          กองทุนเปิดไทยพาณิชย์ อินคัม ชนิดสะสมมูลค่า   \n",
       "\n",
       "                                              Firm Name     proj_id  \n",
       "1007                Krungsri Asset Management Co., Ltd.  M0458_2559  \n",
       "911                    TISCO Asset Management Co., Ltd.  M0010_2562  \n",
       "1093                     BBL Asset Management Co., Ltd.  M0397_2561  \n",
       "235   Aberdeen Standard Asset Management (Thailand) ...  M0071_2546  \n",
       "1482                     SCB Asset Management Co., Ltd.  M0429_2559  \n",
       "119                        TMB Asset Management Co. Ltd  M0485_2557  \n",
       "1470                  Kasikorn Asset Management Co. Ltd  M0575_2552  \n",
       "46                             One Asset Management Ltd  M0041_2536  \n",
       "801             Land and Houses Fund Management Co.,LTD         NaN  \n",
       "645                      SCB Asset Management Co., Ltd.         NaN  "
      ]
     },
     "execution_count": 16,
     "metadata": {},
     "output_type": "execute_result"
    }
   ],
   "source": [
    "fund = pd.read_excel('fund-id.xlsx','Sheet1', na_values=['NA'])\n",
    "fund.sample(10)"
   ]
  },
  {
   "cell_type": "code",
   "execution_count": null,
   "metadata": {},
   "outputs": [],
   "source": []
  },
  {
   "cell_type": "markdown",
   "metadata": {},
   "source": [
    "# จัดการ Catagory"
   ]
  },
  {
   "cell_type": "code",
   "execution_count": 48,
   "metadata": {},
   "outputs": [
    {
     "data": {
      "text/html": [
       "<div>\n",
       "<style scoped>\n",
       "    .dataframe tbody tr th:only-of-type {\n",
       "        vertical-align: middle;\n",
       "    }\n",
       "\n",
       "    .dataframe tbody tr th {\n",
       "        vertical-align: top;\n",
       "    }\n",
       "\n",
       "    .dataframe thead th {\n",
       "        text-align: right;\n",
       "    }\n",
       "</style>\n",
       "<table border=\"1\" class=\"dataframe\">\n",
       "  <thead>\n",
       "    <tr style=\"text-align: right;\">\n",
       "      <th></th>\n",
       "      <th>Fund Legal Name</th>\n",
       "      <th>Local Name - Thai</th>\n",
       "      <th>Fund Code</th>\n",
       "      <th>Firm Name</th>\n",
       "      <th>AIMC Category</th>\n",
       "    </tr>\n",
       "  </thead>\n",
       "  <tbody>\n",
       "    <tr>\n",
       "      <th>0</th>\n",
       "      <td>1 A.M. Flexible Automatic Redemption</td>\n",
       "      <td>กองทุนเปิดวรรณเฟล็กซิเบิลคืนกำไร</td>\n",
       "      <td>FLEXAR</td>\n",
       "      <td>One Asset Management Ltd</td>\n",
       "      <td>Aggressive Allocation</td>\n",
       "    </tr>\n",
       "    <tr>\n",
       "      <th>1</th>\n",
       "      <td>Asset Plus Flexible Plus</td>\n",
       "      <td>กองทุนเปิด แอสเซทพลัส เฟล็กซิเบิ้ล พลัส</td>\n",
       "      <td>ASP-FLEXPLUS</td>\n",
       "      <td>Asset Plus Fund Management Co., Ltd.</td>\n",
       "      <td>Aggressive Allocation</td>\n",
       "    </tr>\n",
       "    <tr>\n",
       "      <th>2</th>\n",
       "      <td>Asset Plus Mixed RMF</td>\n",
       "      <td>กองทุนเปิดแอสเซทพลัสหุ้นผสมตราสารหนี้เพื่อการเ...</td>\n",
       "      <td>ASP-MRF</td>\n",
       "      <td>Asset Plus Fund Management Co., Ltd.</td>\n",
       "      <td>Aggressive Allocation</td>\n",
       "    </tr>\n",
       "    <tr>\n",
       "      <th>3</th>\n",
       "      <td>B-active</td>\n",
       "      <td>กองทุนเปิดบีแอ็คทีฟ</td>\n",
       "      <td>B-ACTIVE</td>\n",
       "      <td>BBL Asset Management Co., Ltd.</td>\n",
       "      <td>Aggressive Allocation</td>\n",
       "    </tr>\n",
       "    <tr>\n",
       "      <th>4</th>\n",
       "      <td>Bualuang Flexible RMF</td>\n",
       "      <td>กองทุนเปิดบัวหลวงเฟล็กซิเบิ้ลเพื่อการเลี้ยงชีพ</td>\n",
       "      <td>BFLRMF</td>\n",
       "      <td>BBL Asset Management Co., Ltd.</td>\n",
       "      <td>Aggressive Allocation</td>\n",
       "    </tr>\n",
       "  </tbody>\n",
       "</table>\n",
       "</div>"
      ],
      "text/plain": [
       "                        Fund Legal Name  \\\n",
       "0  1 A.M. Flexible Automatic Redemption   \n",
       "1              Asset Plus Flexible Plus   \n",
       "2                  Asset Plus Mixed RMF   \n",
       "3                              B-active   \n",
       "4                 Bualuang Flexible RMF   \n",
       "\n",
       "                                   Local Name - Thai     Fund Code  \\\n",
       "0                   กองทุนเปิดวรรณเฟล็กซิเบิลคืนกำไร        FLEXAR   \n",
       "1            กองทุนเปิด แอสเซทพลัส เฟล็กซิเบิ้ล พลัส  ASP-FLEXPLUS   \n",
       "2  กองทุนเปิดแอสเซทพลัสหุ้นผสมตราสารหนี้เพื่อการเ...       ASP-MRF   \n",
       "3                                กองทุนเปิดบีแอ็คทีฟ      B-ACTIVE   \n",
       "4     กองทุนเปิดบัวหลวงเฟล็กซิเบิ้ลเพื่อการเลี้ยงชีพ        BFLRMF   \n",
       "\n",
       "                              Firm Name          AIMC Category  \n",
       "0              One Asset Management Ltd  Aggressive Allocation  \n",
       "1  Asset Plus Fund Management Co., Ltd.  Aggressive Allocation  \n",
       "2  Asset Plus Fund Management Co., Ltd.  Aggressive Allocation  \n",
       "3        BBL Asset Management Co., Ltd.  Aggressive Allocation  \n",
       "4        BBL Asset Management Co., Ltd.  Aggressive Allocation  "
      ]
     },
     "execution_count": 48,
     "metadata": {},
     "output_type": "execute_result"
    }
   ],
   "source": [
    "# อ่านข้อมูลจาก Excel\n",
    "fund_cat = pd.read_excel('AIMC_Category_2018Q4.xlsx','Thailand Domiciled', na_values=['NA'])\n",
    "fund_cat.head()"
   ]
  },
  {
   "cell_type": "code",
   "execution_count": 49,
   "metadata": {},
   "outputs": [
    {
     "name": "stdout",
     "output_type": "stream",
     "text": [
      "<class 'pandas.core.frame.DataFrame'>\n",
      "RangeIndex: 1685 entries, 0 to 1684\n",
      "Data columns (total 5 columns):\n",
      "Fund Legal Name      1685 non-null object\n",
      "Local Name - Thai    1684 non-null object\n",
      "Fund Code            1684 non-null object\n",
      "Firm Name            1685 non-null object\n",
      "AIMC Category        1684 non-null object\n",
      "dtypes: object(5)\n",
      "memory usage: 65.9+ KB\n"
     ]
    }
   ],
   "source": [
    "fund_cat.info()"
   ]
  },
  {
   "cell_type": "code",
   "execution_count": 50,
   "metadata": {},
   "outputs": [
    {
     "data": {
      "text/plain": [
       "(1685, 5)"
      ]
     },
     "execution_count": 50,
     "metadata": {},
     "output_type": "execute_result"
    }
   ],
   "source": [
    "fund_cat.shape"
   ]
  },
  {
   "cell_type": "code",
   "execution_count": 51,
   "metadata": {},
   "outputs": [
    {
     "data": {
      "text/plain": [
       "43"
      ]
     },
     "execution_count": 51,
     "metadata": {},
     "output_type": "execute_result"
    }
   ],
   "source": [
    "# หาจำนวน Category\n",
    "\n",
    "len(fund_cat['AIMC Category'].unique())"
   ]
  },
  {
   "cell_type": "code",
   "execution_count": 52,
   "metadata": {
    "scrolled": true
   },
   "outputs": [
    {
     "name": "stdout",
     "output_type": "stream",
     "text": [
      "['Aggressive Allocation' 'ASEAN Equity' 'Asia Pacific Ex Japan'\n",
      " 'Broad Composite Commodities index' 'Commodities Agriculture'\n",
      " 'Commodities Energy' 'Commodities Precious Metals'\n",
      " 'Conservative Allocation' 'Emerging Market'\n",
      " 'Emerging Market Bond Discretionary F/X Hedge or Unhedge'\n",
      " 'Emerging Market Bond Fully F/X Hedge' 'Energy' 'Equity General'\n",
      " 'Equity Large Cap' 'Equity Small - Mid Cap' 'European Equity'\n",
      " 'Foreign Investment Allocation' 'Fund of Property Fund - Foreign'\n",
      " 'Fund of Property Fund - Thai' 'Fund of Property fund -Thai and Foreign'\n",
      " 'Global Bond Discretionary F/X Hedge or Unhedge'\n",
      " 'Global Bond Fully F/X Hedge' 'Global Equity' 'Greater China Equity'\n",
      " 'Health Care' 'High Yield Bond' 'India Equity' 'Japan Equity'\n",
      " 'Long Term General Bond' 'Mid Term General Bond'\n",
      " 'Mid Term Government Bond' 'Miscellaneous' 'Moderate Allocation'\n",
      " 'Money Market General' 'Money Market Government' 'SET 50 Index Fund'\n",
      " 'Short Term General Bond' 'Short Term Government Bond' 'Thai Free Hold'\n",
      " 'Thai Mixed (between free and lease hold)' 'US Equity' 'Vietnam Equity'\n",
      " nan]\n"
     ]
    }
   ],
   "source": [
    "print(fund_cat['AIMC Category'].unique())"
   ]
  },
  {
   "cell_type": "code",
   "execution_count": 53,
   "metadata": {},
   "outputs": [
    {
     "data": {
      "text/plain": [
       "23"
      ]
     },
     "execution_count": 53,
     "metadata": {},
     "output_type": "execute_result"
    }
   ],
   "source": [
    "len(fund_cat['Firm Name'].unique())"
   ]
  },
  {
   "cell_type": "code",
   "execution_count": 54,
   "metadata": {},
   "outputs": [
    {
     "name": "stdout",
     "output_type": "stream",
     "text": [
      "['One Asset Management Ltd' 'Asset Plus Fund Management Co., Ltd.'\n",
      " 'BBL Asset Management Co., Ltd.'\n",
      " 'CIMB-Principal Asset Management Co., Ltd'\n",
      " 'Kasikorn Asset Management Co. Ltd' 'Krungthai Asset Management PLC'\n",
      " 'Krungsri Asset Management Co., Ltd.'\n",
      " 'Land and Houses Fund Management Co.,LTD'\n",
      " 'Manulife Asset Management (Thailand)' 'MFC Asset Management PLC'\n",
      " 'Phatra Asset Management Co., Ltd.' 'Phillip Asset Management Co., Ltd.'\n",
      " 'SCB Asset Management Co., Ltd.' 'TALIS ASSET MANAGEMENT'\n",
      " 'TISCO Asset Management Co., Ltd.' 'Thanachart Fund Management Co., Ltd.'\n",
      " 'TMB Asset Management Co. Ltd' 'UOB Asset Management (Thailand) Co., Ltd'\n",
      " 'Aberdeen Standard Asset Management (Thailand) Limited'\n",
      " 'Innotech Asset Management Company Limited'\n",
      " 'Siam Knight Fund Management Securities Co., Ltd.'\n",
      " 'Bangkok Capital Asset Management Co., Ltd.'\n",
      " 'Mfc Asset Management Public Co Ltd']\n"
     ]
    }
   ],
   "source": [
    "print(fund_cat['Firm Name'].unique())"
   ]
  },
  {
   "cell_type": "code",
   "execution_count": 55,
   "metadata": {},
   "outputs": [
    {
     "data": {
      "text/plain": [
       "Firm Name\n",
       "Aberdeen Standard Asset Management (Thailand) Limited     24\n",
       "Asset Plus Fund Management Co., Ltd.                      52\n",
       "BBL Asset Management Co., Ltd.                            94\n",
       "Bangkok Capital Asset Management Co., Ltd.                 4\n",
       "CIMB-Principal Asset Management Co., Ltd                  75\n",
       "Innotech Asset Management Company Limited                  2\n",
       "Kasikorn Asset Management Co. Ltd                        186\n",
       "Krungsri Asset Management Co., Ltd.                      114\n",
       "Krungthai Asset Management PLC                           157\n",
       "Land and Houses Fund Management Co.,LTD                   63\n",
       "MFC Asset Management PLC                                 120\n",
       "Manulife Asset Management (Thailand)                      24\n",
       "Mfc Asset Management Public Co Ltd                         1\n",
       "One Asset Management Ltd                                  85\n",
       "Phatra Asset Management Co., Ltd.                         33\n",
       "Phillip Asset Management Co., Ltd.                         7\n",
       "SCB Asset Management Co., Ltd.                           254\n",
       "Siam Knight Fund Management Securities Co., Ltd.           2\n",
       "TALIS ASSET MANAGEMENT                                    12\n",
       "TISCO Asset Management Co., Ltd.                         103\n",
       "TMB Asset Management Co. Ltd                              67\n",
       "Thanachart Fund Management Co., Ltd.                     104\n",
       "UOB Asset Management (Thailand) Co., Ltd                 102\n",
       "dtype: int64"
      ]
     },
     "execution_count": 55,
     "metadata": {},
     "output_type": "execute_result"
    }
   ],
   "source": [
    "fund_cat.groupby('Firm Name').size()"
   ]
  },
  {
   "cell_type": "code",
   "execution_count": 56,
   "metadata": {},
   "outputs": [
    {
     "data": {
      "text/plain": [
       "array([ 24,  52,  94,   4,  75,   2, 186, 114, 157,  63, 120,  24,   1,\n",
       "        85,  33,   7, 254,   2,  12, 103,  67, 104, 102], dtype=int64)"
      ]
     },
     "execution_count": 56,
     "metadata": {},
     "output_type": "execute_result"
    }
   ],
   "source": [
    "sizes = fund_cat.groupby('Firm Name').size()\n",
    "sizes.values"
   ]
  },
  {
   "cell_type": "code",
   "execution_count": 57,
   "metadata": {},
   "outputs": [
    {
     "data": {
      "text/plain": [
       "array(['One Asset Management Ltd', 'Asset Plus Fund Management Co., Ltd.',\n",
       "       'BBL Asset Management Co., Ltd.',\n",
       "       'CIMB-Principal Asset Management Co., Ltd',\n",
       "       'Kasikorn Asset Management Co. Ltd',\n",
       "       'Krungthai Asset Management PLC',\n",
       "       'Krungsri Asset Management Co., Ltd.',\n",
       "       'Land and Houses Fund Management Co.,LTD',\n",
       "       'Manulife Asset Management (Thailand)', 'MFC Asset Management PLC',\n",
       "       'Phatra Asset Management Co., Ltd.',\n",
       "       'Phillip Asset Management Co., Ltd.',\n",
       "       'SCB Asset Management Co., Ltd.', 'TALIS ASSET MANAGEMENT',\n",
       "       'TISCO Asset Management Co., Ltd.',\n",
       "       'Thanachart Fund Management Co., Ltd.',\n",
       "       'TMB Asset Management Co. Ltd',\n",
       "       'UOB Asset Management (Thailand) Co., Ltd',\n",
       "       'Aberdeen Standard Asset Management (Thailand) Limited',\n",
       "       'Innotech Asset Management Company Limited',\n",
       "       'Siam Knight Fund Management Securities Co., Ltd.',\n",
       "       'Bangkok Capital Asset Management Co., Ltd.',\n",
       "       'Mfc Asset Management Public Co Ltd'], dtype=object)"
      ]
     },
     "execution_count": 57,
     "metadata": {},
     "output_type": "execute_result"
    }
   ],
   "source": [
    "firms = fund_cat['Firm Name'].unique()\n",
    "firms"
   ]
  },
  {
   "cell_type": "code",
   "execution_count": 58,
   "metadata": {},
   "outputs": [
    {
     "data": {
      "text/plain": [
       "One Asset Management Ltd                                  85\n",
       "Asset Plus Fund Management Co., Ltd.                      52\n",
       "BBL Asset Management Co., Ltd.                            94\n",
       "CIMB-Principal Asset Management Co., Ltd                  75\n",
       "Kasikorn Asset Management Co. Ltd                        186\n",
       "Krungthai Asset Management PLC                           157\n",
       "Krungsri Asset Management Co., Ltd.                      114\n",
       "Land and Houses Fund Management Co.,LTD                   63\n",
       "Manulife Asset Management (Thailand)                      24\n",
       "MFC Asset Management PLC                                 120\n",
       "Phatra Asset Management Co., Ltd.                         33\n",
       "Phillip Asset Management Co., Ltd.                         7\n",
       "SCB Asset Management Co., Ltd.                           254\n",
       "TALIS ASSET MANAGEMENT                                    12\n",
       "TISCO Asset Management Co., Ltd.                         103\n",
       "Thanachart Fund Management Co., Ltd.                     104\n",
       "TMB Asset Management Co. Ltd                              67\n",
       "UOB Asset Management (Thailand) Co., Ltd                 102\n",
       "Aberdeen Standard Asset Management (Thailand) Limited     24\n",
       "Innotech Asset Management Company Limited                  2\n",
       "Siam Knight Fund Management Securities Co., Ltd.           2\n",
       "Bangkok Capital Asset Management Co., Ltd.                 4\n",
       "Mfc Asset Management Public Co Ltd                         1\n",
       "dtype: int64"
      ]
     },
     "execution_count": 58,
     "metadata": {},
     "output_type": "execute_result"
    }
   ],
   "source": [
    "se_firm = pd.Series(sizes, index=firms)\n",
    "se_firm"
   ]
  },
  {
   "cell_type": "code",
   "execution_count": 59,
   "metadata": {},
   "outputs": [
    {
     "data": {
      "text/plain": [
       "Index(['One Asset Management Ltd', 'Asset Plus Fund Management Co., Ltd.',\n",
       "       'BBL Asset Management Co., Ltd.',\n",
       "       'CIMB-Principal Asset Management Co., Ltd',\n",
       "       'Kasikorn Asset Management Co. Ltd', 'Krungthai Asset Management PLC',\n",
       "       'Krungsri Asset Management Co., Ltd.',\n",
       "       'Land and Houses Fund Management Co.,LTD',\n",
       "       'Manulife Asset Management (Thailand)', 'MFC Asset Management PLC',\n",
       "       'Phatra Asset Management Co., Ltd.',\n",
       "       'Phillip Asset Management Co., Ltd.', 'SCB Asset Management Co., Ltd.',\n",
       "       'TALIS ASSET MANAGEMENT', 'TISCO Asset Management Co., Ltd.',\n",
       "       'Thanachart Fund Management Co., Ltd.', 'TMB Asset Management Co. Ltd',\n",
       "       'UOB Asset Management (Thailand) Co., Ltd',\n",
       "       'Aberdeen Standard Asset Management (Thailand) Limited',\n",
       "       'Innotech Asset Management Company Limited',\n",
       "       'Siam Knight Fund Management Securities Co., Ltd.',\n",
       "       'Bangkok Capital Asset Management Co., Ltd.',\n",
       "       'Mfc Asset Management Public Co Ltd'],\n",
       "      dtype='object')"
      ]
     },
     "execution_count": 59,
     "metadata": {},
     "output_type": "execute_result"
    }
   ],
   "source": [
    "se_firm.index"
   ]
  },
  {
   "cell_type": "code",
   "execution_count": 60,
   "metadata": {},
   "outputs": [
    {
     "data": {
      "text/plain": [
       "7"
      ]
     },
     "execution_count": 60,
     "metadata": {},
     "output_type": "execute_result"
    }
   ],
   "source": [
    "se_firm['Phillip Asset Management Co., Ltd.']"
   ]
  },
  {
   "cell_type": "code",
   "execution_count": 61,
   "metadata": {},
   "outputs": [
    {
     "data": {
      "text/plain": [
       "One Asset Management Ltd                85\n",
       "Asset Plus Fund Management Co., Ltd.    52\n",
       "BBL Asset Management Co., Ltd.          94\n",
       "dtype: int64"
      ]
     },
     "execution_count": 61,
     "metadata": {},
     "output_type": "execute_result"
    }
   ],
   "source": [
    "se_firm.head(n = 3)"
   ]
  },
  {
   "cell_type": "code",
   "execution_count": 62,
   "metadata": {},
   "outputs": [
    {
     "data": {
      "text/plain": [
       "1685"
      ]
     },
     "execution_count": 62,
     "metadata": {},
     "output_type": "execute_result"
    }
   ],
   "source": [
    "se_firm.sum()"
   ]
  },
  {
   "cell_type": "code",
   "execution_count": null,
   "metadata": {},
   "outputs": [],
   "source": []
  },
  {
   "cell_type": "code",
   "execution_count": null,
   "metadata": {},
   "outputs": [],
   "source": []
  },
  {
   "cell_type": "code",
   "execution_count": null,
   "metadata": {},
   "outputs": [],
   "source": [
    "lst_fund = []\n",
    "lst_fund.append()\n",
    "lst_fund"
   ]
  },
  {
   "cell_type": "code",
   "execution_count": 46,
   "metadata": {},
   "outputs": [
    {
     "data": {
      "text/plain": [
       "AIMC Category\n",
       "ASEAN Equity                                                 7\n",
       "Aggressive Allocation                                       83\n",
       "Asia Pacific Ex Japan                                       35\n",
       "Broad Composite Commodities index                            3\n",
       "Commodities Agriculture                                      1\n",
       "Commodities Energy                                           9\n",
       "Commodities Precious Metals                                 34\n",
       "Conservative Allocation                                     25\n",
       "Emerging Market                                             17\n",
       "Emerging Market Bond Discretionary F/X Hedge or Unhedge      7\n",
       "Emerging Market Bond Fully F/X Hedge                         1\n",
       "Energy                                                       6\n",
       "Equity General                                             247\n",
       "Equity Large Cap                                            54\n",
       "Equity Small - Mid Cap                                      26\n",
       "European Equity                                             31\n",
       "Foreign Investment Allocation                               82\n",
       "Fund of Property Fund - Foreign                             18\n",
       "Fund of Property Fund - Thai                                15\n",
       "Fund of Property fund -Thai and Foreign                     17\n",
       "Global Bond Discretionary F/X Hedge or Unhedge              34\n",
       "Global Bond Fully F/X Hedge                                 13\n",
       "Global Equity                                               93\n",
       "Greater China Equity                                        34\n",
       "Health Care                                                 26\n",
       "High Yield Bond                                             11\n",
       "India Equity                                                22\n",
       "Japan Equity                                                32\n",
       "Long Term General Bond                                       5\n",
       "Mid Term General Bond                                       55\n",
       "Mid Term Government Bond                                    10\n",
       "Miscellaneous                                              408\n",
       "Moderate Allocation                                         35\n",
       "Money Market General                                        15\n",
       "Money Market Government                                     27\n",
       "SET 50 Index Fund                                           16\n",
       "Short Term General Bond                                     45\n",
       "Short Term Government Bond                                   8\n",
       "Thai Free Hold                                              18\n",
       "Thai Mixed (between free and lease hold)                    27\n",
       "US Equity                                                   24\n",
       "Vietnam Equity                                               8\n",
       "dtype: int64"
      ]
     },
     "execution_count": 46,
     "metadata": {},
     "output_type": "execute_result"
    }
   ],
   "source": [
    "cat = fund_cat.groupby('AIMC Category').size()\n",
    "cat"
   ]
  },
  {
   "cell_type": "code",
   "execution_count": 47,
   "metadata": {},
   "outputs": [
    {
     "data": {
      "text/plain": [
       "1684"
      ]
     },
     "execution_count": 47,
     "metadata": {},
     "output_type": "execute_result"
    }
   ],
   "source": [
    "cat.sum()"
   ]
  },
  {
   "cell_type": "code",
   "execution_count": 100,
   "metadata": {},
   "outputs": [
    {
     "data": {
      "text/html": [
       "<div>\n",
       "<style scoped>\n",
       "    .dataframe tbody tr th:only-of-type {\n",
       "        vertical-align: middle;\n",
       "    }\n",
       "\n",
       "    .dataframe tbody tr th {\n",
       "        vertical-align: top;\n",
       "    }\n",
       "\n",
       "    .dataframe thead th {\n",
       "        text-align: right;\n",
       "    }\n",
       "</style>\n",
       "<table border=\"1\" class=\"dataframe\">\n",
       "  <thead>\n",
       "    <tr style=\"text-align: right;\">\n",
       "      <th></th>\n",
       "      <th>Fund Legal Name</th>\n",
       "      <th>Local Name - Thai</th>\n",
       "      <th>Fund Code</th>\n",
       "      <th>Firm Name</th>\n",
       "      <th>AIMC Category</th>\n",
       "    </tr>\n",
       "  </thead>\n",
       "  <tbody>\n",
       "    <tr>\n",
       "      <th>1053</th>\n",
       "      <td>1 A.M. Smart Long Term Equity</td>\n",
       "      <td>กองทุนเปิดวรรณเอเอ็มสมาร์ทหุ้นระยะยาว</td>\n",
       "      <td>1SMART-LTF</td>\n",
       "      <td>One Asset Management Ltd</td>\n",
       "      <td>Miscellaneous</td>\n",
       "    </tr>\n",
       "    <tr>\n",
       "      <th>1054</th>\n",
       "      <td>Asset Plus AI Fixed Income 1</td>\n",
       "      <td>กองทุนเปิดแอสเซทพลัสเอไอตราสารหนี้ 1</td>\n",
       "      <td>ASP-AIF1</td>\n",
       "      <td>Asset Plus Fund Management Co., Ltd.</td>\n",
       "      <td>Miscellaneous</td>\n",
       "    </tr>\n",
       "    <tr>\n",
       "      <th>1055</th>\n",
       "      <td>Asset Plus AI Term Fund 3Y3</td>\n",
       "      <td>กองทุนเปิดแอสเซทพลัสเอไอเทิร์มฟันด์ 3Y3</td>\n",
       "      <td>ASP-AITF3Y3</td>\n",
       "      <td>Asset Plus Fund Management Co., Ltd.</td>\n",
       "      <td>Miscellaneous</td>\n",
       "    </tr>\n",
       "    <tr>\n",
       "      <th>1056</th>\n",
       "      <td>Asset Plus AI Term Fund 5Y1</td>\n",
       "      <td>กองทุนเปิดแอสเซทพลัสเอไอเทิร์มฟันด์ 5Y1</td>\n",
       "      <td>ASP-AITF5Y1</td>\n",
       "      <td>Asset Plus Fund Management Co., Ltd.</td>\n",
       "      <td>Miscellaneous</td>\n",
       "    </tr>\n",
       "    <tr>\n",
       "      <th>1057</th>\n",
       "      <td>Asset Plus Glbl Complex Ret 1 NFRI</td>\n",
       "      <td>กองทุนเปิด แอสเซทพลัส โกลบอล คอมเพล็กซ์ รีเทิร...</td>\n",
       "      <td>ASP-GCOM 1</td>\n",
       "      <td>Asset Plus Fund Management Co., Ltd.</td>\n",
       "      <td>Miscellaneous</td>\n",
       "    </tr>\n",
       "    <tr>\n",
       "      <th>1058</th>\n",
       "      <td>Asset Plus Prime 4</td>\n",
       "      <td>กองทุนเปิดแอสเซทพลัสไพร์ม 4</td>\n",
       "      <td>ASP-PRIME4</td>\n",
       "      <td>Asset Plus Fund Management Co., Ltd.</td>\n",
       "      <td>Miscellaneous</td>\n",
       "    </tr>\n",
       "    <tr>\n",
       "      <th>1059</th>\n",
       "      <td>Asset Plus Stars 9</td>\n",
       "      <td>กองทุนเปิดแอสเซทพลัสสตาร์ 9</td>\n",
       "      <td>ASP-STARS9</td>\n",
       "      <td>Asset Plus Fund Management Co., Ltd.</td>\n",
       "      <td>Miscellaneous</td>\n",
       "    </tr>\n",
       "    <tr>\n",
       "      <th>1060</th>\n",
       "      <td>Asset Plus Taweesab Fixed Inc 6M2 NFRI</td>\n",
       "      <td>กองทุนเปิดแอสเซทพลัสตราสารหนี้ทวีทรัพย์ 6เดือน...</td>\n",
       "      <td>ASP-TFIXED 6M2</td>\n",
       "      <td>Asset Plus Fund Management Co., Ltd.</td>\n",
       "      <td>Miscellaneous</td>\n",
       "    </tr>\n",
       "    <tr>\n",
       "      <th>1061</th>\n",
       "      <td>Asset Plus Taweesab Fixed Income 2</td>\n",
       "      <td>กองทุนเปิดแอสเซทพลัสตราสารหนี้ทวีทรัพย์ 2</td>\n",
       "      <td>ASP-TFIXED2</td>\n",
       "      <td>Asset Plus Fund Management Co., Ltd.</td>\n",
       "      <td>Miscellaneous</td>\n",
       "    </tr>\n",
       "    <tr>\n",
       "      <th>1062</th>\n",
       "      <td>Asset Plus Taweesab Fixed Income 3</td>\n",
       "      <td>กองทุนเปิดแอสเซทพลัสตราสารหนี้ทวีทรัพย์ 3</td>\n",
       "      <td>ASP-TFIXED3</td>\n",
       "      <td>Asset Plus Fund Management Co., Ltd.</td>\n",
       "      <td>Miscellaneous</td>\n",
       "    </tr>\n",
       "    <tr>\n",
       "      <th>1063</th>\n",
       "      <td>Asset Plus Taweesab Fixed Income 5</td>\n",
       "      <td>กองทุนเปิดแอสเซทพลัสตราสารหนี้ทวีทรัพย์ 5</td>\n",
       "      <td>ASP-TFIXED5</td>\n",
       "      <td>Asset Plus Fund Management Co., Ltd.</td>\n",
       "      <td>Miscellaneous</td>\n",
       "    </tr>\n",
       "    <tr>\n",
       "      <th>1064</th>\n",
       "      <td>Asset Plus Taweesab Fixed Income 9</td>\n",
       "      <td>กองทุนเปิดแอสเซทพลัสตราสารหนี้ทวีทรัพย์ 9</td>\n",
       "      <td>ASP-TFIXED9</td>\n",
       "      <td>Asset Plus Fund Management Co., Ltd.</td>\n",
       "      <td>Miscellaneous</td>\n",
       "    </tr>\n",
       "    <tr>\n",
       "      <th>1065</th>\n",
       "      <td>Bualuang Fixed Income - Term Fund 1/18</td>\n",
       "      <td>กองทุนรวมบัวหลวงตราสารหนี้ชนิดระบุวันครบกำหนด ...</td>\n",
       "      <td>B-Fixterm 1/18</td>\n",
       "      <td>BBL Asset Management Co., Ltd.</td>\n",
       "      <td>Miscellaneous</td>\n",
       "    </tr>\n",
       "    <tr>\n",
       "      <th>1066</th>\n",
       "      <td>Bualuang Fixed Income - Term Fund 1/19</td>\n",
       "      <td>กองทุนรวมบัวหลวงตราสารหนี้ชนิดระบุวันครบกำหนด ...</td>\n",
       "      <td>B-Fixterm1/19</td>\n",
       "      <td>BBL Asset Management Co., Ltd.</td>\n",
       "      <td>Miscellaneous</td>\n",
       "    </tr>\n",
       "    <tr>\n",
       "      <th>1067</th>\n",
       "      <td>Bualuang Fixed Income - Term Fund 2/18</td>\n",
       "      <td>กองทุนรวมบัวหลวงตราสารหนี้ชนิดระบุวันครบกำหนด ...</td>\n",
       "      <td>B-Fixterm2/18</td>\n",
       "      <td>BBL Asset Management Co., Ltd.</td>\n",
       "      <td>Miscellaneous</td>\n",
       "    </tr>\n",
       "    <tr>\n",
       "      <th>1068</th>\n",
       "      <td>Bualuang Fixed Income - Term Fund 3/18</td>\n",
       "      <td>กองทุนรวมบัวหลวงตราสารหนี้ชนิดระบุวันครบกำหนด ...</td>\n",
       "      <td>B-Fixterm3/18</td>\n",
       "      <td>BBL Asset Management Co., Ltd.</td>\n",
       "      <td>Miscellaneous</td>\n",
       "    </tr>\n",
       "    <tr>\n",
       "      <th>1069</th>\n",
       "      <td>Bualuang Fixed Income - Term Fund 4/18</td>\n",
       "      <td>กองทุนรวมบัวหลวงตราสารหนี้ชนิดระบุวันครบกำหนด ...</td>\n",
       "      <td>B-Fixterm4/18</td>\n",
       "      <td>BBL Asset Management Co., Ltd.</td>\n",
       "      <td>Miscellaneous</td>\n",
       "    </tr>\n",
       "    <tr>\n",
       "      <th>1070</th>\n",
       "      <td>Bualuang Fixed Income - Term Fund 5/18</td>\n",
       "      <td>กองทุนรวมบัวหลวงตราสารหนี้ชนิดระบุวันครบกำหนด ...</td>\n",
       "      <td>B-Fixterm5/18</td>\n",
       "      <td>BBL Asset Management Co., Ltd.</td>\n",
       "      <td>Miscellaneous</td>\n",
       "    </tr>\n",
       "    <tr>\n",
       "      <th>1071</th>\n",
       "      <td>Bualuang Fixed Income - Term Fund 6/18</td>\n",
       "      <td>กองทุนรวมบัวหลวงตราสารหนี้ชนิดระบุวันครบกำหนด ...</td>\n",
       "      <td>B-Fixterm6/18</td>\n",
       "      <td>BBL Asset Management Co., Ltd.</td>\n",
       "      <td>Miscellaneous</td>\n",
       "    </tr>\n",
       "    <tr>\n",
       "      <th>1072</th>\n",
       "      <td>Bualuang Fixed Income - Term Fund 7/18</td>\n",
       "      <td>กองทุนรวมบัวหลวงตราสารหนี้ชนิดระบุวันครบกำหนด ...</td>\n",
       "      <td>B-Fixterm7/18</td>\n",
       "      <td>BBL Asset Management Co., Ltd.</td>\n",
       "      <td>Miscellaneous</td>\n",
       "    </tr>\n",
       "    <tr>\n",
       "      <th>1073</th>\n",
       "      <td>Bualuang Fixed Income - Term Fund 8/18</td>\n",
       "      <td>กองทุนรวมบัวหลวงตราสารหนี้ชนิดระบุวันครบกำหนด ...</td>\n",
       "      <td>B-Fixterm8/18</td>\n",
       "      <td>BBL Asset Management Co., Ltd.</td>\n",
       "      <td>Miscellaneous</td>\n",
       "    </tr>\n",
       "    <tr>\n",
       "      <th>1074</th>\n",
       "      <td>Bualuang Fixed Income - Term Fund 9/18</td>\n",
       "      <td>กองทุนรวมบัวหลวงตราสารหนี้ชนิดระบุวันครบกำหนด ...</td>\n",
       "      <td>B-Fixterm9/18</td>\n",
       "      <td>BBL Asset Management Co., Ltd.</td>\n",
       "      <td>Miscellaneous</td>\n",
       "    </tr>\n",
       "    <tr>\n",
       "      <th>1075</th>\n",
       "      <td>Bualuang Thanasarn Plus 1/19</td>\n",
       "      <td>กองทุนรวมบัวหลวงธนสารพลัส 1/19</td>\n",
       "      <td>BP1/19</td>\n",
       "      <td>BBL Asset Management Co., Ltd.</td>\n",
       "      <td>Miscellaneous</td>\n",
       "    </tr>\n",
       "    <tr>\n",
       "      <th>1076</th>\n",
       "      <td>Bualuang Thanasarn Plus 12/18</td>\n",
       "      <td>กองทุนรวมบัวหลวงธนสารพลัส 12/18</td>\n",
       "      <td>BP12/18</td>\n",
       "      <td>BBL Asset Management Co., Ltd.</td>\n",
       "      <td>Miscellaneous</td>\n",
       "    </tr>\n",
       "    <tr>\n",
       "      <th>1077</th>\n",
       "      <td>Bualuang Thanasarn Plus 13/18</td>\n",
       "      <td>กองทุนรวมบัวหลวงธนสารพลัส 13/18</td>\n",
       "      <td>BP13/18</td>\n",
       "      <td>BBL Asset Management Co., Ltd.</td>\n",
       "      <td>Miscellaneous</td>\n",
       "    </tr>\n",
       "    <tr>\n",
       "      <th>1078</th>\n",
       "      <td>Bualuang Thanasarn Plus 14/18</td>\n",
       "      <td>กองทุนรวมบัวหลวงธนสารพลัส 14/18</td>\n",
       "      <td>BP14/18</td>\n",
       "      <td>BBL Asset Management Co., Ltd.</td>\n",
       "      <td>Miscellaneous</td>\n",
       "    </tr>\n",
       "    <tr>\n",
       "      <th>1079</th>\n",
       "      <td>Bualuang Thanasarn Plus 15/18</td>\n",
       "      <td>กองทุนรวมบัวหลวงธนสารพลัส 15/18</td>\n",
       "      <td>BP15/18</td>\n",
       "      <td>BBL Asset Management Co., Ltd.</td>\n",
       "      <td>Miscellaneous</td>\n",
       "    </tr>\n",
       "    <tr>\n",
       "      <th>1080</th>\n",
       "      <td>Bualuang Thanasarn Plus 16/18</td>\n",
       "      <td>กองทุนรวมบัวหลวงธนสารพลัส 16/18</td>\n",
       "      <td>BP16/18</td>\n",
       "      <td>BBL Asset Management Co., Ltd.</td>\n",
       "      <td>Miscellaneous</td>\n",
       "    </tr>\n",
       "    <tr>\n",
       "      <th>1081</th>\n",
       "      <td>Bualuang Thanasarn Plus 17/18</td>\n",
       "      <td>กองทุนรวมบัวหลวงธนสารพลัส 17/18</td>\n",
       "      <td>BP17/18</td>\n",
       "      <td>BBL Asset Management Co., Ltd.</td>\n",
       "      <td>Miscellaneous</td>\n",
       "    </tr>\n",
       "    <tr>\n",
       "      <th>1082</th>\n",
       "      <td>Bualuang Thanasarn Plus 18/18</td>\n",
       "      <td>กองทุนรวมบัวหลวงธนสารพลัส 18/18</td>\n",
       "      <td>BP18/18</td>\n",
       "      <td>BBL Asset Management Co., Ltd.</td>\n",
       "      <td>Miscellaneous</td>\n",
       "    </tr>\n",
       "    <tr>\n",
       "      <th>...</th>\n",
       "      <td>...</td>\n",
       "      <td>...</td>\n",
       "      <td>...</td>\n",
       "      <td>...</td>\n",
       "      <td>...</td>\n",
       "    </tr>\n",
       "    <tr>\n",
       "      <th>1431</th>\n",
       "      <td>Thanachart Fixed Income FIF 1Y26</td>\n",
       "      <td>กองทุนเปิดธนชาตตราสารหนี้ต่างประเทศ 1Y26</td>\n",
       "      <td>T-FixFIF1Y26</td>\n",
       "      <td>Thanachart Fund Management Co., Ltd.</td>\n",
       "      <td>Miscellaneous</td>\n",
       "    </tr>\n",
       "    <tr>\n",
       "      <th>1432</th>\n",
       "      <td>Thanachart Fixed Income FIF 1Y27</td>\n",
       "      <td>กองทุนเปิดธนชาตตราสารหนี้ต่างประเทศ 1Y27</td>\n",
       "      <td>T-FixFIF1Y27</td>\n",
       "      <td>Thanachart Fund Management Co., Ltd.</td>\n",
       "      <td>Miscellaneous</td>\n",
       "    </tr>\n",
       "    <tr>\n",
       "      <th>1433</th>\n",
       "      <td>Thanachart Fixed Income FIF 1Y28</td>\n",
       "      <td>กองทุนเปิดธนชาตตราสารหนี้ต่างประเทศ 1Y28</td>\n",
       "      <td>T-FixFIF1Y28</td>\n",
       "      <td>Thanachart Fund Management Co., Ltd.</td>\n",
       "      <td>Miscellaneous</td>\n",
       "    </tr>\n",
       "    <tr>\n",
       "      <th>1434</th>\n",
       "      <td>Thanachart Fixed Income FIF 1Y29</td>\n",
       "      <td>กองทุนเปิดธนชาตตราสารหนี้ต่างประเทศ 1Y29</td>\n",
       "      <td>T-FixFIF1Y29</td>\n",
       "      <td>Thanachart Fund Management Co., Ltd.</td>\n",
       "      <td>Miscellaneous</td>\n",
       "    </tr>\n",
       "    <tr>\n",
       "      <th>1435</th>\n",
       "      <td>Thanachart Fixed Income FIF 6M19</td>\n",
       "      <td>กองทุนเปิดธนชาตตราสารหนี้ต่างประเทศ 6M19</td>\n",
       "      <td>T-FixFIF6M19</td>\n",
       "      <td>Thanachart Fund Management Co., Ltd.</td>\n",
       "      <td>Miscellaneous</td>\n",
       "    </tr>\n",
       "    <tr>\n",
       "      <th>1436</th>\n",
       "      <td>Thanachart Fixed Income FIF 6M20</td>\n",
       "      <td>กองทุนเปิดธนชาตตราสารหนี้ต่างประเทศ 6M20</td>\n",
       "      <td>T-FixFIF6M20</td>\n",
       "      <td>Thanachart Fund Management Co., Ltd.</td>\n",
       "      <td>Miscellaneous</td>\n",
       "    </tr>\n",
       "    <tr>\n",
       "      <th>1437</th>\n",
       "      <td>Thanachart Fixed Income FIF 6M21</td>\n",
       "      <td>กองทุนเปิดธนชาตตราสารหนี้ต่างประเทศ 6M21</td>\n",
       "      <td>T-FixFIF6M21</td>\n",
       "      <td>Thanachart Fund Management Co., Ltd.</td>\n",
       "      <td>Miscellaneous</td>\n",
       "    </tr>\n",
       "    <tr>\n",
       "      <th>1438</th>\n",
       "      <td>Thanachart Fixed Income FIF 6M22</td>\n",
       "      <td>กองทุนเปิดธนชาตตราสารหนี้ต่างประเทศ 6M22</td>\n",
       "      <td>T-FixFIF6M22</td>\n",
       "      <td>Thanachart Fund Management Co., Ltd.</td>\n",
       "      <td>Miscellaneous</td>\n",
       "    </tr>\n",
       "    <tr>\n",
       "      <th>1439</th>\n",
       "      <td>Thanachart Fixed Income FIF 6M23</td>\n",
       "      <td>กองทุนเปิดธนชาตตราสารหนี้ต่างประเทศ 6M23</td>\n",
       "      <td>T-FixFIF6M23</td>\n",
       "      <td>Thanachart Fund Management Co., Ltd.</td>\n",
       "      <td>Miscellaneous</td>\n",
       "    </tr>\n",
       "    <tr>\n",
       "      <th>1440</th>\n",
       "      <td>Thanachart Fixed Income FIF 6M24</td>\n",
       "      <td>กองทุนเปิดธนชาตตราสารหนี้ต่างประเทศ 6M24</td>\n",
       "      <td>T-FixFIF6M24</td>\n",
       "      <td>Thanachart Fund Management Co., Ltd.</td>\n",
       "      <td>Miscellaneous</td>\n",
       "    </tr>\n",
       "    <tr>\n",
       "      <th>1441</th>\n",
       "      <td>Thanachart Fixed Income FIF 6M25</td>\n",
       "      <td>กองทุนเปิดธนชาตตราสารหนี้ต่างประเทศ 6M25</td>\n",
       "      <td>T-FixFIF6M25</td>\n",
       "      <td>Thanachart Fund Management Co., Ltd.</td>\n",
       "      <td>Miscellaneous</td>\n",
       "    </tr>\n",
       "    <tr>\n",
       "      <th>1442</th>\n",
       "      <td>Thanachart Japan Challenge 1</td>\n",
       "      <td>กองทุนเปิดธนชาตเจแปนชาเลนจ์ 1</td>\n",
       "      <td>T-JPChallenge1</td>\n",
       "      <td>Thanachart Fund Management Co., Ltd.</td>\n",
       "      <td>Miscellaneous</td>\n",
       "    </tr>\n",
       "    <tr>\n",
       "      <th>1443</th>\n",
       "      <td>Thanachart Long Term Fixed Income</td>\n",
       "      <td>กองทุนเปิดธนชาตตราสารหนี้ระยะยาว</td>\n",
       "      <td>TFixLT</td>\n",
       "      <td>Thanachart Fund Management Co., Ltd.</td>\n",
       "      <td>Miscellaneous</td>\n",
       "    </tr>\n",
       "    <tr>\n",
       "      <th>1444</th>\n",
       "      <td>TISCO China Equity Trigger 5M 2</td>\n",
       "      <td>กองทุนเปิด ทิสโก้ ไชน่า อิควิตี้ ทริกเกอร์ 5M#2</td>\n",
       "      <td>TCHT5M2</td>\n",
       "      <td>TISCO Asset Management Co., Ltd.</td>\n",
       "      <td>Miscellaneous</td>\n",
       "    </tr>\n",
       "    <tr>\n",
       "      <th>1445</th>\n",
       "      <td>TISCO China Linked Complex Return 5</td>\n",
       "      <td>กองทุนเปิด ทิสโก้ ไชน่า ลิ้งค์ คอมเพล็กซ์ รีเท...</td>\n",
       "      <td>TCHLINK5</td>\n",
       "      <td>TISCO Asset Management Co., Ltd.</td>\n",
       "      <td>Miscellaneous</td>\n",
       "    </tr>\n",
       "    <tr>\n",
       "      <th>1446</th>\n",
       "      <td>TISCO China Linked Complex Return 6</td>\n",
       "      <td>กองทุนเปิด ทิสโก้ ไชน่า ลิ้งค์ คอมเพล็กซ์ รีเท...</td>\n",
       "      <td>TCHLINK6</td>\n",
       "      <td>TISCO Asset Management Co., Ltd.</td>\n",
       "      <td>Miscellaneous</td>\n",
       "    </tr>\n",
       "    <tr>\n",
       "      <th>1447</th>\n",
       "      <td>TISCO China Linked Complex Return 7</td>\n",
       "      <td>กองทุนเปิด ทิสโก้ ไชน่า ลิ้งค์ คอมเพล็กซ์ รีเท...</td>\n",
       "      <td>TCHLINK7</td>\n",
       "      <td>TISCO Asset Management Co., Ltd.</td>\n",
       "      <td>Miscellaneous</td>\n",
       "    </tr>\n",
       "    <tr>\n",
       "      <th>1448</th>\n",
       "      <td>TISCO China Technology Trigger 5M 1</td>\n",
       "      <td>กองทุนเปิด ทิสโก้ ไชน่า เทคโนโลยี ทริกเกอร์ 5M#1</td>\n",
       "      <td>TCTEC5M1</td>\n",
       "      <td>TISCO Asset Management Co., Ltd.</td>\n",
       "      <td>Miscellaneous</td>\n",
       "    </tr>\n",
       "    <tr>\n",
       "      <th>1449</th>\n",
       "      <td>TISCO China Trigger 8% 19</td>\n",
       "      <td>กองทุนเปิด ทิสโก้ ไชน่า ทริกเกอร์ 8% #19</td>\n",
       "      <td>TISCOC19</td>\n",
       "      <td>TISCO Asset Management Co., Ltd.</td>\n",
       "      <td>Miscellaneous</td>\n",
       "    </tr>\n",
       "    <tr>\n",
       "      <th>1450</th>\n",
       "      <td>TISCO China Trigger 8% 20</td>\n",
       "      <td>กองทุนเปิด ทิสโก้ ไชน่า ทริกเกอร์ 8% #20</td>\n",
       "      <td>TISCOC20</td>\n",
       "      <td>TISCO Asset Management Co., Ltd.</td>\n",
       "      <td>Miscellaneous</td>\n",
       "    </tr>\n",
       "    <tr>\n",
       "      <th>1451</th>\n",
       "      <td>TISCO China Trigger 8% 21</td>\n",
       "      <td>กองทุนเปิด ทิสโก้ ไชน่า ทริกเกอร์ 8% #21</td>\n",
       "      <td>TISCOC21</td>\n",
       "      <td>TISCO Asset Management Co., Ltd.</td>\n",
       "      <td>Miscellaneous</td>\n",
       "    </tr>\n",
       "    <tr>\n",
       "      <th>1452</th>\n",
       "      <td>TISCO Japan Equity Trigger 5M 2</td>\n",
       "      <td>กองทุนเปิด ทิสโก้ เจแปน อิควิตี้ ทริกเกอร์ 5M#2</td>\n",
       "      <td>TJPT5M2</td>\n",
       "      <td>TISCO Asset Management Co., Ltd.</td>\n",
       "      <td>Miscellaneous</td>\n",
       "    </tr>\n",
       "    <tr>\n",
       "      <th>1453</th>\n",
       "      <td>TISCO Japan Linked Complex Return 1</td>\n",
       "      <td>กองทุนเปิด ทิสโก้ เจแปน ลิ้งค์ คอมเพล็กซ์ รีเท...</td>\n",
       "      <td>TJPLINK1</td>\n",
       "      <td>TISCO Asset Management Co., Ltd.</td>\n",
       "      <td>Miscellaneous</td>\n",
       "    </tr>\n",
       "    <tr>\n",
       "      <th>1454</th>\n",
       "      <td>TISCO Oil Trigger 8% 6</td>\n",
       "      <td>กองทุนเปิด ทิสโก้ ออยล์ ทริกเกอร์ 8% #6</td>\n",
       "      <td>TOIL6</td>\n",
       "      <td>TISCO Asset Management Co., Ltd.</td>\n",
       "      <td>Miscellaneous</td>\n",
       "    </tr>\n",
       "    <tr>\n",
       "      <th>1455</th>\n",
       "      <td>TISCO Thai Equity Trigger 5M 1</td>\n",
       "      <td>กองทุนเปิด ทิสโก้ ไทย อิควิตี้ ทริกเกอร์ 5M#1</td>\n",
       "      <td>TEQT5M1</td>\n",
       "      <td>TISCO Asset Management Co., Ltd.</td>\n",
       "      <td>Miscellaneous</td>\n",
       "    </tr>\n",
       "    <tr>\n",
       "      <th>1456</th>\n",
       "      <td>TISCO Thai Equity Trigger 5M 3</td>\n",
       "      <td>กองทุนเปิด ทิสโก้ ไทย อิควิตี้ ทริกเกอร์ 5M#3</td>\n",
       "      <td>TEQT5M3</td>\n",
       "      <td>TISCO Asset Management Co., Ltd.</td>\n",
       "      <td>Miscellaneous</td>\n",
       "    </tr>\n",
       "    <tr>\n",
       "      <th>1457</th>\n",
       "      <td>TISCO Thai Equity Trigger 5M 4</td>\n",
       "      <td>กองทุนเปิด ทิสโก้ ไทย อิควิตี้ ทริกเกอร์ 5M#4</td>\n",
       "      <td>TEQT5M4</td>\n",
       "      <td>TISCO Asset Management Co., Ltd.</td>\n",
       "      <td>Miscellaneous</td>\n",
       "    </tr>\n",
       "    <tr>\n",
       "      <th>1458</th>\n",
       "      <td>United Fd-Linked Complex Ret 2 NFRI</td>\n",
       "      <td>กองทุนเปิด ยูไนเต็ด ฟันด์ ลิงค์ คอมเพล็กซ์ รีเ...</td>\n",
       "      <td>UFLINK2</td>\n",
       "      <td>UOB Asset Management (Thailand) Co., Ltd</td>\n",
       "      <td>Miscellaneous</td>\n",
       "    </tr>\n",
       "    <tr>\n",
       "      <th>1459</th>\n",
       "      <td>United Fd-Linked Complex Ret NFRI</td>\n",
       "      <td>กองทุนเปิด ยูไนเต็ด ฟันด์ ลิงค์ คอมเพล็กซ์ รีเ...</td>\n",
       "      <td>UFLINK</td>\n",
       "      <td>UOB Asset Management (Thailand) Co., Ltd</td>\n",
       "      <td>Miscellaneous</td>\n",
       "    </tr>\n",
       "    <tr>\n",
       "      <th>1460</th>\n",
       "      <td>United Fixed Maturity 2Y1</td>\n",
       "      <td>กองทุนเปิด ยูไนเต็ด ฟิกซ์ แมชชัวริตี้ 2Y1</td>\n",
       "      <td>UFM2Y1</td>\n",
       "      <td>UOB Asset Management (Thailand) Co., Ltd</td>\n",
       "      <td>Miscellaneous</td>\n",
       "    </tr>\n",
       "  </tbody>\n",
       "</table>\n",
       "<p>408 rows × 5 columns</p>\n",
       "</div>"
      ],
      "text/plain": [
       "                             Fund Legal Name  \\\n",
       "1053           1 A.M. Smart Long Term Equity   \n",
       "1054            Asset Plus AI Fixed Income 1   \n",
       "1055             Asset Plus AI Term Fund 3Y3   \n",
       "1056             Asset Plus AI Term Fund 5Y1   \n",
       "1057      Asset Plus Glbl Complex Ret 1 NFRI   \n",
       "1058                      Asset Plus Prime 4   \n",
       "1059                      Asset Plus Stars 9   \n",
       "1060  Asset Plus Taweesab Fixed Inc 6M2 NFRI   \n",
       "1061      Asset Plus Taweesab Fixed Income 2   \n",
       "1062      Asset Plus Taweesab Fixed Income 3   \n",
       "1063      Asset Plus Taweesab Fixed Income 5   \n",
       "1064      Asset Plus Taweesab Fixed Income 9   \n",
       "1065  Bualuang Fixed Income - Term Fund 1/18   \n",
       "1066  Bualuang Fixed Income - Term Fund 1/19   \n",
       "1067  Bualuang Fixed Income - Term Fund 2/18   \n",
       "1068  Bualuang Fixed Income - Term Fund 3/18   \n",
       "1069  Bualuang Fixed Income - Term Fund 4/18   \n",
       "1070  Bualuang Fixed Income - Term Fund 5/18   \n",
       "1071  Bualuang Fixed Income - Term Fund 6/18   \n",
       "1072  Bualuang Fixed Income - Term Fund 7/18   \n",
       "1073  Bualuang Fixed Income - Term Fund 8/18   \n",
       "1074  Bualuang Fixed Income - Term Fund 9/18   \n",
       "1075            Bualuang Thanasarn Plus 1/19   \n",
       "1076           Bualuang Thanasarn Plus 12/18   \n",
       "1077           Bualuang Thanasarn Plus 13/18   \n",
       "1078           Bualuang Thanasarn Plus 14/18   \n",
       "1079           Bualuang Thanasarn Plus 15/18   \n",
       "1080           Bualuang Thanasarn Plus 16/18   \n",
       "1081           Bualuang Thanasarn Plus 17/18   \n",
       "1082           Bualuang Thanasarn Plus 18/18   \n",
       "...                                      ...   \n",
       "1431        Thanachart Fixed Income FIF 1Y26   \n",
       "1432        Thanachart Fixed Income FIF 1Y27   \n",
       "1433        Thanachart Fixed Income FIF 1Y28   \n",
       "1434        Thanachart Fixed Income FIF 1Y29   \n",
       "1435        Thanachart Fixed Income FIF 6M19   \n",
       "1436        Thanachart Fixed Income FIF 6M20   \n",
       "1437        Thanachart Fixed Income FIF 6M21   \n",
       "1438        Thanachart Fixed Income FIF 6M22   \n",
       "1439        Thanachart Fixed Income FIF 6M23   \n",
       "1440        Thanachart Fixed Income FIF 6M24   \n",
       "1441        Thanachart Fixed Income FIF 6M25   \n",
       "1442            Thanachart Japan Challenge 1   \n",
       "1443       Thanachart Long Term Fixed Income   \n",
       "1444         TISCO China Equity Trigger 5M 2   \n",
       "1445     TISCO China Linked Complex Return 5   \n",
       "1446     TISCO China Linked Complex Return 6   \n",
       "1447     TISCO China Linked Complex Return 7   \n",
       "1448     TISCO China Technology Trigger 5M 1   \n",
       "1449               TISCO China Trigger 8% 19   \n",
       "1450               TISCO China Trigger 8% 20   \n",
       "1451               TISCO China Trigger 8% 21   \n",
       "1452         TISCO Japan Equity Trigger 5M 2   \n",
       "1453     TISCO Japan Linked Complex Return 1   \n",
       "1454                  TISCO Oil Trigger 8% 6   \n",
       "1455          TISCO Thai Equity Trigger 5M 1   \n",
       "1456          TISCO Thai Equity Trigger 5M 3   \n",
       "1457          TISCO Thai Equity Trigger 5M 4   \n",
       "1458     United Fd-Linked Complex Ret 2 NFRI   \n",
       "1459       United Fd-Linked Complex Ret NFRI   \n",
       "1460               United Fixed Maturity 2Y1   \n",
       "\n",
       "                                      Local Name - Thai       Fund Code  \\\n",
       "1053              กองทุนเปิดวรรณเอเอ็มสมาร์ทหุ้นระยะยาว      1SMART-LTF   \n",
       "1054               กองทุนเปิดแอสเซทพลัสเอไอตราสารหนี้ 1        ASP-AIF1   \n",
       "1055            กองทุนเปิดแอสเซทพลัสเอไอเทิร์มฟันด์ 3Y3     ASP-AITF3Y3   \n",
       "1056            กองทุนเปิดแอสเซทพลัสเอไอเทิร์มฟันด์ 5Y1     ASP-AITF5Y1   \n",
       "1057  กองทุนเปิด แอสเซทพลัส โกลบอล คอมเพล็กซ์ รีเทิร...      ASP-GCOM 1   \n",
       "1058                        กองทุนเปิดแอสเซทพลัสไพร์ม 4      ASP-PRIME4   \n",
       "1059                        กองทุนเปิดแอสเซทพลัสสตาร์ 9      ASP-STARS9   \n",
       "1060  กองทุนเปิดแอสเซทพลัสตราสารหนี้ทวีทรัพย์ 6เดือน...  ASP-TFIXED 6M2   \n",
       "1061          กองทุนเปิดแอสเซทพลัสตราสารหนี้ทวีทรัพย์ 2     ASP-TFIXED2   \n",
       "1062          กองทุนเปิดแอสเซทพลัสตราสารหนี้ทวีทรัพย์ 3     ASP-TFIXED3   \n",
       "1063          กองทุนเปิดแอสเซทพลัสตราสารหนี้ทวีทรัพย์ 5     ASP-TFIXED5   \n",
       "1064          กองทุนเปิดแอสเซทพลัสตราสารหนี้ทวีทรัพย์ 9     ASP-TFIXED9   \n",
       "1065  กองทุนรวมบัวหลวงตราสารหนี้ชนิดระบุวันครบกำหนด ...  B-Fixterm 1/18   \n",
       "1066  กองทุนรวมบัวหลวงตราสารหนี้ชนิดระบุวันครบกำหนด ...   B-Fixterm1/19   \n",
       "1067  กองทุนรวมบัวหลวงตราสารหนี้ชนิดระบุวันครบกำหนด ...   B-Fixterm2/18   \n",
       "1068  กองทุนรวมบัวหลวงตราสารหนี้ชนิดระบุวันครบกำหนด ...   B-Fixterm3/18   \n",
       "1069  กองทุนรวมบัวหลวงตราสารหนี้ชนิดระบุวันครบกำหนด ...   B-Fixterm4/18   \n",
       "1070  กองทุนรวมบัวหลวงตราสารหนี้ชนิดระบุวันครบกำหนด ...   B-Fixterm5/18   \n",
       "1071  กองทุนรวมบัวหลวงตราสารหนี้ชนิดระบุวันครบกำหนด ...   B-Fixterm6/18   \n",
       "1072  กองทุนรวมบัวหลวงตราสารหนี้ชนิดระบุวันครบกำหนด ...   B-Fixterm7/18   \n",
       "1073  กองทุนรวมบัวหลวงตราสารหนี้ชนิดระบุวันครบกำหนด ...   B-Fixterm8/18   \n",
       "1074  กองทุนรวมบัวหลวงตราสารหนี้ชนิดระบุวันครบกำหนด ...   B-Fixterm9/18   \n",
       "1075                     กองทุนรวมบัวหลวงธนสารพลัส 1/19          BP1/19   \n",
       "1076                    กองทุนรวมบัวหลวงธนสารพลัส 12/18         BP12/18   \n",
       "1077                    กองทุนรวมบัวหลวงธนสารพลัส 13/18         BP13/18   \n",
       "1078                    กองทุนรวมบัวหลวงธนสารพลัส 14/18         BP14/18   \n",
       "1079                    กองทุนรวมบัวหลวงธนสารพลัส 15/18         BP15/18   \n",
       "1080                    กองทุนรวมบัวหลวงธนสารพลัส 16/18         BP16/18   \n",
       "1081                    กองทุนรวมบัวหลวงธนสารพลัส 17/18         BP17/18   \n",
       "1082                    กองทุนรวมบัวหลวงธนสารพลัส 18/18         BP18/18   \n",
       "...                                                 ...             ...   \n",
       "1431           กองทุนเปิดธนชาตตราสารหนี้ต่างประเทศ 1Y26    T-FixFIF1Y26   \n",
       "1432           กองทุนเปิดธนชาตตราสารหนี้ต่างประเทศ 1Y27    T-FixFIF1Y27   \n",
       "1433           กองทุนเปิดธนชาตตราสารหนี้ต่างประเทศ 1Y28    T-FixFIF1Y28   \n",
       "1434           กองทุนเปิดธนชาตตราสารหนี้ต่างประเทศ 1Y29    T-FixFIF1Y29   \n",
       "1435           กองทุนเปิดธนชาตตราสารหนี้ต่างประเทศ 6M19    T-FixFIF6M19   \n",
       "1436           กองทุนเปิดธนชาตตราสารหนี้ต่างประเทศ 6M20    T-FixFIF6M20   \n",
       "1437           กองทุนเปิดธนชาตตราสารหนี้ต่างประเทศ 6M21    T-FixFIF6M21   \n",
       "1438           กองทุนเปิดธนชาตตราสารหนี้ต่างประเทศ 6M22    T-FixFIF6M22   \n",
       "1439           กองทุนเปิดธนชาตตราสารหนี้ต่างประเทศ 6M23    T-FixFIF6M23   \n",
       "1440           กองทุนเปิดธนชาตตราสารหนี้ต่างประเทศ 6M24    T-FixFIF6M24   \n",
       "1441           กองทุนเปิดธนชาตตราสารหนี้ต่างประเทศ 6M25    T-FixFIF6M25   \n",
       "1442                      กองทุนเปิดธนชาตเจแปนชาเลนจ์ 1  T-JPChallenge1   \n",
       "1443                   กองทุนเปิดธนชาตตราสารหนี้ระยะยาว          TFixLT   \n",
       "1444    กองทุนเปิด ทิสโก้ ไชน่า อิควิตี้ ทริกเกอร์ 5M#2         TCHT5M2   \n",
       "1445  กองทุนเปิด ทิสโก้ ไชน่า ลิ้งค์ คอมเพล็กซ์ รีเท...        TCHLINK5   \n",
       "1446  กองทุนเปิด ทิสโก้ ไชน่า ลิ้งค์ คอมเพล็กซ์ รีเท...        TCHLINK6   \n",
       "1447  กองทุนเปิด ทิสโก้ ไชน่า ลิ้งค์ คอมเพล็กซ์ รีเท...        TCHLINK7   \n",
       "1448   กองทุนเปิด ทิสโก้ ไชน่า เทคโนโลยี ทริกเกอร์ 5M#1        TCTEC5M1   \n",
       "1449           กองทุนเปิด ทิสโก้ ไชน่า ทริกเกอร์ 8% #19        TISCOC19   \n",
       "1450           กองทุนเปิด ทิสโก้ ไชน่า ทริกเกอร์ 8% #20        TISCOC20   \n",
       "1451           กองทุนเปิด ทิสโก้ ไชน่า ทริกเกอร์ 8% #21        TISCOC21   \n",
       "1452    กองทุนเปิด ทิสโก้ เจแปน อิควิตี้ ทริกเกอร์ 5M#2         TJPT5M2   \n",
       "1453  กองทุนเปิด ทิสโก้ เจแปน ลิ้งค์ คอมเพล็กซ์ รีเท...        TJPLINK1   \n",
       "1454            กองทุนเปิด ทิสโก้ ออยล์ ทริกเกอร์ 8% #6           TOIL6   \n",
       "1455      กองทุนเปิด ทิสโก้ ไทย อิควิตี้ ทริกเกอร์ 5M#1         TEQT5M1   \n",
       "1456      กองทุนเปิด ทิสโก้ ไทย อิควิตี้ ทริกเกอร์ 5M#3         TEQT5M3   \n",
       "1457      กองทุนเปิด ทิสโก้ ไทย อิควิตี้ ทริกเกอร์ 5M#4         TEQT5M4   \n",
       "1458  กองทุนเปิด ยูไนเต็ด ฟันด์ ลิงค์ คอมเพล็กซ์ รีเ...         UFLINK2   \n",
       "1459  กองทุนเปิด ยูไนเต็ด ฟันด์ ลิงค์ คอมเพล็กซ์ รีเ...          UFLINK   \n",
       "1460          กองทุนเปิด ยูไนเต็ด ฟิกซ์ แมชชัวริตี้ 2Y1          UFM2Y1   \n",
       "\n",
       "                                     Firm Name  AIMC Category  \n",
       "1053                  One Asset Management Ltd  Miscellaneous  \n",
       "1054      Asset Plus Fund Management Co., Ltd.  Miscellaneous  \n",
       "1055      Asset Plus Fund Management Co., Ltd.  Miscellaneous  \n",
       "1056      Asset Plus Fund Management Co., Ltd.  Miscellaneous  \n",
       "1057      Asset Plus Fund Management Co., Ltd.  Miscellaneous  \n",
       "1058      Asset Plus Fund Management Co., Ltd.  Miscellaneous  \n",
       "1059      Asset Plus Fund Management Co., Ltd.  Miscellaneous  \n",
       "1060      Asset Plus Fund Management Co., Ltd.  Miscellaneous  \n",
       "1061      Asset Plus Fund Management Co., Ltd.  Miscellaneous  \n",
       "1062      Asset Plus Fund Management Co., Ltd.  Miscellaneous  \n",
       "1063      Asset Plus Fund Management Co., Ltd.  Miscellaneous  \n",
       "1064      Asset Plus Fund Management Co., Ltd.  Miscellaneous  \n",
       "1065            BBL Asset Management Co., Ltd.  Miscellaneous  \n",
       "1066            BBL Asset Management Co., Ltd.  Miscellaneous  \n",
       "1067            BBL Asset Management Co., Ltd.  Miscellaneous  \n",
       "1068            BBL Asset Management Co., Ltd.  Miscellaneous  \n",
       "1069            BBL Asset Management Co., Ltd.  Miscellaneous  \n",
       "1070            BBL Asset Management Co., Ltd.  Miscellaneous  \n",
       "1071            BBL Asset Management Co., Ltd.  Miscellaneous  \n",
       "1072            BBL Asset Management Co., Ltd.  Miscellaneous  \n",
       "1073            BBL Asset Management Co., Ltd.  Miscellaneous  \n",
       "1074            BBL Asset Management Co., Ltd.  Miscellaneous  \n",
       "1075            BBL Asset Management Co., Ltd.  Miscellaneous  \n",
       "1076            BBL Asset Management Co., Ltd.  Miscellaneous  \n",
       "1077            BBL Asset Management Co., Ltd.  Miscellaneous  \n",
       "1078            BBL Asset Management Co., Ltd.  Miscellaneous  \n",
       "1079            BBL Asset Management Co., Ltd.  Miscellaneous  \n",
       "1080            BBL Asset Management Co., Ltd.  Miscellaneous  \n",
       "1081            BBL Asset Management Co., Ltd.  Miscellaneous  \n",
       "1082            BBL Asset Management Co., Ltd.  Miscellaneous  \n",
       "...                                        ...            ...  \n",
       "1431      Thanachart Fund Management Co., Ltd.  Miscellaneous  \n",
       "1432      Thanachart Fund Management Co., Ltd.  Miscellaneous  \n",
       "1433      Thanachart Fund Management Co., Ltd.  Miscellaneous  \n",
       "1434      Thanachart Fund Management Co., Ltd.  Miscellaneous  \n",
       "1435      Thanachart Fund Management Co., Ltd.  Miscellaneous  \n",
       "1436      Thanachart Fund Management Co., Ltd.  Miscellaneous  \n",
       "1437      Thanachart Fund Management Co., Ltd.  Miscellaneous  \n",
       "1438      Thanachart Fund Management Co., Ltd.  Miscellaneous  \n",
       "1439      Thanachart Fund Management Co., Ltd.  Miscellaneous  \n",
       "1440      Thanachart Fund Management Co., Ltd.  Miscellaneous  \n",
       "1441      Thanachart Fund Management Co., Ltd.  Miscellaneous  \n",
       "1442      Thanachart Fund Management Co., Ltd.  Miscellaneous  \n",
       "1443      Thanachart Fund Management Co., Ltd.  Miscellaneous  \n",
       "1444          TISCO Asset Management Co., Ltd.  Miscellaneous  \n",
       "1445          TISCO Asset Management Co., Ltd.  Miscellaneous  \n",
       "1446          TISCO Asset Management Co., Ltd.  Miscellaneous  \n",
       "1447          TISCO Asset Management Co., Ltd.  Miscellaneous  \n",
       "1448          TISCO Asset Management Co., Ltd.  Miscellaneous  \n",
       "1449          TISCO Asset Management Co., Ltd.  Miscellaneous  \n",
       "1450          TISCO Asset Management Co., Ltd.  Miscellaneous  \n",
       "1451          TISCO Asset Management Co., Ltd.  Miscellaneous  \n",
       "1452          TISCO Asset Management Co., Ltd.  Miscellaneous  \n",
       "1453          TISCO Asset Management Co., Ltd.  Miscellaneous  \n",
       "1454          TISCO Asset Management Co., Ltd.  Miscellaneous  \n",
       "1455          TISCO Asset Management Co., Ltd.  Miscellaneous  \n",
       "1456          TISCO Asset Management Co., Ltd.  Miscellaneous  \n",
       "1457          TISCO Asset Management Co., Ltd.  Miscellaneous  \n",
       "1458  UOB Asset Management (Thailand) Co., Ltd  Miscellaneous  \n",
       "1459  UOB Asset Management (Thailand) Co., Ltd  Miscellaneous  \n",
       "1460  UOB Asset Management (Thailand) Co., Ltd  Miscellaneous  \n",
       "\n",
       "[408 rows x 5 columns]"
      ]
     },
     "execution_count": 100,
     "metadata": {},
     "output_type": "execute_result"
    }
   ],
   "source": [
    "fund_cat[fund_cat['AIMC Category'] == 'Miscellaneous']"
   ]
  },
  {
   "cell_type": "code",
   "execution_count": null,
   "metadata": {},
   "outputs": [],
   "source": []
  },
  {
   "cell_type": "code",
   "execution_count": null,
   "metadata": {},
   "outputs": [],
   "source": []
  },
  {
   "cell_type": "markdown",
   "metadata": {},
   "source": [
    "# อ่านข้อมูลจาก text เพื่อบันทึกลง Database\n",
    "\n",
    "- https://sdsawtelle.github.io/blog/output/large-data-files-pandas-sqlite.html"
   ]
  },
  {
   "cell_type": "markdown",
   "metadata": {},
   "source": [
    "## จัดการแบบ Auto"
   ]
  },
  {
   "cell_type": "code",
   "execution_count": 21,
   "metadata": {
    "ExecuteTime": {
     "end_time": "2019-06-21T06:07:12.615800Z",
     "start_time": "2019-06-21T06:07:12.610803Z"
    }
   },
   "outputs": [],
   "source": [
    "import pandas as pd\n",
    "import numpy as np\n",
    "import sqlite3\n",
    "%matplotlib inline\n",
    "# used for dates\n",
    "import datetime\n",
    "from datetime import datetime, date"
   ]
  },
  {
   "cell_type": "code",
   "execution_count": 22,
   "metadata": {
    "ExecuteTime": {
     "end_time": "2019-06-21T06:07:13.040767Z",
     "start_time": "2019-06-21T06:07:13.036768Z"
    }
   },
   "outputs": [
    {
     "data": {
      "text/plain": [
       "'0.24.2'"
      ]
     },
     "execution_count": 22,
     "metadata": {},
     "output_type": "execute_result"
    }
   ],
   "source": [
    "pd.__version__"
   ]
  },
  {
   "cell_type": "code",
   "execution_count": 23,
   "metadata": {
    "ExecuteTime": {
     "end_time": "2019-06-21T06:07:13.446621Z",
     "start_time": "2019-06-21T06:07:13.441624Z"
    },
    "scrolled": true
   },
   "outputs": [
    {
     "data": {
      "text/plain": [
       "Timestamp('2019-06-21 13:07:13.442623')"
      ]
     },
     "execution_count": 23,
     "metadata": {},
     "output_type": "execute_result"
    }
   ],
   "source": [
    "pd.Timestamp.today()"
   ]
  },
  {
   "cell_type": "code",
   "execution_count": 24,
   "metadata": {
    "ExecuteTime": {
     "end_time": "2019-06-21T06:07:17.627122Z",
     "start_time": "2019-06-21T06:07:14.322684Z"
    }
   },
   "outputs": [
    {
     "name": "stdout",
     "output_type": "stream",
     "text": [
      "2560-06-success\n"
     ]
    }
   ],
   "source": [
    "def read_txt (years,months):\n",
    "        y = years\n",
    "        m = months\n",
    "        for i in range(len(months)):\n",
    "            n = ['nav_date','B','C','Firm','E','proj_name_th','proj_name_en','fund_code','net_asset',\n",
    "                 'nav_price','dividend_value','book_close_date','sell_price','buy_price']\n",
    "            df = pd.read_csv((f'NAV/NAV_{years}_{months[i]}.txt'),header=None,names=n,skiprows=1,encoding='utf-8')\n",
    "             # ลบข้อมูลที่เป็น่ค่าว่าง\n",
    "            df = df.dropna(subset=['fund_code'])\n",
    "\n",
    "            # Convert Type to DateTime\n",
    "            df['nav_date'] = pd.to_datetime(df.nav_date) \n",
    "            #df['book_close_date'] = pd.to_datetime(df.book_close_date ) \n",
    "            \n",
    "            df = df.loc[:, ['nav_date',\"fund_code\",'nav_price','net_asset','sell_price',\n",
    "                             'buy_price','dividend_value','book_close_date','Firm']]\n",
    "            # Connect Database\n",
    "            conn = sqlite3.connect('mutual_fund.db')\n",
    "            df.to_sql(\"daily_nav\", conn,if_exists=\"append\", index=False)\n",
    "            \n",
    "            print(f'{years}-{months[i]}-success')\n",
    "\n",
    "y = '2560'\n",
    "m = ['06']\n",
    "read_txt(y,m)\n",
    "\n",
    "# ['06','05','04','03','02','01']\n",
    "# ['12','11','10','09','08','07']\n",
    "# ['12','11','10','09','08','07','06','05','04','03','02','01']"
   ]
  },
  {
   "cell_type": "code",
   "execution_count": null,
   "metadata": {},
   "outputs": [],
   "source": []
  },
  {
   "cell_type": "code",
   "execution_count": 9,
   "metadata": {
    "ExecuteTime": {
     "end_time": "2019-06-21T06:04:08.753542Z",
     "start_time": "2019-06-21T06:04:08.739550Z"
    }
   },
   "outputs": [
    {
     "ename": "NameError",
     "evalue": "name 'conn' is not defined",
     "output_type": "error",
     "traceback": [
      "\u001b[1;31m---------------------------------------------------------------------------\u001b[0m",
      "\u001b[1;31mNameError\u001b[0m                                 Traceback (most recent call last)",
      "\u001b[1;32m<ipython-input-9-5b91c7ead47b>\u001b[0m in \u001b[0;36m<module>\u001b[1;34m\u001b[0m\n\u001b[1;32m----> 1\u001b[1;33m \u001b[0mdata\u001b[0m \u001b[1;33m=\u001b[0m \u001b[0mpd\u001b[0m\u001b[1;33m.\u001b[0m\u001b[0mread_sql_query\u001b[0m\u001b[1;33m(\u001b[0m\u001b[1;34m\"select * from daily_nav\"\u001b[0m\u001b[1;33m,\u001b[0m \u001b[0mconn\u001b[0m\u001b[1;33m)\u001b[0m\u001b[1;33m\u001b[0m\u001b[1;33m\u001b[0m\u001b[0m\n\u001b[0m\u001b[0;32m      2\u001b[0m \u001b[0mdata\u001b[0m\u001b[1;33m.\u001b[0m\u001b[0mhead\u001b[0m\u001b[1;33m(\u001b[0m\u001b[1;36m10\u001b[0m\u001b[1;33m)\u001b[0m\u001b[1;33m\u001b[0m\u001b[1;33m\u001b[0m\u001b[0m\n",
      "\u001b[1;31mNameError\u001b[0m: name 'conn' is not defined"
     ]
    }
   ],
   "source": [
    "data = pd.read_sql_query(\"select * from daily_nav\", conn)\n",
    "data.head(10)\n"
   ]
  },
  {
   "cell_type": "code",
   "execution_count": 10,
   "metadata": {
    "ExecuteTime": {
     "end_time": "2019-06-21T06:04:09.715357Z",
     "start_time": "2019-06-21T06:04:09.706363Z"
    }
   },
   "outputs": [
    {
     "ename": "NameError",
     "evalue": "name 'data' is not defined",
     "output_type": "error",
     "traceback": [
      "\u001b[1;31m---------------------------------------------------------------------------\u001b[0m",
      "\u001b[1;31mNameError\u001b[0m                                 Traceback (most recent call last)",
      "\u001b[1;32m<ipython-input-10-047ed65ff157>\u001b[0m in \u001b[0;36m<module>\u001b[1;34m\u001b[0m\n\u001b[1;32m----> 1\u001b[1;33m \u001b[0mdata\u001b[0m\u001b[1;33m.\u001b[0m\u001b[0mshape\u001b[0m\u001b[1;33m\u001b[0m\u001b[1;33m\u001b[0m\u001b[0m\n\u001b[0m",
      "\u001b[1;31mNameError\u001b[0m: name 'data' is not defined"
     ]
    }
   ],
   "source": [
    "data.shape"
   ]
  },
  {
   "cell_type": "code",
   "execution_count": null,
   "metadata": {},
   "outputs": [],
   "source": []
  },
  {
   "cell_type": "code",
   "execution_count": null,
   "metadata": {},
   "outputs": [],
   "source": []
  },
  {
   "cell_type": "code",
   "execution_count": null,
   "metadata": {},
   "outputs": [],
   "source": []
  },
  {
   "cell_type": "code",
   "execution_count": null,
   "metadata": {},
   "outputs": [],
   "source": []
  },
  {
   "cell_type": "code",
   "execution_count": 24,
   "metadata": {},
   "outputs": [
    {
     "data": {
      "text/html": [
       "<div>\n",
       "<style scoped>\n",
       "    .dataframe tbody tr th:only-of-type {\n",
       "        vertical-align: middle;\n",
       "    }\n",
       "\n",
       "    .dataframe tbody tr th {\n",
       "        vertical-align: top;\n",
       "    }\n",
       "\n",
       "    .dataframe thead th {\n",
       "        text-align: right;\n",
       "    }\n",
       "</style>\n",
       "<table border=\"1\" class=\"dataframe\">\n",
       "  <thead>\n",
       "    <tr style=\"text-align: right;\">\n",
       "      <th></th>\n",
       "      <th>nav_date</th>\n",
       "      <th>B</th>\n",
       "      <th>C</th>\n",
       "      <th>Firm</th>\n",
       "      <th>E</th>\n",
       "      <th>proj_name_th</th>\n",
       "      <th>proj_name_en</th>\n",
       "      <th>fund_code</th>\n",
       "      <th>net_asset</th>\n",
       "      <th>nav_price</th>\n",
       "      <th>dividend_value</th>\n",
       "      <th>book_close_date</th>\n",
       "      <th>sell_price</th>\n",
       "      <th>buy_price</th>\n",
       "    </tr>\n",
       "  </thead>\n",
       "  <tbody>\n",
       "    <tr>\n",
       "      <th>5567</th>\n",
       "      <td>08/05/2019</td>\n",
       "      <td>OE</td>\n",
       "      <td>Fixed Income Fund</td>\n",
       "      <td>THANACHART FUND</td>\n",
       "      <td>THANACHART FUND</td>\n",
       "      <td>กองทุนเปิดธนชาตตราสารหนี้ระยะยาว</td>\n",
       "      <td>Thanachart Long term Fixed Income Fund</td>\n",
       "      <td>TFixLT</td>\n",
       "      <td>2.164200e+08</td>\n",
       "      <td>10.0252</td>\n",
       "      <td>0.1</td>\n",
       "      <td>23/04/2019</td>\n",
       "      <td>NaN</td>\n",
       "      <td>NaN</td>\n",
       "    </tr>\n",
       "  </tbody>\n",
       "</table>\n",
       "</div>"
      ],
      "text/plain": [
       "        nav_date   B                  C             Firm                E  \\\n",
       "5567  08/05/2019  OE  Fixed Income Fund  THANACHART FUND  THANACHART FUND   \n",
       "\n",
       "                          proj_name_th  \\\n",
       "5567  กองทุนเปิดธนชาตตราสารหนี้ระยะยาว   \n",
       "\n",
       "                                proj_name_en fund_code     net_asset  \\\n",
       "5567  Thanachart Long term Fixed Income Fund    TFixLT  2.164200e+08   \n",
       "\n",
       "      nav_price  dividend_value book_close_date  sell_price  buy_price  \n",
       "5567    10.0252             0.1      23/04/2019         NaN        NaN  "
      ]
     },
     "execution_count": 24,
     "metadata": {},
     "output_type": "execute_result"
    }
   ],
   "source": [
    "n = ['nav_date','B','C','Firm','E','proj_name_th','proj_name_en','fund_code','net_asset',\n",
    "     'nav_price','dividend_value','book_close_date','sell_price','buy_price']\n",
    "df = pd.read_csv('NAV/NAV_2562_05.txt',header=None,names=n,skiprows=1,encoding='utf-8')\n",
    "df.sample()"
   ]
  },
  {
   "cell_type": "code",
   "execution_count": 25,
   "metadata": {},
   "outputs": [
    {
     "data": {
      "text/html": [
       "<div>\n",
       "<style scoped>\n",
       "    .dataframe tbody tr th:only-of-type {\n",
       "        vertical-align: middle;\n",
       "    }\n",
       "\n",
       "    .dataframe tbody tr th {\n",
       "        vertical-align: top;\n",
       "    }\n",
       "\n",
       "    .dataframe thead th {\n",
       "        text-align: right;\n",
       "    }\n",
       "</style>\n",
       "<table border=\"1\" class=\"dataframe\">\n",
       "  <thead>\n",
       "    <tr style=\"text-align: right;\">\n",
       "      <th></th>\n",
       "      <th>nav_date</th>\n",
       "      <th>B</th>\n",
       "      <th>C</th>\n",
       "      <th>Firm</th>\n",
       "      <th>E</th>\n",
       "      <th>proj_name_th</th>\n",
       "      <th>proj_name_en</th>\n",
       "      <th>fund_code</th>\n",
       "      <th>net_asset</th>\n",
       "      <th>nav_price</th>\n",
       "      <th>dividend_value</th>\n",
       "      <th>book_close_date</th>\n",
       "      <th>sell_price</th>\n",
       "      <th>buy_price</th>\n",
       "    </tr>\n",
       "  </thead>\n",
       "  <tbody>\n",
       "    <tr>\n",
       "      <th>13027</th>\n",
       "      <td>2019-05-16</td>\n",
       "      <td>OE</td>\n",
       "      <td></td>\n",
       "      <td>KTAM</td>\n",
       "      <td>KTAM</td>\n",
       "      <td>กองทุนเปิดเคแทม เวิลด์ บอนด์ ฟันด์</td>\n",
       "      <td>KTAM World Bond Fund</td>\n",
       "      <td>KT-BOND</td>\n",
       "      <td>26143440.51</td>\n",
       "      <td>11.381</td>\n",
       "      <td>NaN</td>\n",
       "      <td>NaT</td>\n",
       "      <td>11.4665</td>\n",
       "      <td>11.381</td>\n",
       "    </tr>\n",
       "  </tbody>\n",
       "</table>\n",
       "</div>"
      ],
      "text/plain": [
       "        nav_date   B  C  Firm     E                        proj_name_th  \\\n",
       "13027 2019-05-16  OE     KTAM  KTAM  กองทุนเปิดเคแทม เวิลด์ บอนด์ ฟันด์   \n",
       "\n",
       "               proj_name_en fund_code    net_asset  nav_price  dividend_value  \\\n",
       "13027  KTAM World Bond Fund   KT-BOND  26143440.51     11.381             NaN   \n",
       "\n",
       "      book_close_date  sell_price  buy_price  \n",
       "13027             NaT     11.4665     11.381  "
      ]
     },
     "execution_count": 25,
     "metadata": {},
     "output_type": "execute_result"
    }
   ],
   "source": [
    " # ลบข้อมูลที่เป็น่ค่าว่าง\n",
    "df = df.dropna(subset=['fund_code'])\n",
    "\n",
    "# Convert Type to DateTime\n",
    "df['nav_date'] = pd.to_datetime(df.nav_date,dayfirst=True ) \n",
    "df['book_close_date'] = pd.to_datetime(df.book_close_date,dayfirst=True ) \n",
    "df.sample()"
   ]
  },
  {
   "cell_type": "code",
   "execution_count": 33,
   "metadata": {},
   "outputs": [
    {
     "name": "stdout",
     "output_type": "stream",
     "text": [
      "<class 'pandas.core.frame.DataFrame'>\n",
      "Int64Index: 28507 entries, 0 to 28506\n",
      "Data columns (total 9 columns):\n",
      "nav_date           28507 non-null datetime64[ns]\n",
      "fund_code          28507 non-null object\n",
      "nav_price          28257 non-null float64\n",
      "net_asset          28507 non-null float64\n",
      "sell_price         19681 non-null float64\n",
      "buy_price          19686 non-null float64\n",
      "dividend_value     4366 non-null float64\n",
      "book_close_date    4373 non-null datetime64[ns]\n",
      "Firm               28507 non-null object\n",
      "dtypes: datetime64[ns](2), float64(5), object(2)\n",
      "memory usage: 2.2+ MB\n"
     ]
    }
   ],
   "source": [
    "df.info()"
   ]
  },
  {
   "cell_type": "code",
   "execution_count": 34,
   "metadata": {},
   "outputs": [
    {
     "data": {
      "text/plain": [
       "(28507, 9)"
      ]
     },
     "execution_count": 34,
     "metadata": {},
     "output_type": "execute_result"
    }
   ],
   "source": [
    "df.shape"
   ]
  },
  {
   "cell_type": "code",
   "execution_count": 35,
   "metadata": {},
   "outputs": [
    {
     "data": {
      "text/html": [
       "<div>\n",
       "<style scoped>\n",
       "    .dataframe tbody tr th:only-of-type {\n",
       "        vertical-align: middle;\n",
       "    }\n",
       "\n",
       "    .dataframe tbody tr th {\n",
       "        vertical-align: top;\n",
       "    }\n",
       "\n",
       "    .dataframe thead th {\n",
       "        text-align: right;\n",
       "    }\n",
       "</style>\n",
       "<table border=\"1\" class=\"dataframe\">\n",
       "  <thead>\n",
       "    <tr style=\"text-align: right;\">\n",
       "      <th></th>\n",
       "      <th>nav_date</th>\n",
       "      <th>fund_code</th>\n",
       "      <th>nav_price</th>\n",
       "      <th>net_asset</th>\n",
       "      <th>sell_price</th>\n",
       "      <th>buy_price</th>\n",
       "      <th>dividend_value</th>\n",
       "      <th>book_close_date</th>\n",
       "      <th>Firm</th>\n",
       "    </tr>\n",
       "  </thead>\n",
       "  <tbody>\n",
       "    <tr>\n",
       "      <th>0</th>\n",
       "      <td>2019-05-02</td>\n",
       "      <td>MJLF</td>\n",
       "      <td>12.1474</td>\n",
       "      <td>4.008653e+09</td>\n",
       "      <td>NaN</td>\n",
       "      <td>NaN</td>\n",
       "      <td>0.2300</td>\n",
       "      <td>2013-11-26</td>\n",
       "      <td>KASSET</td>\n",
       "    </tr>\n",
       "    <tr>\n",
       "      <th>1</th>\n",
       "      <td>2019-05-02</td>\n",
       "      <td>CTARAF</td>\n",
       "      <td>10.1526</td>\n",
       "      <td>3.248834e+09</td>\n",
       "      <td>NaN</td>\n",
       "      <td>NaN</td>\n",
       "      <td>0.0430</td>\n",
       "      <td>2013-08-28</td>\n",
       "      <td>KASSET</td>\n",
       "    </tr>\n",
       "    <tr>\n",
       "      <th>2</th>\n",
       "      <td>2019-05-02</td>\n",
       "      <td>GOLDPF</td>\n",
       "      <td>11.0148</td>\n",
       "      <td>2.269067e+09</td>\n",
       "      <td>NaN</td>\n",
       "      <td>NaN</td>\n",
       "      <td>0.1360</td>\n",
       "      <td>2013-08-28</td>\n",
       "      <td>KASSET</td>\n",
       "    </tr>\n",
       "    <tr>\n",
       "      <th>3</th>\n",
       "      <td>2019-05-02</td>\n",
       "      <td>KPNPF</td>\n",
       "      <td>10.2108</td>\n",
       "      <td>1.837954e+09</td>\n",
       "      <td>NaN</td>\n",
       "      <td>NaN</td>\n",
       "      <td>0.1625</td>\n",
       "      <td>2013-11-26</td>\n",
       "      <td>KASSET</td>\n",
       "    </tr>\n",
       "    <tr>\n",
       "      <th>4</th>\n",
       "      <td>2019-05-02</td>\n",
       "      <td>RGPF</td>\n",
       "      <td>25.3412</td>\n",
       "      <td>2.075008e+10</td>\n",
       "      <td>NaN</td>\n",
       "      <td>NaN</td>\n",
       "      <td>NaN</td>\n",
       "      <td>NaT</td>\n",
       "      <td>KTAM</td>\n",
       "    </tr>\n",
       "  </tbody>\n",
       "</table>\n",
       "</div>"
      ],
      "text/plain": [
       "    nav_date fund_code  nav_price     net_asset  sell_price  buy_price  \\\n",
       "0 2019-05-02      MJLF    12.1474  4.008653e+09         NaN        NaN   \n",
       "1 2019-05-02    CTARAF    10.1526  3.248834e+09         NaN        NaN   \n",
       "2 2019-05-02    GOLDPF    11.0148  2.269067e+09         NaN        NaN   \n",
       "3 2019-05-02     KPNPF    10.2108  1.837954e+09         NaN        NaN   \n",
       "4 2019-05-02      RGPF    25.3412  2.075008e+10         NaN        NaN   \n",
       "\n",
       "   dividend_value book_close_date    Firm  \n",
       "0          0.2300      2013-11-26  KASSET  \n",
       "1          0.0430      2013-08-28  KASSET  \n",
       "2          0.1360      2013-08-28  KASSET  \n",
       "3          0.1625      2013-11-26  KASSET  \n",
       "4             NaN             NaT    KTAM  "
      ]
     },
     "execution_count": 35,
     "metadata": {},
     "output_type": "execute_result"
    }
   ],
   "source": [
    "df = df.loc[:, ['nav_date',\"fund_code\",'nav_price','net_asset','sell_price',\n",
    "                             'buy_price','dividend_value','book_close_date','Firm']]\n",
    "df.head()"
   ]
  },
  {
   "cell_type": "code",
   "execution_count": 10,
   "metadata": {},
   "outputs": [
    {
     "ename": "NameError",
     "evalue": "name 'df' is not defined",
     "output_type": "error",
     "traceback": [
      "\u001b[1;31m---------------------------------------------------------------------------\u001b[0m",
      "\u001b[1;31mNameError\u001b[0m                                 Traceback (most recent call last)",
      "\u001b[1;32m<ipython-input-10-c02c0916101e>\u001b[0m in \u001b[0;36m<module>\u001b[1;34m\u001b[0m\n\u001b[1;32m----> 1\u001b[1;33m \u001b[0mdiv\u001b[0m \u001b[1;33m=\u001b[0m \u001b[0mdf\u001b[0m\u001b[1;33m[\u001b[0m\u001b[0mdf\u001b[0m\u001b[1;33m.\u001b[0m\u001b[0mdividend_value\u001b[0m \u001b[1;33m>\u001b[0m \u001b[1;36m0\u001b[0m\u001b[1;33m]\u001b[0m\u001b[1;33m\u001b[0m\u001b[1;33m\u001b[0m\u001b[0m\n\u001b[0m\u001b[0;32m      2\u001b[0m \u001b[0mdiv\u001b[0m\u001b[1;33m.\u001b[0m\u001b[0mshape\u001b[0m\u001b[1;33m\u001b[0m\u001b[1;33m\u001b[0m\u001b[0m\n",
      "\u001b[1;31mNameError\u001b[0m: name 'df' is not defined"
     ]
    }
   ],
   "source": [
    "div = df[df.dividend_value > 0]\n",
    "div.shape"
   ]
  },
  {
   "cell_type": "code",
   "execution_count": 87,
   "metadata": {},
   "outputs": [
    {
     "data": {
      "text/plain": [
       "(4366, 9)"
      ]
     },
     "execution_count": 87,
     "metadata": {},
     "output_type": "execute_result"
    }
   ],
   "source": []
  },
  {
   "cell_type": "code",
   "execution_count": 88,
   "metadata": {},
   "outputs": [
    {
     "data": {
      "text/plain": [
       "240"
      ]
     },
     "execution_count": 88,
     "metadata": {},
     "output_type": "execute_result"
    }
   ],
   "source": [
    "len(div['fund_code'].unique())"
   ]
  },
  {
   "cell_type": "code",
   "execution_count": 89,
   "metadata": {},
   "outputs": [
    {
     "name": "stdout",
     "output_type": "stream",
     "text": [
      "['MJLF' 'CTARAF' 'GOLDPF' 'KPNPF' 'CPTGF' 'TTLPF' 'TLGF' 'TBF4' 'TBF5'\n",
      " 'SSPF' 'TRRF1' 'TLHPF' 'MIPF' 'TIF1' 'BKKCP' 'LUXF' 'TU-PF' 'QHOP'\n",
      " 'ENRICH' 'ABFC' 'ABTED' 'BMSCITH' 'BSET100' 'K20SLTF' 'K-ASIA' 'K-EUROPE'\n",
      " 'K-EUSAGE' 'K-USA' 'KGLTF' 'K-GOLD' 'K-GA' 'K-GHEALTH' 'K-GHEALTH(UH)'\n",
      " 'K-GEMO' 'K-GLOBE' 'K-GINFRA' 'K-GB' 'K-GPROP' 'KSDLTF' 'KDLTF'\n",
      " 'K-USXNDQ' 'K-EQUITY' 'K-VALUE' 'K-AGRI' 'K-INDIA' 'K-SELECT' 'K-PROP'\n",
      " 'KGF4' 'ABFTH' 'EBANK' 'ECOMM' 'ENY' 'EFOOD' 'EICT' 'ESET50'\n",
      " 'KT-PROPERTY' 'TOF' 'KT-HiDiv' 'KTSE' 'KTLF' 'KTSF' 'CHINA' 'KF-HCHINAD'\n",
      " 'KFGROWTH' 'KFHEALTH' 'KF-GBRAND' 'KF-SMCAPD' 'KF-GPROPD' 'KF-HJAPAND'\n",
      " 'KF-JPSCAPD' 'KFFLEX-D' 'KFLTFA50-D' 'KFLTFAST-D' 'KFLTFEQ70D'\n",
      " 'KFLTFTSM-D' 'KFLTFDIV' 'KFLTFD70' 'KFDNM-D' 'KFSDIV' 'KFSEQ-D' 'KFTSTAR'\n",
      " 'KFFIN-D' 'KFMTFI-D' 'LHPROP-A' 'VAYU1' 'RPF2' 'HAPPY D5' 'M-MIDSMALL'\n",
      " 'MGS' 'M-S50' 'SI5E2' 'SI5E3' 'SMART' 'MIF' 'I-SMART' 'HI-DIV' 'Q-PORT'\n",
      " 'M-PROP DIV' 'M-BT' 'MV-LTF' 'MFX' 'MIF-LTF' 'RRF1' 'BMBF' 'SF7' 'SF8'\n",
      " 'SF4' 'SCDF' 'STD' 'STD2' 'KAF' 'DE-1' 'SAN' 'TS' 'SCIF' 'SCIF2'\n",
      " 'ONE-APACPROP' 'ONE-ACT' 'ONE-ACT70LTF' 'ONE-GLOBALEQ' 'ONE-ULTRA'\n",
      " 'ONE-EQ' 'ONE-STOXXASEAN' 'ONE-SHARIAHLTF' 'ONEPROP-D' 'ONE+1' 'SYRUS-M'\n",
      " 'ONE-FAS' '1AM-GEM' '1AMGBF' '1AMGFF' '1VAL-D' '1S-LTF' 'ONE-FLEX'\n",
      " 'ONE-DI' 'ONE-DI2' 'ONE-UB 3' '1DIV' 'TH100' 'THANA1' 'SCBGPROP'\n",
      " 'SCBLEQFUND' 'SCBINDIAFUND' 'SCBCHAFUND' 'SCBBANKINGFUND' 'SCBENERGYFUND'\n",
      " 'SCBSEFUND' 'SCBBLNFUND' 'SCBGEQFUND' 'SCBPMOFUND' 'SCBSMART3FUND'\n",
      " 'SCBSMART4FUND' 'SCBLT4' 'SCBLTT' 'SCBLT1' 'SCBS&amp;P500FUND'\n",
      " 'SCBGHCFUND' 'SCBEUEQFUND' 'SCBNKY225' 'SCBEMEQFUND' 'SCBDVFUND'\n",
      " 'SCBEMBOND' 'T-GlobalValue' 'T-LowBetaLTFD' 'T-PrimePlusAI' 'T-STSD'\n",
      " 'T-AsianProp' 'T-CSD' 'T-PPSD' 'T-LTFD' 'T-EQUITY' 'T-DIV' 'T-DIV2'\n",
      " 'T-INFRA' 'T-TTW1' 'T-TSARN' 'T-PropInfraFlex' 'T-Property'\n",
      " 'T-PREMIUM BRAND' 'T-FixFIF(I)' 'TISESG' 'TDLTF' 'TISCOCID' 'TDSLTF'\n",
      " 'TISCODS' 'TISCOEDF' 'TCMEQF' 'JB25 LTF' 'JBP LTF' 'ENGY' 'TMBGRR'\n",
      " 'TMBGDF' 'TMB50DV' 'TMBPIPF' '70/30-D LTF' 'ADR-D' 'UOBSAS100D' 'UOBSCI'\n",
      " 'KKF' 'VFOCUS-D' 'MIX-D1585' 'TEF-DIV' 'TBF' 'TDF' 'KPLUS' 'KPLUS2'\n",
      " 'RKF4' 'K70LTF' 'K-CHINA' 'M-ACTIVE' 'MG-LTF' 'AGF' 'TDEX' 'VALUE-D LTF'\n",
      " 'UOBLTF-M' 'BIG CAP-D LTF' 'TFixLT' 'KGFIN' 'MGE' 'G-PREMIUM' 'K-JP'\n",
      " 'MGA' 'M-FLEX' 'I-REITs' 'B-FUTURE' 'LHMSFL' 'LHSELECT' 'LHGROWTH'\n",
      " 'LHSTRATEGY' 'LHEQD' 'LHTPROP' 'LHPROP-INFRA' 'LHPROP-I' 'M-STOR' 'M-PAT'\n",
      " 'MNIT' 'MNRF' 'HPF' 'M-II' 'MNIT2']\n"
     ]
    }
   ],
   "source": [
    "print(div['fund_code'].unique())"
   ]
  },
  {
   "cell_type": "code",
   "execution_count": null,
   "metadata": {},
   "outputs": [],
   "source": []
  },
  {
   "cell_type": "markdown",
   "metadata": {},
   "source": [
    "# Read data from Database"
   ]
  },
  {
   "cell_type": "code",
   "execution_count": 37,
   "metadata": {
    "ExecuteTime": {
     "end_time": "2019-06-21T06:18:11.801558Z",
     "start_time": "2019-06-21T06:18:11.792563Z"
    }
   },
   "outputs": [],
   "source": [
    "import sqlite3\n",
    "conn = sqlite3.connect('mutual_fund.db')"
   ]
  },
  {
   "cell_type": "code",
   "execution_count": 38,
   "metadata": {
    "ExecuteTime": {
     "end_time": "2019-06-21T06:18:24.084516Z",
     "start_time": "2019-06-21T06:18:12.581590Z"
    }
   },
   "outputs": [
    {
     "data": {
      "text/html": [
       "<div>\n",
       "<style scoped>\n",
       "    .dataframe tbody tr th:only-of-type {\n",
       "        vertical-align: middle;\n",
       "    }\n",
       "\n",
       "    .dataframe tbody tr th {\n",
       "        vertical-align: top;\n",
       "    }\n",
       "\n",
       "    .dataframe thead th {\n",
       "        text-align: right;\n",
       "    }\n",
       "</style>\n",
       "<table border=\"1\" class=\"dataframe\">\n",
       "  <thead>\n",
       "    <tr style=\"text-align: right;\">\n",
       "      <th></th>\n",
       "      <th>nav_date</th>\n",
       "      <th>fund_code</th>\n",
       "      <th>nav_price</th>\n",
       "      <th>net_asset</th>\n",
       "      <th>sell_price</th>\n",
       "      <th>buy_price</th>\n",
       "      <th>dividend_value</th>\n",
       "      <th>book_close_date</th>\n",
       "      <th>Firm</th>\n",
       "    </tr>\n",
       "  </thead>\n",
       "  <tbody>\n",
       "    <tr>\n",
       "      <th>0</th>\n",
       "      <td>2008-01-02 00:00:00</td>\n",
       "      <td>EMPORIUM</td>\n",
       "      <td>17.8355</td>\n",
       "      <td>3.656269e+09</td>\n",
       "      <td>NaN</td>\n",
       "      <td>NaN</td>\n",
       "      <td>0.6500</td>\n",
       "      <td>19/12/2550</td>\n",
       "      <td>BBLAM</td>\n",
       "    </tr>\n",
       "    <tr>\n",
       "      <th>221</th>\n",
       "      <td>2008-01-02 00:00:00</td>\n",
       "      <td>AGF</td>\n",
       "      <td>3.8529</td>\n",
       "      <td>1.023606e+08</td>\n",
       "      <td>3.8723</td>\n",
       "      <td>3.8529</td>\n",
       "      <td>0.4600</td>\n",
       "      <td>13/09/2005</td>\n",
       "      <td>MFC</td>\n",
       "    </tr>\n",
       "    <tr>\n",
       "      <th>220</th>\n",
       "      <td>2008-01-02 00:00:00</td>\n",
       "      <td>SCT</td>\n",
       "      <td>20.3256</td>\n",
       "      <td>1.626050e+09</td>\n",
       "      <td>NaN</td>\n",
       "      <td>NaN</td>\n",
       "      <td>0.0272</td>\n",
       "      <td>31/12/2550</td>\n",
       "      <td>BBLAM</td>\n",
       "    </tr>\n",
       "    <tr>\n",
       "      <th>219</th>\n",
       "      <td>2008-01-02 00:00:00</td>\n",
       "      <td>T-NMRMF</td>\n",
       "      <td>11.2999</td>\n",
       "      <td>1.413767e+08</td>\n",
       "      <td>11.3000</td>\n",
       "      <td>11.2999</td>\n",
       "      <td>NaN</td>\n",
       "      <td>None</td>\n",
       "      <td>THANACHART FUND</td>\n",
       "    </tr>\n",
       "    <tr>\n",
       "      <th>218</th>\n",
       "      <td>2008-01-02 00:00:00</td>\n",
       "      <td>T-EQUITY</td>\n",
       "      <td>13.9709</td>\n",
       "      <td>2.723551e+09</td>\n",
       "      <td>13.9710</td>\n",
       "      <td>13.9709</td>\n",
       "      <td>1.3500</td>\n",
       "      <td>10/09/2007</td>\n",
       "      <td>THANACHART FUND</td>\n",
       "    </tr>\n",
       "  </tbody>\n",
       "</table>\n",
       "</div>"
      ],
      "text/plain": [
       "                nav_date fund_code  nav_price     net_asset  sell_price  \\\n",
       "0    2008-01-02 00:00:00  EMPORIUM    17.8355  3.656269e+09         NaN   \n",
       "221  2008-01-02 00:00:00       AGF     3.8529  1.023606e+08      3.8723   \n",
       "220  2008-01-02 00:00:00       SCT    20.3256  1.626050e+09         NaN   \n",
       "219  2008-01-02 00:00:00   T-NMRMF    11.2999  1.413767e+08     11.3000   \n",
       "218  2008-01-02 00:00:00  T-EQUITY    13.9709  2.723551e+09     13.9710   \n",
       "\n",
       "     buy_price  dividend_value book_close_date             Firm  \n",
       "0          NaN          0.6500      19/12/2550            BBLAM  \n",
       "221     3.8529          0.4600      13/09/2005              MFC  \n",
       "220        NaN          0.0272      31/12/2550            BBLAM  \n",
       "219    11.2999             NaN            None  THANACHART FUND  \n",
       "218    13.9709          1.3500      10/09/2007  THANACHART FUND  "
      ]
     },
     "execution_count": 38,
     "metadata": {},
     "output_type": "execute_result"
    }
   ],
   "source": [
    "data = pd.read_sql_query(\"select * from daily_nav\", conn)\n",
    "\n",
    "data = data.sort_values(by='nav_date')  # Sorting by values:\n",
    "data.head(5)"
   ]
  },
  {
   "cell_type": "code",
   "execution_count": 39,
   "metadata": {
    "ExecuteTime": {
     "end_time": "2019-06-21T06:18:24.290389Z",
     "start_time": "2019-06-21T06:18:24.275399Z"
    }
   },
   "outputs": [
    {
     "data": {
      "text/html": [
       "<div>\n",
       "<style scoped>\n",
       "    .dataframe tbody tr th:only-of-type {\n",
       "        vertical-align: middle;\n",
       "    }\n",
       "\n",
       "    .dataframe tbody tr th {\n",
       "        vertical-align: top;\n",
       "    }\n",
       "\n",
       "    .dataframe thead th {\n",
       "        text-align: right;\n",
       "    }\n",
       "</style>\n",
       "<table border=\"1\" class=\"dataframe\">\n",
       "  <thead>\n",
       "    <tr style=\"text-align: right;\">\n",
       "      <th></th>\n",
       "      <th>nav_date</th>\n",
       "      <th>fund_code</th>\n",
       "      <th>nav_price</th>\n",
       "      <th>net_asset</th>\n",
       "      <th>sell_price</th>\n",
       "      <th>buy_price</th>\n",
       "      <th>dividend_value</th>\n",
       "      <th>book_close_date</th>\n",
       "      <th>Firm</th>\n",
       "    </tr>\n",
       "  </thead>\n",
       "  <tbody>\n",
       "    <tr>\n",
       "      <th>2002795</th>\n",
       "      <td>2019-06-18 00:00:00</td>\n",
       "      <td>PRINCIPAL TREASURY</td>\n",
       "      <td>11.6261</td>\n",
       "      <td>8.462390e+08</td>\n",
       "      <td>11.6262</td>\n",
       "      <td>11.6261</td>\n",
       "      <td>NaN</td>\n",
       "      <td>None</td>\n",
       "      <td>CIMB-PRINCIPAL</td>\n",
       "    </tr>\n",
       "    <tr>\n",
       "      <th>2002794</th>\n",
       "      <td>2019-06-18 00:00:00</td>\n",
       "      <td>PRINCIPAL FI</td>\n",
       "      <td>13.6818</td>\n",
       "      <td>4.110034e+09</td>\n",
       "      <td>13.6819</td>\n",
       "      <td>13.6818</td>\n",
       "      <td>NaN</td>\n",
       "      <td>None</td>\n",
       "      <td>CIMB-PRINCIPAL</td>\n",
       "    </tr>\n",
       "    <tr>\n",
       "      <th>2002793</th>\n",
       "      <td>2019-06-18 00:00:00</td>\n",
       "      <td>TFixLT</td>\n",
       "      <td>10.0517</td>\n",
       "      <td>2.169913e+08</td>\n",
       "      <td>NaN</td>\n",
       "      <td>NaN</td>\n",
       "      <td>0.1</td>\n",
       "      <td>2019-04-23 00:00:00</td>\n",
       "      <td>THANACHART FUND</td>\n",
       "    </tr>\n",
       "    <tr>\n",
       "      <th>2002791</th>\n",
       "      <td>2019-06-18 00:00:00</td>\n",
       "      <td>UOBLTF-M</td>\n",
       "      <td>43.3908</td>\n",
       "      <td>5.547923e+09</td>\n",
       "      <td>43.3909</td>\n",
       "      <td>43.3908</td>\n",
       "      <td>NaN</td>\n",
       "      <td>None</td>\n",
       "      <td>UOBAMTH</td>\n",
       "    </tr>\n",
       "    <tr>\n",
       "      <th>2003598</th>\n",
       "      <td>2019-06-18 00:00:00</td>\n",
       "      <td>ASIA-B</td>\n",
       "      <td>22.6902</td>\n",
       "      <td>1.972203e+08</td>\n",
       "      <td>22.9172</td>\n",
       "      <td>22.6902</td>\n",
       "      <td>NaN</td>\n",
       "      <td>None</td>\n",
       "      <td>UOBAMTH</td>\n",
       "    </tr>\n",
       "  </tbody>\n",
       "</table>\n",
       "</div>"
      ],
      "text/plain": [
       "                    nav_date           fund_code  nav_price     net_asset  \\\n",
       "2002795  2019-06-18 00:00:00  PRINCIPAL TREASURY    11.6261  8.462390e+08   \n",
       "2002794  2019-06-18 00:00:00        PRINCIPAL FI    13.6818  4.110034e+09   \n",
       "2002793  2019-06-18 00:00:00              TFixLT    10.0517  2.169913e+08   \n",
       "2002791  2019-06-18 00:00:00            UOBLTF-M    43.3908  5.547923e+09   \n",
       "2003598  2019-06-18 00:00:00              ASIA-B    22.6902  1.972203e+08   \n",
       "\n",
       "         sell_price  buy_price  dividend_value      book_close_date  \\\n",
       "2002795     11.6262    11.6261             NaN                 None   \n",
       "2002794     13.6819    13.6818             NaN                 None   \n",
       "2002793         NaN        NaN             0.1  2019-04-23 00:00:00   \n",
       "2002791     43.3909    43.3908             NaN                 None   \n",
       "2003598     22.9172    22.6902             NaN                 None   \n",
       "\n",
       "                    Firm  \n",
       "2002795   CIMB-PRINCIPAL  \n",
       "2002794   CIMB-PRINCIPAL  \n",
       "2002793  THANACHART FUND  \n",
       "2002791          UOBAMTH  \n",
       "2003598          UOBAMTH  "
      ]
     },
     "execution_count": 39,
     "metadata": {},
     "output_type": "execute_result"
    }
   ],
   "source": [
    "data.tail(5)"
   ]
  },
  {
   "cell_type": "code",
   "execution_count": 40,
   "metadata": {
    "ExecuteTime": {
     "end_time": "2019-06-21T06:18:24.645365Z",
     "start_time": "2019-06-21T06:18:24.454288Z"
    }
   },
   "outputs": [
    {
     "data": {
      "text/plain": [
       "(2003599, 9)"
      ]
     },
     "execution_count": 40,
     "metadata": {},
     "output_type": "execute_result"
    }
   ],
   "source": [
    "data.shape"
   ]
  },
  {
   "cell_type": "code",
   "execution_count": 35,
   "metadata": {
    "ExecuteTime": {
     "end_time": "2019-06-21T06:17:24.774666Z",
     "start_time": "2019-06-21T06:17:21.546651Z"
    }
   },
   "outputs": [
    {
     "data": {
      "text/plain": [
       "(2003599, 9)"
      ]
     },
     "execution_count": 35,
     "metadata": {},
     "output_type": "execute_result"
    }
   ],
   "source": [
    "# drop duplicate row\n",
    "\n",
    "data = data.drop_duplicates(keep='last')\n",
    "data.shape"
   ]
  },
  {
   "cell_type": "code",
   "execution_count": 36,
   "metadata": {
    "ExecuteTime": {
     "end_time": "2019-06-21T06:18:03.646947Z",
     "start_time": "2019-06-21T06:17:27.097118Z"
    }
   },
   "outputs": [
    {
     "name": "stdout",
     "output_type": "stream",
     "text": [
      "success\n"
     ]
    }
   ],
   "source": [
    "# replace: Drop the table before inserting new values.\n",
    "data.to_sql(\"daily_nav\", conn,if_exists=\"replace\", index=False) # replace: Drop the table before inserting new values.\n",
    "            \n",
    "print('success')"
   ]
  },
  {
   "cell_type": "code",
   "execution_count": 30,
   "metadata": {
    "ExecuteTime": {
     "end_time": "2019-06-21T06:08:20.047241Z",
     "start_time": "2019-06-21T06:08:19.778406Z"
    }
   },
   "outputs": [
    {
     "data": {
      "text/plain": [
       "1774"
      ]
     },
     "execution_count": 30,
     "metadata": {},
     "output_type": "execute_result"
    }
   ],
   "source": [
    "len(data['fund_code'].unique())"
   ]
  },
  {
   "cell_type": "code",
   "execution_count": 17,
   "metadata": {
    "ExecuteTime": {
     "end_time": "2019-06-21T06:05:07.548317Z",
     "start_time": "2019-06-21T06:05:07.537326Z"
    }
   },
   "outputs": [
    {
     "ename": "AttributeError",
     "evalue": "module 'sqlite3' has no attribute 'close'",
     "output_type": "error",
     "traceback": [
      "\u001b[1;31m---------------------------------------------------------------------------\u001b[0m",
      "\u001b[1;31mAttributeError\u001b[0m                            Traceback (most recent call last)",
      "\u001b[1;32m<ipython-input-17-f12569f7c16c>\u001b[0m in \u001b[0;36m<module>\u001b[1;34m\u001b[0m\n\u001b[1;32m----> 1\u001b[1;33m \u001b[0msqlite3\u001b[0m\u001b[1;33m.\u001b[0m\u001b[0mclose\u001b[0m\u001b[1;33m(\u001b[0m\u001b[1;33m)\u001b[0m\u001b[1;33m\u001b[0m\u001b[1;33m\u001b[0m\u001b[0m\n\u001b[0m",
      "\u001b[1;31mAttributeError\u001b[0m: module 'sqlite3' has no attribute 'close'"
     ]
    }
   ],
   "source": [
    "sqlite3.close()"
   ]
  },
  {
   "cell_type": "markdown",
   "metadata": {},
   "source": [
    "# กองทุนที่จ่ายเงินปันผล"
   ]
  },
  {
   "cell_type": "code",
   "execution_count": 18,
   "metadata": {
    "ExecuteTime": {
     "end_time": "2019-06-21T06:05:25.276790Z",
     "start_time": "2019-06-21T06:05:25.178850Z"
    }
   },
   "outputs": [
    {
     "data": {
      "text/plain": [
       "(444137, 9)"
      ]
     },
     "execution_count": 18,
     "metadata": {},
     "output_type": "execute_result"
    }
   ],
   "source": [
    "div = data[data.dividend_value > 0]\n",
    "div.shape"
   ]
  },
  {
   "cell_type": "code",
   "execution_count": 19,
   "metadata": {
    "ExecuteTime": {
     "end_time": "2019-06-21T06:05:26.406022Z",
     "start_time": "2019-06-21T06:05:26.331068Z"
    }
   },
   "outputs": [
    {
     "data": {
      "text/plain": [
       "283"
      ]
     },
     "execution_count": 19,
     "metadata": {},
     "output_type": "execute_result"
    }
   ],
   "source": [
    "len(div['fund_code'].unique())"
   ]
  },
  {
   "cell_type": "code",
   "execution_count": 19,
   "metadata": {
    "ExecuteTime": {
     "end_time": "2019-06-21T04:00:36.801924Z",
     "start_time": "2019-06-21T04:00:36.739963Z"
    }
   },
   "outputs": [
    {
     "name": "stdout",
     "output_type": "stream",
     "text": [
      "['SCBDVFUND' 'SCBLT1' 'SCBLTT' 'SCBLT4' 'T-PASD' 'T-USD2' 'T-USD'\n",
      " 'T-INFRA' 'T-EQUITY' 'T-LTFD' 'T-SPT' 'T-PPSD' 'T-STSD' 'T-CSD'\n",
      " 'ONE-EC14' 'ONE-EQ' 'SCIF2' 'SCIF' 'TS' 'SAN' 'DE-1' 'STD2' 'STD' 'SCDF'\n",
      " 'SF4' 'SF8' 'SF7' 'BMBF' 'RRF1' 'KAF' 'ONE+1' 'SYRUS-M' 'THANA1'\n",
      " 'ONE-UB 3' 'ONE-FLEX' '1VAL-D' '1AM-GEM' 'ONE-FAS' '1S-LTF' 'T-TTW1'\n",
      " 'AGF' 'K70LTF' 'RKF4' 'TDEX' 'TBF' 'TEF-DIV' 'TFixLT' 'BIG CAP-D LTF'\n",
      " 'VALUE-D LTF' 'T-TSARN' '70/30-D LTF' 'TCMEQF' 'K-GOLD' 'KGLTF' 'K20SLTF'\n",
      " 'K-GLOBE' 'K-SELECT' 'K-VALUE' 'K-EQUITY' 'KDLTF' 'ENRICH' 'TU-PF'\n",
      " 'BKKCP' 'MIPF' 'MNIT2' 'MNRF' 'MNIT' 'M-STOR' 'JCP' 'TBF5' 'TBF4'\n",
      " 'GOLDPF' 'CTARAF' 'MJLF' 'ABFC' 'ABTED' 'VAYU1' 'KFMTFI-D' 'KFFIN-D'\n",
      " 'KFSEQ-D' 'RPF2' 'MGS' 'ABFTH' 'MFX' 'MV-LTF' 'M-BT' 'Q-PORT' 'HI-DIV'\n",
      " 'HAPPY D5' 'MIF' 'SMART' 'M-S50' 'MGE' 'MGA' 'KTFIXPLUS' 'KTSF' 'KTLF'\n",
      " 'KTSE' 'TOF' 'KFSDIV' 'KFDNM-D' 'KFLTFD70' 'KFLTFDIV' 'KFLTFA50-D'\n",
      " 'KFLTFEQ70D' 'KFGROWTH' 'KFFLEX-D' 'COMF' 'SCT' 'MS-EQ DIV' 'QHOP'\n",
      " 'EMPORIUM' 'BG' 'BKD' 'M-ACTIVE' 'K-GA' 'T-PREMIUM BRAND' 'K-GEMO' 'BCAP'\n",
      " 'K-CHINA' 'TIF1' 'MIF-LTF' 'K-INDIA' 'KSDLTF' 'SCBSEFUND' 'TMB50DV'\n",
      " 'TMBGDF' 'JBP LTF' 'JB25 LTF' 'LUXF' 'ENGY' 'TRRF1' '1DIV' 'MG-LTF'\n",
      " 'SCBBANKINGFUND' 'BSIRICG' 'WHAPF' 'ADR-D' 'MIX-D1585' 'TLGF' 'DTCPF'\n",
      " 'TTLPF' 'T-PISD' 'T-FixFIF(I)' '1AMGBF' '1AMGFF' 'KGF4' 'KGFIN'\n",
      " 'G-PREMIUM' 'KT-PROPERTY' 'VFOCUS-D' 'K-AGRI' 'K-USA' 'M-II' 'K-USXNDQ'\n",
      " 'SCBENERGYFUND' 'TDF' 'KPLUS' 'KPLUS2' 'UOBSAS100D' 'KKF' 'EBANK' 'UOBSG'\n",
      " 'SSPF' 'KPNPF' 'SCBPMOFUND' 'UNIPF' 'LHDEBT' 'LHGOV' 'SCBSMART2FUND'\n",
      " 'HPF' 'SCBSMART4FUND' 'SCBSMART3FUND' 'SCBGEQFUND' 'K-ASIA' 'K-EUROPE'\n",
      " 'SCBS&amp;P500FUND' 'ONEPROP-D' 'M-PROP DIV' 'K-GB' 'SCBEUEQFUND'\n",
      " 'LHTPROP' 'UOBLTF-M' 'LHGROWTH' 'LHEQD' 'KT-HiDiv' 'KT-OPP' 'KFMIX80-20'\n",
      " 'T-GlobalValue' 'BBASIC' 'M-PAT' 'TISCOCID' 'KFHEALTH' 'CPTGF' 'TDLTF'\n",
      " 'K-GPROP' 'I-SMART' 'SSTSS' 'K-JP' 'KF-SMCAPD' 'K-GHEALTH' 'KF-HJAPAND'\n",
      " 'I-REITs' 'T-Property' 'ONE-GLOBALEQ' 'ONE-DI2' 'ONE-DI' 'ESET50' 'CHINA'\n",
      " 'SI5E2' 'ONE-ULTRA' 'LHPROP-I' 'K-GINFRA' 'KF-HCHINAD' 'T-PropInfraFlex'\n",
      " 'LHSMART' 'LHIP' 'SCBCHAFUND' 'KT-INDIA' 'TLHPF' 'K-PROP' 'SCBEMBOND'\n",
      " 'SCBINDIAFUND' 'LHPF-II' 'SCBLEQFUND' 'ONE-ACT' 'LHMSFL' 'LHJAP-E'\n",
      " 'SCBEMEQFUND' 'SCBBLNFUND' 'TISCOEDF' 'TH100' 'TISCOSTF' 'SCBGHCFUND'\n",
      " 'KF-GBRAND' 'M-MIDSMALL' 'K-EUSAGE' 'SCBNKY225' 'T-AsianProp' 'T-DIV'\n",
      " 'LHPROP-INFRA' 'LHPROP-A' 'T-DIV2' 'TISCODS' 'SCBGPROP' 'SI5E3'\n",
      " 'ONE-STOXXASEAN' 'LHSTRATEGY' 'KFTSTAR' 'KF-GPROPD' 'ONE-ACT70LTF'\n",
      " 'BBASICDLTF' 'KF-JPSCAPD' 'T-LowBetaLTFD' 'UOBSCI' 'LHSMART-LTF'\n",
      " 'ONE-SHARIAHLTF' 'LHSELECT' 'LHGINCOME' 'LHACTLTF' 'KFLTFAST-D'\n",
      " 'KFLTFTSM-D' 'ONE-APACPROP' 'KT-PIF' 'KT-JAPAN' 'KT-CLMVT' 'LHGLIFE-E'\n",
      " 'TDSLTF' 'LHTOPPICK' 'T-PrimePlusAI' 'ECOMM' 'ENY' 'EFOOD' 'EICT'\n",
      " 'M-FLEX' 'LHDIGITAL' 'TMBGRR' 'TMBPIPF' 'BMSCITH' 'K-GHEALTH(UH)'\n",
      " 'BSET100' 'TISESG' 'B-FUTURE']\n"
     ]
    }
   ],
   "source": [
    "print(div['fund_code'].unique())"
   ]
  },
  {
   "cell_type": "code",
   "execution_count": 20,
   "metadata": {
    "ExecuteTime": {
     "end_time": "2019-06-21T06:05:32.075398Z",
     "start_time": "2019-06-21T06:05:31.890513Z"
    }
   },
   "outputs": [
    {
     "data": {
      "text/html": [
       "<div>\n",
       "<style scoped>\n",
       "    .dataframe tbody tr th:only-of-type {\n",
       "        vertical-align: middle;\n",
       "    }\n",
       "\n",
       "    .dataframe tbody tr th {\n",
       "        vertical-align: top;\n",
       "    }\n",
       "\n",
       "    .dataframe thead th {\n",
       "        text-align: right;\n",
       "    }\n",
       "</style>\n",
       "<table border=\"1\" class=\"dataframe\">\n",
       "  <thead>\n",
       "    <tr style=\"text-align: right;\">\n",
       "      <th></th>\n",
       "      <th>nav_date</th>\n",
       "      <th>fund_code</th>\n",
       "      <th>nav_price</th>\n",
       "      <th>net_asset</th>\n",
       "      <th>sell_price</th>\n",
       "      <th>buy_price</th>\n",
       "      <th>dividend_value</th>\n",
       "      <th>book_close_date</th>\n",
       "      <th>Firm</th>\n",
       "    </tr>\n",
       "  </thead>\n",
       "  <tbody>\n",
       "    <tr>\n",
       "      <th>1701351</th>\n",
       "      <td>2019-06-12 00:00:00</td>\n",
       "      <td>M-PROP DIV</td>\n",
       "      <td>16.1494</td>\n",
       "      <td>5.384115e+09</td>\n",
       "      <td>16.2302</td>\n",
       "      <td>16.1494</td>\n",
       "      <td>0.0983</td>\n",
       "      <td>2019-04-24 00:00:00</td>\n",
       "      <td>MFC</td>\n",
       "    </tr>\n",
       "    <tr>\n",
       "      <th>1702841</th>\n",
       "      <td>2019-06-13 00:00:00</td>\n",
       "      <td>M-PROP DIV</td>\n",
       "      <td>16.1474</td>\n",
       "      <td>5.396596e+09</td>\n",
       "      <td>16.2282</td>\n",
       "      <td>16.1474</td>\n",
       "      <td>0.0983</td>\n",
       "      <td>2019-04-24 00:00:00</td>\n",
       "      <td>MFC</td>\n",
       "    </tr>\n",
       "    <tr>\n",
       "      <th>1704337</th>\n",
       "      <td>2019-06-14 00:00:00</td>\n",
       "      <td>M-PROP DIV</td>\n",
       "      <td>16.1731</td>\n",
       "      <td>5.460154e+09</td>\n",
       "      <td>16.2541</td>\n",
       "      <td>16.1731</td>\n",
       "      <td>0.0983</td>\n",
       "      <td>2019-04-24 00:00:00</td>\n",
       "      <td>MFC</td>\n",
       "    </tr>\n",
       "    <tr>\n",
       "      <th>1705794</th>\n",
       "      <td>2019-06-17 00:00:00</td>\n",
       "      <td>M-PROP DIV</td>\n",
       "      <td>16.1456</td>\n",
       "      <td>5.472217e+09</td>\n",
       "      <td>16.2264</td>\n",
       "      <td>16.1456</td>\n",
       "      <td>0.0983</td>\n",
       "      <td>2019-04-24 00:00:00</td>\n",
       "      <td>MFC</td>\n",
       "    </tr>\n",
       "    <tr>\n",
       "      <th>1707079</th>\n",
       "      <td>2019-06-18 00:00:00</td>\n",
       "      <td>M-PROP DIV</td>\n",
       "      <td>16.2755</td>\n",
       "      <td>5.541931e+09</td>\n",
       "      <td>16.3570</td>\n",
       "      <td>16.2755</td>\n",
       "      <td>0.0983</td>\n",
       "      <td>2019-04-24 00:00:00</td>\n",
       "      <td>MFC</td>\n",
       "    </tr>\n",
       "  </tbody>\n",
       "</table>\n",
       "</div>"
      ],
      "text/plain": [
       "                    nav_date   fund_code  nav_price     net_asset  sell_price  \\\n",
       "1701351  2019-06-12 00:00:00  M-PROP DIV    16.1494  5.384115e+09     16.2302   \n",
       "1702841  2019-06-13 00:00:00  M-PROP DIV    16.1474  5.396596e+09     16.2282   \n",
       "1704337  2019-06-14 00:00:00  M-PROP DIV    16.1731  5.460154e+09     16.2541   \n",
       "1705794  2019-06-17 00:00:00  M-PROP DIV    16.1456  5.472217e+09     16.2264   \n",
       "1707079  2019-06-18 00:00:00  M-PROP DIV    16.2755  5.541931e+09     16.3570   \n",
       "\n",
       "         buy_price  dividend_value      book_close_date Firm  \n",
       "1701351    16.1494          0.0983  2019-04-24 00:00:00  MFC  \n",
       "1702841    16.1474          0.0983  2019-04-24 00:00:00  MFC  \n",
       "1704337    16.1731          0.0983  2019-04-24 00:00:00  MFC  \n",
       "1705794    16.1456          0.0983  2019-04-24 00:00:00  MFC  \n",
       "1707079    16.2755          0.0983  2019-04-24 00:00:00  MFC  "
      ]
     },
     "execution_count": 20,
     "metadata": {},
     "output_type": "execute_result"
    }
   ],
   "source": [
    "data[data.fund_code == 'M-PROP DIV'].tail()"
   ]
  },
  {
   "cell_type": "code",
   "execution_count": 22,
   "metadata": {
    "ExecuteTime": {
     "end_time": "2019-06-21T04:01:44.290114Z",
     "start_time": "2019-06-21T04:01:44.148202Z"
    }
   },
   "outputs": [
    {
     "data": {
      "text/html": [
       "<div>\n",
       "<style scoped>\n",
       "    .dataframe tbody tr th:only-of-type {\n",
       "        vertical-align: middle;\n",
       "    }\n",
       "\n",
       "    .dataframe tbody tr th {\n",
       "        vertical-align: top;\n",
       "    }\n",
       "\n",
       "    .dataframe thead th {\n",
       "        text-align: right;\n",
       "    }\n",
       "</style>\n",
       "<table border=\"1\" class=\"dataframe\">\n",
       "  <thead>\n",
       "    <tr style=\"text-align: right;\">\n",
       "      <th></th>\n",
       "      <th>nav_date</th>\n",
       "      <th>fund_code</th>\n",
       "      <th>nav_price</th>\n",
       "      <th>net_asset</th>\n",
       "      <th>sell_price</th>\n",
       "      <th>buy_price</th>\n",
       "      <th>dividend_value</th>\n",
       "      <th>book_close_date</th>\n",
       "      <th>Firm</th>\n",
       "    </tr>\n",
       "  </thead>\n",
       "  <tbody>\n",
       "    <tr>\n",
       "      <th>1700104</th>\n",
       "      <td>2019-06-11 00:00:00</td>\n",
       "      <td>SCBRMGIF</td>\n",
       "      <td>12.0247</td>\n",
       "      <td>1.425518e+08</td>\n",
       "      <td>12.0248</td>\n",
       "      <td>12.0247</td>\n",
       "      <td>NaN</td>\n",
       "      <td>None</td>\n",
       "      <td>SCBAM</td>\n",
       "    </tr>\n",
       "    <tr>\n",
       "      <th>1701598</th>\n",
       "      <td>2019-06-12 00:00:00</td>\n",
       "      <td>SCBRMGIF</td>\n",
       "      <td>12.0563</td>\n",
       "      <td>1.437376e+08</td>\n",
       "      <td>12.0564</td>\n",
       "      <td>12.0563</td>\n",
       "      <td>NaN</td>\n",
       "      <td>None</td>\n",
       "      <td>SCBAM</td>\n",
       "    </tr>\n",
       "    <tr>\n",
       "      <th>1703088</th>\n",
       "      <td>2019-06-13 00:00:00</td>\n",
       "      <td>SCBRMGIF</td>\n",
       "      <td>12.0590</td>\n",
       "      <td>1.439884e+08</td>\n",
       "      <td>12.0591</td>\n",
       "      <td>12.0590</td>\n",
       "      <td>NaN</td>\n",
       "      <td>None</td>\n",
       "      <td>SCBAM</td>\n",
       "    </tr>\n",
       "    <tr>\n",
       "      <th>1704586</th>\n",
       "      <td>2019-06-14 00:00:00</td>\n",
       "      <td>SCBRMGIF</td>\n",
       "      <td>12.0551</td>\n",
       "      <td>1.445311e+08</td>\n",
       "      <td>12.0552</td>\n",
       "      <td>12.0551</td>\n",
       "      <td>NaN</td>\n",
       "      <td>None</td>\n",
       "      <td>SCBAM</td>\n",
       "    </tr>\n",
       "    <tr>\n",
       "      <th>1706013</th>\n",
       "      <td>2019-06-17 00:00:00</td>\n",
       "      <td>SCBRMGIF</td>\n",
       "      <td>12.0683</td>\n",
       "      <td>1.451919e+08</td>\n",
       "      <td>12.0684</td>\n",
       "      <td>12.0683</td>\n",
       "      <td>NaN</td>\n",
       "      <td>None</td>\n",
       "      <td>SCBAM</td>\n",
       "    </tr>\n",
       "  </tbody>\n",
       "</table>\n",
       "</div>"
      ],
      "text/plain": [
       "                    nav_date fund_code  nav_price     net_asset  sell_price  \\\n",
       "1700104  2019-06-11 00:00:00  SCBRMGIF    12.0247  1.425518e+08     12.0248   \n",
       "1701598  2019-06-12 00:00:00  SCBRMGIF    12.0563  1.437376e+08     12.0564   \n",
       "1703088  2019-06-13 00:00:00  SCBRMGIF    12.0590  1.439884e+08     12.0591   \n",
       "1704586  2019-06-14 00:00:00  SCBRMGIF    12.0551  1.445311e+08     12.0552   \n",
       "1706013  2019-06-17 00:00:00  SCBRMGIF    12.0683  1.451919e+08     12.0684   \n",
       "\n",
       "         buy_price  dividend_value book_close_date   Firm  \n",
       "1700104    12.0247             NaN            None  SCBAM  \n",
       "1701598    12.0563             NaN            None  SCBAM  \n",
       "1703088    12.0590             NaN            None  SCBAM  \n",
       "1704586    12.0551             NaN            None  SCBAM  \n",
       "1706013    12.0683             NaN            None  SCBAM  "
      ]
     },
     "execution_count": 22,
     "metadata": {},
     "output_type": "execute_result"
    }
   ],
   "source": [
    "data[data.fund_code == 'SCBRMGIF'].tail()"
   ]
  },
  {
   "cell_type": "markdown",
   "metadata": {},
   "source": [
    "https://www.wealthmagik.com/Screener/BasicScreener.aspx\n",
    "\n",
    "- กองทุนทั้งหมด 1,632\n",
    "-  จ่ายเงินปันผล - 305\n",
    "- LTF - 93\n",
    "- RMF - 100+49+40+22"
   ]
  }
 ],
 "metadata": {
  "kernelspec": {
   "display_name": "Python 3",
   "language": "python",
   "name": "python3"
  },
  "language_info": {
   "codemirror_mode": {
    "name": "ipython",
    "version": 3
   },
   "file_extension": ".py",
   "mimetype": "text/x-python",
   "name": "python",
   "nbconvert_exporter": "python",
   "pygments_lexer": "ipython3",
   "version": "3.6.8"
  },
  "toc": {
   "base_numbering": 1,
   "nav_menu": {},
   "number_sections": false,
   "sideBar": true,
   "skip_h1_title": false,
   "title_cell": "Table of Contents",
   "title_sidebar": "Contents",
   "toc_cell": false,
   "toc_position": {
    "height": "calc(100% - 180px)",
    "left": "10px",
    "top": "150px",
    "width": "349.091px"
   },
   "toc_section_display": true,
   "toc_window_display": true
  },
  "varInspector": {
   "cols": {
    "lenName": 16,
    "lenType": 16,
    "lenVar": 40
   },
   "kernels_config": {
    "python": {
     "delete_cmd_postfix": "",
     "delete_cmd_prefix": "del ",
     "library": "var_list.py",
     "varRefreshCmd": "print(var_dic_list())"
    },
    "r": {
     "delete_cmd_postfix": ") ",
     "delete_cmd_prefix": "rm(",
     "library": "var_list.r",
     "varRefreshCmd": "cat(var_dic_list()) "
    }
   },
   "types_to_exclude": [
    "module",
    "function",
    "builtin_function_or_method",
    "instance",
    "_Feature"
   ],
   "window_display": false
  }
 },
 "nbformat": 4,
 "nbformat_minor": 2
}
